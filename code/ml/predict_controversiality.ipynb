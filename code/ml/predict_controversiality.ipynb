{
  "cells": [
    {
      "cell_type": "code",
      "execution_count": 1,
      "metadata": {
        "gather": {
          "logged": 1700683015341
        }
      },
      "outputs": [
        {
          "data": {
            "application/vnd.livy.statement-meta+json": {
              "execution_finish_time": "2023-11-22T19:56:55.1394202Z",
              "execution_start_time": "2023-11-22T19:56:52.0714653Z",
              "livy_statement_state": "available",
              "parent_msg_id": "4861912c-6e38-469e-8b44-1737c857884e",
              "queued_time": "2023-11-22T19:53:42.8893592Z",
              "session_id": "49",
              "session_start_time": "2023-11-22T19:53:42.9353558Z",
              "spark_jobs": {
                "jobs": [],
                "limit": 20,
                "numbers": {
                  "FAILED": 0,
                  "RUNNING": 0,
                  "SUCCEEDED": 0,
                  "UNKNOWN": 0
                },
                "rule": "ALL_DESC"
              },
              "spark_pool": "8aef2e4c-7819-4b3c-ad3b-441a2f26e87b",
              "state": "finished",
              "statement_id": 6
            },
            "text/plain": [
              "StatementMeta(8aef2e4c-7819-4b3c-ad3b-441a2f26e87b, 49, 6, Finished, Available)"
            ]
          },
          "metadata": {},
          "output_type": "display_data"
        },
        {
          "data": {
            "text/html": [
              "\n",
              "            <div>\n",
              "                <p><b>SparkSession - hive</b></p>\n",
              "                \n",
              "        <div>\n",
              "            <p><b>SparkContext</b></p>\n",
              "\n",
              "            <p><a href=\"http://vm-53724356:45761\">Spark UI</a></p>\n",
              "\n",
              "            <dl>\n",
              "              <dt>Version</dt>\n",
              "                <dd><code>v3.2.2.5.1-100879434</code></dd>\n",
              "              <dt>Master</dt>\n",
              "                <dd><code>yarn</code></dd>\n",
              "              <dt>AppName</dt>\n",
              "                <dd><code>Azure ML Experiment</code></dd>\n",
              "            </dl>\n",
              "        </div>\n",
              "        \n",
              "            </div>\n",
              "        "
            ],
            "text/plain": [
              "<pyspark.sql.session.SparkSession at 0x7f077db9d8e0>"
            ]
          },
          "execution_count": 11,
          "metadata": {},
          "output_type": "execute_result"
        }
      ],
      "source": [
        "spark"
      ]
    },
    {
      "cell_type": "code",
      "execution_count": 8,
      "metadata": {
        "gather": {
          "logged": 1700684210188
        },
        "jupyter": {
          "outputs_hidden": false,
          "source_hidden": false
        },
        "nteract": {
          "transient": {
            "deleting": false
          }
        }
      },
      "outputs": [
        {
          "data": {
            "application/vnd.livy.statement-meta+json": {
              "execution_finish_time": "2023-11-22T20:16:50.0158185Z",
              "execution_start_time": "2023-11-22T20:16:48.4302292Z",
              "livy_statement_state": "available",
              "parent_msg_id": "527d872c-bdd5-45ee-92ee-541651c7a4fd",
              "queued_time": "2023-11-22T20:16:48.2768184Z",
              "session_id": "49",
              "session_start_time": null,
              "spark_jobs": {
                "jobs": [
                  {
                    "completionTime": "2023-11-22T20:16:49.507GMT",
                    "dataRead": 0,
                    "dataWritten": 0,
                    "description": "Job group for statement 13:\n# read the data\nworkspace_default_storage_account = \"group08astoragec0a5c9b39\"\nworkspace_default_container = \"azureml-blobstore-8f67895d-e507-48c5-8b8e-f003f0227b44\"\n\nworkspace_wasbs_base_url = (\n    f\"wasbs://{workspace_default_container}@{workspace_default_storage_account}.blob.core.windows.net/\"\n)\ndf = spark.read.parquet((f\"{workspace_wasbs_base_url}<PATH-TO-READ/WRITE>\"))",
                    "displayName": "parquet at NativeMethodAccessorImpl.java:0",
                    "jobGroup": "13",
                    "jobId": 4,
                    "killedTasksSummary": {},
                    "name": "parquet at NativeMethodAccessorImpl.java:0",
                    "numActiveStages": 0,
                    "numActiveTasks": 0,
                    "numCompletedIndices": 1,
                    "numCompletedStages": 1,
                    "numCompletedTasks": 1,
                    "numFailedStages": 0,
                    "numFailedTasks": 0,
                    "numKilledTasks": 0,
                    "numSkippedStages": 0,
                    "numSkippedTasks": 0,
                    "numTasks": 1,
                    "rowCount": 0,
                    "stageIds": [
                      5
                    ],
                    "status": "SUCCEEDED",
                    "submissionTime": "2023-11-22T20:16:48.949GMT",
                    "usageDescription": ""
                  }
                ],
                "limit": 20,
                "numbers": {
                  "FAILED": 0,
                  "RUNNING": 0,
                  "SUCCEEDED": 1,
                  "UNKNOWN": 0
                },
                "rule": "ALL_DESC"
              },
              "spark_pool": "8aef2e4c-7819-4b3c-ad3b-441a2f26e87b",
              "state": "finished",
              "statement_id": 13
            },
            "text/plain": [
              "StatementMeta(8aef2e4c-7819-4b3c-ad3b-441a2f26e87b, 49, 13, Finished, Available)"
            ]
          },
          "metadata": {},
          "output_type": "display_data"
        }
      ],
      "source": [
        "# read the data\n",
        "workspace_default_storage_account = \"group08astoragec0a5c9b39\"\n",
        "workspace_default_container = \"azureml-blobstore-8f67895d-e507-48c5-8b8e-f003f0227b44\"\n",
        "\n",
        "workspace_wasbs_base_url = (\n",
        "    f\"wasbs://{workspace_default_container}@{workspace_default_storage_account}.blob.core.windows.net/\"\n",
        ")\n",
        "df = spark.read.parquet((f\"{workspace_wasbs_base_url}<PATH-TO-READ/WRITE>\"))"
      ]
    },
    {
      "cell_type": "code",
      "execution_count": 4,
      "metadata": {
        "gather": {
          "logged": 1700683498944
        },
        "jupyter": {
          "outputs_hidden": false,
          "source_hidden": false
        },
        "nteract": {
          "transient": {
            "deleting": false
          }
        }
      },
      "outputs": [
        {
          "data": {
            "application/vnd.livy.statement-meta+json": {
              "execution_finish_time": "2023-11-22T20:04:58.7454031Z",
              "execution_start_time": "2023-11-22T20:04:38.9867593Z",
              "livy_statement_state": "available",
              "parent_msg_id": "31062235-7aba-4faa-b29f-f522525a70df",
              "queued_time": "2023-11-22T20:04:38.7520984Z",
              "session_id": "49",
              "session_start_time": null,
              "spark_jobs": {
                "jobs": [
                  {
                    "completionTime": "2023-11-22T20:04:57.815GMT",
                    "dataRead": 3795,
                    "dataWritten": 0,
                    "description": "Job group for statement 9:\nunique_controversiality = df.select(\"controversiality\").distinct()\n\nunique_controversiality.show()",
                    "displayName": "showString at NativeMethodAccessorImpl.java:0",
                    "jobGroup": "9",
                    "jobId": 2,
                    "killedTasksSummary": {},
                    "name": "showString at NativeMethodAccessorImpl.java:0",
                    "numActiveStages": 0,
                    "numActiveTasks": 0,
                    "numCompletedIndices": 1,
                    "numCompletedStages": 1,
                    "numCompletedTasks": 1,
                    "numFailedStages": 0,
                    "numFailedTasks": 0,
                    "numKilledTasks": 0,
                    "numSkippedStages": 1,
                    "numSkippedTasks": 33,
                    "numTasks": 34,
                    "rowCount": 66,
                    "stageIds": [
                      2,
                      3
                    ],
                    "status": "SUCCEEDED",
                    "submissionTime": "2023-11-22T20:04:57.244GMT",
                    "usageDescription": ""
                  },
                  {
                    "completionTime": "2023-11-22T20:04:57.070GMT",
                    "dataRead": 47747354,
                    "dataWritten": 3795,
                    "description": "Job group for statement 9:\nunique_controversiality = df.select(\"controversiality\").distinct()\n\nunique_controversiality.show()",
                    "displayName": "showString at NativeMethodAccessorImpl.java:0",
                    "jobGroup": "9",
                    "jobId": 1,
                    "killedTasksSummary": {},
                    "name": "showString at NativeMethodAccessorImpl.java:0",
                    "numActiveStages": 0,
                    "numActiveTasks": 0,
                    "numCompletedIndices": 33,
                    "numCompletedStages": 1,
                    "numCompletedTasks": 33,
                    "numFailedStages": 0,
                    "numFailedTasks": 0,
                    "numKilledTasks": 0,
                    "numSkippedStages": 0,
                    "numSkippedTasks": 0,
                    "numTasks": 33,
                    "rowCount": 5617918,
                    "stageIds": [
                      1
                    ],
                    "status": "SUCCEEDED",
                    "submissionTime": "2023-11-22T20:04:40.961GMT",
                    "usageDescription": ""
                  }
                ],
                "limit": 20,
                "numbers": {
                  "FAILED": 0,
                  "RUNNING": 0,
                  "SUCCEEDED": 2,
                  "UNKNOWN": 0
                },
                "rule": "ALL_DESC"
              },
              "spark_pool": "8aef2e4c-7819-4b3c-ad3b-441a2f26e87b",
              "state": "finished",
              "statement_id": 9
            },
            "text/plain": [
              "StatementMeta(8aef2e4c-7819-4b3c-ad3b-441a2f26e87b, 49, 9, Finished, Available)"
            ]
          },
          "metadata": {},
          "output_type": "display_data"
        },
        {
          "name": "stdout",
          "output_type": "stream",
          "text": [
            "+----------------+\n",
            "|controversiality|\n",
            "+----------------+\n",
            "|               0|\n",
            "|               1|\n",
            "+----------------+\n",
            "\n"
          ]
        }
      ],
      "source": [
        "unique_controversiality = df.select(\"controversiality\").distinct()\n",
        "\n",
        "unique_controversiality.show()"
      ]
    },
    {
      "cell_type": "markdown",
      "metadata": {
        "nteract": {
          "transient": {
            "deleting": false
          }
        }
      },
      "source": [
        "Because 'controversiality' only contain two values, hence LogisticRegression is chosen. "
      ]
    },
    {
      "cell_type": "code",
      "execution_count": 9,
      "metadata": {
        "gather": {
          "logged": 1700684216832
        },
        "jupyter": {
          "outputs_hidden": false,
          "source_hidden": false
        },
        "nteract": {
          "transient": {
            "deleting": false
          }
        }
      },
      "outputs": [
        {
          "data": {
            "application/vnd.livy.statement-meta+json": {
              "execution_finish_time": "2023-11-22T20:16:56.6912749Z",
              "execution_start_time": "2023-11-22T20:16:55.8130928Z",
              "livy_statement_state": "available",
              "parent_msg_id": "63981f3d-f6dd-430d-ad36-ad568f74f6c7",
              "queued_time": "2023-11-22T20:16:55.7136031Z",
              "session_id": "49",
              "session_start_time": null,
              "spark_jobs": {
                "jobs": [],
                "limit": 20,
                "numbers": {
                  "FAILED": 0,
                  "RUNNING": 0,
                  "SUCCEEDED": 0,
                  "UNKNOWN": 0
                },
                "rule": "ALL_DESC"
              },
              "spark_pool": "8aef2e4c-7819-4b3c-ad3b-441a2f26e87b",
              "state": "finished",
              "statement_id": 14
            },
            "text/plain": [
              "StatementMeta(8aef2e4c-7819-4b3c-ad3b-441a2f26e87b, 49, 14, Finished, Available)"
            ]
          },
          "metadata": {},
          "output_type": "display_data"
        }
      ],
      "source": [
        "football_teams_subreddits = [\n",
        "    \"chelseafc\", \"reddevils\", \"gunners\", \"liverpoolfc\", \"coys\", \"mcfc\", \"barca\",\n",
        "    \"realmadrid\", \"acmilan\", \"juve\", \"asroma\", \"fcbayern\", \"borussiadortmund\",\n",
        "    \"schalke04\", \"atletico\", \"psg\", \"ajaxamsterdam\", \"celticfc\"\n",
        "]\n",
        "\n",
        "#filter the DataFrame\n",
        "club_subreddits = df.filter(df.subreddit.isin(football_teams_subreddits))"
      ]
    },
    {
      "cell_type": "code",
      "execution_count": 10,
      "metadata": {
        "gather": {
          "logged": 1700684221708
        },
        "jupyter": {
          "outputs_hidden": false,
          "source_hidden": false
        },
        "nteract": {
          "transient": {
            "deleting": false
          }
        }
      },
      "outputs": [
        {
          "data": {
            "application/vnd.livy.statement-meta+json": {
              "execution_finish_time": "2023-11-22T20:17:01.6122766Z",
              "execution_start_time": "2023-11-22T20:17:01.293021Z",
              "livy_statement_state": "available",
              "parent_msg_id": "75c9fd0c-fade-453c-81f5-ed1ecef8e528",
              "queued_time": "2023-11-22T20:17:01.1244765Z",
              "session_id": "49",
              "session_start_time": null,
              "spark_jobs": {
                "jobs": [],
                "limit": 20,
                "numbers": {
                  "FAILED": 0,
                  "RUNNING": 0,
                  "SUCCEEDED": 0,
                  "UNKNOWN": 0
                },
                "rule": "ALL_DESC"
              },
              "spark_pool": "8aef2e4c-7819-4b3c-ad3b-441a2f26e87b",
              "state": "finished",
              "statement_id": 15
            },
            "text/plain": [
              "StatementMeta(8aef2e4c-7819-4b3c-ad3b-441a2f26e87b, 49, 15, Finished, Available)"
            ]
          },
          "metadata": {},
          "output_type": "display_data"
        }
      ],
      "source": [
        "filter_club_subreddits = club_subreddits.select(\"body\", \"controversiality\", \"score\")"
      ]
    },
    {
      "cell_type": "code",
      "execution_count": 11,
      "metadata": {
        "gather": {
          "logged": 1700684227209
        },
        "jupyter": {
          "outputs_hidden": false,
          "source_hidden": false
        },
        "nteract": {
          "transient": {
            "deleting": false
          }
        }
      },
      "outputs": [
        {
          "data": {
            "application/vnd.livy.statement-meta+json": {
              "execution_finish_time": "2023-11-22T20:17:07.1144034Z",
              "execution_start_time": "2023-11-22T20:17:05.5699354Z",
              "livy_statement_state": "available",
              "parent_msg_id": "6810e3c2-223e-4280-b3ff-199474161171",
              "queued_time": "2023-11-22T20:17:05.4262435Z",
              "session_id": "49",
              "session_start_time": null,
              "spark_jobs": {
                "jobs": [
                  {
                    "completionTime": "2023-11-22T20:17:06.333GMT",
                    "dataRead": 1261780,
                    "dataWritten": 0,
                    "description": "Job group for statement 16:\nfilter_club_subreddits.show()",
                    "displayName": "showString at NativeMethodAccessorImpl.java:0",
                    "jobGroup": "16",
                    "jobId": 5,
                    "killedTasksSummary": {},
                    "name": "showString at NativeMethodAccessorImpl.java:0",
                    "numActiveStages": 0,
                    "numActiveTasks": 0,
                    "numCompletedIndices": 1,
                    "numCompletedStages": 1,
                    "numCompletedTasks": 1,
                    "numFailedStages": 0,
                    "numFailedTasks": 0,
                    "numKilledTasks": 0,
                    "numSkippedStages": 0,
                    "numSkippedTasks": 0,
                    "numTasks": 1,
                    "rowCount": 4096,
                    "stageIds": [
                      6
                    ],
                    "status": "SUCCEEDED",
                    "submissionTime": "2023-11-22T20:17:05.767GMT",
                    "usageDescription": ""
                  }
                ],
                "limit": 20,
                "numbers": {
                  "FAILED": 0,
                  "RUNNING": 0,
                  "SUCCEEDED": 1,
                  "UNKNOWN": 0
                },
                "rule": "ALL_DESC"
              },
              "spark_pool": "8aef2e4c-7819-4b3c-ad3b-441a2f26e87b",
              "state": "finished",
              "statement_id": 16
            },
            "text/plain": [
              "StatementMeta(8aef2e4c-7819-4b3c-ad3b-441a2f26e87b, 49, 16, Finished, Available)"
            ]
          },
          "metadata": {},
          "output_type": "display_data"
        },
        {
          "name": "stdout",
          "output_type": "stream",
          "text": [
            "+--------------------+----------------+-----+\n",
            "|                body|controversiality|score|\n",
            "+--------------------+----------------+-----+\n",
            "| Mudryk is injured??|               0|    1|\n",
            "|No he is a suppor...|               0|    7|\n",
            "|Remember when TT ...|               1|   -3|\n",
            "|Feel like everyon...|               0|    8|\n",
            "|Yeah for like 20 ...|               0|    2|\n",
            "|Naaah mate he's h...|               0|    1|\n",
            "|Hopefully that bo...|               0|    1|\n",
            "|        30 minutes..|               0|    2|\n",
            "|Entirely possible...|               0|   11|\n",
            "|I hate Gary Nevil...|               0|    5|\n",
            "|            so brave|               0|    1|\n",
            "|  They really aren't|               0|    1|\n",
            "| For 25’ 2 weeks ago|               0|    2|\n",
            "|Why? It was weird...|               0|    1|\n",
            "|I'll buy one just...|               0|    1|\n",
            "|Why did we have t...|               0|    3|\n",
            "|… will fail? \\n\\n...|               0|    3|\n",
            "|Why did mudryk co...|               0|    3|\n",
            "|Well said, so sic...|               0|    2|\n",
            "|I know, I’ll be u...|               0|   -1|\n",
            "+--------------------+----------------+-----+\n",
            "only showing top 20 rows\n",
            "\n"
          ]
        }
      ],
      "source": [
        "filter_club_subreddits.show()"
      ]
    },
    {
      "cell_type": "code",
      "execution_count": 12,
      "metadata": {
        "gather": {
          "logged": 1700684267230
        },
        "jupyter": {
          "outputs_hidden": false,
          "source_hidden": false
        },
        "nteract": {
          "transient": {
            "deleting": false
          }
        }
      },
      "outputs": [
        {
          "data": {
            "application/vnd.livy.statement-meta+json": {
              "execution_finish_time": "2023-11-22T20:17:47.0931199Z",
              "execution_start_time": "2023-11-22T20:17:46.7673709Z",
              "livy_statement_state": "available",
              "parent_msg_id": "f0db2c1a-3eed-4eb9-87b8-6006508b625a",
              "queued_time": "2023-11-22T20:17:46.6383881Z",
              "session_id": "49",
              "session_start_time": null,
              "spark_jobs": {
                "jobs": [],
                "limit": 20,
                "numbers": {
                  "FAILED": 0,
                  "RUNNING": 0,
                  "SUCCEEDED": 0,
                  "UNKNOWN": 0
                },
                "rule": "ALL_DESC"
              },
              "spark_pool": "8aef2e4c-7819-4b3c-ad3b-441a2f26e87b",
              "state": "finished",
              "statement_id": 17
            },
            "text/plain": [
              "StatementMeta(8aef2e4c-7819-4b3c-ad3b-441a2f26e87b, 49, 17, Finished, Available)"
            ]
          },
          "metadata": {},
          "output_type": "display_data"
        },
        {
          "data": {
            "text/plain": [
              "DataFrame[body: string, controversiality: bigint, score: bigint]"
            ]
          },
          "execution_count": 33,
          "metadata": {},
          "output_type": "execute_result"
        }
      ],
      "source": [
        "filter_club_subreddits.cache()"
      ]
    },
    {
      "cell_type": "markdown",
      "metadata": {
        "nteract": {
          "transient": {
            "deleting": false
          }
        }
      },
      "source": [
        "### Data Pre-processing, and Build a Pipeline"
      ]
    },
    {
      "cell_type": "code",
      "execution_count": 13,
      "metadata": {
        "gather": {
          "logged": 1700684277189
        },
        "jupyter": {
          "outputs_hidden": false,
          "source_hidden": false
        },
        "nteract": {
          "transient": {
            "deleting": false
          }
        }
      },
      "outputs": [
        {
          "data": {
            "application/vnd.livy.statement-meta+json": {
              "execution_finish_time": "2023-11-22T20:17:57.0718909Z",
              "execution_start_time": "2023-11-22T20:17:56.7395437Z",
              "livy_statement_state": "available",
              "parent_msg_id": "d73c80ab-fbf7-47ba-b00d-3d546367aa5e",
              "queued_time": "2023-11-22T20:17:55.9851247Z",
              "session_id": "49",
              "session_start_time": null,
              "spark_jobs": {
                "jobs": [],
                "limit": 20,
                "numbers": {
                  "FAILED": 0,
                  "RUNNING": 0,
                  "SUCCEEDED": 0,
                  "UNKNOWN": 0
                },
                "rule": "ALL_DESC"
              },
              "spark_pool": "8aef2e4c-7819-4b3c-ad3b-441a2f26e87b",
              "state": "finished",
              "statement_id": 18
            },
            "text/plain": [
              "StatementMeta(8aef2e4c-7819-4b3c-ad3b-441a2f26e87b, 49, 18, Finished, Available)"
            ]
          },
          "metadata": {},
          "output_type": "display_data"
        }
      ],
      "source": [
        "from pyspark.ml.classification import LogisticRegression\n",
        "from pyspark.ml.evaluation import BinaryClassificationEvaluator, MulticlassClassificationEvaluator\n",
        "from pyspark.ml.feature import Tokenizer, CountVectorizer, IDF, VectorAssembler\n",
        "from pyspark.ml import Pipeline\n",
        "from pyspark.sql import SparkSession\n",
        "from pyspark.mllib.evaluation import MulticlassMetrics\n",
        "from pyspark.sql.functions import col"
      ]
    },
    {
      "cell_type": "code",
      "execution_count": 15,
      "metadata": {
        "gather": {
          "logged": 1700684290471
        },
        "jupyter": {
          "outputs_hidden": false,
          "source_hidden": false
        },
        "nteract": {
          "transient": {
            "deleting": false
          }
        }
      },
      "outputs": [
        {
          "data": {
            "application/vnd.livy.statement-meta+json": {
              "execution_finish_time": "2023-11-22T20:18:10.3038592Z",
              "execution_start_time": "2023-11-22T20:18:10.0097721Z",
              "livy_statement_state": "available",
              "parent_msg_id": "6c5d263e-6769-4cc7-831a-a06764ac2d6b",
              "queued_time": "2023-11-22T20:18:09.8785879Z",
              "session_id": "49",
              "session_start_time": null,
              "spark_jobs": {
                "jobs": [],
                "limit": 20,
                "numbers": {
                  "FAILED": 0,
                  "RUNNING": 0,
                  "SUCCEEDED": 0,
                  "UNKNOWN": 0
                },
                "rule": "ALL_DESC"
              },
              "spark_pool": "8aef2e4c-7819-4b3c-ad3b-441a2f26e87b",
              "state": "finished",
              "statement_id": 20
            },
            "text/plain": [
              "StatementMeta(8aef2e4c-7819-4b3c-ad3b-441a2f26e87b, 49, 20, Finished, Available)"
            ]
          },
          "metadata": {},
          "output_type": "display_data"
        }
      ],
      "source": [
        "tokenizer = Tokenizer(inputCol=\"body\", outputCol=\"words\")\n",
        "cv = CountVectorizer(inputCol=\"words\", outputCol=\"rawFeatures\")\n",
        "idf = IDF(inputCol=\"rawFeatures\", outputCol=\"textFeatures\")\n",
        "assembler = VectorAssembler(inputCols=[\"textFeatures\", \"score\"], outputCol=\"features\")\n",
        "\n",
        "#model with different hyperparameters\n",
        "lr1 = LogisticRegression(featuresCol=\"features\", labelCol=\"controversiality\", regParam=0.1, maxIter=10)\n",
        "lr2 = LogisticRegression(featuresCol=\"features\", labelCol=\"controversiality\", regParam=0.01, maxIter=20)\n",
        "\n",
        "#define pipelines\n",
        "pipeline1 = Pipeline(stages=[tokenizer, cv, idf, assembler, lr1])\n",
        "pipeline2 = Pipeline(stages=[tokenizer, cv, idf, assembler, lr2])"
      ]
    },
    {
      "cell_type": "code",
      "execution_count": 16,
      "metadata": {
        "gather": {
          "logged": 1700684308773
        },
        "jupyter": {
          "outputs_hidden": false,
          "source_hidden": false
        },
        "nteract": {
          "transient": {
            "deleting": false
          }
        }
      },
      "outputs": [
        {
          "data": {
            "application/vnd.livy.statement-meta+json": {
              "execution_finish_time": "2023-11-22T20:18:28.6194172Z",
              "execution_start_time": "2023-11-22T20:18:28.2954394Z",
              "livy_statement_state": "available",
              "parent_msg_id": "692bf8b4-dff6-4b56-9ff4-dc0e5f7a907e",
              "queued_time": "2023-11-22T20:18:28.1812939Z",
              "session_id": "49",
              "session_start_time": null,
              "spark_jobs": {
                "jobs": [],
                "limit": 20,
                "numbers": {
                  "FAILED": 0,
                  "RUNNING": 0,
                  "SUCCEEDED": 0,
                  "UNKNOWN": 0
                },
                "rule": "ALL_DESC"
              },
              "spark_pool": "8aef2e4c-7819-4b3c-ad3b-441a2f26e87b",
              "state": "finished",
              "statement_id": 21
            },
            "text/plain": [
              "StatementMeta(8aef2e4c-7819-4b3c-ad3b-441a2f26e87b, 49, 21, Finished, Available)"
            ]
          },
          "metadata": {},
          "output_type": "display_data"
        }
      ],
      "source": [
        "#split Data\n",
        "train_data, test_data = filter_club_subreddits.randomSplit([0.7, 0.3], seed=24)"
      ]
    },
    {
      "cell_type": "code",
      "execution_count": 17,
      "metadata": {
        "gather": {
          "logged": 1700684555397
        },
        "jupyter": {
          "outputs_hidden": false,
          "source_hidden": false
        },
        "nteract": {
          "transient": {
            "deleting": false
          }
        }
      },
      "outputs": [
        {
          "data": {
            "application/vnd.livy.statement-meta+json": {
              "execution_finish_time": "2023-11-22T20:22:35.2264105Z",
              "execution_start_time": "2023-11-22T20:18:47.3098714Z",
              "livy_statement_state": "available",
              "parent_msg_id": "ee0722a4-d6c8-4102-88f1-8681523410a4",
              "queued_time": "2023-11-22T20:18:47.1463827Z",
              "session_id": "49",
              "session_start_time": null,
              "spark_jobs": {
                "jobs": [
                  {
                    "completionTime": "2023-11-22T20:22:31.252GMT",
                    "dataRead": 265359642,
                    "dataWritten": 14787490,
                    "description": "Job group for statement 22:\nmodel1 = pipeline1.fit(train_data)",
                    "displayName": "treeAggregate at RDDLossFunction.scala:61",
                    "jobGroup": "22",
                    "jobId": 22,
                    "killedTasksSummary": {},
                    "name": "treeAggregate at RDDLossFunction.scala:61",
                    "numActiveStages": 0,
                    "numActiveTasks": 0,
                    "numCompletedIndices": 38,
                    "numCompletedStages": 2,
                    "numCompletedTasks": 38,
                    "numFailedStages": 0,
                    "numFailedTasks": 0,
                    "numKilledTasks": 0,
                    "numSkippedStages": 0,
                    "numSkippedTasks": 0,
                    "numTasks": 38,
                    "rowCount": 322,
                    "stageIds": [
                      39,
                      40
                    ],
                    "status": "SUCCEEDED",
                    "submissionTime": "2023-11-22T20:22:20.892GMT",
                    "usageDescription": ""
                  },
                  {
                    "completionTime": "2023-11-22T20:22:20.297GMT",
                    "dataRead": 262060958,
                    "dataWritten": 14792723,
                    "description": "Job group for statement 22:\nmodel1 = pipeline1.fit(train_data)",
                    "displayName": "treeAggregate at RDDLossFunction.scala:61",
                    "jobGroup": "22",
                    "jobId": 21,
                    "killedTasksSummary": {},
                    "name": "treeAggregate at RDDLossFunction.scala:61",
                    "numActiveStages": 0,
                    "numActiveTasks": 0,
                    "numCompletedIndices": 38,
                    "numCompletedStages": 2,
                    "numCompletedTasks": 38,
                    "numFailedStages": 0,
                    "numFailedTasks": 0,
                    "numKilledTasks": 0,
                    "numSkippedStages": 0,
                    "numSkippedTasks": 0,
                    "numTasks": 38,
                    "rowCount": 322,
                    "stageIds": [
                      37,
                      38
                    ],
                    "status": "SUCCEEDED",
                    "submissionTime": "2023-11-22T20:22:10.352GMT",
                    "usageDescription": ""
                  },
                  {
                    "completionTime": "2023-11-22T20:22:09.757GMT",
                    "dataRead": 262679179,
                    "dataWritten": 14791040,
                    "description": "Job group for statement 22:\nmodel1 = pipeline1.fit(train_data)",
                    "displayName": "treeAggregate at RDDLossFunction.scala:61",
                    "jobGroup": "22",
                    "jobId": 20,
                    "killedTasksSummary": {},
                    "name": "treeAggregate at RDDLossFunction.scala:61",
                    "numActiveStages": 0,
                    "numActiveTasks": 0,
                    "numCompletedIndices": 38,
                    "numCompletedStages": 2,
                    "numCompletedTasks": 38,
                    "numFailedStages": 0,
                    "numFailedTasks": 0,
                    "numKilledTasks": 0,
                    "numSkippedStages": 0,
                    "numSkippedTasks": 0,
                    "numTasks": 38,
                    "rowCount": 322,
                    "stageIds": [
                      35,
                      36
                    ],
                    "status": "SUCCEEDED",
                    "submissionTime": "2023-11-22T20:21:58.386GMT",
                    "usageDescription": ""
                  },
                  {
                    "completionTime": "2023-11-22T20:21:57.778GMT",
                    "dataRead": 263072964,
                    "dataWritten": 14792005,
                    "description": "Job group for statement 22:\nmodel1 = pipeline1.fit(train_data)",
                    "displayName": "treeAggregate at RDDLossFunction.scala:61",
                    "jobGroup": "22",
                    "jobId": 19,
                    "killedTasksSummary": {},
                    "name": "treeAggregate at RDDLossFunction.scala:61",
                    "numActiveStages": 0,
                    "numActiveTasks": 0,
                    "numCompletedIndices": 38,
                    "numCompletedStages": 2,
                    "numCompletedTasks": 38,
                    "numFailedStages": 0,
                    "numFailedTasks": 0,
                    "numKilledTasks": 0,
                    "numSkippedStages": 0,
                    "numSkippedTasks": 0,
                    "numTasks": 38,
                    "rowCount": 322,
                    "stageIds": [
                      33,
                      34
                    ],
                    "status": "SUCCEEDED",
                    "submissionTime": "2023-11-22T20:21:47.223GMT",
                    "usageDescription": ""
                  },
                  {
                    "completionTime": "2023-11-22T20:21:46.607GMT",
                    "dataRead": 265361830,
                    "dataWritten": 14789678,
                    "description": "Job group for statement 22:\nmodel1 = pipeline1.fit(train_data)",
                    "displayName": "treeAggregate at RDDLossFunction.scala:61",
                    "jobGroup": "22",
                    "jobId": 18,
                    "killedTasksSummary": {},
                    "name": "treeAggregate at RDDLossFunction.scala:61",
                    "numActiveStages": 0,
                    "numActiveTasks": 0,
                    "numCompletedIndices": 38,
                    "numCompletedStages": 2,
                    "numCompletedTasks": 38,
                    "numFailedStages": 0,
                    "numFailedTasks": 0,
                    "numKilledTasks": 0,
                    "numSkippedStages": 0,
                    "numSkippedTasks": 0,
                    "numTasks": 38,
                    "rowCount": 322,
                    "stageIds": [
                      31,
                      32
                    ],
                    "status": "SUCCEEDED",
                    "submissionTime": "2023-11-22T20:21:35.850GMT",
                    "usageDescription": ""
                  },
                  {
                    "completionTime": "2023-11-22T20:21:35.147GMT",
                    "dataRead": 263488065,
                    "dataWritten": 14791040,
                    "description": "Job group for statement 22:\nmodel1 = pipeline1.fit(train_data)",
                    "displayName": "treeAggregate at RDDLossFunction.scala:61",
                    "jobGroup": "22",
                    "jobId": 17,
                    "killedTasksSummary": {},
                    "name": "treeAggregate at RDDLossFunction.scala:61",
                    "numActiveStages": 0,
                    "numActiveTasks": 0,
                    "numCompletedIndices": 38,
                    "numCompletedStages": 2,
                    "numCompletedTasks": 38,
                    "numFailedStages": 0,
                    "numFailedTasks": 0,
                    "numKilledTasks": 0,
                    "numSkippedStages": 0,
                    "numSkippedTasks": 0,
                    "numTasks": 38,
                    "rowCount": 322,
                    "stageIds": [
                      30,
                      29
                    ],
                    "status": "SUCCEEDED",
                    "submissionTime": "2023-11-22T20:21:24.679GMT",
                    "usageDescription": ""
                  },
                  {
                    "completionTime": "2023-11-22T20:21:23.810GMT",
                    "dataRead": 265126109,
                    "dataWritten": 14782797,
                    "description": "Job group for statement 22:\nmodel1 = pipeline1.fit(train_data)",
                    "displayName": "treeAggregate at RDDLossFunction.scala:61",
                    "jobGroup": "22",
                    "jobId": 16,
                    "killedTasksSummary": {},
                    "name": "treeAggregate at RDDLossFunction.scala:61",
                    "numActiveStages": 0,
                    "numActiveTasks": 0,
                    "numCompletedIndices": 38,
                    "numCompletedStages": 2,
                    "numCompletedTasks": 38,
                    "numFailedStages": 0,
                    "numFailedTasks": 0,
                    "numKilledTasks": 0,
                    "numSkippedStages": 0,
                    "numSkippedTasks": 0,
                    "numTasks": 38,
                    "rowCount": 322,
                    "stageIds": [
                      27,
                      28
                    ],
                    "status": "SUCCEEDED",
                    "submissionTime": "2023-11-22T20:21:13.240GMT",
                    "usageDescription": ""
                  },
                  {
                    "completionTime": "2023-11-22T20:21:12.461GMT",
                    "dataRead": 265129634,
                    "dataWritten": 14786322,
                    "description": "Job group for statement 22:\nmodel1 = pipeline1.fit(train_data)",
                    "displayName": "treeAggregate at RDDLossFunction.scala:61",
                    "jobGroup": "22",
                    "jobId": 15,
                    "killedTasksSummary": {},
                    "name": "treeAggregate at RDDLossFunction.scala:61",
                    "numActiveStages": 0,
                    "numActiveTasks": 0,
                    "numCompletedIndices": 38,
                    "numCompletedStages": 2,
                    "numCompletedTasks": 38,
                    "numFailedStages": 0,
                    "numFailedTasks": 0,
                    "numKilledTasks": 0,
                    "numSkippedStages": 0,
                    "numSkippedTasks": 0,
                    "numTasks": 38,
                    "rowCount": 322,
                    "stageIds": [
                      25,
                      26
                    ],
                    "status": "SUCCEEDED",
                    "submissionTime": "2023-11-22T20:21:03.386GMT",
                    "usageDescription": ""
                  },
                  {
                    "completionTime": "2023-11-22T20:21:02.632GMT",
                    "dataRead": 265354110,
                    "dataWritten": 14781958,
                    "description": "Job group for statement 22:\nmodel1 = pipeline1.fit(train_data)",
                    "displayName": "treeAggregate at RDDLossFunction.scala:61",
                    "jobGroup": "22",
                    "jobId": 14,
                    "killedTasksSummary": {},
                    "name": "treeAggregate at RDDLossFunction.scala:61",
                    "numActiveStages": 0,
                    "numActiveTasks": 0,
                    "numCompletedIndices": 38,
                    "numCompletedStages": 2,
                    "numCompletedTasks": 38,
                    "numFailedStages": 0,
                    "numFailedTasks": 0,
                    "numKilledTasks": 0,
                    "numSkippedStages": 0,
                    "numSkippedTasks": 0,
                    "numTasks": 38,
                    "rowCount": 322,
                    "stageIds": [
                      24,
                      23
                    ],
                    "status": "SUCCEEDED",
                    "submissionTime": "2023-11-22T20:20:52.193GMT",
                    "usageDescription": ""
                  },
                  {
                    "completionTime": "2023-11-22T20:20:51.605GMT",
                    "dataRead": 265126293,
                    "dataWritten": 14782981,
                    "description": "Job group for statement 22:\nmodel1 = pipeline1.fit(train_data)",
                    "displayName": "treeAggregate at RDDLossFunction.scala:61",
                    "jobGroup": "22",
                    "jobId": 13,
                    "killedTasksSummary": {},
                    "name": "treeAggregate at RDDLossFunction.scala:61",
                    "numActiveStages": 0,
                    "numActiveTasks": 0,
                    "numCompletedIndices": 38,
                    "numCompletedStages": 2,
                    "numCompletedTasks": 38,
                    "numFailedStages": 0,
                    "numFailedTasks": 0,
                    "numKilledTasks": 0,
                    "numSkippedStages": 0,
                    "numSkippedTasks": 0,
                    "numTasks": 38,
                    "rowCount": 322,
                    "stageIds": [
                      21,
                      22
                    ],
                    "status": "SUCCEEDED",
                    "submissionTime": "2023-11-22T20:20:40.856GMT",
                    "usageDescription": ""
                  },
                  {
                    "completionTime": "2023-11-22T20:20:40.223GMT",
                    "dataRead": 265339132,
                    "dataWritten": 14766980,
                    "description": "Job group for statement 22:\nmodel1 = pipeline1.fit(train_data)",
                    "displayName": "treeAggregate at RDDLossFunction.scala:61",
                    "jobGroup": "22",
                    "jobId": 12,
                    "killedTasksSummary": {},
                    "name": "treeAggregate at RDDLossFunction.scala:61",
                    "numActiveStages": 0,
                    "numActiveTasks": 0,
                    "numCompletedIndices": 38,
                    "numCompletedStages": 2,
                    "numCompletedTasks": 38,
                    "numFailedStages": 0,
                    "numFailedTasks": 0,
                    "numKilledTasks": 0,
                    "numSkippedStages": 0,
                    "numSkippedTasks": 0,
                    "numTasks": 38,
                    "rowCount": 322,
                    "stageIds": [
                      19,
                      20
                    ],
                    "status": "SUCCEEDED",
                    "submissionTime": "2023-11-22T20:20:30.426GMT",
                    "usageDescription": ""
                  },
                  {
                    "completionTime": "2023-11-22T20:20:29.818GMT",
                    "dataRead": 265218671,
                    "dataWritten": 14646519,
                    "description": "Job group for statement 22:\nmodel1 = pipeline1.fit(train_data)",
                    "displayName": "treeAggregate at RDDLossFunction.scala:61",
                    "jobGroup": "22",
                    "jobId": 11,
                    "killedTasksSummary": {},
                    "name": "treeAggregate at RDDLossFunction.scala:61",
                    "numActiveStages": 0,
                    "numActiveTasks": 0,
                    "numCompletedIndices": 38,
                    "numCompletedStages": 2,
                    "numCompletedTasks": 38,
                    "numFailedStages": 0,
                    "numFailedTasks": 0,
                    "numKilledTasks": 0,
                    "numSkippedStages": 0,
                    "numSkippedTasks": 0,
                    "numTasks": 38,
                    "rowCount": 322,
                    "stageIds": [
                      17,
                      18
                    ],
                    "status": "SUCCEEDED",
                    "submissionTime": "2023-11-22T20:20:18.948GMT",
                    "usageDescription": ""
                  },
                  {
                    "completionTime": "2023-11-22T20:20:18.254GMT",
                    "dataRead": 193753374,
                    "dataWritten": 10085190,
                    "description": "Job group for statement 22:\nmodel1 = pipeline1.fit(train_data)",
                    "displayName": "treeAggregate at RDDLossFunction.scala:61",
                    "jobGroup": "22",
                    "jobId": 10,
                    "killedTasksSummary": {},
                    "name": "treeAggregate at RDDLossFunction.scala:61",
                    "numActiveStages": 0,
                    "numActiveTasks": 0,
                    "numCompletedIndices": 38,
                    "numCompletedStages": 2,
                    "numCompletedTasks": 38,
                    "numFailedStages": 0,
                    "numFailedTasks": 0,
                    "numKilledTasks": 0,
                    "numSkippedStages": 0,
                    "numSkippedTasks": 0,
                    "numTasks": 38,
                    "rowCount": 219,
                    "stageIds": [
                      15,
                      16
                    ],
                    "status": "SUCCEEDED",
                    "submissionTime": "2023-11-22T20:19:58.174GMT",
                    "usageDescription": ""
                  },
                  {
                    "completionTime": "2023-11-22T20:19:57.182GMT",
                    "dataRead": 196240693,
                    "dataWritten": 12572509,
                    "description": "Job group for statement 22:\nmodel1 = pipeline1.fit(train_data)",
                    "displayName": "treeAggregate at Summarizer.scala:233",
                    "jobGroup": "22",
                    "jobId": 9,
                    "killedTasksSummary": {},
                    "name": "treeAggregate at Summarizer.scala:233",
                    "numActiveStages": 0,
                    "numActiveTasks": 0,
                    "numCompletedIndices": 38,
                    "numCompletedStages": 2,
                    "numCompletedTasks": 38,
                    "numFailedStages": 0,
                    "numFailedTasks": 0,
                    "numKilledTasks": 0,
                    "numSkippedStages": 0,
                    "numSkippedTasks": 0,
                    "numTasks": 38,
                    "rowCount": 219,
                    "stageIds": [
                      13,
                      14
                    ],
                    "status": "SUCCEEDED",
                    "submissionTime": "2023-11-22T20:19:36.559GMT",
                    "usageDescription": ""
                  },
                  {
                    "completionTime": "2023-11-22T20:19:33.139GMT",
                    "dataRead": 186025475,
                    "dataWritten": 2357291,
                    "description": "Job group for statement 22:\nmodel1 = pipeline1.fit(train_data)",
                    "displayName": "treeAggregate at IDF.scala:55",
                    "jobGroup": "22",
                    "jobId": 8,
                    "killedTasksSummary": {},
                    "name": "treeAggregate at IDF.scala:55",
                    "numActiveStages": 0,
                    "numActiveTasks": 0,
                    "numCompletedIndices": 38,
                    "numCompletedStages": 2,
                    "numCompletedTasks": 38,
                    "numFailedStages": 0,
                    "numFailedTasks": 0,
                    "numKilledTasks": 0,
                    "numSkippedStages": 0,
                    "numSkippedTasks": 0,
                    "numTasks": 38,
                    "rowCount": 219,
                    "stageIds": [
                      12,
                      11
                    ],
                    "status": "SUCCEEDED",
                    "submissionTime": "2023-11-22T20:19:18.454GMT",
                    "usageDescription": ""
                  },
                  {
                    "completionTime": "2023-11-22T20:19:15.869GMT",
                    "dataRead": 31634683,
                    "dataWritten": 0,
                    "description": "Job group for statement 22:\nmodel1 = pipeline1.fit(train_data)",
                    "displayName": "top at CountVectorizer.scala:236",
                    "jobGroup": "22",
                    "jobId": 7,
                    "killedTasksSummary": {},
                    "name": "top at CountVectorizer.scala:236",
                    "numActiveStages": 0,
                    "numActiveTasks": 0,
                    "numCompletedIndices": 33,
                    "numCompletedStages": 1,
                    "numCompletedTasks": 33,
                    "numFailedStages": 0,
                    "numFailedTasks": 0,
                    "numKilledTasks": 0,
                    "numSkippedStages": 1,
                    "numSkippedTasks": 33,
                    "numTasks": 66,
                    "rowCount": 357366,
                    "stageIds": [
                      9,
                      10
                    ],
                    "status": "SUCCEEDED",
                    "submissionTime": "2023-11-22T20:19:15.074GMT",
                    "usageDescription": ""
                  },
                  {
                    "completionTime": "2023-11-22T20:19:15.047GMT",
                    "dataRead": 517394029,
                    "dataWritten": 15232728,
                    "description": "Job group for statement 22:\nmodel1 = pipeline1.fit(train_data)",
                    "displayName": "count at CountVectorizer.scala:233",
                    "jobGroup": "22",
                    "jobId": 6,
                    "killedTasksSummary": {},
                    "name": "count at CountVectorizer.scala:233",
                    "numActiveStages": 0,
                    "numActiveTasks": 0,
                    "numCompletedIndices": 66,
                    "numCompletedStages": 2,
                    "numCompletedTasks": 66,
                    "numFailedStages": 0,
                    "numFailedTasks": 0,
                    "numKilledTasks": 0,
                    "numSkippedStages": 0,
                    "numSkippedTasks": 0,
                    "numTasks": 66,
                    "rowCount": 8394830,
                    "stageIds": [
                      7,
                      8
                    ],
                    "status": "SUCCEEDED",
                    "submissionTime": "2023-11-22T20:18:47.950GMT",
                    "usageDescription": ""
                  }
                ],
                "limit": 20,
                "numbers": {
                  "FAILED": 0,
                  "RUNNING": 0,
                  "SUCCEEDED": 17,
                  "UNKNOWN": 0
                },
                "rule": "ALL_DESC"
              },
              "spark_pool": "8aef2e4c-7819-4b3c-ad3b-441a2f26e87b",
              "state": "finished",
              "statement_id": 22
            },
            "text/plain": [
              "StatementMeta(8aef2e4c-7819-4b3c-ad3b-441a2f26e87b, 49, 22, Finished, Available)"
            ]
          },
          "metadata": {},
          "output_type": "display_data"
        }
      ],
      "source": [
        "model1 = pipeline1.fit(train_data)"
      ]
    },
    {
      "cell_type": "markdown",
      "metadata": {
        "nteract": {
          "transient": {
            "deleting": false
          }
        }
      },
      "source": [
        "### Model 1: Prediction and Evaluation"
      ]
    },
    {
      "cell_type": "code",
      "execution_count": 18,
      "metadata": {
        "gather": {
          "logged": 1700684579653
        },
        "jupyter": {
          "outputs_hidden": false,
          "source_hidden": false
        },
        "nteract": {
          "transient": {
            "deleting": false
          }
        }
      },
      "outputs": [
        {
          "data": {
            "application/vnd.livy.statement-meta+json": {
              "execution_finish_time": "2023-11-22T20:22:59.5262588Z",
              "execution_start_time": "2023-11-22T20:22:58.6687488Z",
              "livy_statement_state": "available",
              "parent_msg_id": "3dc67ed6-a2f2-4096-aced-17f77d73cfc9",
              "queued_time": "2023-11-22T20:22:58.477198Z",
              "session_id": "49",
              "session_start_time": null,
              "spark_jobs": {
                "jobs": [],
                "limit": 20,
                "numbers": {
                  "FAILED": 0,
                  "RUNNING": 0,
                  "SUCCEEDED": 0,
                  "UNKNOWN": 0
                },
                "rule": "ALL_DESC"
              },
              "spark_pool": "8aef2e4c-7819-4b3c-ad3b-441a2f26e87b",
              "state": "finished",
              "statement_id": 23
            },
            "text/plain": [
              "StatementMeta(8aef2e4c-7819-4b3c-ad3b-441a2f26e87b, 49, 23, Finished, Available)"
            ]
          },
          "metadata": {},
          "output_type": "display_data"
        }
      ],
      "source": [
        "predictions1 = model1.transform(test_data)"
      ]
    },
    {
      "cell_type": "code",
      "execution_count": 19,
      "metadata": {
        "gather": {
          "logged": 1700684594224
        },
        "jupyter": {
          "outputs_hidden": false,
          "source_hidden": false
        },
        "nteract": {
          "transient": {
            "deleting": false
          }
        }
      },
      "outputs": [
        {
          "data": {
            "application/vnd.livy.statement-meta+json": {
              "execution_finish_time": "2023-11-22T20:23:14.0852184Z",
              "execution_start_time": "2023-11-22T20:23:13.7877414Z",
              "livy_statement_state": "available",
              "parent_msg_id": "7be2ef97-2cbc-4c90-a061-7f1a81d59c94",
              "queued_time": "2023-11-22T20:23:13.6046341Z",
              "session_id": "49",
              "session_start_time": null,
              "spark_jobs": {
                "jobs": [],
                "limit": 20,
                "numbers": {
                  "FAILED": 0,
                  "RUNNING": 0,
                  "SUCCEEDED": 0,
                  "UNKNOWN": 0
                },
                "rule": "ALL_DESC"
              },
              "spark_pool": "8aef2e4c-7819-4b3c-ad3b-441a2f26e87b",
              "state": "finished",
              "statement_id": 24
            },
            "text/plain": [
              "StatementMeta(8aef2e4c-7819-4b3c-ad3b-441a2f26e87b, 49, 24, Finished, Available)"
            ]
          },
          "metadata": {},
          "output_type": "display_data"
        }
      ],
      "source": [
        "evaluator = BinaryClassificationEvaluator(labelCol=\"controversiality\", rawPredictionCol=\"rawPrediction\", metricName=\"areaUnderROC\")"
      ]
    },
    {
      "cell_type": "code",
      "execution_count": 21,
      "metadata": {
        "gather": {
          "logged": 1700684953963
        },
        "jupyter": {
          "outputs_hidden": false,
          "source_hidden": false
        },
        "nteract": {
          "transient": {
            "deleting": false
          }
        }
      },
      "outputs": [
        {
          "data": {
            "application/vnd.livy.statement-meta+json": {
              "execution_finish_time": "2023-11-22T20:29:13.8330565Z",
              "execution_start_time": "2023-11-22T20:28:05.7955787Z",
              "livy_statement_state": "available",
              "parent_msg_id": "c571e433-12d5-483c-8869-023e685dbe37",
              "queued_time": "2023-11-22T20:28:05.6062663Z",
              "session_id": "49",
              "session_start_time": null,
              "spark_jobs": {
                "jobs": [
                  {
                    "completionTime": "2023-11-22T20:29:13.346GMT",
                    "dataRead": 203670,
                    "dataWritten": 0,
                    "description": "Job group for statement 26:\nroc_auc1 = evaluator.evaluate(predictions1)\nmulti_evaluator = MulticlassClassificationEvaluator(labelCol=\"controversiality\", predictionCol=\"prediction\")\naccuracy1 = multi_evaluator.evaluate(predictions1, {multi_evaluator.metricName: \"accuracy\"})\nf1_score1 = multi_evaluator.evaluate(predictions1, {multi_evaluator.metricName: \"f1\"})\npreds_and_labels1 = predictions1.select(['prediction','controversiality']).withColumn('label', col('controversiality').cast('float')).orderBy('prediction')\nmetrics1 = MulticlassMetrics(preds_and_labels1.rdd.map(tuple))\n#confusion_matrix1 = metrics1.confusionMatrix().toArray()",
                    "displayName": "runJob at PythonRDD.scala:172",
                    "jobGroup": "26",
                    "jobId": 41,
                    "killedTasksSummary": {},
                    "name": "runJob at PythonRDD.scala:172",
                    "numActiveStages": 0,
                    "numActiveTasks": 0,
                    "numCompletedIndices": 1,
                    "numCompletedStages": 1,
                    "numCompletedTasks": 1,
                    "numFailedStages": 0,
                    "numFailedTasks": 0,
                    "numKilledTasks": 0,
                    "numSkippedStages": 1,
                    "numSkippedTasks": 33,
                    "numTasks": 34,
                    "rowCount": 411575,
                    "stageIds": [
                      81,
                      80
                    ],
                    "status": "SUCCEEDED",
                    "submissionTime": "2023-11-22T20:29:12.161GMT",
                    "usageDescription": ""
                  },
                  {
                    "completionTime": "2023-11-22T20:29:11.550GMT",
                    "dataRead": 183543095,
                    "dataWritten": 203670,
                    "description": "Job group for statement 26:\nroc_auc1 = evaluator.evaluate(predictions1)\nmulti_evaluator = MulticlassClassificationEvaluator(labelCol=\"controversiality\", predictionCol=\"prediction\")\naccuracy1 = multi_evaluator.evaluate(predictions1, {multi_evaluator.metricName: \"accuracy\"})\nf1_score1 = multi_evaluator.evaluate(predictions1, {multi_evaluator.metricName: \"f1\"})\npreds_and_labels1 = predictions1.select(['prediction','controversiality']).withColumn('label', col('controversiality').cast('float')).orderBy('prediction')\nmetrics1 = MulticlassMetrics(preds_and_labels1.rdd.map(tuple))\n#confusion_matrix1 = metrics1.confusionMatrix().toArray()",
                    "displayName": "javaToPython at NativeMethodAccessorImpl.java:0",
                    "jobGroup": "26",
                    "jobId": 40,
                    "killedTasksSummary": {},
                    "name": "javaToPython at NativeMethodAccessorImpl.java:0",
                    "numActiveStages": 0,
                    "numActiveTasks": 0,
                    "numCompletedIndices": 33,
                    "numCompletedStages": 1,
                    "numCompletedTasks": 33,
                    "numFailedStages": 0,
                    "numFailedTasks": 0,
                    "numKilledTasks": 0,
                    "numSkippedStages": 0,
                    "numSkippedTasks": 0,
                    "numTasks": 33,
                    "rowCount": 411728,
                    "stageIds": [
                      79
                    ],
                    "status": "SUCCEEDED",
                    "submissionTime": "2023-11-22T20:29:00.235GMT",
                    "usageDescription": ""
                  },
                  {
                    "completionTime": "2023-11-22T20:29:00.206GMT",
                    "dataRead": 183668184,
                    "dataWritten": 0,
                    "description": "Job group for statement 26:\nroc_auc1 = evaluator.evaluate(predictions1)\nmulti_evaluator = MulticlassClassificationEvaluator(labelCol=\"controversiality\", predictionCol=\"prediction\")\naccuracy1 = multi_evaluator.evaluate(predictions1, {multi_evaluator.metricName: \"accuracy\"})\nf1_score1 = multi_evaluator.evaluate(predictions1, {multi_evaluator.metricName: \"f1\"})\npreds_and_labels1 = predictions1.select(['prediction','controversiality']).withColumn('label', col('controversiality').cast('float')).orderBy('prediction')\nmetrics1 = MulticlassMetrics(preds_and_labels1.rdd.map(tuple))\n#confusion_matrix1 = metrics1.confusionMatrix().toArray()",
                    "displayName": "javaToPython at NativeMethodAccessorImpl.java:0",
                    "jobGroup": "26",
                    "jobId": 39,
                    "killedTasksSummary": {},
                    "name": "javaToPython at NativeMethodAccessorImpl.java:0",
                    "numActiveStages": 0,
                    "numActiveTasks": 0,
                    "numCompletedIndices": 33,
                    "numCompletedStages": 1,
                    "numCompletedTasks": 33,
                    "numFailedStages": 0,
                    "numFailedTasks": 0,
                    "numKilledTasks": 0,
                    "numSkippedStages": 0,
                    "numSkippedTasks": 0,
                    "numTasks": 33,
                    "rowCount": 153,
                    "stageIds": [
                      78
                    ],
                    "status": "SUCCEEDED",
                    "submissionTime": "2023-11-22T20:28:48.932GMT",
                    "usageDescription": ""
                  },
                  {
                    "completionTime": "2023-11-22T20:28:47.227GMT",
                    "dataRead": 183675984,
                    "dataWritten": 7800,
                    "description": "Job group for statement 26:\nroc_auc1 = evaluator.evaluate(predictions1)\nmulti_evaluator = MulticlassClassificationEvaluator(labelCol=\"controversiality\", predictionCol=\"prediction\")\naccuracy1 = multi_evaluator.evaluate(predictions1, {multi_evaluator.metricName: \"accuracy\"})\nf1_score1 = multi_evaluator.evaluate(predictions1, {multi_evaluator.metricName: \"f1\"})\npreds_and_labels1 = predictions1.select(['prediction','controversiality']).withColumn('label', col('controversiality').cast('float')).orderBy('prediction')\nmetrics1 = MulticlassMetrics(preds_and_labels1.rdd.map(tuple))\n#confusion_matrix1 = metrics1.confusionMatrix().toArray()",
                    "displayName": "collectAsMap at MulticlassMetrics.scala:61",
                    "jobGroup": "26",
                    "jobId": 38,
                    "killedTasksSummary": {},
                    "name": "collectAsMap at MulticlassMetrics.scala:61",
                    "numActiveStages": 0,
                    "numActiveTasks": 0,
                    "numCompletedIndices": 66,
                    "numCompletedStages": 2,
                    "numCompletedTasks": 66,
                    "numFailedStages": 0,
                    "numFailedTasks": 0,
                    "numKilledTasks": 0,
                    "numSkippedStages": 0,
                    "numSkippedTasks": 0,
                    "numTasks": 66,
                    "rowCount": 409,
                    "stageIds": [
                      76,
                      77
                    ],
                    "status": "SUCCEEDED",
                    "submissionTime": "2023-11-22T20:28:35.092GMT",
                    "usageDescription": ""
                  },
                  {
                    "completionTime": "2023-11-22T20:28:34.450GMT",
                    "dataRead": 183550895,
                    "dataWritten": 7800,
                    "description": "Job group for statement 26:\nroc_auc1 = evaluator.evaluate(predictions1)\nmulti_evaluator = MulticlassClassificationEvaluator(labelCol=\"controversiality\", predictionCol=\"prediction\")\naccuracy1 = multi_evaluator.evaluate(predictions1, {multi_evaluator.metricName: \"accuracy\"})\nf1_score1 = multi_evaluator.evaluate(predictions1, {multi_evaluator.metricName: \"f1\"})\npreds_and_labels1 = predictions1.select(['prediction','controversiality']).withColumn('label', col('controversiality').cast('float')).orderBy('prediction')\nmetrics1 = MulticlassMetrics(preds_and_labels1.rdd.map(tuple))\n#confusion_matrix1 = metrics1.confusionMatrix().toArray()",
                    "displayName": "collectAsMap at MulticlassMetrics.scala:61",
                    "jobGroup": "26",
                    "jobId": 37,
                    "killedTasksSummary": {},
                    "name": "collectAsMap at MulticlassMetrics.scala:61",
                    "numActiveStages": 0,
                    "numActiveTasks": 0,
                    "numCompletedIndices": 66,
                    "numCompletedStages": 2,
                    "numCompletedTasks": 66,
                    "numFailedStages": 0,
                    "numFailedTasks": 0,
                    "numKilledTasks": 0,
                    "numSkippedStages": 0,
                    "numSkippedTasks": 0,
                    "numTasks": 66,
                    "rowCount": 409,
                    "stageIds": [
                      74,
                      75
                    ],
                    "status": "SUCCEEDED",
                    "submissionTime": "2023-11-22T20:28:22.860GMT",
                    "usageDescription": ""
                  },
                  {
                    "completionTime": "2023-11-22T20:28:22.182GMT",
                    "dataRead": 4061274,
                    "dataWritten": 0,
                    "description": "Job group for statement 26:\nroc_auc1 = evaluator.evaluate(predictions1)\nmulti_evaluator = MulticlassClassificationEvaluator(labelCol=\"controversiality\", predictionCol=\"prediction\")\naccuracy1 = multi_evaluator.evaluate(predictions1, {multi_evaluator.metricName: \"accuracy\"})\nf1_score1 = multi_evaluator.evaluate(predictions1, {multi_evaluator.metricName: \"f1\"})\npreds_and_labels1 = predictions1.select(['prediction','controversiality']).withColumn('label', col('controversiality').cast('float')).orderBy('prediction')\nmetrics1 = MulticlassMetrics(preds_and_labels1.rdd.map(tuple))\n#confusion_matrix1 = metrics1.confusionMatrix().toArray()",
                    "displayName": "collect at AreaUnderCurve.scala:44",
                    "jobGroup": "26",
                    "jobId": 36,
                    "killedTasksSummary": {},
                    "name": "collect at AreaUnderCurve.scala:44",
                    "numActiveStages": 0,
                    "numActiveTasks": 0,
                    "numCompletedIndices": 33,
                    "numCompletedStages": 1,
                    "numCompletedTasks": 33,
                    "numFailedStages": 0,
                    "numFailedTasks": 0,
                    "numKilledTasks": 0,
                    "numSkippedStages": 2,
                    "numSkippedTasks": 66,
                    "numTasks": 99,
                    "rowCount": 378995,
                    "stageIds": [
                      71,
                      72,
                      73
                    ],
                    "status": "SUCCEEDED",
                    "submissionTime": "2023-11-22T20:28:21.728GMT",
                    "usageDescription": ""
                  },
                  {
                    "completionTime": "2023-11-22T20:28:21.707GMT",
                    "dataRead": 4061274,
                    "dataWritten": 0,
                    "description": "Job group for statement 26:\nroc_auc1 = evaluator.evaluate(predictions1)\nmulti_evaluator = MulticlassClassificationEvaluator(labelCol=\"controversiality\", predictionCol=\"prediction\")\naccuracy1 = multi_evaluator.evaluate(predictions1, {multi_evaluator.metricName: \"accuracy\"})\nf1_score1 = multi_evaluator.evaluate(predictions1, {multi_evaluator.metricName: \"f1\"})\npreds_and_labels1 = predictions1.select(['prediction','controversiality']).withColumn('label', col('controversiality').cast('float')).orderBy('prediction')\nmetrics1 = MulticlassMetrics(preds_and_labels1.rdd.map(tuple))\n#confusion_matrix1 = metrics1.confusionMatrix().toArray()",
                    "displayName": "collect at BinaryClassificationMetrics.scala:237",
                    "jobGroup": "26",
                    "jobId": 35,
                    "killedTasksSummary": {},
                    "name": "collect at BinaryClassificationMetrics.scala:237",
                    "numActiveStages": 0,
                    "numActiveTasks": 0,
                    "numCompletedIndices": 33,
                    "numCompletedStages": 1,
                    "numCompletedTasks": 33,
                    "numFailedStages": 0,
                    "numFailedTasks": 0,
                    "numKilledTasks": 0,
                    "numSkippedStages": 2,
                    "numSkippedTasks": 66,
                    "numTasks": 99,
                    "rowCount": 378995,
                    "stageIds": [
                      70,
                      68,
                      69
                    ],
                    "status": "SUCCEEDED",
                    "submissionTime": "2023-11-22T20:28:21.302GMT",
                    "usageDescription": ""
                  },
                  {
                    "completionTime": "2023-11-22T20:28:21.289GMT",
                    "dataRead": 8460610,
                    "dataWritten": 4061274,
                    "description": "Job group for statement 26:\nroc_auc1 = evaluator.evaluate(predictions1)\nmulti_evaluator = MulticlassClassificationEvaluator(labelCol=\"controversiality\", predictionCol=\"prediction\")\naccuracy1 = multi_evaluator.evaluate(predictions1, {multi_evaluator.metricName: \"accuracy\"})\nf1_score1 = multi_evaluator.evaluate(predictions1, {multi_evaluator.metricName: \"f1\"})\npreds_and_labels1 = predictions1.select(['prediction','controversiality']).withColumn('label', col('controversiality').cast('float')).orderBy('prediction')\nmetrics1 = MulticlassMetrics(preds_and_labels1.rdd.map(tuple))\n#confusion_matrix1 = metrics1.confusionMatrix().toArray()",
                    "displayName": "count at BinaryClassificationMetrics.scala:197",
                    "jobGroup": "26",
                    "jobId": 34,
                    "killedTasksSummary": {},
                    "name": "count at BinaryClassificationMetrics.scala:197",
                    "numActiveStages": 0,
                    "numActiveTasks": 0,
                    "numCompletedIndices": 66,
                    "numCompletedStages": 2,
                    "numCompletedTasks": 66,
                    "numFailedStages": 0,
                    "numFailedTasks": 0,
                    "numKilledTasks": 0,
                    "numSkippedStages": 1,
                    "numSkippedTasks": 33,
                    "numTasks": 99,
                    "rowCount": 1144912,
                    "stageIds": [
                      66,
                      67,
                      65
                    ],
                    "status": "SUCCEEDED",
                    "submissionTime": "2023-11-22T20:28:19.896GMT",
                    "usageDescription": ""
                  },
                  {
                    "completionTime": "2023-11-22T20:28:19.882GMT",
                    "dataRead": 187942431,
                    "dataWritten": 4399336,
                    "description": "Job group for statement 26:\nroc_auc1 = evaluator.evaluate(predictions1)\nmulti_evaluator = MulticlassClassificationEvaluator(labelCol=\"controversiality\", predictionCol=\"prediction\")\naccuracy1 = multi_evaluator.evaluate(predictions1, {multi_evaluator.metricName: \"accuracy\"})\nf1_score1 = multi_evaluator.evaluate(predictions1, {multi_evaluator.metricName: \"f1\"})\npreds_and_labels1 = predictions1.select(['prediction','controversiality']).withColumn('label', col('controversiality').cast('float')).orderBy('prediction')\nmetrics1 = MulticlassMetrics(preds_and_labels1.rdd.map(tuple))\n#confusion_matrix1 = metrics1.confusionMatrix().toArray()",
                    "displayName": "sortByKey at BinaryClassificationMetrics.scala:189",
                    "jobGroup": "26",
                    "jobId": 33,
                    "killedTasksSummary": {},
                    "name": "sortByKey at BinaryClassificationMetrics.scala:189",
                    "numActiveStages": 0,
                    "numActiveTasks": 0,
                    "numCompletedIndices": 66,
                    "numCompletedStages": 2,
                    "numCompletedTasks": 66,
                    "numFailedStages": 0,
                    "numFailedTasks": 0,
                    "numKilledTasks": 0,
                    "numSkippedStages": 0,
                    "numSkippedTasks": 0,
                    "numTasks": 66,
                    "rowCount": 773997,
                    "stageIds": [
                      63,
                      64
                    ],
                    "status": "SUCCEEDED",
                    "submissionTime": "2023-11-22T20:28:06.448GMT",
                    "usageDescription": ""
                  }
                ],
                "limit": 20,
                "numbers": {
                  "FAILED": 0,
                  "RUNNING": 0,
                  "SUCCEEDED": 9,
                  "UNKNOWN": 0
                },
                "rule": "ALL_DESC"
              },
              "spark_pool": "8aef2e4c-7819-4b3c-ad3b-441a2f26e87b",
              "state": "finished",
              "statement_id": 26
            },
            "text/plain": [
              "StatementMeta(8aef2e4c-7819-4b3c-ad3b-441a2f26e87b, 49, 26, Finished, Available)"
            ]
          },
          "metadata": {},
          "output_type": "display_data"
        }
      ],
      "source": [
        "roc_auc1 = evaluator.evaluate(predictions1)\n",
        "multi_evaluator = MulticlassClassificationEvaluator(labelCol=\"controversiality\", predictionCol=\"prediction\")\n",
        "accuracy1 = multi_evaluator.evaluate(predictions1, {multi_evaluator.metricName: \"accuracy\"})\n",
        "f1_score1 = multi_evaluator.evaluate(predictions1, {multi_evaluator.metricName: \"f1\"})"
      ]
    },
    {
      "cell_type": "code",
      "execution_count": 37,
      "metadata": {
        "gather": {
          "logged": 1700686631781
        },
        "jupyter": {
          "outputs_hidden": false,
          "source_hidden": false
        },
        "nteract": {
          "transient": {
            "deleting": false
          }
        }
      },
      "outputs": [
        {
          "data": {
            "application/vnd.livy.statement-meta+json": {
              "execution_finish_time": "2023-11-22T20:57:11.6450252Z",
              "execution_start_time": "2023-11-22T20:57:11.3360484Z",
              "livy_statement_state": "available",
              "parent_msg_id": "5158c7a2-7ed3-40b8-835d-be2d87f8efe4",
              "queued_time": "2023-11-22T20:57:11.125988Z",
              "session_id": "49",
              "session_start_time": null,
              "spark_jobs": {
                "jobs": [],
                "limit": 20,
                "numbers": {
                  "FAILED": 0,
                  "RUNNING": 0,
                  "SUCCEEDED": 0,
                  "UNKNOWN": 0
                },
                "rule": "ALL_DESC"
              },
              "spark_pool": "8aef2e4c-7819-4b3c-ad3b-441a2f26e87b",
              "state": "finished",
              "statement_id": 42
            },
            "text/plain": [
              "StatementMeta(8aef2e4c-7819-4b3c-ad3b-441a2f26e87b, 49, 42, Finished, Available)"
            ]
          },
          "metadata": {},
          "output_type": "display_data"
        },
        {
          "name": "stdout",
          "output_type": "stream",
          "text": [
            "ROC AUC: 0.6542570807697206\n",
            "Accuracy: 0.960308570734374\n",
            "F1 Score: 0.9425857568809598\n"
          ]
        }
      ],
      "source": [
        "print(\"ROC AUC:\", roc_auc1)\n",
        "print(\"Accuracy:\", accuracy1)\n",
        "print(\"F1 Score:\", f1_score1)"
      ]
    },
    {
      "cell_type": "code",
      "execution_count": 31,
      "metadata": {
        "gather": {
          "logged": 1700685383341
        },
        "jupyter": {
          "outputs_hidden": false,
          "source_hidden": false
        },
        "nteract": {
          "transient": {
            "deleting": false
          }
        }
      },
      "outputs": [
        {
          "data": {
            "application/vnd.livy.statement-meta+json": {
              "execution_finish_time": "2023-11-22T20:36:23.2088234Z",
              "execution_start_time": "2023-11-22T20:36:08.9898485Z",
              "livy_statement_state": "available",
              "parent_msg_id": "c14e6982-3215-4e42-b9d9-8694b3b49a96",
              "queued_time": "2023-11-22T20:36:08.879102Z",
              "session_id": "49",
              "session_start_time": null,
              "spark_jobs": {
                "jobs": [
                  {
                    "completionTime": "2023-11-22T20:36:21.822GMT",
                    "dataRead": 183543095,
                    "dataWritten": 0,
                    "description": "Job group for statement 36:\n#confusion Matrix\nfrom sklearn.metrics import confusion_matrix\nimport pandas as pd\n\n#convert to pandas DataFrame\npandas_df_1 = predictions1.select('prediction', 'controversiality').toPandas()\n\n#calculate confusion matrix\nconfusion_matrix_pandas_1 = confusion_matrix(pandas_df_1['controversiality'], pandas_df_1['prediction'])\nprint(\"Confusion Matrix using Pandas:\")\nprint(confusion_matrix_pandas_1)\n",
                    "displayName": "toPandas at /tmp/ipykernel_8133/1057805928.py:6",
                    "jobGroup": "36",
                    "jobId": 44,
                    "killedTasksSummary": {},
                    "name": "toPandas at /tmp/ipykernel_8133/1057805928.py:6",
                    "numActiveStages": 0,
                    "numActiveTasks": 0,
                    "numCompletedIndices": 33,
                    "numCompletedStages": 1,
                    "numCompletedTasks": 33,
                    "numFailedStages": 0,
                    "numFailedTasks": 0,
                    "numKilledTasks": 0,
                    "numSkippedStages": 0,
                    "numSkippedTasks": 0,
                    "numTasks": 33,
                    "rowCount": 153,
                    "stageIds": [
                      86
                    ],
                    "status": "SUCCEEDED",
                    "submissionTime": "2023-11-22T20:36:09.736GMT",
                    "usageDescription": ""
                  }
                ],
                "limit": 20,
                "numbers": {
                  "FAILED": 0,
                  "RUNNING": 0,
                  "SUCCEEDED": 1,
                  "UNKNOWN": 0
                },
                "rule": "ALL_DESC"
              },
              "spark_pool": "8aef2e4c-7819-4b3c-ad3b-441a2f26e87b",
              "state": "finished",
              "statement_id": 36
            },
            "text/plain": [
              "StatementMeta(8aef2e4c-7819-4b3c-ad3b-441a2f26e87b, 49, 36, Finished, Available)"
            ]
          },
          "metadata": {},
          "output_type": "display_data"
        },
        {
          "name": "stdout",
          "output_type": "stream",
          "text": [
            "Confusion Matrix using Pandas:\n",
            "[[395152    642]\n",
            " [ 15694     87]]\n"
          ]
        }
      ],
      "source": [
        "#confusion Matrix\n",
        "from sklearn.metrics import confusion_matrix\n",
        "import pandas as pd\n",
        "\n",
        "#convert to pandas DataFrame\n",
        "pandas_df_1 = predictions1.select('prediction', 'controversiality').toPandas()\n",
        "\n",
        "#calculate confusion matrix\n",
        "confusion_matrix_pandas_1 = confusion_matrix(pandas_df_1['controversiality'], pandas_df_1['prediction'])\n",
        "print(\"Confusion Matrix using Pandas:\")\n",
        "print(confusion_matrix_pandas_1)"
      ]
    },
    {
      "cell_type": "code",
      "execution_count": 61,
      "metadata": {
        "gather": {
          "logged": 1700689908262
        },
        "jupyter": {
          "outputs_hidden": false,
          "source_hidden": false
        },
        "nteract": {
          "transient": {
            "deleting": false
          }
        }
      },
      "outputs": [
        {
          "data": {
            "application/vnd.livy.statement-meta+json": {
              "execution_finish_time": "2023-11-22T21:51:48.15535Z",
              "execution_start_time": "2023-11-22T21:51:47.8212031Z",
              "livy_statement_state": "available",
              "parent_msg_id": "4cd1b2f1-1173-4611-ae65-b2214e9ab357",
              "queued_time": "2023-11-22T21:51:47.6758735Z",
              "session_id": "49",
              "session_start_time": null,
              "spark_jobs": {
                "jobs": [],
                "limit": 20,
                "numbers": {
                  "FAILED": 0,
                  "RUNNING": 0,
                  "SUCCEEDED": 0,
                  "UNKNOWN": 0
                },
                "rule": "ALL_DESC"
              },
              "spark_pool": "8aef2e4c-7819-4b3c-ad3b-441a2f26e87b",
              "state": "finished",
              "statement_id": 66
            },
            "text/plain": [
              "StatementMeta(8aef2e4c-7819-4b3c-ad3b-441a2f26e87b, 49, 66, Finished, Available)"
            ]
          },
          "metadata": {},
          "output_type": "display_data"
        }
      ],
      "source": [
        "import matplotlib.pyplot as plt\n",
        "import seaborn as sns\n",
        "from sklearn.metrics import confusion_matrix"
      ]
    },
    {
      "cell_type": "code",
      "execution_count": 60,
      "metadata": {
        "gather": {
          "logged": 1700689768647
        },
        "jupyter": {
          "outputs_hidden": false,
          "source_hidden": false
        },
        "nteract": {
          "transient": {
            "deleting": false
          }
        }
      },
      "outputs": [
        {
          "data": {
            "application/vnd.livy.statement-meta+json": {
              "execution_finish_time": "2023-11-22T21:49:28.4555925Z",
              "execution_start_time": "2023-11-22T21:49:26.8622563Z",
              "livy_statement_state": "available",
              "parent_msg_id": "0ff2762d-2592-40ff-a612-635fd6a7ec57",
              "queued_time": "2023-11-22T21:49:26.7081031Z",
              "session_id": "49",
              "session_start_time": null,
              "spark_jobs": {
                "jobs": [],
                "limit": 20,
                "numbers": {
                  "FAILED": 0,
                  "RUNNING": 0,
                  "SUCCEEDED": 0,
                  "UNKNOWN": 0
                },
                "rule": "ALL_DESC"
              },
              "spark_pool": "8aef2e4c-7819-4b3c-ad3b-441a2f26e87b",
              "state": "finished",
              "statement_id": 65
            },
            "text/plain": [
              "StatementMeta(8aef2e4c-7819-4b3c-ad3b-441a2f26e87b, 49, 65, Finished, Available)"
            ]
          },
          "metadata": {},
          "output_type": "display_data"
        },
        {
          "data": {
            "image/png": "[encoded data removed]",
            "text/plain": [
              "<Figure size 1440x864 with 2 Axes>"
            ]
          },
          "metadata": {
            "needs_background": "light"
          },
          "output_type": "display_data"
        }
      ],
      "source": [
        "plt.figure(figsize=(20, 12))\n",
        "sns.heatmap(confusion_matrix_pandas_1, annot=True, fmt='g', cmap='Blues', annot_kws={\"fontsize\": 24})\n",
        "plt.title('Confusion Matrix for Model 1', fontsize=40) \n",
        "plt.xlabel('Predicted labels', fontsize=28) \n",
        "plt.ylabel('True labels', fontsize=28)\n",
        "plt.tick_params(axis='both', labelsize=24)\n",
        "\n",
        "#save the plot\n",
        "datapath = 'Users/jy736/fall-2023-reddit-project-team-08/data'\n",
        "plt.savefig(f'{datapath}/plots/model_1_cm.png', bbox_inches='tight', dpi=300)\n",
        "\n",
        "#display the plot\n",
        "plt.show()"
      ]
    },
    {
      "cell_type": "markdown",
      "metadata": {
        "nteract": {
          "transient": {
            "deleting": false
          }
        }
      },
      "source": [
        "### Model 2: Prediction and Evaluation"
      ]
    },
    {
      "cell_type": "code",
      "execution_count": 32,
      "metadata": {
        "gather": {
          "logged": 1700686248111
        },
        "jupyter": {
          "outputs_hidden": false,
          "source_hidden": false
        },
        "nteract": {
          "transient": {
            "deleting": false
          }
        }
      },
      "outputs": [
        {
          "data": {
            "application/vnd.livy.statement-meta+json": {
              "execution_finish_time": "2023-11-22T20:50:47.8824731Z",
              "execution_start_time": "2023-11-22T20:45:41.4604011Z",
              "livy_statement_state": "available",
              "parent_msg_id": "7f61a8c8-6817-480d-adb5-567f5d968817",
              "queued_time": "2023-11-22T20:45:41.2866356Z",
              "session_id": "49",
              "session_start_time": null,
              "spark_jobs": {
                "jobs": [
                  {
                    "completionTime": "2023-11-22T20:50:45.228GMT",
                    "dataRead": 265263801,
                    "dataWritten": 14691665,
                    "description": "Job group for statement 37:\nmodel2 = pipeline2.fit(train_data)",
                    "displayName": "treeAggregate at RDDLossFunction.scala:61",
                    "jobGroup": "37",
                    "jobId": 72,
                    "killedTasksSummary": {},
                    "name": "treeAggregate at RDDLossFunction.scala:61",
                    "numActiveStages": 0,
                    "numActiveTasks": 0,
                    "numCompletedIndices": 38,
                    "numCompletedStages": 2,
                    "numCompletedTasks": 38,
                    "numFailedStages": 0,
                    "numFailedTasks": 0,
                    "numKilledTasks": 0,
                    "numSkippedStages": 0,
                    "numSkippedTasks": 0,
                    "numTasks": 38,
                    "rowCount": 322,
                    "stageIds": [
                      141,
                      142
                    ],
                    "status": "SUCCEEDED",
                    "submissionTime": "2023-11-22T20:50:35.465GMT",
                    "usageDescription": ""
                  },
                  {
                    "completionTime": "2023-11-22T20:50:34.868GMT",
                    "dataRead": 263389233,
                    "dataWritten": 14692262,
                    "description": "Job group for statement 37:\nmodel2 = pipeline2.fit(train_data)",
                    "displayName": "treeAggregate at RDDLossFunction.scala:61",
                    "jobGroup": "37",
                    "jobId": 71,
                    "killedTasksSummary": {},
                    "name": "treeAggregate at RDDLossFunction.scala:61",
                    "numActiveStages": 0,
                    "numActiveTasks": 0,
                    "numCompletedIndices": 38,
                    "numCompletedStages": 2,
                    "numCompletedTasks": 38,
                    "numFailedStages": 0,
                    "numFailedTasks": 0,
                    "numKilledTasks": 0,
                    "numSkippedStages": 0,
                    "numSkippedTasks": 0,
                    "numTasks": 38,
                    "rowCount": 322,
                    "stageIds": [
                      139,
                      140
                    ],
                    "status": "SUCCEEDED",
                    "submissionTime": "2023-11-22T20:50:24.246GMT",
                    "usageDescription": ""
                  },
                  {
                    "completionTime": "2023-11-22T20:50:23.647GMT",
                    "dataRead": 265031863,
                    "dataWritten": 14688471,
                    "description": "Job group for statement 37:\nmodel2 = pipeline2.fit(train_data)",
                    "displayName": "treeAggregate at RDDLossFunction.scala:61",
                    "jobGroup": "37",
                    "jobId": 70,
                    "killedTasksSummary": {},
                    "name": "treeAggregate at RDDLossFunction.scala:61",
                    "numActiveStages": 0,
                    "numActiveTasks": 0,
                    "numCompletedIndices": 38,
                    "numCompletedStages": 2,
                    "numCompletedTasks": 38,
                    "numFailedStages": 0,
                    "numFailedTasks": 0,
                    "numKilledTasks": 0,
                    "numSkippedStages": 0,
                    "numSkippedTasks": 0,
                    "numTasks": 38,
                    "rowCount": 322,
                    "stageIds": [
                      137,
                      138
                    ],
                    "status": "SUCCEEDED",
                    "submissionTime": "2023-11-22T20:50:13.451GMT",
                    "usageDescription": ""
                  },
                  {
                    "completionTime": "2023-11-22T20:50:12.826GMT",
                    "dataRead": 265264967,
                    "dataWritten": 14692831,
                    "description": "Job group for statement 37:\nmodel2 = pipeline2.fit(train_data)",
                    "displayName": "treeAggregate at RDDLossFunction.scala:61",
                    "jobGroup": "37",
                    "jobId": 69,
                    "killedTasksSummary": {},
                    "name": "treeAggregate at RDDLossFunction.scala:61",
                    "numActiveStages": 0,
                    "numActiveTasks": 0,
                    "numCompletedIndices": 38,
                    "numCompletedStages": 2,
                    "numCompletedTasks": 38,
                    "numFailedStages": 0,
                    "numFailedTasks": 0,
                    "numKilledTasks": 0,
                    "numSkippedStages": 0,
                    "numSkippedTasks": 0,
                    "numTasks": 38,
                    "rowCount": 322,
                    "stageIds": [
                      135,
                      136
                    ],
                    "status": "SUCCEEDED",
                    "submissionTime": "2023-11-22T20:50:03.630GMT",
                    "usageDescription": ""
                  },
                  {
                    "completionTime": "2023-11-22T20:50:02.979GMT",
                    "dataRead": 265270979,
                    "dataWritten": 14698843,
                    "description": "Job group for statement 37:\nmodel2 = pipeline2.fit(train_data)",
                    "displayName": "treeAggregate at RDDLossFunction.scala:61",
                    "jobGroup": "37",
                    "jobId": 68,
                    "killedTasksSummary": {},
                    "name": "treeAggregate at RDDLossFunction.scala:61",
                    "numActiveStages": 0,
                    "numActiveTasks": 0,
                    "numCompletedIndices": 38,
                    "numCompletedStages": 2,
                    "numCompletedTasks": 38,
                    "numFailedStages": 0,
                    "numFailedTasks": 0,
                    "numKilledTasks": 0,
                    "numSkippedStages": 0,
                    "numSkippedTasks": 0,
                    "numTasks": 38,
                    "rowCount": 322,
                    "stageIds": [
                      133,
                      134
                    ],
                    "status": "SUCCEEDED",
                    "submissionTime": "2023-11-22T20:49:51.764GMT",
                    "usageDescription": ""
                  },
                  {
                    "completionTime": "2023-11-22T20:49:51.127GMT",
                    "dataRead": 262051210,
                    "dataWritten": 14693146,
                    "description": "Job group for statement 37:\nmodel2 = pipeline2.fit(train_data)",
                    "displayName": "treeAggregate at RDDLossFunction.scala:61",
                    "jobGroup": "37",
                    "jobId": 67,
                    "killedTasksSummary": {},
                    "name": "treeAggregate at RDDLossFunction.scala:61",
                    "numActiveStages": 0,
                    "numActiveTasks": 0,
                    "numCompletedIndices": 38,
                    "numCompletedStages": 2,
                    "numCompletedTasks": 38,
                    "numFailedStages": 0,
                    "numFailedTasks": 0,
                    "numKilledTasks": 0,
                    "numSkippedStages": 0,
                    "numSkippedTasks": 0,
                    "numTasks": 38,
                    "rowCount": 322,
                    "stageIds": [
                      132,
                      131
                    ],
                    "status": "SUCCEEDED",
                    "submissionTime": "2023-11-22T20:49:41.688GMT",
                    "usageDescription": ""
                  },
                  {
                    "completionTime": "2023-11-22T20:49:41.045GMT",
                    "dataRead": 265042143,
                    "dataWritten": 14698751,
                    "description": "Job group for statement 37:\nmodel2 = pipeline2.fit(train_data)",
                    "displayName": "treeAggregate at RDDLossFunction.scala:61",
                    "jobGroup": "37",
                    "jobId": 66,
                    "killedTasksSummary": {},
                    "name": "treeAggregate at RDDLossFunction.scala:61",
                    "numActiveStages": 0,
                    "numActiveTasks": 0,
                    "numCompletedIndices": 38,
                    "numCompletedStages": 2,
                    "numCompletedTasks": 38,
                    "numFailedStages": 0,
                    "numFailedTasks": 0,
                    "numKilledTasks": 0,
                    "numSkippedStages": 0,
                    "numSkippedTasks": 0,
                    "numTasks": 38,
                    "rowCount": 322,
                    "stageIds": [
                      129,
                      130
                    ],
                    "status": "SUCCEEDED",
                    "submissionTime": "2023-11-22T20:49:30.736GMT",
                    "usageDescription": ""
                  },
                  {
                    "completionTime": "2023-11-22T20:49:30.122GMT",
                    "dataRead": 265265255,
                    "dataWritten": 14693119,
                    "description": "Job group for statement 37:\nmodel2 = pipeline2.fit(train_data)",
                    "displayName": "treeAggregate at RDDLossFunction.scala:61",
                    "jobGroup": "37",
                    "jobId": 65,
                    "killedTasksSummary": {},
                    "name": "treeAggregate at RDDLossFunction.scala:61",
                    "numActiveStages": 0,
                    "numActiveTasks": 0,
                    "numCompletedIndices": 38,
                    "numCompletedStages": 2,
                    "numCompletedTasks": 38,
                    "numFailedStages": 0,
                    "numFailedTasks": 0,
                    "numKilledTasks": 0,
                    "numSkippedStages": 0,
                    "numSkippedTasks": 0,
                    "numTasks": 38,
                    "rowCount": 322,
                    "stageIds": [
                      127,
                      128
                    ],
                    "status": "SUCCEEDED",
                    "submissionTime": "2023-11-22T20:49:19.715GMT",
                    "usageDescription": ""
                  },
                  {
                    "completionTime": "2023-11-22T20:49:19.115GMT",
                    "dataRead": 265039741,
                    "dataWritten": 14696349,
                    "description": "Job group for statement 37:\nmodel2 = pipeline2.fit(train_data)",
                    "displayName": "treeAggregate at RDDLossFunction.scala:61",
                    "jobGroup": "37",
                    "jobId": 64,
                    "killedTasksSummary": {},
                    "name": "treeAggregate at RDDLossFunction.scala:61",
                    "numActiveStages": 0,
                    "numActiveTasks": 0,
                    "numCompletedIndices": 38,
                    "numCompletedStages": 2,
                    "numCompletedTasks": 38,
                    "numFailedStages": 0,
                    "numFailedTasks": 0,
                    "numKilledTasks": 0,
                    "numSkippedStages": 0,
                    "numSkippedTasks": 0,
                    "numTasks": 38,
                    "rowCount": 322,
                    "stageIds": [
                      125,
                      126
                    ],
                    "status": "SUCCEEDED",
                    "submissionTime": "2023-11-22T20:49:08.164GMT",
                    "usageDescription": ""
                  },
                  {
                    "completionTime": "2023-11-22T20:49:07.495GMT",
                    "dataRead": 265266806,
                    "dataWritten": 14694670,
                    "description": "Job group for statement 37:\nmodel2 = pipeline2.fit(train_data)",
                    "displayName": "treeAggregate at RDDLossFunction.scala:61",
                    "jobGroup": "37",
                    "jobId": 63,
                    "killedTasksSummary": {},
                    "name": "treeAggregate at RDDLossFunction.scala:61",
                    "numActiveStages": 0,
                    "numActiveTasks": 0,
                    "numCompletedIndices": 38,
                    "numCompletedStages": 2,
                    "numCompletedTasks": 38,
                    "numFailedStages": 0,
                    "numFailedTasks": 0,
                    "numKilledTasks": 0,
                    "numSkippedStages": 0,
                    "numSkippedTasks": 0,
                    "numTasks": 38,
                    "rowCount": 322,
                    "stageIds": [
                      123,
                      124
                    ],
                    "status": "SUCCEEDED",
                    "submissionTime": "2023-11-22T20:48:58.421GMT",
                    "usageDescription": ""
                  },
                  {
                    "completionTime": "2023-11-22T20:48:57.796GMT",
                    "dataRead": 265310071,
                    "dataWritten": 14737935,
                    "description": "Job group for statement 37:\nmodel2 = pipeline2.fit(train_data)",
                    "displayName": "treeAggregate at RDDLossFunction.scala:61",
                    "jobGroup": "37",
                    "jobId": 62,
                    "killedTasksSummary": {},
                    "name": "treeAggregate at RDDLossFunction.scala:61",
                    "numActiveStages": 0,
                    "numActiveTasks": 0,
                    "numCompletedIndices": 38,
                    "numCompletedStages": 2,
                    "numCompletedTasks": 38,
                    "numFailedStages": 0,
                    "numFailedTasks": 0,
                    "numKilledTasks": 0,
                    "numSkippedStages": 0,
                    "numSkippedTasks": 0,
                    "numTasks": 38,
                    "rowCount": 322,
                    "stageIds": [
                      121,
                      122
                    ],
                    "status": "SUCCEEDED",
                    "submissionTime": "2023-11-22T20:48:47.146GMT",
                    "usageDescription": ""
                  },
                  {
                    "completionTime": "2023-11-22T20:48:46.400GMT",
                    "dataRead": 263207799,
                    "dataWritten": 14739572,
                    "description": "Job group for statement 37:\nmodel2 = pipeline2.fit(train_data)",
                    "displayName": "treeAggregate at RDDLossFunction.scala:61",
                    "jobGroup": "37",
                    "jobId": 61,
                    "killedTasksSummary": {},
                    "name": "treeAggregate at RDDLossFunction.scala:61",
                    "numActiveStages": 0,
                    "numActiveTasks": 0,
                    "numCompletedIndices": 38,
                    "numCompletedStages": 2,
                    "numCompletedTasks": 38,
                    "numFailedStages": 0,
                    "numFailedTasks": 0,
                    "numKilledTasks": 0,
                    "numSkippedStages": 0,
                    "numSkippedTasks": 0,
                    "numTasks": 38,
                    "rowCount": 322,
                    "stageIds": [
                      119,
                      120
                    ],
                    "status": "SUCCEEDED",
                    "submissionTime": "2023-11-22T20:48:36.448GMT",
                    "usageDescription": ""
                  },
                  {
                    "completionTime": "2023-11-22T20:48:35.613GMT",
                    "dataRead": 265303033,
                    "dataWritten": 14730897,
                    "description": "Job group for statement 37:\nmodel2 = pipeline2.fit(train_data)",
                    "displayName": "treeAggregate at RDDLossFunction.scala:61",
                    "jobGroup": "37",
                    "jobId": 60,
                    "killedTasksSummary": {},
                    "name": "treeAggregate at RDDLossFunction.scala:61",
                    "numActiveStages": 0,
                    "numActiveTasks": 0,
                    "numCompletedIndices": 38,
                    "numCompletedStages": 2,
                    "numCompletedTasks": 38,
                    "numFailedStages": 0,
                    "numFailedTasks": 0,
                    "numKilledTasks": 0,
                    "numSkippedStages": 0,
                    "numSkippedTasks": 0,
                    "numTasks": 38,
                    "rowCount": 322,
                    "stageIds": [
                      117,
                      118
                    ],
                    "status": "SUCCEEDED",
                    "submissionTime": "2023-11-22T20:48:26.733GMT",
                    "usageDescription": ""
                  },
                  {
                    "completionTime": "2023-11-22T20:48:26.153GMT",
                    "dataRead": 265068158,
                    "dataWritten": 14724766,
                    "description": "Job group for statement 37:\nmodel2 = pipeline2.fit(train_data)",
                    "displayName": "treeAggregate at RDDLossFunction.scala:61",
                    "jobGroup": "37",
                    "jobId": 59,
                    "killedTasksSummary": {},
                    "name": "treeAggregate at RDDLossFunction.scala:61",
                    "numActiveStages": 0,
                    "numActiveTasks": 0,
                    "numCompletedIndices": 38,
                    "numCompletedStages": 2,
                    "numCompletedTasks": 38,
                    "numFailedStages": 0,
                    "numFailedTasks": 0,
                    "numKilledTasks": 0,
                    "numSkippedStages": 0,
                    "numSkippedTasks": 0,
                    "numTasks": 38,
                    "rowCount": 322,
                    "stageIds": [
                      115,
                      116
                    ],
                    "status": "SUCCEEDED",
                    "submissionTime": "2023-11-22T20:48:15.852GMT",
                    "usageDescription": ""
                  },
                  {
                    "completionTime": "2023-11-22T20:48:15.246GMT",
                    "dataRead": 261172787,
                    "dataWritten": 14743246,
                    "description": "Job group for statement 37:\nmodel2 = pipeline2.fit(train_data)",
                    "displayName": "treeAggregate at RDDLossFunction.scala:61",
                    "jobGroup": "37",
                    "jobId": 58,
                    "killedTasksSummary": {},
                    "name": "treeAggregate at RDDLossFunction.scala:61",
                    "numActiveStages": 0,
                    "numActiveTasks": 0,
                    "numCompletedIndices": 38,
                    "numCompletedStages": 2,
                    "numCompletedTasks": 38,
                    "numFailedStages": 0,
                    "numFailedTasks": 0,
                    "numKilledTasks": 0,
                    "numSkippedStages": 0,
                    "numSkippedTasks": 0,
                    "numTasks": 38,
                    "rowCount": 322,
                    "stageIds": [
                      114,
                      113
                    ],
                    "status": "SUCCEEDED",
                    "submissionTime": "2023-11-22T20:48:05.615GMT",
                    "usageDescription": ""
                  },
                  {
                    "completionTime": "2023-11-22T20:48:04.987GMT",
                    "dataRead": 265093140,
                    "dataWritten": 14749748,
                    "description": "Job group for statement 37:\nmodel2 = pipeline2.fit(train_data)",
                    "displayName": "treeAggregate at RDDLossFunction.scala:61",
                    "jobGroup": "37",
                    "jobId": 57,
                    "killedTasksSummary": {},
                    "name": "treeAggregate at RDDLossFunction.scala:61",
                    "numActiveStages": 0,
                    "numActiveTasks": 0,
                    "numCompletedIndices": 38,
                    "numCompletedStages": 2,
                    "numCompletedTasks": 38,
                    "numFailedStages": 0,
                    "numFailedTasks": 0,
                    "numKilledTasks": 0,
                    "numSkippedStages": 0,
                    "numSkippedTasks": 0,
                    "numTasks": 38,
                    "rowCount": 322,
                    "stageIds": [
                      111,
                      112
                    ],
                    "status": "SUCCEEDED",
                    "submissionTime": "2023-11-22T20:47:54.228GMT",
                    "usageDescription": ""
                  },
                  {
                    "completionTime": "2023-11-22T20:47:53.628GMT",
                    "dataRead": 265322668,
                    "dataWritten": 14750532,
                    "description": "Job group for statement 37:\nmodel2 = pipeline2.fit(train_data)",
                    "displayName": "treeAggregate at RDDLossFunction.scala:61",
                    "jobGroup": "37",
                    "jobId": 56,
                    "killedTasksSummary": {},
                    "name": "treeAggregate at RDDLossFunction.scala:61",
                    "numActiveStages": 0,
                    "numActiveTasks": 0,
                    "numCompletedIndices": 38,
                    "numCompletedStages": 2,
                    "numCompletedTasks": 38,
                    "numFailedStages": 0,
                    "numFailedTasks": 0,
                    "numKilledTasks": 0,
                    "numSkippedStages": 0,
                    "numSkippedTasks": 0,
                    "numTasks": 38,
                    "rowCount": 322,
                    "stageIds": [
                      109,
                      110
                    ],
                    "status": "SUCCEEDED",
                    "submissionTime": "2023-11-22T20:47:43.014GMT",
                    "usageDescription": ""
                  },
                  {
                    "completionTime": "2023-11-22T20:47:42.417GMT",
                    "dataRead": 265329686,
                    "dataWritten": 14757550,
                    "description": "Job group for statement 37:\nmodel2 = pipeline2.fit(train_data)",
                    "displayName": "treeAggregate at RDDLossFunction.scala:61",
                    "jobGroup": "37",
                    "jobId": 55,
                    "killedTasksSummary": {},
                    "name": "treeAggregate at RDDLossFunction.scala:61",
                    "numActiveStages": 0,
                    "numActiveTasks": 0,
                    "numCompletedIndices": 38,
                    "numCompletedStages": 2,
                    "numCompletedTasks": 38,
                    "numFailedStages": 0,
                    "numFailedTasks": 0,
                    "numKilledTasks": 0,
                    "numSkippedStages": 0,
                    "numSkippedTasks": 0,
                    "numTasks": 38,
                    "rowCount": 322,
                    "stageIds": [
                      107,
                      108
                    ],
                    "status": "SUCCEEDED",
                    "submissionTime": "2023-11-22T20:47:33.014GMT",
                    "usageDescription": ""
                  },
                  {
                    "completionTime": "2023-11-22T20:47:32.243GMT",
                    "dataRead": 265337558,
                    "dataWritten": 14765422,
                    "description": "Job group for statement 37:\nmodel2 = pipeline2.fit(train_data)",
                    "displayName": "treeAggregate at RDDLossFunction.scala:61",
                    "jobGroup": "37",
                    "jobId": 54,
                    "killedTasksSummary": {},
                    "name": "treeAggregate at RDDLossFunction.scala:61",
                    "numActiveStages": 0,
                    "numActiveTasks": 0,
                    "numCompletedIndices": 38,
                    "numCompletedStages": 2,
                    "numCompletedTasks": 38,
                    "numFailedStages": 0,
                    "numFailedTasks": 0,
                    "numKilledTasks": 0,
                    "numSkippedStages": 0,
                    "numSkippedTasks": 0,
                    "numTasks": 38,
                    "rowCount": 322,
                    "stageIds": [
                      105,
                      106
                    ],
                    "status": "SUCCEEDED",
                    "submissionTime": "2023-11-22T20:47:22.009GMT",
                    "usageDescription": ""
                  },
                  {
                    "completionTime": "2023-11-22T20:47:21.411GMT",
                    "dataRead": 265336026,
                    "dataWritten": 14763890,
                    "description": "Job group for statement 37:\nmodel2 = pipeline2.fit(train_data)",
                    "displayName": "treeAggregate at RDDLossFunction.scala:61",
                    "jobGroup": "37",
                    "jobId": 53,
                    "killedTasksSummary": {},
                    "name": "treeAggregate at RDDLossFunction.scala:61",
                    "numActiveStages": 0,
                    "numActiveTasks": 0,
                    "numCompletedIndices": 38,
                    "numCompletedStages": 2,
                    "numCompletedTasks": 38,
                    "numFailedStages": 0,
                    "numFailedTasks": 0,
                    "numKilledTasks": 0,
                    "numSkippedStages": 0,
                    "numSkippedTasks": 0,
                    "numTasks": 38,
                    "rowCount": 322,
                    "stageIds": [
                      103,
                      104
                    ],
                    "status": "SUCCEEDED",
                    "submissionTime": "2023-11-22T20:47:11.670GMT",
                    "usageDescription": ""
                  }
                ],
                "limit": 20,
                "numbers": {
                  "FAILED": 0,
                  "RUNNING": 0,
                  "SUCCEEDED": 28,
                  "UNKNOWN": 0
                },
                "rule": "ALL_DESC"
              },
              "spark_pool": "8aef2e4c-7819-4b3c-ad3b-441a2f26e87b",
              "state": "finished",
              "statement_id": 37
            },
            "text/plain": [
              "StatementMeta(8aef2e4c-7819-4b3c-ad3b-441a2f26e87b, 49, 37, Finished, Available)"
            ]
          },
          "metadata": {},
          "output_type": "display_data"
        }
      ],
      "source": [
        "model2 = pipeline2.fit(train_data)"
      ]
    },
    {
      "cell_type": "code",
      "execution_count": 33,
      "metadata": {
        "gather": {
          "logged": 1700686319081
        },
        "jupyter": {
          "outputs_hidden": false,
          "source_hidden": false
        },
        "nteract": {
          "transient": {
            "deleting": false
          }
        }
      },
      "outputs": [
        {
          "data": {
            "application/vnd.livy.statement-meta+json": {
              "execution_finish_time": "2023-11-22T20:51:58.8320671Z",
              "execution_start_time": "2023-11-22T20:51:17.6818283Z",
              "livy_statement_state": "available",
              "parent_msg_id": "d6fe4702-9d56-4651-b207-ae4db7721ee3",
              "queued_time": "2023-11-22T20:51:17.5354104Z",
              "session_id": "49",
              "session_start_time": null,
              "spark_jobs": {
                "jobs": [
                  {
                    "completionTime": "2023-11-22T20:51:58.570GMT",
                    "dataRead": 183551147,
                    "dataWritten": 8052,
                    "description": "Job group for statement 38:\npredictions2 = model2.transform(test_data)\nroc_auc2 = evaluator.evaluate(predictions2)\nmulti_evaluator = MulticlassClassificationEvaluator(labelCol=\"controversiality\", predictionCol=\"prediction\")\naccuracy2 = multi_evaluator.evaluate(predictions2, {multi_evaluator.metricName: \"accuracy\"})\nf1_score2 = multi_evaluator.evaluate(predictions2, {multi_evaluator.metricName: \"f1\"})",
                    "displayName": "collectAsMap at MulticlassMetrics.scala:61",
                    "jobGroup": "38",
                    "jobId": 78,
                    "killedTasksSummary": {},
                    "name": "collectAsMap at MulticlassMetrics.scala:61",
                    "numActiveStages": 0,
                    "numActiveTasks": 0,
                    "numCompletedIndices": 66,
                    "numCompletedStages": 2,
                    "numCompletedTasks": 66,
                    "numFailedStages": 0,
                    "numFailedTasks": 0,
                    "numKilledTasks": 0,
                    "numSkippedStages": 0,
                    "numSkippedTasks": 0,
                    "numTasks": 66,
                    "rowCount": 417,
                    "stageIds": [
                      157,
                      156
                    ],
                    "status": "SUCCEEDED",
                    "submissionTime": "2023-11-22T20:51:46.689GMT",
                    "usageDescription": ""
                  },
                  {
                    "completionTime": "2023-11-22T20:51:46.047GMT",
                    "dataRead": 183551147,
                    "dataWritten": 8052,
                    "description": "Job group for statement 38:\npredictions2 = model2.transform(test_data)\nroc_auc2 = evaluator.evaluate(predictions2)\nmulti_evaluator = MulticlassClassificationEvaluator(labelCol=\"controversiality\", predictionCol=\"prediction\")\naccuracy2 = multi_evaluator.evaluate(predictions2, {multi_evaluator.metricName: \"accuracy\"})\nf1_score2 = multi_evaluator.evaluate(predictions2, {multi_evaluator.metricName: \"f1\"})",
                    "displayName": "collectAsMap at MulticlassMetrics.scala:61",
                    "jobGroup": "38",
                    "jobId": 77,
                    "killedTasksSummary": {},
                    "name": "collectAsMap at MulticlassMetrics.scala:61",
                    "numActiveStages": 0,
                    "numActiveTasks": 0,
                    "numCompletedIndices": 66,
                    "numCompletedStages": 2,
                    "numCompletedTasks": 66,
                    "numFailedStages": 0,
                    "numFailedTasks": 0,
                    "numKilledTasks": 0,
                    "numSkippedStages": 0,
                    "numSkippedTasks": 0,
                    "numTasks": 66,
                    "rowCount": 417,
                    "stageIds": [
                      154,
                      155
                    ],
                    "status": "SUCCEEDED",
                    "submissionTime": "2023-11-22T20:51:34.791GMT",
                    "usageDescription": ""
                  },
                  {
                    "completionTime": "2023-11-22T20:51:33.984GMT",
                    "dataRead": 4098126,
                    "dataWritten": 0,
                    "description": "Job group for statement 38:\npredictions2 = model2.transform(test_data)\nroc_auc2 = evaluator.evaluate(predictions2)\nmulti_evaluator = MulticlassClassificationEvaluator(labelCol=\"controversiality\", predictionCol=\"prediction\")\naccuracy2 = multi_evaluator.evaluate(predictions2, {multi_evaluator.metricName: \"accuracy\"})\nf1_score2 = multi_evaluator.evaluate(predictions2, {multi_evaluator.metricName: \"f1\"})",
                    "displayName": "collect at AreaUnderCurve.scala:44",
                    "jobGroup": "38",
                    "jobId": 76,
                    "killedTasksSummary": {},
                    "name": "collect at AreaUnderCurve.scala:44",
                    "numActiveStages": 0,
                    "numActiveTasks": 0,
                    "numCompletedIndices": 33,
                    "numCompletedStages": 1,
                    "numCompletedTasks": 33,
                    "numFailedStages": 0,
                    "numFailedTasks": 0,
                    "numKilledTasks": 0,
                    "numSkippedStages": 2,
                    "numSkippedTasks": 66,
                    "numTasks": 99,
                    "rowCount": 379024,
                    "stageIds": [
                      153,
                      151,
                      152
                    ],
                    "status": "SUCCEEDED",
                    "submissionTime": "2023-11-22T20:51:33.446GMT",
                    "usageDescription": ""
                  },
                  {
                    "completionTime": "2023-11-22T20:51:33.433GMT",
                    "dataRead": 4098126,
                    "dataWritten": 0,
                    "description": "Job group for statement 38:\npredictions2 = model2.transform(test_data)\nroc_auc2 = evaluator.evaluate(predictions2)\nmulti_evaluator = MulticlassClassificationEvaluator(labelCol=\"controversiality\", predictionCol=\"prediction\")\naccuracy2 = multi_evaluator.evaluate(predictions2, {multi_evaluator.metricName: \"accuracy\"})\nf1_score2 = multi_evaluator.evaluate(predictions2, {multi_evaluator.metricName: \"f1\"})",
                    "displayName": "collect at BinaryClassificationMetrics.scala:237",
                    "jobGroup": "38",
                    "jobId": 75,
                    "killedTasksSummary": {},
                    "name": "collect at BinaryClassificationMetrics.scala:237",
                    "numActiveStages": 0,
                    "numActiveTasks": 0,
                    "numCompletedIndices": 33,
                    "numCompletedStages": 1,
                    "numCompletedTasks": 33,
                    "numFailedStages": 0,
                    "numFailedTasks": 0,
                    "numKilledTasks": 0,
                    "numSkippedStages": 2,
                    "numSkippedTasks": 66,
                    "numTasks": 99,
                    "rowCount": 379024,
                    "stageIds": [
                      150,
                      148,
                      149
                    ],
                    "status": "SUCCEEDED",
                    "submissionTime": "2023-11-22T20:51:33.026GMT",
                    "usageDescription": ""
                  },
                  {
                    "completionTime": "2023-11-22T20:51:33.013GMT",
                    "dataRead": 8539092,
                    "dataWritten": 4098126,
                    "description": "Job group for statement 38:\npredictions2 = model2.transform(test_data)\nroc_auc2 = evaluator.evaluate(predictions2)\nmulti_evaluator = MulticlassClassificationEvaluator(labelCol=\"controversiality\", predictionCol=\"prediction\")\naccuracy2 = multi_evaluator.evaluate(predictions2, {multi_evaluator.metricName: \"accuracy\"})\nf1_score2 = multi_evaluator.evaluate(predictions2, {multi_evaluator.metricName: \"f1\"})",
                    "displayName": "count at BinaryClassificationMetrics.scala:197",
                    "jobGroup": "38",
                    "jobId": 74,
                    "killedTasksSummary": {},
                    "name": "count at BinaryClassificationMetrics.scala:197",
                    "numActiveStages": 0,
                    "numActiveTasks": 0,
                    "numCompletedIndices": 66,
                    "numCompletedStages": 2,
                    "numCompletedTasks": 66,
                    "numFailedStages": 0,
                    "numFailedTasks": 0,
                    "numKilledTasks": 0,
                    "numSkippedStages": 1,
                    "numSkippedTasks": 33,
                    "numTasks": 99,
                    "rowCount": 1145023,
                    "stageIds": [
                      147,
                      145,
                      146
                    ],
                    "status": "SUCCEEDED",
                    "submissionTime": "2023-11-22T20:51:31.603GMT",
                    "usageDescription": ""
                  },
                  {
                    "completionTime": "2023-11-22T20:51:31.590GMT",
                    "dataRead": 188109150,
                    "dataWritten": 4440966,
                    "description": "Job group for statement 38:\npredictions2 = model2.transform(test_data)\nroc_auc2 = evaluator.evaluate(predictions2)\nmulti_evaluator = MulticlassClassificationEvaluator(labelCol=\"controversiality\", predictionCol=\"prediction\")\naccuracy2 = multi_evaluator.evaluate(predictions2, {multi_evaluator.metricName: \"accuracy\"})\nf1_score2 = multi_evaluator.evaluate(predictions2, {multi_evaluator.metricName: \"f1\"})",
                    "displayName": "sortByKey at BinaryClassificationMetrics.scala:189",
                    "jobGroup": "38",
                    "jobId": 73,
                    "killedTasksSummary": {},
                    "name": "sortByKey at BinaryClassificationMetrics.scala:189",
                    "numActiveStages": 0,
                    "numActiveTasks": 0,
                    "numCompletedIndices": 66,
                    "numCompletedStages": 2,
                    "numCompletedTasks": 66,
                    "numFailedStages": 0,
                    "numFailedTasks": 0,
                    "numKilledTasks": 0,
                    "numSkippedStages": 0,
                    "numSkippedTasks": 0,
                    "numTasks": 66,
                    "rowCount": 774103,
                    "stageIds": [
                      143,
                      144
                    ],
                    "status": "SUCCEEDED",
                    "submissionTime": "2023-11-22T20:51:19.001GMT",
                    "usageDescription": ""
                  }
                ],
                "limit": 20,
                "numbers": {
                  "FAILED": 0,
                  "RUNNING": 0,
                  "SUCCEEDED": 6,
                  "UNKNOWN": 0
                },
                "rule": "ALL_DESC"
              },
              "spark_pool": "8aef2e4c-7819-4b3c-ad3b-441a2f26e87b",
              "state": "finished",
              "statement_id": 38
            },
            "text/plain": [
              "StatementMeta(8aef2e4c-7819-4b3c-ad3b-441a2f26e87b, 49, 38, Finished, Available)"
            ]
          },
          "metadata": {},
          "output_type": "display_data"
        }
      ],
      "source": [
        "predictions2 = model2.transform(test_data)\n",
        "roc_auc2 = evaluator.evaluate(predictions2)\n",
        "multi_evaluator = MulticlassClassificationEvaluator(labelCol=\"controversiality\", predictionCol=\"prediction\")\n",
        "accuracy2 = multi_evaluator.evaluate(predictions2, {multi_evaluator.metricName: \"accuracy\"})\n",
        "f1_score2 = multi_evaluator.evaluate(predictions2, {multi_evaluator.metricName: \"f1\"})"
      ]
    },
    {
      "cell_type": "code",
      "execution_count": 36,
      "metadata": {
        "gather": {
          "logged": 1700686617470
        },
        "jupyter": {
          "outputs_hidden": false,
          "source_hidden": false
        },
        "nteract": {
          "transient": {
            "deleting": false
          }
        }
      },
      "outputs": [
        {
          "data": {
            "application/vnd.livy.statement-meta+json": {
              "execution_finish_time": "2023-11-22T20:56:57.2788984Z",
              "execution_start_time": "2023-11-22T20:56:56.9937555Z",
              "livy_statement_state": "available",
              "parent_msg_id": "e35c72d8-8dcf-4c00-ad02-ce479d856586",
              "queued_time": "2023-11-22T20:56:56.7485587Z",
              "session_id": "49",
              "session_start_time": null,
              "spark_jobs": {
                "jobs": [],
                "limit": 20,
                "numbers": {
                  "FAILED": 0,
                  "RUNNING": 0,
                  "SUCCEEDED": 0,
                  "UNKNOWN": 0
                },
                "rule": "ALL_DESC"
              },
              "spark_pool": "8aef2e4c-7819-4b3c-ad3b-441a2f26e87b",
              "state": "finished",
              "statement_id": 41
            },
            "text/plain": [
              "StatementMeta(8aef2e4c-7819-4b3c-ad3b-441a2f26e87b, 49, 41, Finished, Available)"
            ]
          },
          "metadata": {},
          "output_type": "display_data"
        },
        {
          "name": "stdout",
          "output_type": "stream",
          "text": [
            "ROC AUC: 0.6212710494554697\n",
            "Accuracy: 0.9552693919698718\n",
            "F1 Score: 0.9411906356473216\n"
          ]
        }
      ],
      "source": [
        "print(\"ROC AUC:\", roc_auc2)\n",
        "print(\"Accuracy:\", accuracy2)\n",
        "print(\"F1 Score:\", f1_score2)"
      ]
    },
    {
      "cell_type": "code",
      "execution_count": 35,
      "metadata": {
        "gather": {
          "logged": 1700686549448
        },
        "jupyter": {
          "outputs_hidden": false,
          "source_hidden": false
        },
        "nteract": {
          "transient": {
            "deleting": false
          }
        }
      },
      "outputs": [
        {
          "data": {
            "application/vnd.livy.statement-meta+json": {
              "execution_finish_time": "2023-11-22T20:55:48.9235163Z",
              "execution_start_time": "2023-11-22T20:55:33.9608781Z",
              "livy_statement_state": "available",
              "parent_msg_id": "ac8e8fff-913b-48e1-8d93-95a8649510fe",
              "queued_time": "2023-11-22T20:55:33.7951194Z",
              "session_id": "49",
              "session_start_time": null,
              "spark_jobs": {
                "jobs": [
                  {
                    "completionTime": "2023-11-22T20:55:46.665GMT",
                    "dataRead": 183543095,
                    "dataWritten": 0,
                    "description": "Job group for statement 40:\n#convert to pandas DataFrame\npandas_df_2 = predictions2.select('prediction', 'controversiality').toPandas()\n\n#calculate confusion matrix\nconfusion_matrix_pandas_2 = confusion_matrix(pandas_df_2['controversiality'], pandas_df_2['prediction'])\nprint(\"Confusion Matrix using Pandas:\")\nprint(confusion_matrix_pandas_2)",
                    "displayName": "toPandas at /tmp/ipykernel_8133/3993364177.py:2",
                    "jobGroup": "40",
                    "jobId": 79,
                    "killedTasksSummary": {},
                    "name": "toPandas at /tmp/ipykernel_8133/3993364177.py:2",
                    "numActiveStages": 0,
                    "numActiveTasks": 0,
                    "numCompletedIndices": 33,
                    "numCompletedStages": 1,
                    "numCompletedTasks": 33,
                    "numFailedStages": 0,
                    "numFailedTasks": 0,
                    "numKilledTasks": 0,
                    "numSkippedStages": 0,
                    "numSkippedTasks": 0,
                    "numTasks": 33,
                    "rowCount": 153,
                    "stageIds": [
                      158
                    ],
                    "status": "SUCCEEDED",
                    "submissionTime": "2023-11-22T20:55:34.571GMT",
                    "usageDescription": ""
                  }
                ],
                "limit": 20,
                "numbers": {
                  "FAILED": 0,
                  "RUNNING": 0,
                  "SUCCEEDED": 1,
                  "UNKNOWN": 0
                },
                "rule": "ALL_DESC"
              },
              "spark_pool": "8aef2e4c-7819-4b3c-ad3b-441a2f26e87b",
              "state": "finished",
              "statement_id": 40
            },
            "text/plain": [
              "StatementMeta(8aef2e4c-7819-4b3c-ad3b-441a2f26e87b, 49, 40, Finished, Available)"
            ]
          },
          "metadata": {},
          "output_type": "display_data"
        },
        {
          "name": "stdout",
          "output_type": "stream",
          "text": [
            "Confusion Matrix using Pandas:\n",
            "[[392776   3018]\n",
            " [ 15392    389]]\n"
          ]
        }
      ],
      "source": [
        "#convert to pandas DataFrame\n",
        "pandas_df_2 = predictions2.select('prediction', 'controversiality').toPandas()\n",
        "\n",
        "#calculate confusion matrix\n",
        "confusion_matrix_pandas_2 = confusion_matrix(pandas_df_2['controversiality'], pandas_df_2['prediction'])\n",
        "print(\"Confusion Matrix using Pandas:\")\n",
        "print(confusion_matrix_pandas_2)"
      ]
    },
    {
      "cell_type": "code",
      "execution_count": 62,
      "metadata": {
        "gather": {
          "logged": 1700689967240
        },
        "jupyter": {
          "outputs_hidden": false,
          "source_hidden": false
        },
        "nteract": {
          "transient": {
            "deleting": false
          }
        }
      },
      "outputs": [
        {
          "data": {
            "application/vnd.livy.statement-meta+json": {
              "execution_finish_time": "2023-11-22T21:52:47.0626724Z",
              "execution_start_time": "2023-11-22T21:52:44.6394831Z",
              "livy_statement_state": "available",
              "parent_msg_id": "211c8b9b-77fe-474e-80d5-b30a6936789d",
              "queued_time": "2023-11-22T21:52:44.4579642Z",
              "session_id": "49",
              "session_start_time": null,
              "spark_jobs": {
                "jobs": [],
                "limit": 20,
                "numbers": {
                  "FAILED": 0,
                  "RUNNING": 0,
                  "SUCCEEDED": 0,
                  "UNKNOWN": 0
                },
                "rule": "ALL_DESC"
              },
              "spark_pool": "8aef2e4c-7819-4b3c-ad3b-441a2f26e87b",
              "state": "finished",
              "statement_id": 67
            },
            "text/plain": [
              "StatementMeta(8aef2e4c-7819-4b3c-ad3b-441a2f26e87b, 49, 67, Finished, Available)"
            ]
          },
          "metadata": {},
          "output_type": "display_data"
        },
        {
          "data": {
            "image/png": "[encoded data removed]",
            "text/plain": [
              "<Figure size 1440x864 with 2 Axes>"
            ]
          },
          "metadata": {
            "needs_background": "light"
          },
          "output_type": "display_data"
        }
      ],
      "source": [
        "plt.figure(figsize=(20, 12))\n",
        "sns.heatmap(confusion_matrix_pandas_2, annot=True, fmt='g', cmap='Blues', annot_kws={\"fontsize\": 24})\n",
        "plt.title('Confusion Matrix for Model 2', fontsize=40) \n",
        "plt.xlabel('Predicted labels', fontsize=28) \n",
        "plt.ylabel('True labels', fontsize=28)\n",
        "plt.tick_params(axis='both', labelsize=24)\n",
        "\n",
        "#save the plot\n",
        "datapath = 'Users/jy736/fall-2023-reddit-project-team-08/data'\n",
        "plt.savefig(f'{datapath}/plots/model_2_cm.png', bbox_inches='tight', dpi=300)\n",
        "\n",
        "#display the plot\n",
        "plt.show()"
      ]
    },
    {
      "cell_type": "markdown",
      "metadata": {
        "nteract": {
          "transient": {
            "deleting": false
          }
        }
      },
      "source": [
        "#### Build accuracy matrix"
      ]
    },
    {
      "cell_type": "code",
      "execution_count": 63,
      "metadata": {
        "gather": {
          "logged": 1700690438909
        },
        "jupyter": {
          "outputs_hidden": false,
          "source_hidden": false
        },
        "nteract": {
          "transient": {
            "deleting": false
          }
        }
      },
      "outputs": [
        {
          "data": {
            "application/vnd.livy.statement-meta+json": {
              "execution_finish_time": "2023-11-22T22:00:38.7840281Z",
              "execution_start_time": "2023-11-22T22:00:38.4643863Z",
              "livy_statement_state": "available",
              "parent_msg_id": "a7cea123-33e6-4581-8e8b-16dee3fae705",
              "queued_time": "2023-11-22T22:00:38.301484Z",
              "session_id": "49",
              "session_start_time": null,
              "spark_jobs": {
                "jobs": [],
                "limit": 20,
                "numbers": {
                  "FAILED": 0,
                  "RUNNING": 0,
                  "SUCCEEDED": 0,
                  "UNKNOWN": 0
                },
                "rule": "ALL_DESC"
              },
              "spark_pool": "8aef2e4c-7819-4b3c-ad3b-441a2f26e87b",
              "state": "finished",
              "statement_id": 68
            },
            "text/plain": [
              "StatementMeta(8aef2e4c-7819-4b3c-ad3b-441a2f26e87b, 49, 68, Finished, Available)"
            ]
          },
          "metadata": {},
          "output_type": "display_data"
        },
        {
          "name": "stdout",
          "output_type": "stream",
          "text": [
            "           Model 1   Model 2\n",
            "ROC AUC   0.654257  0.621271\n",
            "Accuracy  0.960309  0.955269\n",
            "F1 Score  0.942586  0.941191\n"
          ]
        }
      ],
      "source": [
        "accuracy_summary = {\n",
        "    \"Model 1\": [roc_auc1, accuracy1, f1_score1],\n",
        "    \"Model 2\": [roc_auc2, accuracy2, f1_score2]\n",
        "}\n",
        "\n",
        "# create a df from the dictionary\n",
        "accuracy_table = pd.DataFrame(accuracy_summary, index=[\"ROC AUC\", \"Accuracy\", \"F1 Score\"])\n",
        "\n",
        "#show the df\n",
        "print(accuracy_table)"
      ]
    },
    {
      "cell_type": "code",
      "execution_count": 64,
      "metadata": {
        "gather": {
          "logged": 1700690507584
        },
        "jupyter": {
          "outputs_hidden": false,
          "source_hidden": false
        },
        "nteract": {
          "transient": {
            "deleting": false
          }
        }
      },
      "outputs": [
        {
          "data": {
            "application/vnd.livy.statement-meta+json": {
              "execution_finish_time": "2023-11-22T22:01:47.5146198Z",
              "execution_start_time": "2023-11-22T22:01:46.3087822Z",
              "livy_statement_state": "available",
              "parent_msg_id": "20a5460f-bb45-4995-8f2f-78f304a19f7f",
              "queued_time": "2023-11-22T22:01:46.1457593Z",
              "session_id": "49",
              "session_start_time": null,
              "spark_jobs": {
                "jobs": [],
                "limit": 20,
                "numbers": {
                  "FAILED": 0,
                  "RUNNING": 0,
                  "SUCCEEDED": 0,
                  "UNKNOWN": 0
                },
                "rule": "ALL_DESC"
              },
              "spark_pool": "8aef2e4c-7819-4b3c-ad3b-441a2f26e87b",
              "state": "finished",
              "statement_id": 69
            },
            "text/plain": [
              "StatementMeta(8aef2e4c-7819-4b3c-ad3b-441a2f26e87b, 49, 69, Finished, Available)"
            ]
          },
          "metadata": {},
          "output_type": "display_data"
        }
      ],
      "source": [
        "accuracy_table.to_csv('Users/jy736/fall-2023-reddit-project-team-08/data/csv/model_metrics.csv')"
      ]
    },
    {
      "cell_type": "markdown",
      "metadata": {
        "nteract": {
          "transient": {
            "deleting": false
          }
        }
      },
      "source": [
        "### Export the model 1 that has the highest accuracy and import it."
      ]
    },
    {
      "cell_type": "code",
      "execution_count": 43,
      "metadata": {
        "gather": {
          "logged": 1700687667566
        },
        "jupyter": {
          "outputs_hidden": false,
          "source_hidden": false
        },
        "nteract": {
          "transient": {
            "deleting": false
          }
        }
      },
      "outputs": [
        {
          "data": {
            "application/vnd.livy.statement-meta+json": {
              "execution_finish_time": "2023-11-22T21:14:27.355534Z",
              "execution_start_time": "2023-11-22T21:14:16.3622038Z",
              "livy_statement_state": "available",
              "parent_msg_id": "17b403ac-0ea5-491a-a672-01e28b3f5a8a",
              "queued_time": "2023-11-22T21:14:16.1753362Z",
              "session_id": "49",
              "session_start_time": null,
              "spark_jobs": {
                "jobs": [
                  {
                    "completionTime": "2023-11-22T21:14:25.570GMT",
                    "dataRead": 2082791,
                    "dataWritten": 2101874,
                    "description": "Job group for statement 48:\nmodel_path = 'Users/jy736/fall-2023-reddit-project-team-08/code/model1'\nmodel1.write().overwrite().save(model_path)",
                    "displayName": "parquet at LogisticRegression.scala:1320",
                    "jobGroup": "48",
                    "jobId": 133,
                    "killedTasksSummary": {},
                    "name": "parquet at LogisticRegression.scala:1320",
                    "numActiveStages": 0,
                    "numActiveTasks": 0,
                    "numCompletedIndices": 1,
                    "numCompletedStages": 1,
                    "numCompletedTasks": 1,
                    "numFailedStages": 0,
                    "numFailedTasks": 0,
                    "numKilledTasks": 0,
                    "numSkippedStages": 1,
                    "numSkippedTasks": 1,
                    "numTasks": 2,
                    "rowCount": 2,
                    "stageIds": [
                      220,
                      221
                    ],
                    "status": "SUCCEEDED",
                    "submissionTime": "2023-11-22T21:14:24.981GMT",
                    "usageDescription": ""
                  },
                  {
                    "completionTime": "2023-11-22T21:14:24.930GMT",
                    "dataRead": 0,
                    "dataWritten": 2082791,
                    "description": "Job group for statement 48:\nmodel_path = 'Users/jy736/fall-2023-reddit-project-team-08/code/model1'\nmodel1.write().overwrite().save(model_path)",
                    "displayName": "parquet at LogisticRegression.scala:1320",
                    "jobGroup": "48",
                    "jobId": 132,
                    "killedTasksSummary": {},
                    "name": "parquet at LogisticRegression.scala:1320",
                    "numActiveStages": 0,
                    "numActiveTasks": 0,
                    "numCompletedIndices": 1,
                    "numCompletedStages": 1,
                    "numCompletedTasks": 1,
                    "numFailedStages": 0,
                    "numFailedTasks": 0,
                    "numKilledTasks": 0,
                    "numSkippedStages": 0,
                    "numSkippedTasks": 0,
                    "numTasks": 1,
                    "rowCount": 1,
                    "stageIds": [
                      219
                    ],
                    "status": "SUCCEEDED",
                    "submissionTime": "2023-11-22T21:14:24.887GMT",
                    "usageDescription": ""
                  },
                  {
                    "completionTime": "2023-11-22T21:14:24.469GMT",
                    "dataRead": 0,
                    "dataWritten": 612,
                    "description": "Job group for statement 48:\nmodel_path = 'Users/jy736/fall-2023-reddit-project-team-08/code/model1'\nmodel1.write().overwrite().save(model_path)",
                    "displayName": "runJob at SparkHadoopWriter.scala:85",
                    "jobGroup": "48",
                    "jobId": 131,
                    "killedTasksSummary": {},
                    "name": "runJob at SparkHadoopWriter.scala:85",
                    "numActiveStages": 0,
                    "numActiveTasks": 0,
                    "numCompletedIndices": 1,
                    "numCompletedStages": 1,
                    "numCompletedTasks": 1,
                    "numFailedStages": 0,
                    "numFailedTasks": 0,
                    "numKilledTasks": 0,
                    "numSkippedStages": 0,
                    "numSkippedTasks": 0,
                    "numTasks": 1,
                    "rowCount": 1,
                    "stageIds": [
                      218
                    ],
                    "status": "SUCCEEDED",
                    "submissionTime": "2023-11-22T21:14:24.071GMT",
                    "usageDescription": ""
                  },
                  {
                    "completionTime": "2023-11-22T21:14:23.613GMT",
                    "dataRead": 0,
                    "dataWritten": 324,
                    "description": "Job group for statement 48:\nmodel_path = 'Users/jy736/fall-2023-reddit-project-team-08/code/model1'\nmodel1.write().overwrite().save(model_path)",
                    "displayName": "runJob at SparkHadoopWriter.scala:85",
                    "jobGroup": "48",
                    "jobId": 130,
                    "killedTasksSummary": {},
                    "name": "runJob at SparkHadoopWriter.scala:85",
                    "numActiveStages": 0,
                    "numActiveTasks": 0,
                    "numCompletedIndices": 1,
                    "numCompletedStages": 1,
                    "numCompletedTasks": 1,
                    "numFailedStages": 0,
                    "numFailedTasks": 0,
                    "numKilledTasks": 0,
                    "numSkippedStages": 0,
                    "numSkippedTasks": 0,
                    "numTasks": 1,
                    "rowCount": 1,
                    "stageIds": [
                      217
                    ],
                    "status": "SUCCEEDED",
                    "submissionTime": "2023-11-22T21:14:23.189GMT",
                    "usageDescription": ""
                  },
                  {
                    "completionTime": "2023-11-22T21:14:22.813GMT",
                    "dataRead": 250216,
                    "dataWritten": 196886,
                    "description": "Job group for statement 48:\nmodel_path = 'Users/jy736/fall-2023-reddit-project-team-08/code/model1'\nmodel1.write().overwrite().save(model_path)",
                    "displayName": "parquet at IDF.scala:204",
                    "jobGroup": "48",
                    "jobId": 129,
                    "killedTasksSummary": {},
                    "name": "parquet at IDF.scala:204",
                    "numActiveStages": 0,
                    "numActiveTasks": 0,
                    "numCompletedIndices": 1,
                    "numCompletedStages": 1,
                    "numCompletedTasks": 1,
                    "numFailedStages": 0,
                    "numFailedTasks": 0,
                    "numKilledTasks": 0,
                    "numSkippedStages": 1,
                    "numSkippedTasks": 1,
                    "numTasks": 2,
                    "rowCount": 2,
                    "stageIds": [
                      215,
                      216
                    ],
                    "status": "SUCCEEDED",
                    "submissionTime": "2023-11-22T21:14:22.214GMT",
                    "usageDescription": ""
                  },
                  {
                    "completionTime": "2023-11-22T21:14:22.153GMT",
                    "dataRead": 0,
                    "dataWritten": 250216,
                    "description": "Job group for statement 48:\nmodel_path = 'Users/jy736/fall-2023-reddit-project-team-08/code/model1'\nmodel1.write().overwrite().save(model_path)",
                    "displayName": "parquet at IDF.scala:204",
                    "jobGroup": "48",
                    "jobId": 128,
                    "killedTasksSummary": {},
                    "name": "parquet at IDF.scala:204",
                    "numActiveStages": 0,
                    "numActiveTasks": 0,
                    "numCompletedIndices": 1,
                    "numCompletedStages": 1,
                    "numCompletedTasks": 1,
                    "numFailedStages": 0,
                    "numFailedTasks": 0,
                    "numKilledTasks": 0,
                    "numSkippedStages": 0,
                    "numSkippedTasks": 0,
                    "numTasks": 1,
                    "rowCount": 1,
                    "stageIds": [
                      214
                    ],
                    "status": "SUCCEEDED",
                    "submissionTime": "2023-11-22T21:14:21.973GMT",
                    "usageDescription": ""
                  },
                  {
                    "completionTime": "2023-11-22T21:14:21.575GMT",
                    "dataRead": 0,
                    "dataWritten": 276,
                    "description": "Job group for statement 48:\nmodel_path = 'Users/jy736/fall-2023-reddit-project-team-08/code/model1'\nmodel1.write().overwrite().save(model_path)",
                    "displayName": "runJob at SparkHadoopWriter.scala:85",
                    "jobGroup": "48",
                    "jobId": 127,
                    "killedTasksSummary": {},
                    "name": "runJob at SparkHadoopWriter.scala:85",
                    "numActiveStages": 0,
                    "numActiveTasks": 0,
                    "numCompletedIndices": 1,
                    "numCompletedStages": 1,
                    "numCompletedTasks": 1,
                    "numFailedStages": 0,
                    "numFailedTasks": 0,
                    "numKilledTasks": 0,
                    "numSkippedStages": 0,
                    "numSkippedTasks": 0,
                    "numTasks": 1,
                    "rowCount": 1,
                    "stageIds": [
                      213
                    ],
                    "status": "SUCCEEDED",
                    "submissionTime": "2023-11-22T21:14:21.127GMT",
                    "usageDescription": ""
                  },
                  {
                    "completionTime": "2023-11-22T21:14:20.701GMT",
                    "dataRead": 3987186,
                    "dataWritten": 2844079,
                    "description": "Job group for statement 48:\nmodel_path = 'Users/jy736/fall-2023-reddit-project-team-08/code/model1'\nmodel1.write().overwrite().save(model_path)",
                    "displayName": "parquet at CountVectorizer.scala:374",
                    "jobGroup": "48",
                    "jobId": 126,
                    "killedTasksSummary": {},
                    "name": "parquet at CountVectorizer.scala:374",
                    "numActiveStages": 0,
                    "numActiveTasks": 0,
                    "numCompletedIndices": 1,
                    "numCompletedStages": 1,
                    "numCompletedTasks": 1,
                    "numFailedStages": 0,
                    "numFailedTasks": 0,
                    "numKilledTasks": 0,
                    "numSkippedStages": 1,
                    "numSkippedTasks": 1,
                    "numTasks": 2,
                    "rowCount": 2,
                    "stageIds": [
                      212,
                      211
                    ],
                    "status": "SUCCEEDED",
                    "submissionTime": "2023-11-22T21:14:19.776GMT",
                    "usageDescription": ""
                  },
                  {
                    "completionTime": "2023-11-22T21:14:19.728GMT",
                    "dataRead": 0,
                    "dataWritten": 3987186,
                    "description": "Job group for statement 48:\nmodel_path = 'Users/jy736/fall-2023-reddit-project-team-08/code/model1'\nmodel1.write().overwrite().save(model_path)",
                    "displayName": "parquet at CountVectorizer.scala:374",
                    "jobGroup": "48",
                    "jobId": 125,
                    "killedTasksSummary": {},
                    "name": "parquet at CountVectorizer.scala:374",
                    "numActiveStages": 0,
                    "numActiveTasks": 0,
                    "numCompletedIndices": 1,
                    "numCompletedStages": 1,
                    "numCompletedTasks": 1,
                    "numFailedStages": 0,
                    "numFailedTasks": 0,
                    "numKilledTasks": 0,
                    "numSkippedStages": 0,
                    "numSkippedTasks": 0,
                    "numTasks": 1,
                    "rowCount": 1,
                    "stageIds": [
                      210
                    ],
                    "status": "SUCCEEDED",
                    "submissionTime": "2023-11-22T21:14:19.632GMT",
                    "usageDescription": ""
                  },
                  {
                    "completionTime": "2023-11-22T21:14:19.152GMT",
                    "dataRead": 0,
                    "dataWritten": 377,
                    "description": "Job group for statement 48:\nmodel_path = 'Users/jy736/fall-2023-reddit-project-team-08/code/model1'\nmodel1.write().overwrite().save(model_path)",
                    "displayName": "runJob at SparkHadoopWriter.scala:85",
                    "jobGroup": "48",
                    "jobId": 124,
                    "killedTasksSummary": {},
                    "name": "runJob at SparkHadoopWriter.scala:85",
                    "numActiveStages": 0,
                    "numActiveTasks": 0,
                    "numCompletedIndices": 1,
                    "numCompletedStages": 1,
                    "numCompletedTasks": 1,
                    "numFailedStages": 0,
                    "numFailedTasks": 0,
                    "numKilledTasks": 0,
                    "numSkippedStages": 0,
                    "numSkippedTasks": 0,
                    "numTasks": 1,
                    "rowCount": 1,
                    "stageIds": [
                      209
                    ],
                    "status": "SUCCEEDED",
                    "submissionTime": "2023-11-22T21:14:18.743GMT",
                    "usageDescription": ""
                  },
                  {
                    "completionTime": "2023-11-22T21:14:18.319GMT",
                    "dataRead": 0,
                    "dataWritten": 260,
                    "description": "Job group for statement 48:\nmodel_path = 'Users/jy736/fall-2023-reddit-project-team-08/code/model1'\nmodel1.write().overwrite().save(model_path)",
                    "displayName": "runJob at SparkHadoopWriter.scala:85",
                    "jobGroup": "48",
                    "jobId": 123,
                    "killedTasksSummary": {},
                    "name": "runJob at SparkHadoopWriter.scala:85",
                    "numActiveStages": 0,
                    "numActiveTasks": 0,
                    "numCompletedIndices": 1,
                    "numCompletedStages": 1,
                    "numCompletedTasks": 1,
                    "numFailedStages": 0,
                    "numFailedTasks": 0,
                    "numKilledTasks": 0,
                    "numSkippedStages": 0,
                    "numSkippedTasks": 0,
                    "numTasks": 1,
                    "rowCount": 1,
                    "stageIds": [
                      208
                    ],
                    "status": "SUCCEEDED",
                    "submissionTime": "2023-11-22T21:14:17.814GMT",
                    "usageDescription": ""
                  },
                  {
                    "completionTime": "2023-11-22T21:14:17.386GMT",
                    "dataRead": 0,
                    "dataWritten": 332,
                    "description": "Job group for statement 48:\nmodel_path = 'Users/jy736/fall-2023-reddit-project-team-08/code/model1'\nmodel1.write().overwrite().save(model_path)",
                    "displayName": "runJob at SparkHadoopWriter.scala:85",
                    "jobGroup": "48",
                    "jobId": 122,
                    "killedTasksSummary": {},
                    "name": "runJob at SparkHadoopWriter.scala:85",
                    "numActiveStages": 0,
                    "numActiveTasks": 0,
                    "numCompletedIndices": 1,
                    "numCompletedStages": 1,
                    "numCompletedTasks": 1,
                    "numFailedStages": 0,
                    "numFailedTasks": 0,
                    "numKilledTasks": 0,
                    "numSkippedStages": 0,
                    "numSkippedTasks": 0,
                    "numTasks": 1,
                    "rowCount": 1,
                    "stageIds": [
                      207
                    ],
                    "status": "SUCCEEDED",
                    "submissionTime": "2023-11-22T21:14:16.953GMT",
                    "usageDescription": ""
                  }
                ],
                "limit": 20,
                "numbers": {
                  "FAILED": 0,
                  "RUNNING": 0,
                  "SUCCEEDED": 12,
                  "UNKNOWN": 0
                },
                "rule": "ALL_DESC"
              },
              "spark_pool": "8aef2e4c-7819-4b3c-ad3b-441a2f26e87b",
              "state": "finished",
              "statement_id": 48
            },
            "text/plain": [
              "StatementMeta(8aef2e4c-7819-4b3c-ad3b-441a2f26e87b, 49, 48, Finished, Available)"
            ]
          },
          "metadata": {},
          "output_type": "display_data"
        }
      ],
      "source": [
        "model_path = 'Users/jy736/fall-2023-reddit-project-team-08/code/model1'\n",
        "model1.write().overwrite().save(model_path)"
      ]
    },
    {
      "cell_type": "code",
      "execution_count": 44,
      "metadata": {
        "gather": {
          "logged": 1700687718165
        },
        "jupyter": {
          "outputs_hidden": false,
          "source_hidden": false
        },
        "nteract": {
          "transient": {
            "deleting": false
          }
        }
      },
      "outputs": [
        {
          "data": {
            "application/vnd.livy.statement-meta+json": {
              "execution_finish_time": "2023-11-22T21:15:18.0727816Z",
              "execution_start_time": "2023-11-22T21:15:11.0309719Z",
              "livy_statement_state": "available",
              "parent_msg_id": "22d654dc-5de8-476c-852d-b4aceb60ab44",
              "queued_time": "2023-11-22T21:15:10.9051928Z",
              "session_id": "49",
              "session_start_time": null,
              "spark_jobs": {
                "jobs": [
                  {
                    "completionTime": "2023-11-22T21:15:14.705GMT",
                    "dataRead": 2105119,
                    "dataWritten": 0,
                    "description": "Job group for statement 49:\nfrom pyspark.ml import PipelineModel\n\n#load the model\nloaded_model = PipelineModel.load(model_path)\n\n#use the loaded model to make predictions\npredictions = loaded_model.transform(test_data) ",
                    "displayName": "head at LogisticRegression.scala:1352",
                    "jobGroup": "49",
                    "jobId": 151,
                    "killedTasksSummary": {},
                    "name": "head at LogisticRegression.scala:1352",
                    "numActiveStages": 0,
                    "numActiveTasks": 0,
                    "numCompletedIndices": 1,
                    "numCompletedStages": 1,
                    "numCompletedTasks": 1,
                    "numFailedStages": 0,
                    "numFailedTasks": 0,
                    "numKilledTasks": 0,
                    "numSkippedStages": 0,
                    "numSkippedTasks": 0,
                    "numTasks": 1,
                    "rowCount": 1,
                    "stageIds": [
                      239
                    ],
                    "status": "SUCCEEDED",
                    "submissionTime": "2023-11-22T21:15:14.286GMT",
                    "usageDescription": ""
                  },
                  {
                    "completionTime": "2023-11-22T21:15:14.226GMT",
                    "dataRead": 0,
                    "dataWritten": 0,
                    "description": "Job group for statement 49:\nfrom pyspark.ml import PipelineModel\n\n#load the model\nloaded_model = PipelineModel.load(model_path)\n\n#use the loaded model to make predictions\npredictions = loaded_model.transform(test_data) ",
                    "displayName": "load at LogisticRegression.scala:1334",
                    "jobGroup": "49",
                    "jobId": 150,
                    "killedTasksSummary": {},
                    "name": "load at LogisticRegression.scala:1334",
                    "numActiveStages": 0,
                    "numActiveTasks": 0,
                    "numCompletedIndices": 1,
                    "numCompletedStages": 1,
                    "numCompletedTasks": 1,
                    "numFailedStages": 0,
                    "numFailedTasks": 0,
                    "numKilledTasks": 0,
                    "numSkippedStages": 0,
                    "numSkippedTasks": 0,
                    "numTasks": 1,
                    "rowCount": 0,
                    "stageIds": [
                      238
                    ],
                    "status": "SUCCEEDED",
                    "submissionTime": "2023-11-22T21:15:14.153GMT",
                    "usageDescription": ""
                  },
                  {
                    "completionTime": "2023-11-22T21:15:14.023GMT",
                    "dataRead": 612,
                    "dataWritten": 0,
                    "description": "Job group for statement 49:\nfrom pyspark.ml import PipelineModel\n\n#load the model\nloaded_model = PipelineModel.load(model_path)\n\n#use the loaded model to make predictions\npredictions = loaded_model.transform(test_data) ",
                    "displayName": "first at ReadWrite.scala:587",
                    "jobGroup": "49",
                    "jobId": 149,
                    "killedTasksSummary": {},
                    "name": "first at ReadWrite.scala:587",
                    "numActiveStages": 0,
                    "numActiveTasks": 0,
                    "numCompletedIndices": 1,
                    "numCompletedStages": 1,
                    "numCompletedTasks": 1,
                    "numFailedStages": 0,
                    "numFailedTasks": 0,
                    "numKilledTasks": 0,
                    "numSkippedStages": 0,
                    "numSkippedTasks": 0,
                    "numTasks": 1,
                    "rowCount": 1,
                    "stageIds": [
                      237
                    ],
                    "status": "SUCCEEDED",
                    "submissionTime": "2023-11-22T21:15:13.982GMT",
                    "usageDescription": ""
                  },
                  {
                    "completionTime": "2023-11-22T21:15:13.909GMT",
                    "dataRead": 612,
                    "dataWritten": 0,
                    "description": "Job group for statement 49:\nfrom pyspark.ml import PipelineModel\n\n#load the model\nloaded_model = PipelineModel.load(model_path)\n\n#use the loaded model to make predictions\npredictions = loaded_model.transform(test_data) ",
                    "displayName": "first at ReadWrite.scala:587",
                    "jobGroup": "49",
                    "jobId": 148,
                    "killedTasksSummary": {},
                    "name": "first at ReadWrite.scala:587",
                    "numActiveStages": 0,
                    "numActiveTasks": 0,
                    "numCompletedIndices": 1,
                    "numCompletedStages": 1,
                    "numCompletedTasks": 1,
                    "numFailedStages": 0,
                    "numFailedTasks": 0,
                    "numKilledTasks": 0,
                    "numSkippedStages": 0,
                    "numSkippedTasks": 0,
                    "numTasks": 1,
                    "rowCount": 1,
                    "stageIds": [
                      236
                    ],
                    "status": "SUCCEEDED",
                    "submissionTime": "2023-11-22T21:15:13.867GMT",
                    "usageDescription": ""
                  },
                  {
                    "completionTime": "2023-11-22T21:15:13.794GMT",
                    "dataRead": 324,
                    "dataWritten": 0,
                    "description": "Job group for statement 49:\nfrom pyspark.ml import PipelineModel\n\n#load the model\nloaded_model = PipelineModel.load(model_path)\n\n#use the loaded model to make predictions\npredictions = loaded_model.transform(test_data) ",
                    "displayName": "first at ReadWrite.scala:587",
                    "jobGroup": "49",
                    "jobId": 147,
                    "killedTasksSummary": {},
                    "name": "first at ReadWrite.scala:587",
                    "numActiveStages": 0,
                    "numActiveTasks": 0,
                    "numCompletedIndices": 1,
                    "numCompletedStages": 1,
                    "numCompletedTasks": 1,
                    "numFailedStages": 0,
                    "numFailedTasks": 0,
                    "numKilledTasks": 0,
                    "numSkippedStages": 0,
                    "numSkippedTasks": 0,
                    "numTasks": 1,
                    "rowCount": 1,
                    "stageIds": [
                      235
                    ],
                    "status": "SUCCEEDED",
                    "submissionTime": "2023-11-22T21:15:13.751GMT",
                    "usageDescription": ""
                  },
                  {
                    "completionTime": "2023-11-22T21:15:13.685GMT",
                    "dataRead": 324,
                    "dataWritten": 0,
                    "description": "Job group for statement 49:\nfrom pyspark.ml import PipelineModel\n\n#load the model\nloaded_model = PipelineModel.load(model_path)\n\n#use the loaded model to make predictions\npredictions = loaded_model.transform(test_data) ",
                    "displayName": "first at ReadWrite.scala:587",
                    "jobGroup": "49",
                    "jobId": 146,
                    "killedTasksSummary": {},
                    "name": "first at ReadWrite.scala:587",
                    "numActiveStages": 0,
                    "numActiveTasks": 0,
                    "numCompletedIndices": 1,
                    "numCompletedStages": 1,
                    "numCompletedTasks": 1,
                    "numFailedStages": 0,
                    "numFailedTasks": 0,
                    "numKilledTasks": 0,
                    "numSkippedStages": 0,
                    "numSkippedTasks": 0,
                    "numTasks": 1,
                    "rowCount": 1,
                    "stageIds": [
                      234
                    ],
                    "status": "SUCCEEDED",
                    "submissionTime": "2023-11-22T21:15:13.637GMT",
                    "usageDescription": ""
                  },
                  {
                    "completionTime": "2023-11-22T21:15:13.556GMT",
                    "dataRead": 198435,
                    "dataWritten": 0,
                    "description": "Job group for statement 49:\nfrom pyspark.ml import PipelineModel\n\n#load the model\nloaded_model = PipelineModel.load(model_path)\n\n#use the loaded model to make predictions\npredictions = loaded_model.transform(test_data) ",
                    "displayName": "head at IDF.scala:219",
                    "jobGroup": "49",
                    "jobId": 145,
                    "killedTasksSummary": {},
                    "name": "head at IDF.scala:219",
                    "numActiveStages": 0,
                    "numActiveTasks": 0,
                    "numCompletedIndices": 1,
                    "numCompletedStages": 1,
                    "numCompletedTasks": 1,
                    "numFailedStages": 0,
                    "numFailedTasks": 0,
                    "numKilledTasks": 0,
                    "numSkippedStages": 0,
                    "numSkippedTasks": 0,
                    "numTasks": 1,
                    "rowCount": 1,
                    "stageIds": [
                      233
                    ],
                    "status": "SUCCEEDED",
                    "submissionTime": "2023-11-22T21:15:13.155GMT",
                    "usageDescription": ""
                  },
                  {
                    "completionTime": "2023-11-22T21:15:13.103GMT",
                    "dataRead": 0,
                    "dataWritten": 0,
                    "description": "Job group for statement 49:\nfrom pyspark.ml import PipelineModel\n\n#load the model\nloaded_model = PipelineModel.load(model_path)\n\n#use the loaded model to make predictions\npredictions = loaded_model.transform(test_data) ",
                    "displayName": "parquet at IDF.scala:215",
                    "jobGroup": "49",
                    "jobId": 144,
                    "killedTasksSummary": {},
                    "name": "parquet at IDF.scala:215",
                    "numActiveStages": 0,
                    "numActiveTasks": 0,
                    "numCompletedIndices": 1,
                    "numCompletedStages": 1,
                    "numCompletedTasks": 1,
                    "numFailedStages": 0,
                    "numFailedTasks": 0,
                    "numKilledTasks": 0,
                    "numSkippedStages": 0,
                    "numSkippedTasks": 0,
                    "numTasks": 1,
                    "rowCount": 0,
                    "stageIds": [
                      232
                    ],
                    "status": "SUCCEEDED",
                    "submissionTime": "2023-11-22T21:15:13.030GMT",
                    "usageDescription": ""
                  },
                  {
                    "completionTime": "2023-11-22T21:15:12.866GMT",
                    "dataRead": 276,
                    "dataWritten": 0,
                    "description": "Job group for statement 49:\nfrom pyspark.ml import PipelineModel\n\n#load the model\nloaded_model = PipelineModel.load(model_path)\n\n#use the loaded model to make predictions\npredictions = loaded_model.transform(test_data) ",
                    "displayName": "first at ReadWrite.scala:587",
                    "jobGroup": "49",
                    "jobId": 143,
                    "killedTasksSummary": {},
                    "name": "first at ReadWrite.scala:587",
                    "numActiveStages": 0,
                    "numActiveTasks": 0,
                    "numCompletedIndices": 1,
                    "numCompletedStages": 1,
                    "numCompletedTasks": 1,
                    "numFailedStages": 0,
                    "numFailedTasks": 0,
                    "numKilledTasks": 0,
                    "numSkippedStages": 0,
                    "numSkippedTasks": 0,
                    "numTasks": 1,
                    "rowCount": 1,
                    "stageIds": [
                      231
                    ],
                    "status": "SUCCEEDED",
                    "submissionTime": "2023-11-22T21:15:12.821GMT",
                    "usageDescription": ""
                  },
                  {
                    "completionTime": "2023-11-22T21:15:12.756GMT",
                    "dataRead": 276,
                    "dataWritten": 0,
                    "description": "Job group for statement 49:\nfrom pyspark.ml import PipelineModel\n\n#load the model\nloaded_model = PipelineModel.load(model_path)\n\n#use the loaded model to make predictions\npredictions = loaded_model.transform(test_data) ",
                    "displayName": "first at ReadWrite.scala:587",
                    "jobGroup": "49",
                    "jobId": 142,
                    "killedTasksSummary": {},
                    "name": "first at ReadWrite.scala:587",
                    "numActiveStages": 0,
                    "numActiveTasks": 0,
                    "numCompletedIndices": 1,
                    "numCompletedStages": 1,
                    "numCompletedTasks": 1,
                    "numFailedStages": 0,
                    "numFailedTasks": 0,
                    "numKilledTasks": 0,
                    "numSkippedStages": 0,
                    "numSkippedTasks": 0,
                    "numTasks": 1,
                    "rowCount": 1,
                    "stageIds": [
                      230
                    ],
                    "status": "SUCCEEDED",
                    "submissionTime": "2023-11-22T21:15:12.712GMT",
                    "usageDescription": ""
                  },
                  {
                    "completionTime": "2023-11-22T21:15:12.580GMT",
                    "dataRead": 2844567,
                    "dataWritten": 0,
                    "description": "Job group for statement 49:\nfrom pyspark.ml import PipelineModel\n\n#load the model\nloaded_model = PipelineModel.load(model_path)\n\n#use the loaded model to make predictions\npredictions = loaded_model.transform(test_data) ",
                    "displayName": "head at CountVectorizer.scala:386",
                    "jobGroup": "49",
                    "jobId": 141,
                    "killedTasksSummary": {},
                    "name": "head at CountVectorizer.scala:386",
                    "numActiveStages": 0,
                    "numActiveTasks": 0,
                    "numCompletedIndices": 1,
                    "numCompletedStages": 1,
                    "numCompletedTasks": 1,
                    "numFailedStages": 0,
                    "numFailedTasks": 0,
                    "numKilledTasks": 0,
                    "numSkippedStages": 0,
                    "numSkippedTasks": 0,
                    "numTasks": 1,
                    "rowCount": 1,
                    "stageIds": [
                      229
                    ],
                    "status": "SUCCEEDED",
                    "submissionTime": "2023-11-22T21:15:12.293GMT",
                    "usageDescription": ""
                  },
                  {
                    "completionTime": "2023-11-22T21:15:12.244GMT",
                    "dataRead": 0,
                    "dataWritten": 0,
                    "description": "Job group for statement 49:\nfrom pyspark.ml import PipelineModel\n\n#load the model\nloaded_model = PipelineModel.load(model_path)\n\n#use the loaded model to make predictions\npredictions = loaded_model.transform(test_data) ",
                    "displayName": "parquet at CountVectorizer.scala:385",
                    "jobGroup": "49",
                    "jobId": 140,
                    "killedTasksSummary": {},
                    "name": "parquet at CountVectorizer.scala:385",
                    "numActiveStages": 0,
                    "numActiveTasks": 0,
                    "numCompletedIndices": 1,
                    "numCompletedStages": 1,
                    "numCompletedTasks": 1,
                    "numFailedStages": 0,
                    "numFailedTasks": 0,
                    "numKilledTasks": 0,
                    "numSkippedStages": 0,
                    "numSkippedTasks": 0,
                    "numTasks": 1,
                    "rowCount": 0,
                    "stageIds": [
                      228
                    ],
                    "status": "SUCCEEDED",
                    "submissionTime": "2023-11-22T21:15:12.162GMT",
                    "usageDescription": ""
                  },
                  {
                    "completionTime": "2023-11-22T21:15:12.022GMT",
                    "dataRead": 377,
                    "dataWritten": 0,
                    "description": "Job group for statement 49:\nfrom pyspark.ml import PipelineModel\n\n#load the model\nloaded_model = PipelineModel.load(model_path)\n\n#use the loaded model to make predictions\npredictions = loaded_model.transform(test_data) ",
                    "displayName": "first at ReadWrite.scala:587",
                    "jobGroup": "49",
                    "jobId": 139,
                    "killedTasksSummary": {},
                    "name": "first at ReadWrite.scala:587",
                    "numActiveStages": 0,
                    "numActiveTasks": 0,
                    "numCompletedIndices": 1,
                    "numCompletedStages": 1,
                    "numCompletedTasks": 1,
                    "numFailedStages": 0,
                    "numFailedTasks": 0,
                    "numKilledTasks": 0,
                    "numSkippedStages": 0,
                    "numSkippedTasks": 0,
                    "numTasks": 1,
                    "rowCount": 1,
                    "stageIds": [
                      227
                    ],
                    "status": "SUCCEEDED",
                    "submissionTime": "2023-11-22T21:15:11.970GMT",
                    "usageDescription": ""
                  },
                  {
                    "completionTime": "2023-11-22T21:15:11.868GMT",
                    "dataRead": 377,
                    "dataWritten": 0,
                    "description": "Job group for statement 49:\nfrom pyspark.ml import PipelineModel\n\n#load the model\nloaded_model = PipelineModel.load(model_path)\n\n#use the loaded model to make predictions\npredictions = loaded_model.transform(test_data) ",
                    "displayName": "first at ReadWrite.scala:587",
                    "jobGroup": "49",
                    "jobId": 138,
                    "killedTasksSummary": {},
                    "name": "first at ReadWrite.scala:587",
                    "numActiveStages": 0,
                    "numActiveTasks": 0,
                    "numCompletedIndices": 1,
                    "numCompletedStages": 1,
                    "numCompletedTasks": 1,
                    "numFailedStages": 0,
                    "numFailedTasks": 0,
                    "numKilledTasks": 0,
                    "numSkippedStages": 0,
                    "numSkippedTasks": 0,
                    "numTasks": 1,
                    "rowCount": 1,
                    "stageIds": [
                      226
                    ],
                    "status": "SUCCEEDED",
                    "submissionTime": "2023-11-22T21:15:11.822GMT",
                    "usageDescription": ""
                  },
                  {
                    "completionTime": "2023-11-22T21:15:11.753GMT",
                    "dataRead": 260,
                    "dataWritten": 0,
                    "description": "Job group for statement 49:\nfrom pyspark.ml import PipelineModel\n\n#load the model\nloaded_model = PipelineModel.load(model_path)\n\n#use the loaded model to make predictions\npredictions = loaded_model.transform(test_data) ",
                    "displayName": "first at ReadWrite.scala:587",
                    "jobGroup": "49",
                    "jobId": 137,
                    "killedTasksSummary": {},
                    "name": "first at ReadWrite.scala:587",
                    "numActiveStages": 0,
                    "numActiveTasks": 0,
                    "numCompletedIndices": 1,
                    "numCompletedStages": 1,
                    "numCompletedTasks": 1,
                    "numFailedStages": 0,
                    "numFailedTasks": 0,
                    "numKilledTasks": 0,
                    "numSkippedStages": 0,
                    "numSkippedTasks": 0,
                    "numTasks": 1,
                    "rowCount": 1,
                    "stageIds": [
                      225
                    ],
                    "status": "SUCCEEDED",
                    "submissionTime": "2023-11-22T21:15:11.705GMT",
                    "usageDescription": ""
                  },
                  {
                    "completionTime": "2023-11-22T21:15:11.618GMT",
                    "dataRead": 260,
                    "dataWritten": 0,
                    "description": "Job group for statement 49:\nfrom pyspark.ml import PipelineModel\n\n#load the model\nloaded_model = PipelineModel.load(model_path)\n\n#use the loaded model to make predictions\npredictions = loaded_model.transform(test_data) ",
                    "displayName": "first at ReadWrite.scala:587",
                    "jobGroup": "49",
                    "jobId": 136,
                    "killedTasksSummary": {},
                    "name": "first at ReadWrite.scala:587",
                    "numActiveStages": 0,
                    "numActiveTasks": 0,
                    "numCompletedIndices": 1,
                    "numCompletedStages": 1,
                    "numCompletedTasks": 1,
                    "numFailedStages": 0,
                    "numFailedTasks": 0,
                    "numKilledTasks": 0,
                    "numSkippedStages": 0,
                    "numSkippedTasks": 0,
                    "numTasks": 1,
                    "rowCount": 1,
                    "stageIds": [
                      224
                    ],
                    "status": "SUCCEEDED",
                    "submissionTime": "2023-11-22T21:15:11.569GMT",
                    "usageDescription": ""
                  },
                  {
                    "completionTime": "2023-11-22T21:15:11.496GMT",
                    "dataRead": 332,
                    "dataWritten": 0,
                    "description": "Job group for statement 49:\nfrom pyspark.ml import PipelineModel\n\n#load the model\nloaded_model = PipelineModel.load(model_path)\n\n#use the loaded model to make predictions\npredictions = loaded_model.transform(test_data) ",
                    "displayName": "first at ReadWrite.scala:587",
                    "jobGroup": "49",
                    "jobId": 135,
                    "killedTasksSummary": {},
                    "name": "first at ReadWrite.scala:587",
                    "numActiveStages": 0,
                    "numActiveTasks": 0,
                    "numCompletedIndices": 1,
                    "numCompletedStages": 1,
                    "numCompletedTasks": 1,
                    "numFailedStages": 0,
                    "numFailedTasks": 0,
                    "numKilledTasks": 0,
                    "numSkippedStages": 0,
                    "numSkippedTasks": 0,
                    "numTasks": 1,
                    "rowCount": 1,
                    "stageIds": [
                      223
                    ],
                    "status": "SUCCEEDED",
                    "submissionTime": "2023-11-22T21:15:11.399GMT",
                    "usageDescription": ""
                  },
                  {
                    "completionTime": "2023-11-22T21:15:11.283GMT",
                    "dataRead": 332,
                    "dataWritten": 0,
                    "description": "Job group for statement 49:\nfrom pyspark.ml import PipelineModel\n\n#load the model\nloaded_model = PipelineModel.load(model_path)\n\n#use the loaded model to make predictions\npredictions = loaded_model.transform(test_data) ",
                    "displayName": "runJob at PythonRDD.scala:172",
                    "jobGroup": "49",
                    "jobId": 134,
                    "killedTasksSummary": {},
                    "name": "runJob at PythonRDD.scala:172",
                    "numActiveStages": 0,
                    "numActiveTasks": 0,
                    "numCompletedIndices": 1,
                    "numCompletedStages": 1,
                    "numCompletedTasks": 1,
                    "numFailedStages": 0,
                    "numFailedTasks": 0,
                    "numKilledTasks": 0,
                    "numSkippedStages": 0,
                    "numSkippedTasks": 0,
                    "numTasks": 1,
                    "rowCount": 1,
                    "stageIds": [
                      222
                    ],
                    "status": "SUCCEEDED",
                    "submissionTime": "2023-11-22T21:15:11.154GMT",
                    "usageDescription": ""
                  }
                ],
                "limit": 20,
                "numbers": {
                  "FAILED": 0,
                  "RUNNING": 0,
                  "SUCCEEDED": 18,
                  "UNKNOWN": 0
                },
                "rule": "ALL_DESC"
              },
              "spark_pool": "8aef2e4c-7819-4b3c-ad3b-441a2f26e87b",
              "state": "finished",
              "statement_id": 49
            },
            "text/plain": [
              "StatementMeta(8aef2e4c-7819-4b3c-ad3b-441a2f26e87b, 49, 49, Finished, Available)"
            ]
          },
          "metadata": {},
          "output_type": "display_data"
        }
      ],
      "source": [
        "from pyspark.ml import PipelineModel\n",
        "\n",
        "#load the model\n",
        "loaded_model = PipelineModel.load(model_path)\n",
        "\n",
        "#use the loaded model to make predictions\n",
        "predictions = loaded_model.transform(test_data) "
      ]
    },
    {
      "cell_type": "code",
      "execution_count": 46,
      "metadata": {
        "gather": {
          "logged": 1700687897552
        },
        "jupyter": {
          "outputs_hidden": false,
          "source_hidden": false
        },
        "nteract": {
          "transient": {
            "deleting": false
          }
        }
      },
      "outputs": [
        {
          "data": {
            "application/vnd.livy.statement-meta+json": {
              "execution_finish_time": "2023-11-22T21:18:17.401442Z",
              "execution_start_time": "2023-11-22T21:17:34.9455347Z",
              "livy_statement_state": "available",
              "parent_msg_id": "db4dda30-4daf-4821-a3a0-6b55ed12c378",
              "queued_time": "2023-11-22T21:17:34.7906986Z",
              "session_id": "49",
              "session_start_time": null,
              "spark_jobs": {
                "jobs": [
                  {
                    "completionTime": "2023-11-22T21:18:15.467GMT",
                    "dataRead": 183675984,
                    "dataWritten": 7800,
                    "description": "Job group for statement 51:\nroc_auc_load = evaluator.evaluate(predictions)\nmulti_evaluator = MulticlassClassificationEvaluator(labelCol=\"controversiality\", predictionCol=\"prediction\")\naccuracy2_load = multi_evaluator.evaluate(predictions, {multi_evaluator.metricName: \"accuracy\"})\nf1_score2_load = multi_evaluator.evaluate(predictions, {multi_evaluator.metricName: \"f1\"})",
                    "displayName": "collectAsMap at MulticlassMetrics.scala:61",
                    "jobGroup": "51",
                    "jobId": 163,
                    "killedTasksSummary": {},
                    "name": "collectAsMap at MulticlassMetrics.scala:61",
                    "numActiveStages": 0,
                    "numActiveTasks": 0,
                    "numCompletedIndices": 66,
                    "numCompletedStages": 2,
                    "numCompletedTasks": 66,
                    "numFailedStages": 0,
                    "numFailedTasks": 0,
                    "numKilledTasks": 0,
                    "numSkippedStages": 0,
                    "numSkippedTasks": 0,
                    "numTasks": 66,
                    "rowCount": 409,
                    "stageIds": [
                      269,
                      268
                    ],
                    "status": "SUCCEEDED",
                    "submissionTime": "2023-11-22T21:18:03.485GMT",
                    "usageDescription": ""
                  },
                  {
                    "completionTime": "2023-11-22T21:18:02.837GMT",
                    "dataRead": 183675984,
                    "dataWritten": 7800,
                    "description": "Job group for statement 51:\nroc_auc_load = evaluator.evaluate(predictions)\nmulti_evaluator = MulticlassClassificationEvaluator(labelCol=\"controversiality\", predictionCol=\"prediction\")\naccuracy2_load = multi_evaluator.evaluate(predictions, {multi_evaluator.metricName: \"accuracy\"})\nf1_score2_load = multi_evaluator.evaluate(predictions, {multi_evaluator.metricName: \"f1\"})",
                    "displayName": "collectAsMap at MulticlassMetrics.scala:61",
                    "jobGroup": "51",
                    "jobId": 162,
                    "killedTasksSummary": {},
                    "name": "collectAsMap at MulticlassMetrics.scala:61",
                    "numActiveStages": 0,
                    "numActiveTasks": 0,
                    "numCompletedIndices": 66,
                    "numCompletedStages": 2,
                    "numCompletedTasks": 66,
                    "numFailedStages": 0,
                    "numFailedTasks": 0,
                    "numKilledTasks": 0,
                    "numSkippedStages": 0,
                    "numSkippedTasks": 0,
                    "numTasks": 66,
                    "rowCount": 409,
                    "stageIds": [
                      266,
                      267
                    ],
                    "status": "SUCCEEDED",
                    "submissionTime": "2023-11-22T21:17:50.955GMT",
                    "usageDescription": ""
                  },
                  {
                    "completionTime": "2023-11-22T21:17:50.149GMT",
                    "dataRead": 4056936,
                    "dataWritten": 0,
                    "description": "Job group for statement 51:\nroc_auc_load = evaluator.evaluate(predictions)\nmulti_evaluator = MulticlassClassificationEvaluator(labelCol=\"controversiality\", predictionCol=\"prediction\")\naccuracy2_load = multi_evaluator.evaluate(predictions, {multi_evaluator.metricName: \"accuracy\"})\nf1_score2_load = multi_evaluator.evaluate(predictions, {multi_evaluator.metricName: \"f1\"})",
                    "displayName": "collect at AreaUnderCurve.scala:44",
                    "jobGroup": "51",
                    "jobId": 161,
                    "killedTasksSummary": {},
                    "name": "collect at AreaUnderCurve.scala:44",
                    "numActiveStages": 0,
                    "numActiveTasks": 0,
                    "numCompletedIndices": 33,
                    "numCompletedStages": 1,
                    "numCompletedTasks": 33,
                    "numFailedStages": 0,
                    "numFailedTasks": 0,
                    "numKilledTasks": 0,
                    "numSkippedStages": 2,
                    "numSkippedTasks": 66,
                    "numTasks": 99,
                    "rowCount": 378995,
                    "stageIds": [
                      263,
                      264,
                      265
                    ],
                    "status": "SUCCEEDED",
                    "submissionTime": "2023-11-22T21:17:49.751GMT",
                    "usageDescription": ""
                  },
                  {
                    "completionTime": "2023-11-22T21:17:49.737GMT",
                    "dataRead": 4056936,
                    "dataWritten": 0,
                    "description": "Job group for statement 51:\nroc_auc_load = evaluator.evaluate(predictions)\nmulti_evaluator = MulticlassClassificationEvaluator(labelCol=\"controversiality\", predictionCol=\"prediction\")\naccuracy2_load = multi_evaluator.evaluate(predictions, {multi_evaluator.metricName: \"accuracy\"})\nf1_score2_load = multi_evaluator.evaluate(predictions, {multi_evaluator.metricName: \"f1\"})",
                    "displayName": "collect at BinaryClassificationMetrics.scala:237",
                    "jobGroup": "51",
                    "jobId": 160,
                    "killedTasksSummary": {},
                    "name": "collect at BinaryClassificationMetrics.scala:237",
                    "numActiveStages": 0,
                    "numActiveTasks": 0,
                    "numCompletedIndices": 33,
                    "numCompletedStages": 1,
                    "numCompletedTasks": 33,
                    "numFailedStages": 0,
                    "numFailedTasks": 0,
                    "numKilledTasks": 0,
                    "numSkippedStages": 2,
                    "numSkippedTasks": 66,
                    "numTasks": 99,
                    "rowCount": 378995,
                    "stageIds": [
                      260,
                      261,
                      262
                    ],
                    "status": "SUCCEEDED",
                    "submissionTime": "2023-11-22T21:17:49.363GMT",
                    "usageDescription": ""
                  },
                  {
                    "completionTime": "2023-11-22T21:17:49.350GMT",
                    "dataRead": 8456272,
                    "dataWritten": 4056936,
                    "description": "Job group for statement 51:\nroc_auc_load = evaluator.evaluate(predictions)\nmulti_evaluator = MulticlassClassificationEvaluator(labelCol=\"controversiality\", predictionCol=\"prediction\")\naccuracy2_load = multi_evaluator.evaluate(predictions, {multi_evaluator.metricName: \"accuracy\"})\nf1_score2_load = multi_evaluator.evaluate(predictions, {multi_evaluator.metricName: \"f1\"})",
                    "displayName": "count at BinaryClassificationMetrics.scala:197",
                    "jobGroup": "51",
                    "jobId": 159,
                    "killedTasksSummary": {},
                    "name": "count at BinaryClassificationMetrics.scala:197",
                    "numActiveStages": 0,
                    "numActiveTasks": 0,
                    "numCompletedIndices": 66,
                    "numCompletedStages": 2,
                    "numCompletedTasks": 66,
                    "numFailedStages": 0,
                    "numFailedTasks": 0,
                    "numKilledTasks": 0,
                    "numSkippedStages": 1,
                    "numSkippedTasks": 33,
                    "numTasks": 99,
                    "rowCount": 1144912,
                    "stageIds": [
                      259,
                      257,
                      258
                    ],
                    "status": "SUCCEEDED",
                    "submissionTime": "2023-11-22T21:17:48.123GMT",
                    "usageDescription": ""
                  },
                  {
                    "completionTime": "2023-11-22T21:17:48.104GMT",
                    "dataRead": 188067520,
                    "dataWritten": 4399336,
                    "description": "Job group for statement 51:\nroc_auc_load = evaluator.evaluate(predictions)\nmulti_evaluator = MulticlassClassificationEvaluator(labelCol=\"controversiality\", predictionCol=\"prediction\")\naccuracy2_load = multi_evaluator.evaluate(predictions, {multi_evaluator.metricName: \"accuracy\"})\nf1_score2_load = multi_evaluator.evaluate(predictions, {multi_evaluator.metricName: \"f1\"})",
                    "displayName": "sortByKey at BinaryClassificationMetrics.scala:189",
                    "jobGroup": "51",
                    "jobId": 158,
                    "killedTasksSummary": {},
                    "name": "sortByKey at BinaryClassificationMetrics.scala:189",
                    "numActiveStages": 0,
                    "numActiveTasks": 0,
                    "numCompletedIndices": 66,
                    "numCompletedStages": 2,
                    "numCompletedTasks": 66,
                    "numFailedStages": 0,
                    "numFailedTasks": 0,
                    "numKilledTasks": 0,
                    "numSkippedStages": 0,
                    "numSkippedTasks": 0,
                    "numTasks": 66,
                    "rowCount": 773997,
                    "stageIds": [
                      255,
                      256
                    ],
                    "status": "SUCCEEDED",
                    "submissionTime": "2023-11-22T21:17:35.501GMT",
                    "usageDescription": ""
                  }
                ],
                "limit": 20,
                "numbers": {
                  "FAILED": 0,
                  "RUNNING": 0,
                  "SUCCEEDED": 6,
                  "UNKNOWN": 0
                },
                "rule": "ALL_DESC"
              },
              "spark_pool": "8aef2e4c-7819-4b3c-ad3b-441a2f26e87b",
              "state": "finished",
              "statement_id": 51
            },
            "text/plain": [
              "StatementMeta(8aef2e4c-7819-4b3c-ad3b-441a2f26e87b, 49, 51, Finished, Available)"
            ]
          },
          "metadata": {},
          "output_type": "display_data"
        }
      ],
      "source": [
        "roc_auc_load = evaluator.evaluate(predictions)\n",
        "multi_evaluator = MulticlassClassificationEvaluator(labelCol=\"controversiality\", predictionCol=\"prediction\")\n",
        "accuracy_load = multi_evaluator.evaluate(predictions, {multi_evaluator.metricName: \"accuracy\"})\n",
        "f1_score_load = multi_evaluator.evaluate(predictions, {multi_evaluator.metricName: \"f1\"})"
      ]
    },
    {
      "cell_type": "code",
      "execution_count": 47,
      "metadata": {
        "gather": {
          "logged": 1700687929649
        },
        "jupyter": {
          "outputs_hidden": false,
          "source_hidden": false
        },
        "nteract": {
          "transient": {
            "deleting": false
          }
        }
      },
      "outputs": [
        {
          "data": {
            "application/vnd.livy.statement-meta+json": {
              "execution_finish_time": "2023-11-22T21:18:49.5287367Z",
              "execution_start_time": "2023-11-22T21:18:49.2296253Z",
              "livy_statement_state": "available",
              "parent_msg_id": "37df0745-1f2f-48e4-9595-d1b58d8634a4",
              "queued_time": "2023-11-22T21:18:49.0677101Z",
              "session_id": "49",
              "session_start_time": null,
              "spark_jobs": {
                "jobs": [],
                "limit": 20,
                "numbers": {
                  "FAILED": 0,
                  "RUNNING": 0,
                  "SUCCEEDED": 0,
                  "UNKNOWN": 0
                },
                "rule": "ALL_DESC"
              },
              "spark_pool": "8aef2e4c-7819-4b3c-ad3b-441a2f26e87b",
              "state": "finished",
              "statement_id": 52
            },
            "text/plain": [
              "StatementMeta(8aef2e4c-7819-4b3c-ad3b-441a2f26e87b, 49, 52, Finished, Available)"
            ]
          },
          "metadata": {},
          "output_type": "display_data"
        },
        {
          "name": "stdout",
          "output_type": "stream",
          "text": [
            "ROC AUC: 0.6542668810825406\n",
            "Accuracy: 0.960308570734374\n",
            "F1 Score: 0.9425857568809598\n"
          ]
        }
      ],
      "source": [
        "print(\"ROC AUC:\", roc_auc_load)\n",
        "print(\"Accuracy:\", accuracy_load)\n",
        "print(\"F1 Score:\", f1_score_load)"
      ]
    },
    {
      "cell_type": "code",
      "execution_count": 48,
      "metadata": {
        "gather": {
          "logged": 1700688042698
        },
        "jupyter": {
          "outputs_hidden": false,
          "source_hidden": false
        },
        "nteract": {
          "transient": {
            "deleting": false
          }
        }
      },
      "outputs": [
        {
          "data": {
            "application/vnd.livy.statement-meta+json": {
              "execution_finish_time": "2023-11-22T21:20:42.6065016Z",
              "execution_start_time": "2023-11-22T21:20:28.2737457Z",
              "livy_statement_state": "available",
              "parent_msg_id": "4b0afb90-3efa-4864-a996-5579634e8ba7",
              "queued_time": "2023-11-22T21:20:28.1150449Z",
              "session_id": "49",
              "session_start_time": null,
              "spark_jobs": {
                "jobs": [
                  {
                    "completionTime": "2023-11-22T21:20:40.581GMT",
                    "dataRead": 183543095,
                    "dataWritten": 0,
                    "description": "Job group for statement 53:\n#convert to pandas DataFrame\npandas_df_load = predictions.select('prediction', 'controversiality').toPandas()\n\n#calculate confusion matrix\nconfusion_matrix_pandas_load = confusion_matrix(pandas_df_load['controversiality'], pandas_df_load['prediction'])\nprint(\"Confusion Matrix using Pandas:\")\nprint(confusion_matrix_pandas_load)",
                    "displayName": "toPandas at /tmp/ipykernel_8133/875954527.py:2",
                    "jobGroup": "53",
                    "jobId": 164,
                    "killedTasksSummary": {},
                    "name": "toPandas at /tmp/ipykernel_8133/875954527.py:2",
                    "numActiveStages": 0,
                    "numActiveTasks": 0,
                    "numCompletedIndices": 33,
                    "numCompletedStages": 1,
                    "numCompletedTasks": 33,
                    "numFailedStages": 0,
                    "numFailedTasks": 0,
                    "numKilledTasks": 0,
                    "numSkippedStages": 0,
                    "numSkippedTasks": 0,
                    "numTasks": 33,
                    "rowCount": 153,
                    "stageIds": [
                      270
                    ],
                    "status": "SUCCEEDED",
                    "submissionTime": "2023-11-22T21:20:28.847GMT",
                    "usageDescription": ""
                  }
                ],
                "limit": 20,
                "numbers": {
                  "FAILED": 0,
                  "RUNNING": 0,
                  "SUCCEEDED": 1,
                  "UNKNOWN": 0
                },
                "rule": "ALL_DESC"
              },
              "spark_pool": "8aef2e4c-7819-4b3c-ad3b-441a2f26e87b",
              "state": "finished",
              "statement_id": 53
            },
            "text/plain": [
              "StatementMeta(8aef2e4c-7819-4b3c-ad3b-441a2f26e87b, 49, 53, Finished, Available)"
            ]
          },
          "metadata": {},
          "output_type": "display_data"
        },
        {
          "name": "stdout",
          "output_type": "stream",
          "text": [
            "Confusion Matrix using Pandas:\n",
            "[[395152    642]\n",
            " [ 15694     87]]\n"
          ]
        }
      ],
      "source": [
        "#convert to pandas DataFrame\n",
        "pandas_df_load = predictions.select('prediction', 'controversiality').toPandas()\n",
        "\n",
        "#calculate confusion matrix\n",
        "confusion_matrix_pandas_load = confusion_matrix(pandas_df_load['controversiality'], pandas_df_load['prediction'])\n",
        "print(\"Confusion Matrix using Pandas:\")\n",
        "print(confusion_matrix_pandas_load)"
      ]
    },
    {
      "cell_type": "markdown",
      "metadata": {
        "nteract": {
          "transient": {
            "deleting": false
          }
        }
      },
      "source": []
    }
  ],
  "metadata": {
    "kernel_info": {
      "name": "synapse_pyspark"
    },
    "kernelspec": {
      "display_name": "Synapse PySpark",
      "language": "Python",
      "name": "synapse_pyspark"
    },
    "language_info": {
      "codemirror_mode": "ipython",
      "file_extension": ".py",
      "mimetype": "text/x-python",
      "name": "python",
      "nbconvert_exporter": "python",
      "pygments_lexer": "ipython",
      "version": "3.8.0"
    },
    "microsoft": {
      "host": {
        "AzureML": {
          "notebookHasBeenCompleted": true
        }
      },
      "ms_spell_check": {
        "ms_spell_check_language": "en"
      }
    },
    "nteract": {
      "version": "nteract-front-end@1.0.0"
    }
  },
  "nbformat": 4,
  "nbformat_minor": 2
}
