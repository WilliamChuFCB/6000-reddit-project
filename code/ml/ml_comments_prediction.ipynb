{
 "cells": [
  {
   "cell_type": "markdown",
   "metadata": {},
   "source": [
    "## Setup\n",
    "We need an available Java installation to run pyspark. The easiest way to do this is to install JDK and set the proper paths using conda"
   ]
  },
  {
   "cell_type": "code",
   "execution_count": 2,
   "metadata": {
    "tags": []
   },
   "outputs": [
    {
     "name": "stdout",
     "output_type": "stream",
     "text": [
      "Collecting package metadata (current_repodata.json): done\n",
      "Solving environment: done\n",
      "\n",
      "\n",
      "==> WARNING: A newer version of conda exists. <==\n",
      "  current version: 23.3.1\n",
      "  latest version: 23.10.0\n",
      "\n",
      "Please update conda by running\n",
      "\n",
      "    $ conda update -n base -c defaults conda\n",
      "\n",
      "Or to minimize the number of packages updated during conda update use\n",
      "\n",
      "     conda install conda=23.10.0\n",
      "\n",
      "\n",
      "\n",
      "## Package Plan ##\n",
      "\n",
      "  environment location: /opt/conda\n",
      "\n",
      "  added / updated specs:\n",
      "    - openjdk\n",
      "\n",
      "\n",
      "The following packages will be downloaded:\n",
      "\n",
      "    package                    |            build\n",
      "    ---------------------------|-----------------\n",
      "    ca-certificates-2023.08.22 |       h06a4308_0         123 KB\n",
      "    certifi-2023.11.17         |  py310h06a4308_0         158 KB\n",
      "    openjdk-11.0.13            |       h87a67e3_0       341.0 MB\n",
      "    ------------------------------------------------------------\n",
      "                                           Total:       341.3 MB\n",
      "\n",
      "The following NEW packages will be INSTALLED:\n",
      "\n",
      "  openjdk            pkgs/main/linux-64::openjdk-11.0.13-h87a67e3_0 \n",
      "\n",
      "The following packages will be UPDATED:\n",
      "\n",
      "  ca-certificates    conda-forge::ca-certificates-2023.7.2~ --> pkgs/main::ca-certificates-2023.08.22-h06a4308_0 \n",
      "  certifi            conda-forge/noarch::certifi-2023.7.22~ --> pkgs/main/linux-64::certifi-2023.11.17-py310h06a4308_0 \n",
      "\n",
      "\n",
      "\n",
      "Downloading and Extracting Packages\n",
      "certifi-2023.11.17   | 158 KB    |                                       |   0% \n",
      "openjdk-11.0.13      | 341.0 MB  |                                       |   0% \u001b[A\n",
      "\n",
      "certifi-2023.11.17   | 158 KB    | ##################################### | 100% \u001b[A\u001b[A\n",
      "openjdk-11.0.13      | 341.0 MB  | 6                                     |   2% \u001b[A\n",
      "\n",
      "ca-certificates-2023 | 123 KB    | ##################################### | 100% \u001b[A\u001b[A\n",
      "\n",
      "ca-certificates-2023 | 123 KB    | ##################################### | 100% \u001b[A\u001b[A\n",
      "openjdk-11.0.13      | 341.0 MB  | ##2                                   |   6% \u001b[A\n",
      "openjdk-11.0.13      | 341.0 MB  | ####                                  |  11% \u001b[A\n",
      "openjdk-11.0.13      | 341.0 MB  | ######                                |  16% \u001b[A\n",
      "openjdk-11.0.13      | 341.0 MB  | #######8                              |  21% \u001b[A\n",
      "openjdk-11.0.13      | 341.0 MB  | #########6                            |  26% \u001b[A\n",
      "openjdk-11.0.13      | 341.0 MB  | ###########5                          |  31% \u001b[A\n",
      "openjdk-11.0.13      | 341.0 MB  | #############3                        |  36% \u001b[A\n",
      "openjdk-11.0.13      | 341.0 MB  | ###############2                      |  41% \u001b[A\n",
      "openjdk-11.0.13      | 341.0 MB  | #################1                    |  46% \u001b[A\n",
      "openjdk-11.0.13      | 341.0 MB  | ###################                   |  51% \u001b[A\n",
      "openjdk-11.0.13      | 341.0 MB  | ####################8                 |  56% \u001b[A\n",
      "openjdk-11.0.13      | 341.0 MB  | ######################7               |  61% \u001b[A\n",
      "openjdk-11.0.13      | 341.0 MB  | ########################4             |  66% \u001b[A\n",
      "openjdk-11.0.13      | 341.0 MB  | ##########################3           |  71% \u001b[A\n",
      "openjdk-11.0.13      | 341.0 MB  | ############################1         |  76% \u001b[A\n",
      "openjdk-11.0.13      | 341.0 MB  | ##############################        |  81% \u001b[A\n",
      "openjdk-11.0.13      | 341.0 MB  | ###############################9      |  86% \u001b[A\n",
      "openjdk-11.0.13      | 341.0 MB  | #################################7    |  91% \u001b[A\n",
      "openjdk-11.0.13      | 341.0 MB  | ###################################6  |  96% \u001b[A\n",
      "                                                                                \u001b[A\n",
      "                                                                                \u001b[A\n",
      "\n",
      "                                                                                \u001b[A\u001b[A\n",
      "Preparing transaction: done\n",
      "Verifying transaction: done\n",
      "Executing transaction: done\n",
      "\n",
      "Note: you may need to restart the kernel to use updated packages.\n",
      "Collecting pyspark==3.2.0\n",
      "  Using cached pyspark-3.2.0-py2.py3-none-any.whl\n",
      "Collecting py4j==0.10.9.2 (from pyspark==3.2.0)\n",
      "  Using cached py4j-0.10.9.2-py2.py3-none-any.whl (198 kB)\n",
      "Installing collected packages: py4j, pyspark\n",
      "Successfully installed py4j-0.10.9.2 pyspark-3.2.0\n",
      "\u001b[33mWARNING: Running pip as the 'root' user can result in broken permissions and conflicting behaviour with the system package manager. It is recommended to use a virtual environment instead: https://pip.pypa.io/warnings/venv\u001b[0m\u001b[33m\n",
      "\u001b[0m\n",
      "\u001b[1m[\u001b[0m\u001b[34;49mnotice\u001b[0m\u001b[1;39;49m]\u001b[0m\u001b[39;49m A new release of pip is available: \u001b[0m\u001b[31;49m23.2.1\u001b[0m\u001b[39;49m -> \u001b[0m\u001b[32;49m23.3.1\u001b[0m\n",
      "\u001b[1m[\u001b[0m\u001b[34;49mnotice\u001b[0m\u001b[1;39;49m]\u001b[0m\u001b[39;49m To update, run: \u001b[0m\u001b[32;49mpip install --upgrade pip\u001b[0m\n",
      "Note: you may need to restart the kernel to use updated packages.\n"
     ]
    },
    {
     "data": {
      "text/html": [
       "<script>Jupyter.notebook.kernel.restart()</script>"
      ],
      "text/plain": [
       "<IPython.core.display.HTML object>"
      ]
     },
     "execution_count": 2,
     "metadata": {},
     "output_type": "execute_result"
    }
   ],
   "source": [
    "# Setup - Run only once per Kernel App\n",
    "%conda install openjdk -y\n",
    "\n",
    "# install PySpark\n",
    "%pip install pyspark==3.2.0\n",
    "\n",
    "# restart kernel\n",
    "from IPython.core.display import HTML\n",
    "HTML(\"<script>Jupyter.notebook.kernel.restart()</script>\")"
   ]
  },
  {
   "cell_type": "code",
   "execution_count": 3,
   "metadata": {
    "tags": []
   },
   "outputs": [
    {
     "name": "stderr",
     "output_type": "stream",
     "text": [
      "Warning: Ignoring non-Spark config property: fs.s3a.aws.credentials.provider\n",
      "WARNING: An illegal reflective access operation has occurred\n",
      "WARNING: Illegal reflective access by org.apache.spark.unsafe.Platform (file:/opt/conda/lib/python3.10/site-packages/pyspark/jars/spark-unsafe_2.12-3.2.0.jar) to constructor java.nio.DirectByteBuffer(long,int)\n",
      "WARNING: Please consider reporting this to the maintainers of org.apache.spark.unsafe.Platform\n",
      "WARNING: Use --illegal-access=warn to enable warnings of further illegal reflective access operations\n",
      "WARNING: All illegal access operations will be denied in a future release\n"
     ]
    },
    {
     "name": "stdout",
     "output_type": "stream",
     "text": [
      ":: loading settings :: url = jar:file:/opt/conda/lib/python3.10/site-packages/pyspark/jars/ivy-2.5.0.jar!/org/apache/ivy/core/settings/ivysettings.xml\n"
     ]
    },
    {
     "name": "stderr",
     "output_type": "stream",
     "text": [
      "Ivy Default Cache set to: /root/.ivy2/cache\n",
      "The jars for the packages stored in: /root/.ivy2/jars\n",
      "org.apache.hadoop#hadoop-aws added as a dependency\n",
      ":: resolving dependencies :: org.apache.spark#spark-submit-parent-cd633652-b878-4139-aeb9-01701be1c055;1.0\n",
      "\tconfs: [default]\n",
      "\tfound org.apache.hadoop#hadoop-aws;3.2.2 in central\n",
      "\tfound com.amazonaws#aws-java-sdk-bundle;1.11.563 in central\n",
      ":: resolution report :: resolve 330ms :: artifacts dl 31ms\n",
      "\t:: modules in use:\n",
      "\tcom.amazonaws#aws-java-sdk-bundle;1.11.563 from central in [default]\n",
      "\torg.apache.hadoop#hadoop-aws;3.2.2 from central in [default]\n",
      "\t---------------------------------------------------------------------\n",
      "\t|                  |            modules            ||   artifacts   |\n",
      "\t|       conf       | number| search|dwnlded|evicted|| number|dwnlded|\n",
      "\t---------------------------------------------------------------------\n",
      "\t|      default     |   2   |   0   |   0   |   0   ||   2   |   0   |\n",
      "\t---------------------------------------------------------------------\n",
      ":: retrieving :: org.apache.spark#spark-submit-parent-cd633652-b878-4139-aeb9-01701be1c055\n",
      "\tconfs: [default]\n",
      "\t0 artifacts copied, 2 already retrieved (0kB/23ms)\n",
      "23/11/30 18:23:55 WARN NativeCodeLoader: Unable to load native-hadoop library for your platform... using builtin-java classes where applicable\n",
      "Using Spark's default log4j profile: org/apache/spark/log4j-defaults.properties\n",
      "Setting default log level to \"WARN\".\n",
      "To adjust logging level use sc.setLogLevel(newLevel). For SparkR, use setLogLevel(newLevel).\n"
     ]
    },
    {
     "name": "stdout",
     "output_type": "stream",
     "text": [
      "3.2.0\n"
     ]
    }
   ],
   "source": [
    "# Import pyspark and build Spark session\n",
    "from pyspark.sql import SparkSession\n",
    "\n",
    "spark = (\n",
    "    SparkSession.builder.appName(\"PySparkApp\")\n",
    "    .config(\"spark.jars.packages\", \"org.apache.hadoop:hadoop-aws:3.2.2\")\n",
    "    .config(\n",
    "        \"fs.s3a.aws.credentials.provider\",\n",
    "        \"com.amazonaws.auth.ContainerCredentialsProvider\",\n",
    "    )\n",
    "    .getOrCreate()\n",
    ")\n",
    "\n",
    "print(spark.version)"
   ]
  },
  {
   "cell_type": "markdown",
   "metadata": {},
   "source": [
    "## Process S3 data with SageMaker Processing Job `PySparkProcessor`\n",
    "\n",
    "We are going to move the above processing code in a Python file and then submit that file to SageMaker Processing Job's [`PySparkProcessor`](https://sagemaker.readthedocs.io/en/stable/amazon_sagemaker_processing.html#pysparkprocessor)."
   ]
  },
  {
   "cell_type": "code",
   "execution_count": 4,
   "metadata": {
    "tags": []
   },
   "outputs": [],
   "source": [
    "!mkdir -p ./code"
   ]
  },
  {
   "cell_type": "code",
   "execution_count": 5,
   "metadata": {
    "tags": []
   },
   "outputs": [
    {
     "name": "stdout",
     "output_type": "stream",
     "text": [
      "Overwriting ./code/process.py\n"
     ]
    }
   ],
   "source": [
    "%%writefile ./code/process.py\n",
    "\n",
    "import os\n",
    "import logging\n",
    "import argparse\n",
    "\n",
    "# Import pyspark and build Spark session\n",
    "from pyspark.sql.functions import *\n",
    "from pyspark.sql.types import (\n",
    "    DoubleType,\n",
    "    IntegerType,\n",
    "    StringType,\n",
    "    StructField,\n",
    "    StructType,\n",
    ")\n",
    "from pyspark.sql import SparkSession\n",
    "from pyspark.sql.functions import col\n",
    "\n",
    "logging.basicConfig(format='%(asctime)s,%(levelname)s,%(module)s,%(filename)s,%(lineno)d,%(message)s', level=logging.DEBUG)\n",
    "logger = logging.getLogger()\n",
    "logger.setLevel(logging.DEBUG)\n",
    "logger.addHandler(logging.StreamHandler(sys.stdout))\n",
    "\n",
    "def main():\n",
    "    parser = argparse.ArgumentParser(description=\"app inputs and outputs\")\n",
    "    parser.add_argument(\"--s3_dataset_path\", type=str, help=\"Path of dataset in S3\")    \n",
    "    parser.add_argument(\"--s3_output_bucket\", type=str, help=\"s3 output bucket\")\n",
    "    parser.add_argument(\"--s3_output_prefix\", type=str, help=\"s3 output prefix\")\n",
    "    parser.add_argument(\"--col_name_for_filtering\", type=str, help=\"Name of the column to filter\")\n",
    "    parser.add_argument(\"--values_to_keep\", type=str, help=\"comma separated list of values to keep in the filtered set\")\n",
    "    args = parser.parse_args()\n",
    "\n",
    "    spark = SparkSession.builder.appName(\"PySparkApp\").getOrCreate()\n",
    "    logger.info(f\"spark version = {spark.version}\")\n",
    "    \n",
    "    # This is needed to save RDDs which is the only way to write nested Dataframes into CSV format\n",
    "    sc = spark.sparkContext\n",
    "    sc._jsc.hadoopConfiguration().set(\n",
    "        \"mapred.output.committer.class\", \"org.apache.hadoop.mapred.FileOutputCommitter\"\n",
    "    )\n",
    "\n",
    "   \n",
    "    # Downloading the data from S3 into a Dataframe\n",
    "    logger.info(f\"going to read {args.s3_dataset_path}\")\n",
    "    df = spark.read.parquet(args.s3_dataset_path, header=True)\n",
    "    logger.info(f\"finished reading files...\")\n",
    "    \n",
    "\n",
    "    \n",
    "    # filter the dataframe to only keep the values of interest\n",
    "    vals = [s.strip() for s in args.values_to_keep.split(\",\")]\n",
    "    df_filtered = df.where(col(args.col_name_for_filtering).isin(vals))\n",
    "    \n",
    "    # save the filtered dataframes so that these files can now be used for future analysis\n",
    "    s3_path = f\"s3://{args.s3_output_bucket}/{args.s3_output_prefix}\"\n",
    "    logger.info(f\"going to write data for {vals} in {s3_path}\")\n",
    "    logger.info(f\"shape of the df_filtered dataframe is {df_filtered.count():,}x{len(df_filtered.columns)}\")\n",
    "    df_filtered.write.mode(\"overwrite\").parquet(s3_path)\n",
    "    \n",
    "    logger.info(f\"all done...\")\n",
    "    \n",
    "if __name__ == \"__main__\":\n",
    "    main()"
   ]
  },
  {
   "cell_type": "markdown",
   "metadata": {},
   "source": [
    "Now submit this code to SageMaker Processing Job."
   ]
  },
  {
   "cell_type": "code",
   "execution_count": 6,
   "metadata": {
    "tags": []
   },
   "outputs": [
    {
     "name": "stdout",
     "output_type": "stream",
     "text": [
      "sagemaker.config INFO - Not applying SDK defaults from location: /etc/xdg/sagemaker/config.yaml\n",
      "sagemaker.config INFO - Not applying SDK defaults from location: /root/.config/sagemaker/config.yaml\n",
      "sagemaker.config INFO - Not applying SDK defaults from location: /etc/xdg/sagemaker/config.yaml\n",
      "sagemaker.config INFO - Not applying SDK defaults from location: /root/.config/sagemaker/config.yaml\n",
      "sagemaker.config INFO - Not applying SDK defaults from location: /etc/xdg/sagemaker/config.yaml\n",
      "sagemaker.config INFO - Not applying SDK defaults from location: /root/.config/sagemaker/config.yaml\n",
      "sagemaker.config INFO - Not applying SDK defaults from location: /etc/xdg/sagemaker/config.yaml\n",
      "sagemaker.config INFO - Not applying SDK defaults from location: /root/.config/sagemaker/config.yaml\n",
      "CPU times: user 2.47 s, sys: 352 ms, total: 2.82 s\n",
      "Wall time: 2.78 s\n"
     ]
    }
   ],
   "source": [
    "%%time\n",
    "import time\n",
    "import sagemaker\n",
    "from sagemaker.spark.processing import PySparkProcessor\n",
    "\n",
    "# Setup the PySpark processor to run the job. Note the instance type and instance count parameters. SageMaker will create these many instances of this type for the spark job.\n",
    "role = sagemaker.get_execution_role()\n",
    "spark_processor = PySparkProcessor(\n",
    "    base_job_name=\"sm-spark-project\",\n",
    "    framework_version=\"3.3\",\n",
    "    role=role,\n",
    "    instance_count=8,\n",
    "    instance_type=\"ml.m5.xlarge\",\n",
    "    max_runtime_in_seconds=3600,\n",
    ")\n",
    "\n",
    "# s3 paths\n",
    "session = sagemaker.Session()\n",
    "bucket = session.default_bucket()\n",
    "output_prefix_logs = f\"spark_logs\"\n",
    "\n",
    "# modify this comma separated list to choose the subreddits of interest\n",
    "subreddits = \"socialism, Economics\"\n",
    "configuration = [\n",
    "    {\n",
    "        \"Classification\": \"spark-defaults\",\n",
    "        \"Properties\": {\"spark.executor.memory\": \"12g\", \"spark.executor.cores\": \"4\"},\n",
    "    }\n",
    "]\n"
   ]
  },
  {
   "cell_type": "code",
   "execution_count": 7,
   "metadata": {
    "tags": []
   },
   "outputs": [
    {
     "name": "stdout",
     "output_type": "stream",
     "text": [
      "reading submissions from s3a://sagemaker-us-east-1-019290627849/project/submissions/yyyy=*\n"
     ]
    },
    {
     "name": "stderr",
     "output_type": "stream",
     "text": [
      "23/11/30 18:24:02 WARN MetricsConfig: Cannot locate configuration: tried hadoop-metrics2-s3a-file-system.properties,hadoop-metrics2.properties\n",
      "23/11/30 18:24:07 WARN package: Truncated the string representation of a plan since it was too large. This behavior can be adjusted by setting 'spark.sql.debug.maxToStringFields'.\n",
      "[Stage 1:====================================================>    (13 + 1) / 14]\r"
     ]
    },
    {
     "name": "stdout",
     "output_type": "stream",
     "text": [
      "shape of the submissions dataframe is 34,345x68\n",
      "CPU times: user 24.1 ms, sys: 4.78 ms, total: 28.9 ms\n",
      "Wall time: 48.5 s\n"
     ]
    },
    {
     "name": "stderr",
     "output_type": "stream",
     "text": [
      "                                                                                \r"
     ]
    }
   ],
   "source": [
    "%%time\n",
    "output_prefix_data_submissions = f\"project/submissions/yyyy=*\"\n",
    "s3_path = f\"s3a://{bucket}/{output_prefix_data_submissions}\"\n",
    "print(f\"reading submissions from {s3_path}\")\n",
    "submissions = spark.read.parquet(s3_path, header=True)\n",
    "print(f\"shape of the submissions dataframe is {submissions.count():,}x{len(submissions.columns)}\")"
   ]
  },
  {
   "cell_type": "code",
   "execution_count": 8,
   "metadata": {
    "tags": []
   },
   "outputs": [
    {
     "name": "stderr",
     "output_type": "stream",
     "text": [
      "[Stage 4:====================================================>    (13 + 1) / 14]\r"
     ]
    },
    {
     "name": "stdout",
     "output_type": "stream",
     "text": [
      "+---------+-----+\n",
      "|subreddit|count|\n",
      "+---------+-----+\n",
      "|   soccer|34345|\n",
      "+---------+-----+\n",
      "\n"
     ]
    },
    {
     "name": "stderr",
     "output_type": "stream",
     "text": [
      "                                                                                \r"
     ]
    }
   ],
   "source": [
    "# check counts (ensuring all needed subreddits exist)\n",
    "submissions.groupBy('subreddit').count().show()"
   ]
  },
  {
   "cell_type": "code",
   "execution_count": 9,
   "metadata": {
    "tags": []
   },
   "outputs": [
    {
     "name": "stderr",
     "output_type": "stream",
     "text": [
      "[Stage 7:>                                                          (0 + 1) / 1]\r"
     ]
    },
    {
     "name": "stdout",
     "output_type": "stream",
     "text": [
      "+--------------------+-------------------+-----+------------+--------------+--------+-------+-------------+--------------------+--------------------+\n",
      "|               title|        created_utc|score|num_comments|num_crossposts|is_video|over_18|distinguished|             preview|               media|\n",
      "+--------------------+-------------------+-----+------------+--------------+--------+-------+-------------+--------------------+--------------------+\n",
      "|[Sky Sports Footb...|2023-01-19 15:13:46|    1|           1|             0|   false|  false|         null|                null|{null, {Sky Sport...|\n",
      "|[Portsmouth News]...|2023-01-19 15:16:17|  555|          85|             0|   false|  false|         null|                null|                null|\n",
      "|Jonas Omlin signi...|2023-01-19 15:23:57|   96|          12|             0|   false|  false|         null|{false, [{yVBwrxA...|                null|\n",
      "|EFL: Championship...|2023-01-19 15:28:04|   33|          14|             0|   false|  false|         null|{false, [{s1lRhtU...|                null|\n",
      "|Al Ittihad [1] - ...|2023-01-19 15:28:50|   10|           3|             0|    true|  false|         null|{false, [{g5WLpDe...|{null, null, {htt...|\n",
      "|Fabrizio on Twitt...|2023-01-19 15:29:39|    1|           1|             0|   false|  false|         null|                null|{null, {Fabrizio ...|\n",
      "|FC Barcelona Wome...|2023-01-19 15:30:45|   46|          11|             0|   false|  false|         null|{false, [{6-_jKLY...|                null|\n",
      "|[Fabrizio Romano]...|2023-01-19 15:32:16|    9|          12|             0|   false|  false|         null|                null|{null, {Fabrizio ...|\n",
      "|[Lyall Thomas] Sw...|2023-01-19 15:32:23|   42|          12|             0|   false|  false|         null|                null|{null, {Lyall Tho...|\n",
      "|Atalanta [4]-2 Sp...|2023-01-19 15:33:42|  168|          35|             1|   false|  false|         null|                null|                null|\n",
      "|Mexico forfeits m...|2023-01-19 15:43:16|   23|           4|             0|   false|  false|         null|{false, [{Rd1d4dj...|                null|\n",
      "|[Hugo Delom - l'E...|2023-01-19 15:43:35|   17|           7|             0|   false|  false|         null|{false, [{tc9GvYb...|                null|\n",
      "|Columbus Crew acq...|2023-01-19 15:47:40|   28|           3|             0|   false|  false|         null|{false, [{MhWL9gx...|                null|\n",
      "|Drug testing afte...|2023-01-19 15:49:38|    1|           1|             0|   false|  false|         null|                null|                null|\n",
      "|What’s the reason...|2023-02-16 12:23:41|    1|           1|             0|   false|  false|         null|                null|                null|\n",
      "|[The Athletic] So...|2023-02-16 12:28:40| 2844|         285|             0|   false|  false|         null|{false, [{fz-zv9Q...|                null|\n",
      "|[Footballogue] Ne...|2023-02-16 12:33:48|    1|           1|             0|   false|  false|         null|                null|{null, {Footballo...|\n",
      "|[Gerard Romero] G...|2023-02-16 12:34:34|  574|         133|             1|   false|  false|         null|{false, [{J5_mIVV...|{null, {Gerard Ro...|\n",
      "|The Vietnam Footb...|2023-02-16 12:34:34|   40|          11|             0|   false|  false|         null|{false, [{6OJssU9...|                null|\n",
      "|Legendary Iranian...|2023-02-16 12:35:36|   40|           5|             0|   false|  false|         null|{false, [{RiiEhJ6...|                null|\n",
      "+--------------------+-------------------+-----+------------+--------------+--------+-------+-------------+--------------------+--------------------+\n",
      "only showing top 20 rows\n",
      "\n"
     ]
    },
    {
     "name": "stderr",
     "output_type": "stream",
     "text": [
      "                                                                                \r"
     ]
    }
   ],
   "source": [
    "# display a subset of columns\n",
    "df = submissions.select(\"title\", \"created_utc\", \"score\", \"num_comments\", \"num_crossposts\", \"is_video\", \"over_18\", \"distinguished\", \"preview\", \"media\").cache()\n",
    "df.show()"
   ]
  },
  {
   "cell_type": "code",
   "execution_count": 10,
   "metadata": {},
   "outputs": [
    {
     "name": "stdout",
     "output_type": "stream",
     "text": [
      "+-----+------------+--------------+--------+-------+-------------+---------------+--------+------------+-----+-------+\n",
      "|score|num_comments|num_crossposts|is_video|over_18|distinguished|preview_enabled|duration|title_length|night|popular|\n",
      "+-----+------------+--------------+--------+-------+-------------+---------------+--------+------------+-----+-------+\n",
      "|    1|           1|             0|   false|  false|        false|          false|       0|          14|false|      0|\n",
      "|  555|          85|             0|   false|  false|        false|          false|       0|          12|false|      1|\n",
      "|   96|          12|             0|   false|  false|        false|          false|       0|           8|false|      0|\n",
      "|   33|          14|             0|   false|  false|        false|          false|       0|          15|false|      0|\n",
      "|   10|           3|             0|    true|  false|        false|          false|      39|          21|false|      0|\n",
      "|    1|           1|             0|   false|  false|        false|          false|       0|          48|false|      0|\n",
      "|   46|          11|             0|   false|  false|        false|          false|       0|          22|false|      0|\n",
      "|    9|          12|             0|   false|  false|        false|          false|       0|          48|false|      0|\n",
      "|   42|          12|             0|   false|  false|        false|          false|       0|          26|false|      0|\n",
      "|  168|          35|             1|   false|  false|        false|          false|       0|           7|false|      1|\n",
      "|   23|           4|             0|   false|  false|        false|          false|       0|           8|false|      0|\n",
      "|   17|           7|             0|   false|  false|        false|          false|       0|          52|false|      0|\n",
      "|   28|           3|             0|   false|  false|        false|          false|       0|          12|false|      0|\n",
      "|    1|           1|             0|   false|  false|        false|          false|       0|           4|false|      0|\n",
      "|    1|           1|             0|   false|  false|        false|          false|       0|          12|false|      0|\n",
      "| 2844|         285|             0|   false|  false|        false|          false|       0|          25|false|      1|\n",
      "|    1|           1|             0|   false|  false|        false|          false|       0|          37|false|      0|\n",
      "|  574|         133|             1|   false|  false|        false|          false|       0|          44|false|      1|\n",
      "|   40|          11|             0|   false|  false|        false|          false|       0|          22|false|      0|\n",
      "|   40|           5|             0|   false|  false|        false|          false|       0|          13|false|      0|\n",
      "+-----+------------+--------------+--------+-------+-------------+---------------+--------+------------+-----+-------+\n",
      "only showing top 20 rows\n",
      "\n"
     ]
    }
   ],
   "source": [
    "from pyspark.sql.functions import explode, col, size, split, col, hour, from_utc_timestamp, when, coalesce, lit\n",
    "\n",
    "# get columns from the second layer of the schema\n",
    "df_cleaned = df.withColumn(\"preview_enabled\", col(\"preview.enabled\")).withColumn(\"duration\", col(\"media.reddit_video.duration\"))\\\n",
    "    .drop(\"preview\", \"media\").cache()\n",
    "\n",
    "# get the length of title\n",
    "df_cleaned = df_cleaned.withColumn(\"title_length\", size(split(df[\"title\"], \" \"))).drop(\"title\", \"\")\n",
    "\n",
    "# get the time of publish\n",
    "df_cleaned = df_cleaned.withColumn(\"night\", when((hour(col(\"created_utc\")) >= 3) & (hour(col(\"created_utc\")) < 18), False).otherwise(True))\\\n",
    "    .drop(\"created_utc\").withColumn(\"distinguished\", when(col(\"distinguished\").isNull(), False).otherwise(True))\n",
    "\n",
    "# define the target column\n",
    "df_cleaned = df_cleaned.withColumn(\"popular\", when(df[\"num_comments\"] > 20, 1).otherwise(0)).cache()\n",
    "\n",
    "# replace the null values\n",
    "df_cleaned = df_cleaned.withColumn(\"duration\", coalesce(df_cleaned[\"duration\"], lit(0)))\\\n",
    "    .withColumn(\"preview_enabled\", coalesce(df_cleaned[\"preview_enabled\"], lit(False))).cache()\n",
    "\n",
    "df_cleaned.show()"
   ]
  },
  {
   "cell_type": "code",
   "execution_count": 44,
   "metadata": {
    "tags": []
   },
   "outputs": [],
   "source": [
    "from pyspark.ml.feature import VectorAssembler, IndexToString, StringIndexer\n",
    "from pyspark.ml.classification  import RandomForestClassifier\n",
    "from pyspark.ml import Pipeline\n",
    "\n",
    "# drop extra columns\n",
    "df_num = df_cleaned.drop(\"duration\", \"num_comments\")\n",
    "\n",
    "# assemble all variables for training\n",
    "feature_list = []\n",
    "for col in df_num.columns:\n",
    "    if col == 'popular':\n",
    "        continue\n",
    "    else:\n",
    "        feature_list.append(col)\n",
    "assembler = VectorAssembler(inputCols=feature_list, outputCol=\"features\")\n",
    "\n",
    "# create a random forest model\n",
    "rf = RandomForestClassifier(labelCol=\"popular\", featuresCol=\"features\")\n",
    "\n",
    "# create a pipeline\n",
    "pipeline = Pipeline(stages=[assembler, rf])"
   ]
  },
  {
   "cell_type": "code",
   "execution_count": 45,
   "metadata": {
    "tags": []
   },
   "outputs": [],
   "source": [
    "from pyspark.ml.tuning import ParamGridBuilder, CrossValidator\n",
    "from pyspark.ml.evaluation import MulticlassClassificationEvaluator\n",
    "import numpy as np\n",
    "\n",
    "# create a parameter map for grid search\n",
    "paramGrid = ParamGridBuilder() \\\n",
    "    .addGrid(rf.numTrees, [int(x) for x in np.linspace(start = 10, stop = 50, num = 3)]) \\\n",
    "    .addGrid(rf.maxDepth, [int(x) for x in np.linspace(start = 5, stop = 25, num = 3)]) \\\n",
    "    .build()\n",
    "\n",
    "# implement crossvalidation\n",
    "crossval = CrossValidator(estimator=pipeline,\n",
    "                          estimatorParamMaps=paramGrid,\n",
    "                          evaluator=MulticlassClassificationEvaluator(labelCol=\"popular\"),\n",
    "                          numFolds=5)"
   ]
  },
  {
   "cell_type": "code",
   "execution_count": 46,
   "metadata": {
    "tags": []
   },
   "outputs": [
    {
     "name": "stderr",
     "output_type": "stream",
     "text": [
      "23/11/30 19:11:03 WARN DAGScheduler: Broadcasting large task binary with size 1007.8 KiB\n",
      "23/11/30 19:11:04 WARN DAGScheduler: Broadcasting large task binary with size 1332.3 KiB\n",
      "23/11/30 19:11:04 WARN DAGScheduler: Broadcasting large task binary with size 1664.3 KiB\n",
      "23/11/30 19:11:05 WARN DAGScheduler: Broadcasting large task binary with size 1969.1 KiB\n",
      "23/11/30 19:11:06 WARN DAGScheduler: Broadcasting large task binary with size 2.2 MiB\n",
      "23/11/30 19:11:07 WARN DAGScheduler: Broadcasting large task binary with size 2.3 MiB\n",
      "23/11/30 19:11:08 WARN DAGScheduler: Broadcasting large task binary with size 2.5 MiB\n",
      "23/11/30 19:11:09 WARN DAGScheduler: Broadcasting large task binary with size 1007.7 KiB\n",
      "23/11/30 19:11:12 WARN DAGScheduler: Broadcasting large task binary with size 1007.8 KiB\n",
      "23/11/30 19:11:13 WARN DAGScheduler: Broadcasting large task binary with size 1332.3 KiB\n",
      "23/11/30 19:11:14 WARN DAGScheduler: Broadcasting large task binary with size 1664.3 KiB\n",
      "23/11/30 19:11:15 WARN DAGScheduler: Broadcasting large task binary with size 1969.1 KiB\n",
      "23/11/30 19:11:16 WARN DAGScheduler: Broadcasting large task binary with size 2.2 MiB\n",
      "23/11/30 19:11:17 WARN DAGScheduler: Broadcasting large task binary with size 2.3 MiB\n",
      "23/11/30 19:11:18 WARN DAGScheduler: Broadcasting large task binary with size 2.5 MiB\n",
      "23/11/30 19:11:19 WARN DAGScheduler: Broadcasting large task binary with size 2.4 MiB\n",
      "23/11/30 19:11:20 WARN DAGScheduler: Broadcasting large task binary with size 2.4 MiB\n",
      "23/11/30 19:11:21 WARN DAGScheduler: Broadcasting large task binary with size 1926.5 KiB\n",
      "23/11/30 19:11:21 WARN DAGScheduler: Broadcasting large task binary with size 1268.8 KiB\n",
      "23/11/30 19:11:22 WARN DAGScheduler: Broadcasting large task binary with size 1216.2 KiB\n",
      "23/11/30 19:11:22 WARN DAGScheduler: Broadcasting large task binary with size 1037.2 KiB\n",
      "23/11/30 19:11:28 WARN DAGScheduler: Broadcasting large task binary with size 1108.9 KiB\n",
      "23/11/30 19:11:29 WARN DAGScheduler: Broadcasting large task binary with size 1565.0 KiB\n",
      "23/11/30 19:11:30 WARN DAGScheduler: Broadcasting large task binary with size 2.0 MiB\n",
      "23/11/30 19:11:31 WARN DAGScheduler: Broadcasting large task binary with size 2.6 MiB\n",
      "23/11/30 19:11:33 WARN DAGScheduler: Broadcasting large task binary with size 3.1 MiB\n",
      "23/11/30 19:11:34 WARN DAGScheduler: Broadcasting large task binary with size 3.5 MiB\n",
      "23/11/30 19:11:36 WARN DAGScheduler: Broadcasting large task binary with size 3.8 MiB\n",
      "23/11/30 19:11:37 WARN DAGScheduler: Broadcasting large task binary with size 4.0 MiB\n",
      "23/11/30 19:11:39 WARN DAGScheduler: Broadcasting large task binary with size 1558.4 KiB\n",
      "23/11/30 19:11:42 WARN DAGScheduler: Broadcasting large task binary with size 1108.9 KiB\n",
      "23/11/30 19:11:43 WARN DAGScheduler: Broadcasting large task binary with size 1565.0 KiB\n",
      "23/11/30 19:11:44 WARN DAGScheduler: Broadcasting large task binary with size 2.0 MiB\n",
      "23/11/30 19:11:46 WARN DAGScheduler: Broadcasting large task binary with size 2.6 MiB\n",
      "23/11/30 19:11:48 WARN DAGScheduler: Broadcasting large task binary with size 3.1 MiB\n",
      "23/11/30 19:11:49 WARN DAGScheduler: Broadcasting large task binary with size 3.5 MiB\n",
      "23/11/30 19:11:51 WARN DAGScheduler: Broadcasting large task binary with size 3.8 MiB\n",
      "23/11/30 19:11:52 WARN DAGScheduler: Broadcasting large task binary with size 4.0 MiB\n",
      "23/11/30 19:11:54 WARN DAGScheduler: Broadcasting large task binary with size 4.1 MiB\n",
      "23/11/30 19:11:55 WARN DAGScheduler: Broadcasting large task binary with size 3.8 MiB\n",
      "23/11/30 19:11:57 WARN DAGScheduler: Broadcasting large task binary with size 3.5 MiB\n",
      "23/11/30 19:11:58 WARN DAGScheduler: Broadcasting large task binary with size 2.6 MiB\n",
      "23/11/30 19:11:59 WARN DAGScheduler: Broadcasting large task binary with size 1714.6 KiB\n",
      "23/11/30 19:11:59 WARN DAGScheduler: Broadcasting large task binary with size 1218.0 KiB\n",
      "23/11/30 19:12:00 WARN DAGScheduler: Broadcasting large task binary with size 1616.5 KiB\n",
      "23/11/30 19:12:18 WARN DAGScheduler: Broadcasting large task binary with size 1311.6 KiB\n",
      "23/11/30 19:12:18 WARN DAGScheduler: Broadcasting large task binary with size 1633.9 KiB\n",
      "23/11/30 19:12:19 WARN DAGScheduler: Broadcasting large task binary with size 1930.6 KiB\n",
      "23/11/30 19:12:20 WARN DAGScheduler: Broadcasting large task binary with size 2.1 MiB\n",
      "23/11/30 19:12:21 WARN DAGScheduler: Broadcasting large task binary with size 2.3 MiB\n",
      "23/11/30 19:12:22 WARN DAGScheduler: Broadcasting large task binary with size 2.4 MiB\n",
      "23/11/30 19:12:27 WARN DAGScheduler: Broadcasting large task binary with size 1311.6 KiB\n",
      "23/11/30 19:12:28 WARN DAGScheduler: Broadcasting large task binary with size 1633.9 KiB\n",
      "23/11/30 19:12:29 WARN DAGScheduler: Broadcasting large task binary with size 1930.6 KiB\n",
      "23/11/30 19:12:30 WARN DAGScheduler: Broadcasting large task binary with size 2.1 MiB\n",
      "23/11/30 19:12:31 WARN DAGScheduler: Broadcasting large task binary with size 2.3 MiB\n",
      "23/11/30 19:12:32 WARN DAGScheduler: Broadcasting large task binary with size 2.4 MiB\n",
      "23/11/30 19:12:32 WARN DAGScheduler: Broadcasting large task binary with size 2.5 MiB\n",
      "23/11/30 19:12:34 WARN DAGScheduler: Broadcasting large task binary with size 2.4 MiB\n",
      "23/11/30 19:12:34 WARN DAGScheduler: Broadcasting large task binary with size 2.1 MiB\n",
      "23/11/30 19:12:35 WARN DAGScheduler: Broadcasting large task binary with size 1409.3 KiB\n",
      "23/11/30 19:12:36 WARN DAGScheduler: Broadcasting large task binary with size 1026.2 KiB\n",
      "23/11/30 19:12:41 WARN DAGScheduler: Broadcasting large task binary with size 1106.3 KiB\n",
      "23/11/30 19:12:42 WARN DAGScheduler: Broadcasting large task binary with size 1552.3 KiB\n",
      "23/11/30 19:12:44 WARN DAGScheduler: Broadcasting large task binary with size 2.0 MiB\n",
      "23/11/30 19:12:45 WARN DAGScheduler: Broadcasting large task binary with size 2.6 MiB\n",
      "23/11/30 19:12:46 WARN DAGScheduler: Broadcasting large task binary with size 3.1 MiB\n",
      "23/11/30 19:12:48 WARN DAGScheduler: Broadcasting large task binary with size 3.5 MiB\n",
      "23/11/30 19:12:49 WARN DAGScheduler: Broadcasting large task binary with size 3.8 MiB\n",
      "23/11/30 19:12:51 WARN DAGScheduler: Broadcasting large task binary with size 4.1 MiB\n",
      "23/11/30 19:12:53 WARN DAGScheduler: Broadcasting large task binary with size 1593.8 KiB\n",
      "23/11/30 19:12:56 WARN DAGScheduler: Broadcasting large task binary with size 1106.4 KiB\n",
      "23/11/30 19:12:57 WARN DAGScheduler: Broadcasting large task binary with size 1552.3 KiB\n",
      "23/11/30 19:12:58 WARN DAGScheduler: Broadcasting large task binary with size 2.0 MiB\n",
      "23/11/30 19:12:59 WARN DAGScheduler: Broadcasting large task binary with size 2.6 MiB\n",
      "23/11/30 19:13:00 WARN DAGScheduler: Broadcasting large task binary with size 3.1 MiB\n",
      "23/11/30 19:13:02 WARN DAGScheduler: Broadcasting large task binary with size 3.5 MiB\n",
      "23/11/30 19:13:04 WARN DAGScheduler: Broadcasting large task binary with size 3.8 MiB\n",
      "23/11/30 19:13:05 WARN DAGScheduler: Broadcasting large task binary with size 4.1 MiB\n",
      "23/11/30 19:13:07 WARN DAGScheduler: Broadcasting large task binary with size 4.2 MiB\n",
      "23/11/30 19:13:08 WARN DAGScheduler: Broadcasting large task binary with size 3.9 MiB\n",
      "23/11/30 19:13:10 WARN DAGScheduler: Broadcasting large task binary with size 3.6 MiB\n",
      "23/11/30 19:13:11 WARN DAGScheduler: Broadcasting large task binary with size 3.2 MiB\n",
      "23/11/30 19:13:12 WARN DAGScheduler: Broadcasting large task binary with size 2.1 MiB\n",
      "23/11/30 19:13:12 WARN DAGScheduler: Broadcasting large task binary with size 1081.6 KiB\n",
      "23/11/30 19:13:13 WARN DAGScheduler: Broadcasting large task binary with size 1652.4 KiB\n",
      "23/11/30 19:13:24 WARN DAGScheduler: Broadcasting large task binary with size 1000.3 KiB\n",
      "23/11/30 19:13:25 WARN DAGScheduler: Broadcasting large task binary with size 1004.7 KiB\n",
      "23/11/30 19:13:31 WARN DAGScheduler: Broadcasting large task binary with size 1312.6 KiB\n",
      "23/11/30 19:13:32 WARN DAGScheduler: Broadcasting large task binary with size 1645.1 KiB\n",
      "23/11/30 19:13:33 WARN DAGScheduler: Broadcasting large task binary with size 1956.0 KiB\n",
      "23/11/30 19:13:34 WARN DAGScheduler: Broadcasting large task binary with size 2.2 MiB\n",
      "23/11/30 19:13:35 WARN DAGScheduler: Broadcasting large task binary with size 2.3 MiB\n",
      "23/11/30 19:13:36 WARN DAGScheduler: Broadcasting large task binary with size 2.5 MiB\n",
      "23/11/30 19:13:37 WARN DAGScheduler: Broadcasting large task binary with size 1006.5 KiB\n",
      "23/11/30 19:13:41 WARN DAGScheduler: Broadcasting large task binary with size 1312.6 KiB\n",
      "23/11/30 19:13:41 WARN DAGScheduler: Broadcasting large task binary with size 1645.1 KiB\n",
      "23/11/30 19:13:42 WARN DAGScheduler: Broadcasting large task binary with size 1956.0 KiB\n",
      "23/11/30 19:13:43 WARN DAGScheduler: Broadcasting large task binary with size 2.2 MiB\n",
      "23/11/30 19:13:44 WARN DAGScheduler: Broadcasting large task binary with size 2.3 MiB\n",
      "23/11/30 19:13:45 WARN DAGScheduler: Broadcasting large task binary with size 2.5 MiB\n",
      "23/11/30 19:13:46 WARN DAGScheduler: Broadcasting large task binary with size 2.5 MiB\n",
      "23/11/30 19:13:47 WARN DAGScheduler: Broadcasting large task binary with size 2.6 MiB\n",
      "23/11/30 19:13:48 WARN DAGScheduler: Broadcasting large task binary with size 2.1 MiB\n",
      "23/11/30 19:13:48 WARN DAGScheduler: Broadcasting large task binary with size 1269.2 KiB\n",
      "23/11/30 19:13:50 WARN DAGScheduler: Broadcasting large task binary with size 1045.4 KiB\n",
      "23/11/30 19:13:55 WARN DAGScheduler: Broadcasting large task binary with size 1101.0 KiB\n",
      "23/11/30 19:13:56 WARN DAGScheduler: Broadcasting large task binary with size 1541.3 KiB\n",
      "23/11/30 19:13:57 WARN DAGScheduler: Broadcasting large task binary with size 2.0 MiB\n",
      "23/11/30 19:13:58 WARN DAGScheduler: Broadcasting large task binary with size 2.6 MiB\n",
      "23/11/30 19:14:00 WARN DAGScheduler: Broadcasting large task binary with size 3.1 MiB\n",
      "23/11/30 19:14:01 WARN DAGScheduler: Broadcasting large task binary with size 3.5 MiB\n",
      "23/11/30 19:14:03 WARN DAGScheduler: Broadcasting large task binary with size 3.8 MiB\n",
      "23/11/30 19:14:04 WARN DAGScheduler: Broadcasting large task binary with size 4.1 MiB\n",
      "23/11/30 19:14:06 WARN DAGScheduler: Broadcasting large task binary with size 1610.1 KiB\n",
      "23/11/30 19:14:09 WARN DAGScheduler: Broadcasting large task binary with size 1101.0 KiB\n",
      "23/11/30 19:14:10 WARN DAGScheduler: Broadcasting large task binary with size 1541.3 KiB\n",
      "23/11/30 19:14:11 WARN DAGScheduler: Broadcasting large task binary with size 2.0 MiB\n",
      "23/11/30 19:14:12 WARN DAGScheduler: Broadcasting large task binary with size 2.6 MiB\n",
      "23/11/30 19:14:14 WARN DAGScheduler: Broadcasting large task binary with size 3.1 MiB\n",
      "23/11/30 19:14:15 WARN DAGScheduler: Broadcasting large task binary with size 3.5 MiB\n",
      "23/11/30 19:14:17 WARN DAGScheduler: Broadcasting large task binary with size 3.8 MiB\n",
      "23/11/30 19:14:18 WARN DAGScheduler: Broadcasting large task binary with size 4.1 MiB\n",
      "23/11/30 19:14:20 WARN DAGScheduler: Broadcasting large task binary with size 4.1 MiB\n",
      "23/11/30 19:14:21 WARN DAGScheduler: Broadcasting large task binary with size 3.9 MiB\n",
      "23/11/30 19:14:23 WARN DAGScheduler: Broadcasting large task binary with size 3.6 MiB\n",
      "23/11/30 19:14:24 WARN DAGScheduler: Broadcasting large task binary with size 3.0 MiB\n",
      "23/11/30 19:14:25 WARN DAGScheduler: Broadcasting large task binary with size 1841.7 KiB\n",
      "23/11/30 19:14:26 WARN DAGScheduler: Broadcasting large task binary with size 1667.2 KiB\n",
      "23/11/30 19:14:37 WARN DAGScheduler: Broadcasting large task binary with size 1000.6 KiB\n",
      "23/11/30 19:14:37 WARN DAGScheduler: Broadcasting large task binary with size 1016.4 KiB\n",
      "23/11/30 19:14:44 WARN DAGScheduler: Broadcasting large task binary with size 1287.0 KiB\n",
      "23/11/30 19:14:44 WARN DAGScheduler: Broadcasting large task binary with size 1610.9 KiB\n",
      "23/11/30 19:14:45 WARN DAGScheduler: Broadcasting large task binary with size 1920.3 KiB\n",
      "23/11/30 19:14:46 WARN DAGScheduler: Broadcasting large task binary with size 2.1 MiB\n",
      "23/11/30 19:14:47 WARN DAGScheduler: Broadcasting large task binary with size 2.3 MiB\n",
      "23/11/30 19:14:48 WARN DAGScheduler: Broadcasting large task binary with size 2.4 MiB\n",
      "23/11/30 19:14:49 WARN DAGScheduler: Broadcasting large task binary with size 1007.9 KiB\n",
      "23/11/30 19:14:52 WARN DAGScheduler: Broadcasting large task binary with size 1287.0 KiB\n",
      "23/11/30 19:14:53 WARN DAGScheduler: Broadcasting large task binary with size 1610.9 KiB\n",
      "23/11/30 19:14:54 WARN DAGScheduler: Broadcasting large task binary with size 1920.3 KiB\n",
      "23/11/30 19:14:55 WARN DAGScheduler: Broadcasting large task binary with size 2.1 MiB\n",
      "23/11/30 19:14:56 WARN DAGScheduler: Broadcasting large task binary with size 2.3 MiB\n",
      "23/11/30 19:14:57 WARN DAGScheduler: Broadcasting large task binary with size 2.4 MiB\n",
      "23/11/30 19:14:57 WARN DAGScheduler: Broadcasting large task binary with size 2.4 MiB\n",
      "23/11/30 19:14:58 WARN DAGScheduler: Broadcasting large task binary with size 2.2 MiB\n",
      "23/11/30 19:14:59 WARN DAGScheduler: Broadcasting large task binary with size 2.2 MiB\n",
      "23/11/30 19:15:00 WARN DAGScheduler: Broadcasting large task binary with size 1417.5 KiB\n",
      "23/11/30 19:15:00 WARN DAGScheduler: Broadcasting large task binary with size 1027.4 KiB\n",
      "23/11/30 19:15:06 WARN DAGScheduler: Broadcasting large task binary with size 1101.1 KiB\n",
      "23/11/30 19:15:07 WARN DAGScheduler: Broadcasting large task binary with size 1540.7 KiB\n",
      "23/11/30 19:15:08 WARN DAGScheduler: Broadcasting large task binary with size 2.0 MiB\n",
      "23/11/30 19:15:10 WARN DAGScheduler: Broadcasting large task binary with size 2.5 MiB\n",
      "23/11/30 19:15:11 WARN DAGScheduler: Broadcasting large task binary with size 3.1 MiB\n",
      "23/11/30 19:15:13 WARN DAGScheduler: Broadcasting large task binary with size 3.5 MiB\n",
      "23/11/30 19:15:14 WARN DAGScheduler: Broadcasting large task binary with size 3.8 MiB\n",
      "23/11/30 19:15:16 WARN DAGScheduler: Broadcasting large task binary with size 4.0 MiB\n",
      "23/11/30 19:15:18 WARN DAGScheduler: Broadcasting large task binary with size 1580.2 KiB\n",
      "23/11/30 19:15:21 WARN DAGScheduler: Broadcasting large task binary with size 1101.1 KiB\n",
      "23/11/30 19:15:22 WARN DAGScheduler: Broadcasting large task binary with size 1540.7 KiB\n",
      "23/11/30 19:15:23 WARN DAGScheduler: Broadcasting large task binary with size 2.0 MiB\n",
      "23/11/30 19:15:25 WARN DAGScheduler: Broadcasting large task binary with size 2.5 MiB\n",
      "23/11/30 19:15:26 WARN DAGScheduler: Broadcasting large task binary with size 3.1 MiB\n",
      "23/11/30 19:15:27 WARN DAGScheduler: Broadcasting large task binary with size 3.5 MiB\n",
      "23/11/30 19:15:29 WARN DAGScheduler: Broadcasting large task binary with size 3.8 MiB\n",
      "23/11/30 19:15:31 WARN DAGScheduler: Broadcasting large task binary with size 4.0 MiB\n",
      "23/11/30 19:15:32 WARN DAGScheduler: Broadcasting large task binary with size 4.1 MiB\n",
      "23/11/30 19:15:34 WARN DAGScheduler: Broadcasting large task binary with size 4.0 MiB\n",
      "23/11/30 19:15:35 WARN DAGScheduler: Broadcasting large task binary with size 3.8 MiB\n",
      "23/11/30 19:15:36 WARN DAGScheduler: Broadcasting large task binary with size 2.7 MiB\n",
      "23/11/30 19:15:37 WARN DAGScheduler: Broadcasting large task binary with size 1755.7 KiB\n",
      "23/11/30 19:15:38 WARN DAGScheduler: Broadcasting large task binary with size 1388.5 KiB\n",
      "23/11/30 19:15:39 WARN DAGScheduler: Broadcasting large task binary with size 1642.2 KiB\n",
      "23/11/30 19:15:50 WARN DAGScheduler: Broadcasting large task binary with size 1026.3 KiB\n",
      "23/11/30 19:15:56 WARN DAGScheduler: Broadcasting large task binary with size 1302.4 KiB\n",
      "23/11/30 19:15:57 WARN DAGScheduler: Broadcasting large task binary with size 1631.1 KiB\n",
      "23/11/30 19:15:58 WARN DAGScheduler: Broadcasting large task binary with size 1949.4 KiB\n",
      "23/11/30 19:15:59 WARN DAGScheduler: Broadcasting large task binary with size 2.2 MiB\n",
      "23/11/30 19:16:00 WARN DAGScheduler: Broadcasting large task binary with size 2.4 MiB\n",
      "23/11/30 19:16:01 WARN DAGScheduler: Broadcasting large task binary with size 2.5 MiB\n",
      "23/11/30 19:16:02 WARN DAGScheduler: Broadcasting large task binary with size 1032.7 KiB\n",
      "23/11/30 19:16:05 WARN DAGScheduler: Broadcasting large task binary with size 1302.4 KiB\n",
      "23/11/30 19:16:06 WARN DAGScheduler: Broadcasting large task binary with size 1631.1 KiB\n",
      "23/11/30 19:16:07 WARN DAGScheduler: Broadcasting large task binary with size 1949.4 KiB\n",
      "23/11/30 19:16:08 WARN DAGScheduler: Broadcasting large task binary with size 2.2 MiB\n",
      "23/11/30 19:16:09 WARN DAGScheduler: Broadcasting large task binary with size 2.4 MiB\n",
      "23/11/30 19:16:10 WARN DAGScheduler: Broadcasting large task binary with size 2.5 MiB\n",
      "23/11/30 19:16:11 WARN DAGScheduler: Broadcasting large task binary with size 2.5 MiB\n",
      "23/11/30 19:16:12 WARN DAGScheduler: Broadcasting large task binary with size 2.6 MiB\n",
      "23/11/30 19:16:12 WARN DAGScheduler: Broadcasting large task binary with size 2.4 MiB\n",
      "23/11/30 19:16:13 WARN DAGScheduler: Broadcasting large task binary with size 1717.9 KiB\n",
      "23/11/30 19:16:14 WARN DAGScheduler: Broadcasting large task binary with size 1324.1 KiB\n",
      "23/11/30 19:16:15 WARN DAGScheduler: Broadcasting large task binary with size 1065.5 KiB\n",
      "23/11/30 19:16:20 WARN DAGScheduler: Broadcasting large task binary with size 1089.0 KiB\n",
      "23/11/30 19:16:21 WARN DAGScheduler: Broadcasting large task binary with size 1539.4 KiB\n",
      "23/11/30 19:16:22 WARN DAGScheduler: Broadcasting large task binary with size 2.0 MiB\n",
      "23/11/30 19:16:23 WARN DAGScheduler: Broadcasting large task binary with size 2.6 MiB\n",
      "23/11/30 19:16:25 WARN DAGScheduler: Broadcasting large task binary with size 3.1 MiB\n",
      "23/11/30 19:16:26 WARN DAGScheduler: Broadcasting large task binary with size 3.6 MiB\n",
      "23/11/30 19:16:28 WARN DAGScheduler: Broadcasting large task binary with size 3.9 MiB\n",
      "23/11/30 19:16:30 WARN DAGScheduler: Broadcasting large task binary with size 4.1 MiB\n",
      "23/11/30 19:16:31 WARN DAGScheduler: Broadcasting large task binary with size 1599.3 KiB\n",
      "23/11/30 19:16:35 WARN DAGScheduler: Broadcasting large task binary with size 1089.0 KiB\n",
      "23/11/30 19:16:36 WARN DAGScheduler: Broadcasting large task binary with size 1539.4 KiB\n",
      "23/11/30 19:16:37 WARN DAGScheduler: Broadcasting large task binary with size 2.0 MiB\n",
      "23/11/30 19:16:38 WARN DAGScheduler: Broadcasting large task binary with size 2.6 MiB\n",
      "23/11/30 19:16:40 WARN DAGScheduler: Broadcasting large task binary with size 3.1 MiB\n",
      "23/11/30 19:16:41 WARN DAGScheduler: Broadcasting large task binary with size 3.6 MiB\n",
      "23/11/30 19:16:43 WARN DAGScheduler: Broadcasting large task binary with size 3.9 MiB\n",
      "23/11/30 19:16:44 WARN DAGScheduler: Broadcasting large task binary with size 4.1 MiB\n",
      "23/11/30 19:16:46 WARN DAGScheduler: Broadcasting large task binary with size 4.3 MiB\n",
      "23/11/30 19:16:47 WARN DAGScheduler: Broadcasting large task binary with size 4.3 MiB\n",
      "23/11/30 19:16:49 WARN DAGScheduler: Broadcasting large task binary with size 3.6 MiB\n",
      "23/11/30 19:16:50 WARN DAGScheduler: Broadcasting large task binary with size 2.8 MiB\n",
      "23/11/30 19:16:51 WARN DAGScheduler: Broadcasting large task binary with size 2.1 MiB\n",
      "23/11/30 19:16:52 WARN DAGScheduler: Broadcasting large task binary with size 1656.8 KiB\n",
      "23/11/30 19:16:56 WARN DAGScheduler: Broadcasting large task binary with size 1133.5 KiB\n",
      "23/11/30 19:16:57 WARN DAGScheduler: Broadcasting large task binary with size 1622.5 KiB\n",
      "23/11/30 19:16:58 WARN DAGScheduler: Broadcasting large task binary with size 2.1 MiB\n",
      "23/11/30 19:17:00 WARN DAGScheduler: Broadcasting large task binary with size 2.7 MiB\n",
      "23/11/30 19:17:01 WARN DAGScheduler: Broadcasting large task binary with size 3.3 MiB\n",
      "23/11/30 19:17:03 WARN DAGScheduler: Broadcasting large task binary with size 3.7 MiB\n",
      "23/11/30 19:17:05 WARN DAGScheduler: Broadcasting large task binary with size 4.1 MiB\n",
      "23/11/30 19:17:06 WARN DAGScheduler: Broadcasting large task binary with size 4.3 MiB\n",
      "                                                                                \r"
     ]
    }
   ],
   "source": [
    "# split the dataset\n",
    "(trainingData, testData) = df_num.randomSplit([0.8, 0.2])\n",
    "\n",
    "# train the data with training set and get predictions of test set\n",
    "cvModel = crossval.fit(trainingData)\n",
    "predictions = cvModel.transform(testData)"
   ]
  },
  {
   "cell_type": "code",
   "execution_count": 47,
   "metadata": {
    "tags": []
   },
   "outputs": [
    {
     "name": "stderr",
     "output_type": "stream",
     "text": [
      "23/11/30 19:17:08 WARN DAGScheduler: Broadcasting large task binary with size 1624.4 KiB\n"
     ]
    },
    {
     "data": {
      "text/plain": [
       "0.8923923385129227"
      ]
     },
     "execution_count": 47,
     "metadata": {},
     "output_type": "execute_result"
    }
   ],
   "source": [
    "# get the accuracy of prediction\n",
    "evaluator = MulticlassClassificationEvaluator()\n",
    "evaluator.setPredictionCol(\"prediction\")\n",
    "evaluator.setLabelCol(\"popular\")\n",
    "evaluator.evaluate(predictions)"
   ]
  },
  {
   "cell_type": "code",
   "execution_count": 48,
   "metadata": {
    "tags": []
   },
   "outputs": [
    {
     "data": {
      "text/plain": [
       "RandomForestClassificationModel: uid=RandomForestClassifier_414f3bb00090, numTrees=50, numClasses=2, numFeatures=8"
      ]
     },
     "execution_count": 48,
     "metadata": {},
     "output_type": "execute_result"
    }
   ],
   "source": [
    "# check parameters of the model selected by grid search\n",
    "model = cvModel.bestModel.stages[-1]\n",
    "model"
   ]
  },
  {
   "cell_type": "code",
   "execution_count": 49,
   "metadata": {
    "tags": []
   },
   "outputs": [
    {
     "data": {
      "text/plain": [
       "15"
      ]
     },
     "execution_count": 49,
     "metadata": {},
     "output_type": "execute_result"
    }
   ],
   "source": [
    "model.getMaxDepth()"
   ]
  },
  {
   "cell_type": "code",
   "execution_count": 50,
   "metadata": {
    "tags": []
   },
   "outputs": [],
   "source": [
    "# get the feature importance of the model\n",
    "importances = model.featureImportances"
   ]
  },
  {
   "cell_type": "code",
   "execution_count": 52,
   "metadata": {
    "tags": []
   },
   "outputs": [
    {
     "data": {
      "image/png": "[encoded data removed]",
      "text/plain": [
       "<Figure size 2000x1200 with 1 Axes>"
      ]
     },
     "metadata": {},
     "output_type": "display_data"
    }
   ],
   "source": [
    "import matplotlib.pyplot as plt\n",
    "import seaborn as sns\n",
    "\n",
    "importance_values = importances.toArray()\n",
    "sorted_importances, sorted_features = zip(*sorted(zip(importance_values, feature_list), reverse=True))\n",
    "\n",
    "# Creating the bar plot\n",
    "plt.figure(figsize=(20, 12))\n",
    "sns.barplot(x=list(sorted_features), y=list(sorted_importances), palette='Set2')\n",
    "plt.xticks(rotation=45)\n",
    "plt.tick_params(axis='both', labelsize=24)\n",
    "plt.ylabel('Importance', fontsize=28)\n",
    "plt.xlabel('Feature', fontsize=28)\n",
    "plt.title('Feature Importances', fontsize=40)\n",
    "plt.show()"
   ]
  },
  {
   "cell_type": "code",
   "execution_count": 68,
   "metadata": {
    "tags": []
   },
   "outputs": [],
   "source": [
    "# save self-trained random forest model to local\n",
    "cvModel.bestModel.save(\"../../model/random forest\")"
   ]
  }
 ],
 "metadata": {
  "availableInstances": [
   {
    "_defaultOrder": 0,
    "_isFastLaunch": true,
    "category": "General purpose",
    "gpuNum": 0,
    "hideHardwareSpecs": false,
    "memoryGiB": 4,
    "name": "ml.t3.medium",
    "vcpuNum": 2
   },
   {
    "_defaultOrder": 1,
    "_isFastLaunch": false,
    "category": "General purpose",
    "gpuNum": 0,
    "hideHardwareSpecs": false,
    "memoryGiB": 8,
    "name": "ml.t3.large",
    "vcpuNum": 2
   },
   {
    "_defaultOrder": 2,
    "_isFastLaunch": false,
    "category": "General purpose",
    "gpuNum": 0,
    "hideHardwareSpecs": false,
    "memoryGiB": 16,
    "name": "ml.t3.xlarge",
    "vcpuNum": 4
   },
   {
    "_defaultOrder": 3,
    "_isFastLaunch": false,
    "category": "General purpose",
    "gpuNum": 0,
    "hideHardwareSpecs": false,
    "memoryGiB": 32,
    "name": "ml.t3.2xlarge",
    "vcpuNum": 8
   },
   {
    "_defaultOrder": 4,
    "_isFastLaunch": true,
    "category": "General purpose",
    "gpuNum": 0,
    "hideHardwareSpecs": false,
    "memoryGiB": 8,
    "name": "ml.m5.large",
    "vcpuNum": 2
   },
   {
    "_defaultOrder": 5,
    "_isFastLaunch": false,
    "category": "General purpose",
    "gpuNum": 0,
    "hideHardwareSpecs": false,
    "memoryGiB": 16,
    "name": "ml.m5.xlarge",
    "vcpuNum": 4
   },
   {
    "_defaultOrder": 6,
    "_isFastLaunch": false,
    "category": "General purpose",
    "gpuNum": 0,
    "hideHardwareSpecs": false,
    "memoryGiB": 32,
    "name": "ml.m5.2xlarge",
    "vcpuNum": 8
   },
   {
    "_defaultOrder": 7,
    "_isFastLaunch": false,
    "category": "General purpose",
    "gpuNum": 0,
    "hideHardwareSpecs": false,
    "memoryGiB": 64,
    "name": "ml.m5.4xlarge",
    "vcpuNum": 16
   },
   {
    "_defaultOrder": 8,
    "_isFastLaunch": false,
    "category": "General purpose",
    "gpuNum": 0,
    "hideHardwareSpecs": false,
    "memoryGiB": 128,
    "name": "ml.m5.8xlarge",
    "vcpuNum": 32
   },
   {
    "_defaultOrder": 9,
    "_isFastLaunch": false,
    "category": "General purpose",
    "gpuNum": 0,
    "hideHardwareSpecs": false,
    "memoryGiB": 192,
    "name": "ml.m5.12xlarge",
    "vcpuNum": 48
   },
   {
    "_defaultOrder": 10,
    "_isFastLaunch": false,
    "category": "General purpose",
    "gpuNum": 0,
    "hideHardwareSpecs": false,
    "memoryGiB": 256,
    "name": "ml.m5.16xlarge",
    "vcpuNum": 64
   },
   {
    "_defaultOrder": 11,
    "_isFastLaunch": false,
    "category": "General purpose",
    "gpuNum": 0,
    "hideHardwareSpecs": false,
    "memoryGiB": 384,
    "name": "ml.m5.24xlarge",
    "vcpuNum": 96
   },
   {
    "_defaultOrder": 12,
    "_isFastLaunch": false,
    "category": "General purpose",
    "gpuNum": 0,
    "hideHardwareSpecs": false,
    "memoryGiB": 8,
    "name": "ml.m5d.large",
    "vcpuNum": 2
   },
   {
    "_defaultOrder": 13,
    "_isFastLaunch": false,
    "category": "General purpose",
    "gpuNum": 0,
    "hideHardwareSpecs": false,
    "memoryGiB": 16,
    "name": "ml.m5d.xlarge",
    "vcpuNum": 4
   },
   {
    "_defaultOrder": 14,
    "_isFastLaunch": false,
    "category": "General purpose",
    "gpuNum": 0,
    "hideHardwareSpecs": false,
    "memoryGiB": 32,
    "name": "ml.m5d.2xlarge",
    "vcpuNum": 8
   },
   {
    "_defaultOrder": 15,
    "_isFastLaunch": false,
    "category": "General purpose",
    "gpuNum": 0,
    "hideHardwareSpecs": false,
    "memoryGiB": 64,
    "name": "ml.m5d.4xlarge",
    "vcpuNum": 16
   },
   {
    "_defaultOrder": 16,
    "_isFastLaunch": false,
    "category": "General purpose",
    "gpuNum": 0,
    "hideHardwareSpecs": false,
    "memoryGiB": 128,
    "name": "ml.m5d.8xlarge",
    "vcpuNum": 32
   },
   {
    "_defaultOrder": 17,
    "_isFastLaunch": false,
    "category": "General purpose",
    "gpuNum": 0,
    "hideHardwareSpecs": false,
    "memoryGiB": 192,
    "name": "ml.m5d.12xlarge",
    "vcpuNum": 48
   },
   {
    "_defaultOrder": 18,
    "_isFastLaunch": false,
    "category": "General purpose",
    "gpuNum": 0,
    "hideHardwareSpecs": false,
    "memoryGiB": 256,
    "name": "ml.m5d.16xlarge",
    "vcpuNum": 64
   },
   {
    "_defaultOrder": 19,
    "_isFastLaunch": false,
    "category": "General purpose",
    "gpuNum": 0,
    "hideHardwareSpecs": false,
    "memoryGiB": 384,
    "name": "ml.m5d.24xlarge",
    "vcpuNum": 96
   },
   {
    "_defaultOrder": 20,
    "_isFastLaunch": false,
    "category": "General purpose",
    "gpuNum": 0,
    "hideHardwareSpecs": true,
    "memoryGiB": 0,
    "name": "ml.geospatial.interactive",
    "supportedImageNames": [
     "sagemaker-geospatial-v1-0"
    ],
    "vcpuNum": 0
   },
   {
    "_defaultOrder": 21,
    "_isFastLaunch": true,
    "category": "Compute optimized",
    "gpuNum": 0,
    "hideHardwareSpecs": false,
    "memoryGiB": 4,
    "name": "ml.c5.large",
    "vcpuNum": 2
   },
   {
    "_defaultOrder": 22,
    "_isFastLaunch": false,
    "category": "Compute optimized",
    "gpuNum": 0,
    "hideHardwareSpecs": false,
    "memoryGiB": 8,
    "name": "ml.c5.xlarge",
    "vcpuNum": 4
   },
   {
    "_defaultOrder": 23,
    "_isFastLaunch": false,
    "category": "Compute optimized",
    "gpuNum": 0,
    "hideHardwareSpecs": false,
    "memoryGiB": 16,
    "name": "ml.c5.2xlarge",
    "vcpuNum": 8
   },
   {
    "_defaultOrder": 24,
    "_isFastLaunch": false,
    "category": "Compute optimized",
    "gpuNum": 0,
    "hideHardwareSpecs": false,
    "memoryGiB": 32,
    "name": "ml.c5.4xlarge",
    "vcpuNum": 16
   },
   {
    "_defaultOrder": 25,
    "_isFastLaunch": false,
    "category": "Compute optimized",
    "gpuNum": 0,
    "hideHardwareSpecs": false,
    "memoryGiB": 72,
    "name": "ml.c5.9xlarge",
    "vcpuNum": 36
   },
   {
    "_defaultOrder": 26,
    "_isFastLaunch": false,
    "category": "Compute optimized",
    "gpuNum": 0,
    "hideHardwareSpecs": false,
    "memoryGiB": 96,
    "name": "ml.c5.12xlarge",
    "vcpuNum": 48
   },
   {
    "_defaultOrder": 27,
    "_isFastLaunch": false,
    "category": "Compute optimized",
    "gpuNum": 0,
    "hideHardwareSpecs": false,
    "memoryGiB": 144,
    "name": "ml.c5.18xlarge",
    "vcpuNum": 72
   },
   {
    "_defaultOrder": 28,
    "_isFastLaunch": false,
    "category": "Compute optimized",
    "gpuNum": 0,
    "hideHardwareSpecs": false,
    "memoryGiB": 192,
    "name": "ml.c5.24xlarge",
    "vcpuNum": 96
   },
   {
    "_defaultOrder": 29,
    "_isFastLaunch": true,
    "category": "Accelerated computing",
    "gpuNum": 1,
    "hideHardwareSpecs": false,
    "memoryGiB": 16,
    "name": "ml.g4dn.xlarge",
    "vcpuNum": 4
   },
   {
    "_defaultOrder": 30,
    "_isFastLaunch": false,
    "category": "Accelerated computing",
    "gpuNum": 1,
    "hideHardwareSpecs": false,
    "memoryGiB": 32,
    "name": "ml.g4dn.2xlarge",
    "vcpuNum": 8
   },
   {
    "_defaultOrder": 31,
    "_isFastLaunch": false,
    "category": "Accelerated computing",
    "gpuNum": 1,
    "hideHardwareSpecs": false,
    "memoryGiB": 64,
    "name": "ml.g4dn.4xlarge",
    "vcpuNum": 16
   },
   {
    "_defaultOrder": 32,
    "_isFastLaunch": false,
    "category": "Accelerated computing",
    "gpuNum": 1,
    "hideHardwareSpecs": false,
    "memoryGiB": 128,
    "name": "ml.g4dn.8xlarge",
    "vcpuNum": 32
   },
   {
    "_defaultOrder": 33,
    "_isFastLaunch": false,
    "category": "Accelerated computing",
    "gpuNum": 4,
    "hideHardwareSpecs": false,
    "memoryGiB": 192,
    "name": "ml.g4dn.12xlarge",
    "vcpuNum": 48
   },
   {
    "_defaultOrder": 34,
    "_isFastLaunch": false,
    "category": "Accelerated computing",
    "gpuNum": 1,
    "hideHardwareSpecs": false,
    "memoryGiB": 256,
    "name": "ml.g4dn.16xlarge",
    "vcpuNum": 64
   },
   {
    "_defaultOrder": 35,
    "_isFastLaunch": false,
    "category": "Accelerated computing",
    "gpuNum": 1,
    "hideHardwareSpecs": false,
    "memoryGiB": 61,
    "name": "ml.p3.2xlarge",
    "vcpuNum": 8
   },
   {
    "_defaultOrder": 36,
    "_isFastLaunch": false,
    "category": "Accelerated computing",
    "gpuNum": 4,
    "hideHardwareSpecs": false,
    "memoryGiB": 244,
    "name": "ml.p3.8xlarge",
    "vcpuNum": 32
   },
   {
    "_defaultOrder": 37,
    "_isFastLaunch": false,
    "category": "Accelerated computing",
    "gpuNum": 8,
    "hideHardwareSpecs": false,
    "memoryGiB": 488,
    "name": "ml.p3.16xlarge",
    "vcpuNum": 64
   },
   {
    "_defaultOrder": 38,
    "_isFastLaunch": false,
    "category": "Accelerated computing",
    "gpuNum": 8,
    "hideHardwareSpecs": false,
    "memoryGiB": 768,
    "name": "ml.p3dn.24xlarge",
    "vcpuNum": 96
   },
   {
    "_defaultOrder": 39,
    "_isFastLaunch": false,
    "category": "Memory Optimized",
    "gpuNum": 0,
    "hideHardwareSpecs": false,
    "memoryGiB": 16,
    "name": "ml.r5.large",
    "vcpuNum": 2
   },
   {
    "_defaultOrder": 40,
    "_isFastLaunch": false,
    "category": "Memory Optimized",
    "gpuNum": 0,
    "hideHardwareSpecs": false,
    "memoryGiB": 32,
    "name": "ml.r5.xlarge",
    "vcpuNum": 4
   },
   {
    "_defaultOrder": 41,
    "_isFastLaunch": false,
    "category": "Memory Optimized",
    "gpuNum": 0,
    "hideHardwareSpecs": false,
    "memoryGiB": 64,
    "name": "ml.r5.2xlarge",
    "vcpuNum": 8
   },
   {
    "_defaultOrder": 42,
    "_isFastLaunch": false,
    "category": "Memory Optimized",
    "gpuNum": 0,
    "hideHardwareSpecs": false,
    "memoryGiB": 128,
    "name": "ml.r5.4xlarge",
    "vcpuNum": 16
   },
   {
    "_defaultOrder": 43,
    "_isFastLaunch": false,
    "category": "Memory Optimized",
    "gpuNum": 0,
    "hideHardwareSpecs": false,
    "memoryGiB": 256,
    "name": "ml.r5.8xlarge",
    "vcpuNum": 32
   },
   {
    "_defaultOrder": 44,
    "_isFastLaunch": false,
    "category": "Memory Optimized",
    "gpuNum": 0,
    "hideHardwareSpecs": false,
    "memoryGiB": 384,
    "name": "ml.r5.12xlarge",
    "vcpuNum": 48
   },
   {
    "_defaultOrder": 45,
    "_isFastLaunch": false,
    "category": "Memory Optimized",
    "gpuNum": 0,
    "hideHardwareSpecs": false,
    "memoryGiB": 512,
    "name": "ml.r5.16xlarge",
    "vcpuNum": 64
   },
   {
    "_defaultOrder": 46,
    "_isFastLaunch": false,
    "category": "Memory Optimized",
    "gpuNum": 0,
    "hideHardwareSpecs": false,
    "memoryGiB": 768,
    "name": "ml.r5.24xlarge",
    "vcpuNum": 96
   },
   {
    "_defaultOrder": 47,
    "_isFastLaunch": false,
    "category": "Accelerated computing",
    "gpuNum": 1,
    "hideHardwareSpecs": false,
    "memoryGiB": 16,
    "name": "ml.g5.xlarge",
    "vcpuNum": 4
   },
   {
    "_defaultOrder": 48,
    "_isFastLaunch": false,
    "category": "Accelerated computing",
    "gpuNum": 1,
    "hideHardwareSpecs": false,
    "memoryGiB": 32,
    "name": "ml.g5.2xlarge",
    "vcpuNum": 8
   },
   {
    "_defaultOrder": 49,
    "_isFastLaunch": false,
    "category": "Accelerated computing",
    "gpuNum": 1,
    "hideHardwareSpecs": false,
    "memoryGiB": 64,
    "name": "ml.g5.4xlarge",
    "vcpuNum": 16
   },
   {
    "_defaultOrder": 50,
    "_isFastLaunch": false,
    "category": "Accelerated computing",
    "gpuNum": 1,
    "hideHardwareSpecs": false,
    "memoryGiB": 128,
    "name": "ml.g5.8xlarge",
    "vcpuNum": 32
   },
   {
    "_defaultOrder": 51,
    "_isFastLaunch": false,
    "category": "Accelerated computing",
    "gpuNum": 1,
    "hideHardwareSpecs": false,
    "memoryGiB": 256,
    "name": "ml.g5.16xlarge",
    "vcpuNum": 64
   },
   {
    "_defaultOrder": 52,
    "_isFastLaunch": false,
    "category": "Accelerated computing",
    "gpuNum": 4,
    "hideHardwareSpecs": false,
    "memoryGiB": 192,
    "name": "ml.g5.12xlarge",
    "vcpuNum": 48
   },
   {
    "_defaultOrder": 53,
    "_isFastLaunch": false,
    "category": "Accelerated computing",
    "gpuNum": 4,
    "hideHardwareSpecs": false,
    "memoryGiB": 384,
    "name": "ml.g5.24xlarge",
    "vcpuNum": 96
   },
   {
    "_defaultOrder": 54,
    "_isFastLaunch": false,
    "category": "Accelerated computing",
    "gpuNum": 8,
    "hideHardwareSpecs": false,
    "memoryGiB": 768,
    "name": "ml.g5.48xlarge",
    "vcpuNum": 192
   },
   {
    "_defaultOrder": 55,
    "_isFastLaunch": false,
    "category": "Accelerated computing",
    "gpuNum": 8,
    "hideHardwareSpecs": false,
    "memoryGiB": 1152,
    "name": "ml.p4d.24xlarge",
    "vcpuNum": 96
   },
   {
    "_defaultOrder": 56,
    "_isFastLaunch": false,
    "category": "Accelerated computing",
    "gpuNum": 8,
    "hideHardwareSpecs": false,
    "memoryGiB": 1152,
    "name": "ml.p4de.24xlarge",
    "vcpuNum": 96
   },
   {
    "_defaultOrder": 57,
    "_isFastLaunch": false,
    "category": "Accelerated computing",
    "gpuNum": 0,
    "hideHardwareSpecs": false,
    "memoryGiB": 32,
    "name": "ml.trn1.2xlarge",
    "vcpuNum": 8
   },
   {
    "_defaultOrder": 58,
    "_isFastLaunch": false,
    "category": "Accelerated computing",
    "gpuNum": 0,
    "hideHardwareSpecs": false,
    "memoryGiB": 512,
    "name": "ml.trn1.32xlarge",
    "vcpuNum": 128
   },
   {
    "_defaultOrder": 59,
    "_isFastLaunch": false,
    "category": "Accelerated computing",
    "gpuNum": 0,
    "hideHardwareSpecs": false,
    "memoryGiB": 512,
    "name": "ml.trn1n.32xlarge",
    "vcpuNum": 128
   }
  ],
  "instance_type": "ml.m5.xlarge",
  "kernelspec": {
   "display_name": "Python 3 (Data Science 3.0)",
   "language": "python",
   "name": "python3__SAGEMAKER_INTERNAL__arn:aws:sagemaker:us-east-1:081325390199:image/sagemaker-data-science-310-v1"
  },
  "language_info": {
   "codemirror_mode": {
    "name": "ipython",
    "version": 3
   },
   "file_extension": ".py",
   "mimetype": "text/x-python",
   "name": "python",
   "nbconvert_exporter": "python",
   "pygments_lexer": "ipython3",
   "version": "3.10.6"
  }
 },
 "nbformat": 4,
 "nbformat_minor": 4
}
