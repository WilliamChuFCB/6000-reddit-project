{
 "cells": [
  {
   "cell_type": "markdown",
   "id": "6f41fdd7-f791-41a4-bdb8-67d9f141d523",
   "metadata": {},
   "source": [
    "### Business Goal 4: Predict the outcome of upcoming games based on the sentiment or volume of the discussions before the games."
   ]
  },
  {
   "cell_type": "code",
   "execution_count": 4,
   "id": "c743afd7-faa9-4386-af74-98dab0a0d2e1",
   "metadata": {
    "tags": []
   },
   "outputs": [
    {
     "data": {
      "text/html": [
       "<script>Jupyter.notebook.kernel.restart()</script>"
      ],
      "text/plain": [
       "<IPython.core.display.HTML object>"
      ]
     },
     "execution_count": 4,
     "metadata": {},
     "output_type": "execute_result"
    }
   ],
   "source": [
    "# Setup - Run only once per Kernel App\n",
    "# %conda install openjdk -y\n",
    "\n",
    "# # install PySpark\n",
    "# %pip install pyspark==3.2.0\n",
    "\n",
    "# restart kernel\n",
    "from IPython.core.display import HTML\n",
    "HTML(\"<script>Jupyter.notebook.kernel.restart()</script>\")"
   ]
  },
  {
   "cell_type": "code",
   "execution_count": 36,
   "id": "2718b99f-7b77-4109-8877-34fc5bf3b3dd",
   "metadata": {
    "tags": []
   },
   "outputs": [],
   "source": [
    "from pyspark.sql import SparkSession\n",
    "\n",
    "import pyspark.sql.functions as f\n",
    "from pyspark.sql.functions import when, col, desc, regexp_replace, lower, udf, to_date\n",
    "from pyspark.sql import DataFrame\n",
    "from pyspark.ml.feature import Tokenizer, StopWordsRemover, HashingTF, IDF, VectorAssembler, StringIndexer\n",
    "from pyspark.sql.types import BooleanType, StringType, DateType, IntegerType, DoubleType\n",
    "from pyspark.ml import Pipeline\n",
    "import seaborn as sns\n",
    "import matplotlib.pyplot as plt\n",
    "import pandas as pd"
   ]
  },
  {
   "cell_type": "markdown",
   "id": "fb2ad154-007f-41ac-a9e7-212cda0b590a",
   "metadata": {},
   "source": [
    "### Read in data"
   ]
  },
  {
   "cell_type": "code",
   "execution_count": 6,
   "id": "cf8d2316-9bf9-4974-9fad-ea97a2a5dc2b",
   "metadata": {
    "tags": []
   },
   "outputs": [
    {
     "name": "stderr",
     "output_type": "stream",
     "text": [
      "Warning: Ignoring non-Spark config property: fs.s3a.aws.credentials.provider\n",
      "WARNING: An illegal reflective access operation has occurred\n",
      "WARNING: Illegal reflective access by org.apache.spark.unsafe.Platform (file:/opt/conda/lib/python3.10/site-packages/pyspark/jars/spark-unsafe_2.12-3.2.0.jar) to constructor java.nio.DirectByteBuffer(long,int)\n",
      "WARNING: Please consider reporting this to the maintainers of org.apache.spark.unsafe.Platform\n",
      "WARNING: Use --illegal-access=warn to enable warnings of further illegal reflective access operations\n",
      "WARNING: All illegal access operations will be denied in a future release\n"
     ]
    },
    {
     "name": "stdout",
     "output_type": "stream",
     "text": [
      ":: loading settings :: url = jar:file:/opt/conda/lib/python3.10/site-packages/pyspark/jars/ivy-2.5.0.jar!/org/apache/ivy/core/settings/ivysettings.xml\n"
     ]
    },
    {
     "name": "stderr",
     "output_type": "stream",
     "text": [
      "Ivy Default Cache set to: /root/.ivy2/cache\n",
      "The jars for the packages stored in: /root/.ivy2/jars\n",
      "org.apache.hadoop#hadoop-aws added as a dependency\n",
      ":: resolving dependencies :: org.apache.spark#spark-submit-parent-1d344539-7a74-4af4-a5fd-a5c221e7ef96;1.0\n",
      "\tconfs: [default]\n",
      "\tfound org.apache.hadoop#hadoop-aws;3.2.2 in central\n",
      "\tfound com.amazonaws#aws-java-sdk-bundle;1.11.563 in central\n",
      ":: resolution report :: resolve 330ms :: artifacts dl 24ms\n",
      "\t:: modules in use:\n",
      "\tcom.amazonaws#aws-java-sdk-bundle;1.11.563 from central in [default]\n",
      "\torg.apache.hadoop#hadoop-aws;3.2.2 from central in [default]\n",
      "\t---------------------------------------------------------------------\n",
      "\t|                  |            modules            ||   artifacts   |\n",
      "\t|       conf       | number| search|dwnlded|evicted|| number|dwnlded|\n",
      "\t---------------------------------------------------------------------\n",
      "\t|      default     |   2   |   0   |   0   |   0   ||   2   |   0   |\n",
      "\t---------------------------------------------------------------------\n",
      ":: retrieving :: org.apache.spark#spark-submit-parent-1d344539-7a74-4af4-a5fd-a5c221e7ef96\n",
      "\tconfs: [default]\n",
      "\t0 artifacts copied, 2 already retrieved (0kB/18ms)\n",
      "23/12/01 01:53:06 WARN NativeCodeLoader: Unable to load native-hadoop library for your platform... using builtin-java classes where applicable\n",
      "Using Spark's default log4j profile: org/apache/spark/log4j-defaults.properties\n",
      "Setting default log level to \"WARN\".\n",
      "To adjust logging level use sc.setLogLevel(newLevel). For SparkR, use setLogLevel(newLevel).\n"
     ]
    },
    {
     "name": "stdout",
     "output_type": "stream",
     "text": [
      "3.2.0\n"
     ]
    }
   ],
   "source": [
    "# Import pyspark and build Spark session\n",
    "from pyspark.sql import SparkSession\n",
    "\n",
    "spark = (\n",
    "    SparkSession.builder.appName(\"PySparkApp\")\n",
    "    .config(\"spark.executor.memory\", \"10g\")\n",
    "    .config(\"spark.driver.memory\", \"10g\")\n",
    "    .config(\"spark.jars.packages\", \"org.apache.hadoop:hadoop-aws:3.2.2\")\n",
    "    .config(\n",
    "        \"fs.s3a.aws.credentials.provider\",\n",
    "        \"com.amazonaws.auth.ContainerCredentialsProvider\",\n",
    "    )\n",
    "    .getOrCreate()\n",
    ")\n",
    "\n",
    "print(spark.version)"
   ]
  },
  {
   "cell_type": "code",
   "execution_count": 7,
   "id": "e47a4cd9-8a6c-42d9-81ac-d7ed00a95b27",
   "metadata": {
    "tags": []
   },
   "outputs": [
    {
     "name": "stdout",
     "output_type": "stream",
     "text": [
      "sagemaker.config INFO - Not applying SDK defaults from location: /etc/xdg/sagemaker/config.yaml\n",
      "sagemaker.config INFO - Not applying SDK defaults from location: /root/.config/sagemaker/config.yaml\n",
      "sagemaker.config INFO - Not applying SDK defaults from location: /etc/xdg/sagemaker/config.yaml\n",
      "sagemaker.config INFO - Not applying SDK defaults from location: /root/.config/sagemaker/config.yaml\n",
      "sagemaker.config INFO - Not applying SDK defaults from location: /etc/xdg/sagemaker/config.yaml\n",
      "sagemaker.config INFO - Not applying SDK defaults from location: /root/.config/sagemaker/config.yaml\n",
      "sagemaker.config INFO - Not applying SDK defaults from location: /etc/xdg/sagemaker/config.yaml\n",
      "sagemaker.config INFO - Not applying SDK defaults from location: /root/.config/sagemaker/config.yaml\n",
      "CPU times: user 2.01 s, sys: 159 ms, total: 2.17 s\n",
      "Wall time: 2.42 s\n"
     ]
    }
   ],
   "source": [
    "%%time\n",
    "import time\n",
    "import sagemaker\n",
    "from sagemaker.spark.processing import PySparkProcessor\n",
    "\n",
    "# Setup the PySpark processor to run the job. Note the instance type and instance count parameters. SageMaker will create these many instances of this type for the spark job.\n",
    "role = sagemaker.get_execution_role()\n",
    "spark_processor = PySparkProcessor(\n",
    "    base_job_name=\"sm-spark-project\",\n",
    "    framework_version=\"3.3\",\n",
    "    role=role,\n",
    "    instance_count=8,\n",
    "    instance_type=\"ml.m5.xlarge\",\n",
    "    max_runtime_in_seconds=3600,\n",
    ")\n",
    "\n",
    "# s3 paths\n",
    "session = sagemaker.Session()\n",
    "bucket = session.default_bucket()\n",
    "output_prefix_logs = f\"spark_logs\""
   ]
  },
  {
   "cell_type": "code",
   "execution_count": 8,
   "id": "230011b8-cc30-412d-a1d6-4c79e1c2a0ad",
   "metadata": {
    "tags": []
   },
   "outputs": [
    {
     "name": "stdout",
     "output_type": "stream",
     "text": [
      "reading submissions from s3a://sagemaker-us-east-1-634977863454/reddit_soccer_data/\n"
     ]
    },
    {
     "name": "stderr",
     "output_type": "stream",
     "text": [
      "23/12/01 01:54:11 WARN MetricsConfig: Cannot locate configuration: tried hadoop-metrics2-s3a-file-system.properties,hadoop-metrics2.properties\n",
      "[Stage 1:=======================================================> (32 + 1) / 33]\r"
     ]
    },
    {
     "name": "stdout",
     "output_type": "stream",
     "text": [
      "shape of the dataframe is 5,617,852x9\n",
      "CPU times: user 39.7 ms, sys: 4.61 ms, total: 44.3 ms\n",
      "Wall time: 1min 5s\n"
     ]
    },
    {
     "name": "stderr",
     "output_type": "stream",
     "text": [
      "                                                                                \r"
     ]
    }
   ],
   "source": [
    "%%time\n",
    "df_path = f\"reddit_soccer_data/\"\n",
    "s3_path = f\"s3a://{bucket}/{df_path}\"\n",
    "print(f\"reading submissions from {s3_path}\")\n",
    "df = spark.read.parquet(s3_path, header=True)\n",
    "print(f\"shape of the dataframe is {df.count():,}x{len(df.columns)}\")"
   ]
  },
  {
   "cell_type": "markdown",
   "id": "72006a5f-8e97-4bbb-96ed-dbb8be96aad2",
   "metadata": {},
   "source": [
    "### Retrieve data from 3 most popular clubs"
   ]
  },
  {
   "cell_type": "code",
   "execution_count": 9,
   "id": "a2b90552-0ec2-4d66-8635-1bdaf028b9b0",
   "metadata": {
    "tags": []
   },
   "outputs": [],
   "source": [
    "# Select only the required columns\n",
    "selected_df = df.select('author_flair_text', 'body', 'created_utc', 'score', 'subreddit')\n",
    "\n",
    "# DataFrame for Arsenal\n",
    "df_arsenal = selected_df.filter(\n",
    "    (col('subreddit') == 'Gunners') | \n",
    "    ((col('subreddit') == 'soccer') & (col('author_flair_text') == ':Arsenal:'))\n",
    ")\n",
    "\n",
    "# DataFrame for Manchester United\n",
    "df_man_united = selected_df.filter(\n",
    "    (col('subreddit') == 'reddevils') | \n",
    "    ((col('subreddit') == 'soccer') & (col('author_flair_text') == ':Manchester_United:'))\n",
    ")\n",
    "\n",
    "df_chelsea = selected_df.filter(\n",
    "    (col('subreddit') == 'chelseafc') | \n",
    "    ((col('subreddit') == 'soccer') & (col('author_flair_text') == ':Chelsea:'))\n",
    ")"
   ]
  },
  {
   "cell_type": "markdown",
   "id": "6e10905c-bb6b-4b1d-a86a-b5f1a5828424",
   "metadata": {
    "tags": []
   },
   "source": [
    "### Cleaning texts on the created dataframes:"
   ]
  },
  {
   "cell_type": "code",
   "execution_count": 10,
   "id": "1eca8f9a-77c2-47f2-8cb5-665a7f435a87",
   "metadata": {
    "tags": []
   },
   "outputs": [],
   "source": [
    "# Removing non-alphanumeric characters\n",
    "df_arsenal = df_arsenal.withColumn('clean_body', regexp_replace('body', '[^A-Za-z0-9\\s]+', ''))\n",
    "df_man_united = df_man_united.withColumn('clean_body', regexp_replace('body', '[^A-Za-z0-9\\s]+', ''))\n",
    "df_chelsea = df_chelsea.withColumn('clean_body', regexp_replace('body', '[^A-Za-z0-9\\s]+', ''))\n",
    "\n",
    "# Converting to lowercase\n",
    "df_arsenal = df_arsenal.withColumn('clean_body', lower(col('clean_body')))\n",
    "df_man_united = df_man_united.withColumn('clean_body', lower(col('clean_body')))\n",
    "df_chelsea = df_chelsea.withColumn('clean_body', lower(col('clean_body')))\n",
    "\n",
    "# Tokenize text\n",
    "tokenizer = Tokenizer(inputCol='clean_body', outputCol='words')\n",
    "df_arsenal = tokenizer.transform(df_arsenal)\n",
    "\n",
    "tokenizer = Tokenizer(inputCol='clean_body', outputCol='words')\n",
    "df_man_united = tokenizer.transform(df_man_united)\n",
    "\n",
    "tokenizer = Tokenizer(inputCol='clean_body', outputCol='words')\n",
    "df_chelsea = tokenizer.transform(df_chelsea)\n",
    "\n",
    "# Remove stop words\n",
    "remover = StopWordsRemover(inputCol='words', outputCol='filtered_words')\n",
    "df_arsenal = remover.transform(df_arsenal)\n",
    "\n",
    "remover = StopWordsRemover(inputCol='words', outputCol='filtered_words')\n",
    "df_man_united = remover.transform(df_man_united)\n",
    "\n",
    "remover = StopWordsRemover(inputCol='words', outputCol='filtered_words')\n",
    "df_chelsea = remover.transform(df_chelsea)"
   ]
  },
  {
   "cell_type": "code",
   "execution_count": 11,
   "id": "04c932a5-4499-4ebd-a22d-d567888710cc",
   "metadata": {
    "tags": []
   },
   "outputs": [],
   "source": [
    "def filter_words(words_list):\n",
    "    return words_list == ['deleted'] or words_list == []\n",
    "\n",
    "# Define the UDF for Filter Words\n",
    "filter_words_udf = udf(filter_words, BooleanType())\n",
    "\n",
    "df_arsenal = df_arsenal.withColumn('remove_row', filter_words_udf(col('filtered_words')))\n",
    "df_arsenal = df_arsenal.filter(col('remove_row') == False)\n",
    "df_arsenal = df_arsenal.drop('remove_row')\n",
    "\n",
    "df_man_united = df_man_united.withColumn('remove_row', filter_words_udf(col('filtered_words')))\n",
    "df_man_united = df_man_united.filter(col('remove_row') == False)\n",
    "df_man_united = df_man_united.drop('remove_row')\n",
    "\n",
    "df_chelsea = df_chelsea.withColumn('remove_row', filter_words_udf(col('filtered_words')))\n",
    "df_chelsea = df_chelsea.filter(col('remove_row') == False)\n",
    "df_chelsea = df_chelsea.drop('remove_row')\n",
    "\n",
    "# Define the UDF for Concatting\n",
    "concat_udf = udf(lambda words: ' '.join(words), StringType())\n",
    "\n",
    "df_arsenal = df_arsenal.withColumn(\"concatenated_text\", concat_udf(col(\"filtered_words\")))\n",
    "df_arsenal = df_arsenal.drop('body', 'clean_body', 'words', 'filtered_words')\n",
    "\n",
    "df_man_united = df_man_united.withColumn(\"concatenated_text\", concat_udf(col(\"filtered_words\")))\n",
    "df_man_united = df_man_united.drop('body', 'clean_body', 'words', 'filtered_words')\n",
    "\n",
    "df_chelsea = df_chelsea.withColumn(\"concatenated_text\", concat_udf(col(\"filtered_words\")))\n",
    "df_chelsea = df_chelsea.drop('body', 'clean_body', 'words', 'filtered_words')"
   ]
  },
  {
   "cell_type": "code",
   "execution_count": 12,
   "id": "ff12f72b-9ced-45fe-91f7-6638a732e67a",
   "metadata": {
    "tags": []
   },
   "outputs": [],
   "source": [
    "df_arsenal = df_arsenal.withColumn('date', to_date('created_utc'))\n",
    "df_arsenal = df_arsenal.drop('created_utc')\n",
    "\n",
    "df_man_united = df_man_united.withColumn('date', to_date('created_utc'))\n",
    "df_man_united = df_man_united.drop('created_utc')\n",
    "\n",
    "df_chelsea = df_chelsea.withColumn('date', to_date('created_utc'))\n",
    "df_chelsea = df_chelsea.drop('created_utc')"
   ]
  },
  {
   "cell_type": "markdown",
   "id": "e24cf681-1c64-4dfe-b0ef-8a91de557a33",
   "metadata": {},
   "source": [
    "### Merge the comments with the matches results dataframe"
   ]
  },
  {
   "cell_type": "code",
   "execution_count": 13,
   "id": "ff7f3ee8-64f7-4b8c-816e-7dda5e1aca8b",
   "metadata": {
    "tags": []
   },
   "outputs": [
    {
     "name": "stdout",
     "output_type": "stream",
     "text": [
      "+-------+----------+----------+------+--------+-------+--------------+\n",
      "|   team|  opponent|      date|scored|conceded|outcome|    tournament|\n",
      "+-------+----------+----------+------+--------+-------+--------------+\n",
      "|Arsenal| Newcastle|2023-01-03|     0|       0|   draw|Premier League|\n",
      "|Arsenal|Oxford Utd|2023-01-09|     3|       0|    win|        FA Cup|\n",
      "|Arsenal| Tottenham|2023-01-15|     2|       0|    win|Premier League|\n",
      "|Arsenal|Man United|2023-01-22|     3|       2|    win|Premier League|\n",
      "|Arsenal|  Man City|2023-01-27|     0|       1|   loss|        FA Cup|\n",
      "+-------+----------+----------+------+--------+-------+--------------+\n",
      "only showing top 5 rows\n",
      "\n"
     ]
    },
    {
     "name": "stderr",
     "output_type": "stream",
     "text": [
      "                                                                                \r"
     ]
    }
   ],
   "source": [
    "matches = pd.read_csv(\"./top_5_teams_scores.csv\")\n",
    "matches['date'] = pd.to_datetime(matches['date'], format='%m/%d/%Y')\n",
    "\n",
    "df_matches = spark.createDataFrame(matches)\n",
    "\n",
    "# Convert the 'date' column in matches_spark to date type if it's not already\n",
    "df_matches = df_matches.withColumn(\"date\", df_matches[\"date\"].cast(DateType()))\n",
    "\n",
    "df_matches.show(5)"
   ]
  },
  {
   "cell_type": "code",
   "execution_count": 14,
   "id": "066f4638-4ef7-490c-b5c2-13906f2fe086",
   "metadata": {
    "tags": []
   },
   "outputs": [],
   "source": [
    "df_arsenal_matches = df_matches.filter(df_matches['team'] == 'Arsenal')\n",
    "df_arsenal_merged = df_arsenal.join(df_arsenal_matches, on='date', how='inner')\n",
    "\n",
    "df_arsenal_merged = df_arsenal_merged.drop('author_flair_text', 'subreddit', 'team', 'opponent', 'scored', 'conceded', 'tournament')\n",
    "# df_arsenal_merged.cache()"
   ]
  },
  {
   "cell_type": "code",
   "execution_count": 15,
   "id": "b2f42494-5f76-477e-81e6-e33aff2dfe21",
   "metadata": {
    "tags": []
   },
   "outputs": [],
   "source": [
    "df_man_united_matches = df_matches.filter(df_matches['team'] == 'Man United')\n",
    "df_man_united_merged = df_man_united.join(df_man_united_matches, on='date', how='inner')\n",
    "\n",
    "df_man_united_merged = df_man_united_merged.drop('author_flair_text', 'subreddit', 'team', 'opponent', 'scored', 'conceded', 'tournament')\n",
    "# df_man_united_merged.cache()"
   ]
  },
  {
   "cell_type": "code",
   "execution_count": 16,
   "id": "b5f361e4-8322-45c3-a93b-b98c3e5593e4",
   "metadata": {
    "tags": []
   },
   "outputs": [],
   "source": [
    "df_chelsea_matches = df_matches.filter(df_matches['team'] == 'Chelsea')\n",
    "df_chelsea_merged = df_chelsea.join(df_chelsea_matches, on='date', how='inner')\n",
    "\n",
    "df_chelsea_merged = df_chelsea_merged.drop('author_flair_text', 'subreddit', 'team', 'opponent', 'scored', 'conceded', 'tournament')\n",
    "# df_chelsea_merged.cache()"
   ]
  },
  {
   "cell_type": "markdown",
   "id": "32a8143e-cd04-4897-a70b-e9fa6dc792a3",
   "metadata": {},
   "source": [
    "### Create the final dataframe that will be used to perform maching learning. The features will be the comment body and score, where the outcome will be the label."
   ]
  },
  {
   "cell_type": "code",
   "execution_count": 17,
   "id": "740d7749-9d66-4b21-9767-d0b0f2e7047c",
   "metadata": {
    "tags": []
   },
   "outputs": [
    {
     "data": {
      "text/plain": [
       "DataFrame[date: date, score: bigint, concatenated_text: string, outcome: string]"
      ]
     },
     "execution_count": 17,
     "metadata": {},
     "output_type": "execute_result"
    }
   ],
   "source": [
    "df_ml = df_arsenal_merged.union(df_man_united_merged).union(df_chelsea_merged)\n",
    "df_ml = df_ml.dropna()\n",
    "# Filter out rows where 'outcome' is 'draw'\n",
    "df_ml = df_ml.filter(df_ml['outcome'] != 'draw')\n",
    "df_ml = df_ml.orderBy('date')\n",
    "df_ml.cache()"
   ]
  },
  {
   "cell_type": "code",
   "execution_count": 18,
   "id": "e70c6799-5a75-4f69-b58e-134da8dff9c6",
   "metadata": {
    "tags": []
   },
   "outputs": [
    {
     "name": "stderr",
     "output_type": "stream",
     "text": [
      "[Stage 25:===================================================>  (572 + 4) / 600]\r"
     ]
    },
    {
     "name": "stdout",
     "output_type": "stream",
     "text": [
      "+----------+-----+--------------------+-------+\n",
      "|      date|score|   concatenated_text|outcome|\n",
      "+----------+-----+--------------------+-------+\n",
      "|2023-01-03|    7|bournemouth win  ...|    win|\n",
      "|2023-01-03|    3|problem city like...|    win|\n",
      "|2023-01-03|   20|big beat city ars...|    win|\n",
      "|2023-01-03|    4|              season|    win|\n",
      "|2023-01-03|    9|glad sign alex sa...|    win|\n",
      "|2023-01-03|   40|penalty pulling s...|    win|\n",
      "|2023-01-03|    7|bournemouth great...|    win|\n",
      "|2023-01-03|    8|cas bit early mak...|    win|\n",
      "|2023-01-03|   40|mikel disappointi...|    win|\n",
      "|2023-01-03|   54|happy new year wa...|    win|\n",
      "+----------+-----+--------------------+-------+\n",
      "only showing top 10 rows\n",
      "\n"
     ]
    },
    {
     "name": "stderr",
     "output_type": "stream",
     "text": [
      "                                                                                \r"
     ]
    }
   ],
   "source": [
    "df_ml.show(10)"
   ]
  },
  {
   "cell_type": "markdown",
   "id": "cd8ea336-93a9-45e6-84ea-e45572b6adae",
   "metadata": {},
   "source": [
    "### Spark ML"
   ]
  },
  {
   "cell_type": "code",
   "execution_count": 19,
   "id": "5fddbfd8-19e5-40ab-8138-75771c739779",
   "metadata": {
    "tags": []
   },
   "outputs": [
    {
     "name": "stdout",
     "output_type": "stream",
     "text": [
      "root\n",
      " |-- date: date (nullable = true)\n",
      " |-- score: long (nullable = true)\n",
      " |-- concatenated_text: string (nullable = true)\n",
      " |-- outcome: string (nullable = true)\n",
      "\n"
     ]
    }
   ],
   "source": [
    "df_ml.printSchema()"
   ]
  },
  {
   "cell_type": "code",
   "execution_count": 20,
   "id": "f81b8697-6961-473d-af4e-37aebd126393",
   "metadata": {
    "tags": []
   },
   "outputs": [
    {
     "name": "stderr",
     "output_type": "stream",
     "text": [
      "[Stage 34:======================================================> (31 + 1) / 32]\r"
     ]
    },
    {
     "name": "stdout",
     "output_type": "stream",
     "text": [
      "+-------+------+\n",
      "|outcome| count|\n",
      "+-------+------+\n",
      "|    win|431555|\n",
      "|   loss|199280|\n",
      "+-------+------+\n",
      "\n"
     ]
    },
    {
     "name": "stderr",
     "output_type": "stream",
     "text": [
      "                                                                                \r"
     ]
    }
   ],
   "source": [
    "df_ml.groupBy('outcome').count().show()"
   ]
  },
  {
   "cell_type": "markdown",
   "id": "6265ee37-a8c8-4e24-9a6f-00b68f649beb",
   "metadata": {},
   "source": [
    "There are 2 outcomes as the label of this machine learning task. Logistic Regression would be a good starting point."
   ]
  },
  {
   "cell_type": "markdown",
   "id": "c7e03e75-2e7f-4a0b-8cfa-3b754dded872",
   "metadata": {},
   "source": [
    "#### Step 1: text vectorization"
   ]
  },
  {
   "cell_type": "code",
   "execution_count": 21,
   "id": "a46b69d3-b25b-4f4f-ba8d-317e9cb615b1",
   "metadata": {
    "tags": []
   },
   "outputs": [
    {
     "name": "stderr",
     "output_type": "stream",
     "text": [
      "                                                                                \r"
     ]
    }
   ],
   "source": [
    "tokenizer = Tokenizer(inputCol=\"concatenated_text\", outputCol=\"words\")\n",
    "df_words = tokenizer.transform(df_ml)\n",
    "\n",
    "hashingTF = HashingTF(inputCol=\"words\", outputCol=\"rawFeatures\")\n",
    "df_tf = hashingTF.transform(df_words)\n",
    "\n",
    "idf = IDF(inputCol=\"rawFeatures\", outputCol=\"features\")\n",
    "idfModel = idf.fit(df_tf)\n",
    "df_tfidf = idfModel.transform(df_tf)\n",
    "\n",
    "df_tfidf = df_tfidf.select(\"date\", \"score\", \"features\", \"outcome\")"
   ]
  },
  {
   "cell_type": "code",
   "execution_count": 22,
   "id": "07783816-1cad-415c-a039-59440b85b3d6",
   "metadata": {
    "tags": []
   },
   "outputs": [
    {
     "name": "stdout",
     "output_type": "stream",
     "text": [
      "root\n",
      " |-- date: date (nullable = true)\n",
      " |-- score: long (nullable = true)\n",
      " |-- features: vector (nullable = true)\n",
      " |-- outcome: string (nullable = true)\n",
      "\n"
     ]
    }
   ],
   "source": [
    "df_tfidf.printSchema()"
   ]
  },
  {
   "cell_type": "code",
   "execution_count": 23,
   "id": "4bc7a7f7-e80a-48b5-a34a-2d1e2b0ae4f8",
   "metadata": {
    "tags": []
   },
   "outputs": [
    {
     "name": "stdout",
     "output_type": "stream",
     "text": [
      "+----------+-----+--------------------+-------+\n",
      "|      date|score|            features|outcome|\n",
      "+----------+-----+--------------------+-------+\n",
      "|2023-01-03|    7|(262144,[14385,18...|    win|\n",
      "|2023-01-03|    3|(262144,[16293,71...|    win|\n",
      "|2023-01-03|   20|(262144,[54961,11...|    win|\n",
      "|2023-01-03|    4|(262144,[55270],[...|    win|\n",
      "|2023-01-03|    9|(262144,[89721,20...|    win|\n",
      "+----------+-----+--------------------+-------+\n",
      "only showing top 5 rows\n",
      "\n"
     ]
    },
    {
     "name": "stderr",
     "output_type": "stream",
     "text": [
      "23/12/01 02:05:54 WARN DAGScheduler: Broadcasting large task binary with size 4.1 MiB\n"
     ]
    }
   ],
   "source": [
    "df_tfidf.show(5)"
   ]
  },
  {
   "cell_type": "markdown",
   "id": "7a766a17-b8e2-44b6-bcf2-50af9bb0174b",
   "metadata": {},
   "source": [
    "#### Step 2: model training preparations: transform the labels into 1 (win) and 0 (loss)."
   ]
  },
  {
   "cell_type": "code",
   "execution_count": 24,
   "id": "ee536010-fecd-4382-ac7c-536f2b5188ab",
   "metadata": {
    "tags": []
   },
   "outputs": [
    {
     "name": "stderr",
     "output_type": "stream",
     "text": [
      "                                                                                \r"
     ]
    }
   ],
   "source": [
    "indexer = StringIndexer(inputCol=\"outcome\", outputCol=\"indexedOutcome\")\n",
    "df_indexed = indexer.fit(df_tfidf).transform(df_tfidf)\n",
    "\n",
    "# Check the assigned indices\n",
    "indexer_model = indexer.fit(df_tfidf)\n",
    "labels = indexer_model.labels\n",
    "\n",
    "win_index = labels.index('win')\n",
    "loss_index = labels.index('loss')\n",
    "\n",
    "def map_outcome(outcome_index):\n",
    "    return 1 if outcome_index == win_index else 0\n",
    "\n",
    "map_outcome_udf = udf(map_outcome, IntegerType())\n",
    "\n",
    "df_final = df_indexed.withColumn(\"label\", map_outcome_udf(\"indexedOutcome\"))\n",
    "\n",
    "df_final = df_final.drop('outcome', 'indexedOutcome')"
   ]
  },
  {
   "cell_type": "code",
   "execution_count": 25,
   "id": "1a6dac13-036c-4d31-8d01-44ef67af3615",
   "metadata": {
    "tags": []
   },
   "outputs": [
    {
     "name": "stdout",
     "output_type": "stream",
     "text": [
      "root\n",
      " |-- date: date (nullable = true)\n",
      " |-- score: long (nullable = true)\n",
      " |-- features: vector (nullable = true)\n",
      " |-- label: integer (nullable = true)\n",
      "\n"
     ]
    }
   ],
   "source": [
    "df_final.printSchema()"
   ]
  },
  {
   "cell_type": "code",
   "execution_count": 26,
   "id": "b911eead-e5b7-4cca-b696-2e552ca2ee28",
   "metadata": {
    "tags": []
   },
   "outputs": [
    {
     "name": "stderr",
     "output_type": "stream",
     "text": [
      "23/12/01 02:06:05 WARN DAGScheduler: Broadcasting large task binary with size 4.1 MiB\n"
     ]
    },
    {
     "name": "stdout",
     "output_type": "stream",
     "text": [
      "+----------+-----+--------------------+-----+\n",
      "|      date|score|            features|label|\n",
      "+----------+-----+--------------------+-----+\n",
      "|2023-01-03|    7|(262144,[14385,18...|    1|\n",
      "|2023-01-03|    3|(262144,[16293,71...|    1|\n",
      "|2023-01-03|   20|(262144,[54961,11...|    1|\n",
      "|2023-01-03|    4|(262144,[55270],[...|    1|\n",
      "|2023-01-03|    9|(262144,[89721,20...|    1|\n",
      "+----------+-----+--------------------+-----+\n",
      "only showing top 5 rows\n",
      "\n"
     ]
    }
   ],
   "source": [
    "df_final.show(5)"
   ]
  },
  {
   "cell_type": "markdown",
   "id": "2e6a1e0e-286b-409c-95f3-d72d43e6ee56",
   "metadata": {},
   "source": [
    "#### Step 3: combine 'score' and 'features' into a single features vector and train test split"
   ]
  },
  {
   "cell_type": "code",
   "execution_count": 27,
   "id": "9601dddf-a900-4707-826e-68c7652bb98b",
   "metadata": {
    "tags": []
   },
   "outputs": [],
   "source": [
    "assembler = VectorAssembler(inputCols=[\"score\", \"features\"], outputCol=\"combined_features\")\n",
    "df_combined = assembler.transform(df_final)\n",
    "\n",
    "train_data, test_data = df_combined.randomSplit([0.75, 0.25], seed=140)"
   ]
  },
  {
   "cell_type": "markdown",
   "id": "6babee6e-898b-479a-867c-263b968d4535",
   "metadata": {},
   "source": [
    "#### Step 4: train and make predictions"
   ]
  },
  {
   "cell_type": "code",
   "execution_count": null,
   "id": "11956928-2b5a-4bcc-bab6-5d6b56686816",
   "metadata": {
    "tags": []
   },
   "outputs": [],
   "source": [
    "from pyspark.ml.classification import LogisticRegression\n",
    "\n",
    "lr = LogisticRegression(featuresCol=\"combined_features\", labelCol=\"label\")\n",
    "lrModel = lr.fit(train_data)"
   ]
  },
  {
   "cell_type": "code",
   "execution_count": 30,
   "id": "5959c992-984f-4223-9c9f-e55fc656daaa",
   "metadata": {
    "tags": []
   },
   "outputs": [
    {
     "name": "stderr",
     "output_type": "stream",
     "text": [
      "                                                                                \r"
     ]
    }
   ],
   "source": [
    "model_path = './ml_score_model'\n",
    "lrModel.save(model_path)"
   ]
  },
  {
   "cell_type": "code",
   "execution_count": 31,
   "id": "601942d8-c842-4c96-8209-c22def5ef0b1",
   "metadata": {
    "tags": []
   },
   "outputs": [
    {
     "name": "stderr",
     "output_type": "stream",
     "text": [
      "23/12/01 02:59:21 WARN DAGScheduler: Broadcasting large task binary with size 19.7 MiB\n",
      "                                                                                \r"
     ]
    },
    {
     "name": "stdout",
     "output_type": "stream",
     "text": [
      "Accuracy:  0.7115235836493462\n"
     ]
    },
    {
     "name": "stderr",
     "output_type": "stream",
     "text": [
      "23/12/01 02:59:46 WARN DAGScheduler: Broadcasting large task binary with size 19.7 MiB\n",
      "                                                                                \r"
     ]
    },
    {
     "name": "stdout",
     "output_type": "stream",
     "text": [
      "Precision:  0.6889781799748806\n"
     ]
    },
    {
     "name": "stderr",
     "output_type": "stream",
     "text": [
      "23/12/01 03:00:08 WARN DAGScheduler: Broadcasting large task binary with size 19.7 MiB\n",
      "                                                                                \r"
     ]
    },
    {
     "name": "stdout",
     "output_type": "stream",
     "text": [
      "Recall:  0.7115235836493462\n"
     ]
    },
    {
     "name": "stderr",
     "output_type": "stream",
     "text": [
      "23/12/01 03:00:29 WARN DAGScheduler: Broadcasting large task binary with size 19.7 MiB\n",
      "[Stage 1086:==================================================>   (30 + 2) / 32]\r"
     ]
    },
    {
     "name": "stdout",
     "output_type": "stream",
     "text": [
      "F1 Score:  0.6842595014191711\n"
     ]
    },
    {
     "name": "stderr",
     "output_type": "stream",
     "text": [
      "                                                                                \r"
     ]
    }
   ],
   "source": [
    "from pyspark.ml.evaluation import BinaryClassificationEvaluator, MulticlassClassificationEvaluator\n",
    "\n",
    "# Make predictions\n",
    "predictions = lrModel.transform(test_data)\n",
    "\n",
    "# Evaluate the model\n",
    "evaluator = BinaryClassificationEvaluator(labelCol=\"label\", rawPredictionCol=\"prediction\")\n",
    "\n",
    "accuracy = MulticlassClassificationEvaluator(labelCol=\"label\", predictionCol=\"prediction\", metricName=\"accuracy\")\n",
    "precision = MulticlassClassificationEvaluator(labelCol=\"label\", predictionCol=\"prediction\", metricName=\"weightedPrecision\")\n",
    "recall = MulticlassClassificationEvaluator(labelCol=\"label\", predictionCol=\"prediction\", metricName=\"weightedRecall\")\n",
    "f1 = MulticlassClassificationEvaluator(labelCol=\"label\", predictionCol=\"prediction\", metricName=\"f1\")\n",
    "\n",
    "print(\"Accuracy: \", accuracy.evaluate(predictions))\n",
    "print(\"Precision: \", precision.evaluate(predictions))\n",
    "print(\"Recall: \", recall.evaluate(predictions))\n",
    "print(\"F1 Score: \", f1.evaluate(predictions))"
   ]
  },
  {
   "cell_type": "markdown",
   "id": "f6a5cf8f-7c70-4eae-bb67-f8af1fd90f6d",
   "metadata": {},
   "source": [
    "#### Step 5: plot confusion matrix"
   ]
  },
  {
   "cell_type": "code",
   "execution_count": 37,
   "id": "0d0c57ec-886a-4bb9-adc1-5fd280165fae",
   "metadata": {
    "tags": []
   },
   "outputs": [
    {
     "name": "stderr",
     "output_type": "stream",
     "text": [
      "23/12/01 03:11:32 WARN DAGScheduler: Broadcasting large task binary with size 19.7 MiB\n",
      "23/12/01 03:11:33 WARN DAGScheduler: Broadcasting large task binary with size 19.7 MiB\n",
      "[Stage 1137:==================================================>   (30 + 2) / 32]\r"
     ]
    },
    {
     "name": "stdout",
     "output_type": "stream",
     "text": [
      "Confusion Matrix:\n",
      " [[16162. 33682.]\n",
      " [11809. 96041.]]\n"
     ]
    },
    {
     "name": "stderr",
     "output_type": "stream",
     "text": [
      "                                                                                \r"
     ]
    }
   ],
   "source": [
    "from pyspark.mllib.evaluation import MulticlassMetrics\n",
    "\n",
    "# Convert prediction and label columns to DoubleType\n",
    "predictions = predictions.withColumn(\"label\", col(\"label\").cast(DoubleType()))\n",
    "predictions = predictions.withColumn(\"prediction\", col(\"prediction\").cast(DoubleType()))\n",
    "\n",
    "# Convert to RDD\n",
    "predictionAndLabels = predictions.select(\"prediction\", \"label\").rdd\n",
    "\n",
    "# Instantiate metrics object\n",
    "metrics = MulticlassMetrics(predictionAndLabels)\n",
    "\n",
    "# Confusion Matrix\n",
    "confusionMatrix = metrics.confusionMatrix().toArray()\n",
    "print(\"Confusion Matrix:\\n\", confusionMatrix)"
   ]
  },
  {
   "cell_type": "code",
   "execution_count": 40,
   "id": "7d8ed5a5-9a11-4b85-a916-b700a913093a",
   "metadata": {
    "tags": []
   },
   "outputs": [
    {
     "data": {
      "image/png": "[encoded data removed]",
      "text/plain": [
       "<Figure size 1000x700 with 2 Axes>"
      ]
     },
     "metadata": {},
     "output_type": "display_data"
    }
   ],
   "source": [
    "# Set the labels for the confusion matrix\n",
    "class_labels = ['Loss', 'Win']\n",
    "\n",
    "# Create a pandas DataFrame from the confusion matrix\n",
    "conf_matrix_df = pd.DataFrame(confusionMatrix, index=class_labels, columns=class_labels)\n",
    "\n",
    "# Plot using seaborn\n",
    "plt.figure(figsize=(10, 7))\n",
    "sns.heatmap(conf_matrix_df, annot=True, fmt='g', cmap='Blues')\n",
    "plt.title('Confusion Matrix on Match Score prediction', fontsize=24)\n",
    "plt.ylabel('Actual', fontsize=18)\n",
    "plt.xlabel('Predicted', fontsize=18)\n",
    "plt.show()"
   ]
  },
  {
   "cell_type": "markdown",
   "id": "9579fbe1-8252-4894-94aa-761740010a5d",
   "metadata": {},
   "source": [
    "Three most popular teams are chosen to retrieve the comments of their fans on a matchday, and the match result of the team on that day are also recorded. The figure here shows the cleaned comments text body along with the comments' score as input features, where the training and predicting labels are the outcome of the match on the day the comments were made. Prior to the actual machine learning section, a few preparations are done on this dataset, including vectorizing the text bodies using tokenizer and hashing into a new feature, transforming the outcomes into 1s (win) and 0s (loss), and combining the new feature and the score of each comment into the correct traning feature.\n",
    "\n",
    "Since only 2 outcome: win or loss are used in this machine learning study, logistic regression is the model to be trained. After the model is trained on the comment scores and the vectorized comments texts, it can then predict on the testing features. According the results of the measurements, the accuracy, precision and recall of the predictions compared to the testing labels are all around 0.7, which is a bit disappointing for a binary classification learning. According to the confusion matrix, it seems that the model is good at predicting actual wins, however when predicting losses the performance is not quite good. Thus we can conclude that the model can moderately tell the outcome of a match based on the comments and their scores."
   ]
  }
 ],
 "metadata": {
  "availableInstances": [
   {
    "_defaultOrder": 0,
    "_isFastLaunch": true,
    "category": "General purpose",
    "gpuNum": 0,
    "hideHardwareSpecs": false,
    "memoryGiB": 4,
    "name": "ml.t3.medium",
    "vcpuNum": 2
   },
   {
    "_defaultOrder": 1,
    "_isFastLaunch": false,
    "category": "General purpose",
    "gpuNum": 0,
    "hideHardwareSpecs": false,
    "memoryGiB": 8,
    "name": "ml.t3.large",
    "vcpuNum": 2
   },
   {
    "_defaultOrder": 2,
    "_isFastLaunch": false,
    "category": "General purpose",
    "gpuNum": 0,
    "hideHardwareSpecs": false,
    "memoryGiB": 16,
    "name": "ml.t3.xlarge",
    "vcpuNum": 4
   },
   {
    "_defaultOrder": 3,
    "_isFastLaunch": false,
    "category": "General purpose",
    "gpuNum": 0,
    "hideHardwareSpecs": false,
    "memoryGiB": 32,
    "name": "ml.t3.2xlarge",
    "vcpuNum": 8
   },
   {
    "_defaultOrder": 4,
    "_isFastLaunch": true,
    "category": "General purpose",
    "gpuNum": 0,
    "hideHardwareSpecs": false,
    "memoryGiB": 8,
    "name": "ml.m5.large",
    "vcpuNum": 2
   },
   {
    "_defaultOrder": 5,
    "_isFastLaunch": false,
    "category": "General purpose",
    "gpuNum": 0,
    "hideHardwareSpecs": false,
    "memoryGiB": 16,
    "name": "ml.m5.xlarge",
    "vcpuNum": 4
   },
   {
    "_defaultOrder": 6,
    "_isFastLaunch": false,
    "category": "General purpose",
    "gpuNum": 0,
    "hideHardwareSpecs": false,
    "memoryGiB": 32,
    "name": "ml.m5.2xlarge",
    "vcpuNum": 8
   },
   {
    "_defaultOrder": 7,
    "_isFastLaunch": false,
    "category": "General purpose",
    "gpuNum": 0,
    "hideHardwareSpecs": false,
    "memoryGiB": 64,
    "name": "ml.m5.4xlarge",
    "vcpuNum": 16
   },
   {
    "_defaultOrder": 8,
    "_isFastLaunch": false,
    "category": "General purpose",
    "gpuNum": 0,
    "hideHardwareSpecs": false,
    "memoryGiB": 128,
    "name": "ml.m5.8xlarge",
    "vcpuNum": 32
   },
   {
    "_defaultOrder": 9,
    "_isFastLaunch": false,
    "category": "General purpose",
    "gpuNum": 0,
    "hideHardwareSpecs": false,
    "memoryGiB": 192,
    "name": "ml.m5.12xlarge",
    "vcpuNum": 48
   },
   {
    "_defaultOrder": 10,
    "_isFastLaunch": false,
    "category": "General purpose",
    "gpuNum": 0,
    "hideHardwareSpecs": false,
    "memoryGiB": 256,
    "name": "ml.m5.16xlarge",
    "vcpuNum": 64
   },
   {
    "_defaultOrder": 11,
    "_isFastLaunch": false,
    "category": "General purpose",
    "gpuNum": 0,
    "hideHardwareSpecs": false,
    "memoryGiB": 384,
    "name": "ml.m5.24xlarge",
    "vcpuNum": 96
   },
   {
    "_defaultOrder": 12,
    "_isFastLaunch": false,
    "category": "General purpose",
    "gpuNum": 0,
    "hideHardwareSpecs": false,
    "memoryGiB": 8,
    "name": "ml.m5d.large",
    "vcpuNum": 2
   },
   {
    "_defaultOrder": 13,
    "_isFastLaunch": false,
    "category": "General purpose",
    "gpuNum": 0,
    "hideHardwareSpecs": false,
    "memoryGiB": 16,
    "name": "ml.m5d.xlarge",
    "vcpuNum": 4
   },
   {
    "_defaultOrder": 14,
    "_isFastLaunch": false,
    "category": "General purpose",
    "gpuNum": 0,
    "hideHardwareSpecs": false,
    "memoryGiB": 32,
    "name": "ml.m5d.2xlarge",
    "vcpuNum": 8
   },
   {
    "_defaultOrder": 15,
    "_isFastLaunch": false,
    "category": "General purpose",
    "gpuNum": 0,
    "hideHardwareSpecs": false,
    "memoryGiB": 64,
    "name": "ml.m5d.4xlarge",
    "vcpuNum": 16
   },
   {
    "_defaultOrder": 16,
    "_isFastLaunch": false,
    "category": "General purpose",
    "gpuNum": 0,
    "hideHardwareSpecs": false,
    "memoryGiB": 128,
    "name": "ml.m5d.8xlarge",
    "vcpuNum": 32
   },
   {
    "_defaultOrder": 17,
    "_isFastLaunch": false,
    "category": "General purpose",
    "gpuNum": 0,
    "hideHardwareSpecs": false,
    "memoryGiB": 192,
    "name": "ml.m5d.12xlarge",
    "vcpuNum": 48
   },
   {
    "_defaultOrder": 18,
    "_isFastLaunch": false,
    "category": "General purpose",
    "gpuNum": 0,
    "hideHardwareSpecs": false,
    "memoryGiB": 256,
    "name": "ml.m5d.16xlarge",
    "vcpuNum": 64
   },
   {
    "_defaultOrder": 19,
    "_isFastLaunch": false,
    "category": "General purpose",
    "gpuNum": 0,
    "hideHardwareSpecs": false,
    "memoryGiB": 384,
    "name": "ml.m5d.24xlarge",
    "vcpuNum": 96
   },
   {
    "_defaultOrder": 20,
    "_isFastLaunch": false,
    "category": "General purpose",
    "gpuNum": 0,
    "hideHardwareSpecs": true,
    "memoryGiB": 0,
    "name": "ml.geospatial.interactive",
    "supportedImageNames": [
     "sagemaker-geospatial-v1-0"
    ],
    "vcpuNum": 0
   },
   {
    "_defaultOrder": 21,
    "_isFastLaunch": true,
    "category": "Compute optimized",
    "gpuNum": 0,
    "hideHardwareSpecs": false,
    "memoryGiB": 4,
    "name": "ml.c5.large",
    "vcpuNum": 2
   },
   {
    "_defaultOrder": 22,
    "_isFastLaunch": false,
    "category": "Compute optimized",
    "gpuNum": 0,
    "hideHardwareSpecs": false,
    "memoryGiB": 8,
    "name": "ml.c5.xlarge",
    "vcpuNum": 4
   },
   {
    "_defaultOrder": 23,
    "_isFastLaunch": false,
    "category": "Compute optimized",
    "gpuNum": 0,
    "hideHardwareSpecs": false,
    "memoryGiB": 16,
    "name": "ml.c5.2xlarge",
    "vcpuNum": 8
   },
   {
    "_defaultOrder": 24,
    "_isFastLaunch": false,
    "category": "Compute optimized",
    "gpuNum": 0,
    "hideHardwareSpecs": false,
    "memoryGiB": 32,
    "name": "ml.c5.4xlarge",
    "vcpuNum": 16
   },
   {
    "_defaultOrder": 25,
    "_isFastLaunch": false,
    "category": "Compute optimized",
    "gpuNum": 0,
    "hideHardwareSpecs": false,
    "memoryGiB": 72,
    "name": "ml.c5.9xlarge",
    "vcpuNum": 36
   },
   {
    "_defaultOrder": 26,
    "_isFastLaunch": false,
    "category": "Compute optimized",
    "gpuNum": 0,
    "hideHardwareSpecs": false,
    "memoryGiB": 96,
    "name": "ml.c5.12xlarge",
    "vcpuNum": 48
   },
   {
    "_defaultOrder": 27,
    "_isFastLaunch": false,
    "category": "Compute optimized",
    "gpuNum": 0,
    "hideHardwareSpecs": false,
    "memoryGiB": 144,
    "name": "ml.c5.18xlarge",
    "vcpuNum": 72
   },
   {
    "_defaultOrder": 28,
    "_isFastLaunch": false,
    "category": "Compute optimized",
    "gpuNum": 0,
    "hideHardwareSpecs": false,
    "memoryGiB": 192,
    "name": "ml.c5.24xlarge",
    "vcpuNum": 96
   },
   {
    "_defaultOrder": 29,
    "_isFastLaunch": true,
    "category": "Accelerated computing",
    "gpuNum": 1,
    "hideHardwareSpecs": false,
    "memoryGiB": 16,
    "name": "ml.g4dn.xlarge",
    "vcpuNum": 4
   },
   {
    "_defaultOrder": 30,
    "_isFastLaunch": false,
    "category": "Accelerated computing",
    "gpuNum": 1,
    "hideHardwareSpecs": false,
    "memoryGiB": 32,
    "name": "ml.g4dn.2xlarge",
    "vcpuNum": 8
   },
   {
    "_defaultOrder": 31,
    "_isFastLaunch": false,
    "category": "Accelerated computing",
    "gpuNum": 1,
    "hideHardwareSpecs": false,
    "memoryGiB": 64,
    "name": "ml.g4dn.4xlarge",
    "vcpuNum": 16
   },
   {
    "_defaultOrder": 32,
    "_isFastLaunch": false,
    "category": "Accelerated computing",
    "gpuNum": 1,
    "hideHardwareSpecs": false,
    "memoryGiB": 128,
    "name": "ml.g4dn.8xlarge",
    "vcpuNum": 32
   },
   {
    "_defaultOrder": 33,
    "_isFastLaunch": false,
    "category": "Accelerated computing",
    "gpuNum": 4,
    "hideHardwareSpecs": false,
    "memoryGiB": 192,
    "name": "ml.g4dn.12xlarge",
    "vcpuNum": 48
   },
   {
    "_defaultOrder": 34,
    "_isFastLaunch": false,
    "category": "Accelerated computing",
    "gpuNum": 1,
    "hideHardwareSpecs": false,
    "memoryGiB": 256,
    "name": "ml.g4dn.16xlarge",
    "vcpuNum": 64
   },
   {
    "_defaultOrder": 35,
    "_isFastLaunch": false,
    "category": "Accelerated computing",
    "gpuNum": 1,
    "hideHardwareSpecs": false,
    "memoryGiB": 61,
    "name": "ml.p3.2xlarge",
    "vcpuNum": 8
   },
   {
    "_defaultOrder": 36,
    "_isFastLaunch": false,
    "category": "Accelerated computing",
    "gpuNum": 4,
    "hideHardwareSpecs": false,
    "memoryGiB": 244,
    "name": "ml.p3.8xlarge",
    "vcpuNum": 32
   },
   {
    "_defaultOrder": 37,
    "_isFastLaunch": false,
    "category": "Accelerated computing",
    "gpuNum": 8,
    "hideHardwareSpecs": false,
    "memoryGiB": 488,
    "name": "ml.p3.16xlarge",
    "vcpuNum": 64
   },
   {
    "_defaultOrder": 38,
    "_isFastLaunch": false,
    "category": "Accelerated computing",
    "gpuNum": 8,
    "hideHardwareSpecs": false,
    "memoryGiB": 768,
    "name": "ml.p3dn.24xlarge",
    "vcpuNum": 96
   },
   {
    "_defaultOrder": 39,
    "_isFastLaunch": false,
    "category": "Memory Optimized",
    "gpuNum": 0,
    "hideHardwareSpecs": false,
    "memoryGiB": 16,
    "name": "ml.r5.large",
    "vcpuNum": 2
   },
   {
    "_defaultOrder": 40,
    "_isFastLaunch": false,
    "category": "Memory Optimized",
    "gpuNum": 0,
    "hideHardwareSpecs": false,
    "memoryGiB": 32,
    "name": "ml.r5.xlarge",
    "vcpuNum": 4
   },
   {
    "_defaultOrder": 41,
    "_isFastLaunch": false,
    "category": "Memory Optimized",
    "gpuNum": 0,
    "hideHardwareSpecs": false,
    "memoryGiB": 64,
    "name": "ml.r5.2xlarge",
    "vcpuNum": 8
   },
   {
    "_defaultOrder": 42,
    "_isFastLaunch": false,
    "category": "Memory Optimized",
    "gpuNum": 0,
    "hideHardwareSpecs": false,
    "memoryGiB": 128,
    "name": "ml.r5.4xlarge",
    "vcpuNum": 16
   },
   {
    "_defaultOrder": 43,
    "_isFastLaunch": false,
    "category": "Memory Optimized",
    "gpuNum": 0,
    "hideHardwareSpecs": false,
    "memoryGiB": 256,
    "name": "ml.r5.8xlarge",
    "vcpuNum": 32
   },
   {
    "_defaultOrder": 44,
    "_isFastLaunch": false,
    "category": "Memory Optimized",
    "gpuNum": 0,
    "hideHardwareSpecs": false,
    "memoryGiB": 384,
    "name": "ml.r5.12xlarge",
    "vcpuNum": 48
   },
   {
    "_defaultOrder": 45,
    "_isFastLaunch": false,
    "category": "Memory Optimized",
    "gpuNum": 0,
    "hideHardwareSpecs": false,
    "memoryGiB": 512,
    "name": "ml.r5.16xlarge",
    "vcpuNum": 64
   },
   {
    "_defaultOrder": 46,
    "_isFastLaunch": false,
    "category": "Memory Optimized",
    "gpuNum": 0,
    "hideHardwareSpecs": false,
    "memoryGiB": 768,
    "name": "ml.r5.24xlarge",
    "vcpuNum": 96
   },
   {
    "_defaultOrder": 47,
    "_isFastLaunch": false,
    "category": "Accelerated computing",
    "gpuNum": 1,
    "hideHardwareSpecs": false,
    "memoryGiB": 16,
    "name": "ml.g5.xlarge",
    "vcpuNum": 4
   },
   {
    "_defaultOrder": 48,
    "_isFastLaunch": false,
    "category": "Accelerated computing",
    "gpuNum": 1,
    "hideHardwareSpecs": false,
    "memoryGiB": 32,
    "name": "ml.g5.2xlarge",
    "vcpuNum": 8
   },
   {
    "_defaultOrder": 49,
    "_isFastLaunch": false,
    "category": "Accelerated computing",
    "gpuNum": 1,
    "hideHardwareSpecs": false,
    "memoryGiB": 64,
    "name": "ml.g5.4xlarge",
    "vcpuNum": 16
   },
   {
    "_defaultOrder": 50,
    "_isFastLaunch": false,
    "category": "Accelerated computing",
    "gpuNum": 1,
    "hideHardwareSpecs": false,
    "memoryGiB": 128,
    "name": "ml.g5.8xlarge",
    "vcpuNum": 32
   },
   {
    "_defaultOrder": 51,
    "_isFastLaunch": false,
    "category": "Accelerated computing",
    "gpuNum": 1,
    "hideHardwareSpecs": false,
    "memoryGiB": 256,
    "name": "ml.g5.16xlarge",
    "vcpuNum": 64
   },
   {
    "_defaultOrder": 52,
    "_isFastLaunch": false,
    "category": "Accelerated computing",
    "gpuNum": 4,
    "hideHardwareSpecs": false,
    "memoryGiB": 192,
    "name": "ml.g5.12xlarge",
    "vcpuNum": 48
   },
   {
    "_defaultOrder": 53,
    "_isFastLaunch": false,
    "category": "Accelerated computing",
    "gpuNum": 4,
    "hideHardwareSpecs": false,
    "memoryGiB": 384,
    "name": "ml.g5.24xlarge",
    "vcpuNum": 96
   },
   {
    "_defaultOrder": 54,
    "_isFastLaunch": false,
    "category": "Accelerated computing",
    "gpuNum": 8,
    "hideHardwareSpecs": false,
    "memoryGiB": 768,
    "name": "ml.g5.48xlarge",
    "vcpuNum": 192
   },
   {
    "_defaultOrder": 55,
    "_isFastLaunch": false,
    "category": "Accelerated computing",
    "gpuNum": 8,
    "hideHardwareSpecs": false,
    "memoryGiB": 1152,
    "name": "ml.p4d.24xlarge",
    "vcpuNum": 96
   },
   {
    "_defaultOrder": 56,
    "_isFastLaunch": false,
    "category": "Accelerated computing",
    "gpuNum": 8,
    "hideHardwareSpecs": false,
    "memoryGiB": 1152,
    "name": "ml.p4de.24xlarge",
    "vcpuNum": 96
   },
   {
    "_defaultOrder": 57,
    "_isFastLaunch": false,
    "category": "Accelerated computing",
    "gpuNum": 0,
    "hideHardwareSpecs": false,
    "memoryGiB": 32,
    "name": "ml.trn1.2xlarge",
    "vcpuNum": 8
   },
   {
    "_defaultOrder": 58,
    "_isFastLaunch": false,
    "category": "Accelerated computing",
    "gpuNum": 0,
    "hideHardwareSpecs": false,
    "memoryGiB": 512,
    "name": "ml.trn1.32xlarge",
    "vcpuNum": 128
   },
   {
    "_defaultOrder": 59,
    "_isFastLaunch": false,
    "category": "Accelerated computing",
    "gpuNum": 0,
    "hideHardwareSpecs": false,
    "memoryGiB": 512,
    "name": "ml.trn1n.32xlarge",
    "vcpuNum": 128
   }
  ],
  "instance_type": "ml.m5.xlarge",
  "kernelspec": {
   "display_name": "Python 3 (Data Science 3.0)",
   "language": "python",
   "name": "python3__SAGEMAKER_INTERNAL__arn:aws:sagemaker:us-east-1:081325390199:image/sagemaker-data-science-310-v1"
  },
  "language_info": {
   "codemirror_mode": {
    "name": "ipython",
    "version": 3
   },
   "file_extension": ".py",
   "mimetype": "text/x-python",
   "name": "python",
   "nbconvert_exporter": "python",
   "pygments_lexer": "ipython3",
   "version": "3.10.6"
  }
 },
 "nbformat": 4,
 "nbformat_minor": 5
}
