{
 "cells": [
  {
   "cell_type": "markdown",
   "metadata": {
    "nteract": {
     "transient": {
      "deleting": false
     }
    }
   },
   "source": [
    "### Launch spark environment"
   ]
  },
  {
   "cell_type": "code",
   "execution_count": 18,
   "metadata": {
    "gather": {
     "logged": 1700512548090
    },
    "jupyter": {
     "outputs_hidden": false,
     "source_hidden": false
    },
    "nteract": {
     "transient": {
      "deleting": false
     }
    }
   },
   "outputs": [
    {
     "data": {
      "application/vnd.livy.statement-meta+json": {
       "execution_finish_time": "2023-11-20T20:35:47.8824039Z",
       "execution_start_time": "2023-11-20T20:35:47.5579033Z",
       "livy_statement_state": "available",
       "parent_msg_id": "0ab37a9a-d23f-49f8-b732-6d818d8c2b11",
       "queued_time": "2023-11-20T20:35:47.4607009Z",
       "session_id": "35",
       "session_start_time": null,
       "spark_jobs": {
        "jobs": [],
        "limit": 20,
        "numbers": {
         "FAILED": 0,
         "RUNNING": 0,
         "SUCCEEDED": 0,
         "UNKNOWN": 0
        },
        "rule": "ALL_DESC"
       },
       "spark_pool": "8aef2e4c-7819-4b3c-ad3b-441a2f26e87b",
       "state": "finished",
       "statement_id": 21
      },
      "text/plain": [
       "StatementMeta(8aef2e4c-7819-4b3c-ad3b-441a2f26e87b, 35, 21, Finished, Available)"
      ]
     },
     "metadata": {},
     "output_type": "display_data"
    },
    {
     "data": {
      "text/html": [
       "\n",
       "            <div>\n",
       "                <p><b>SparkSession - hive</b></p>\n",
       "                \n",
       "        <div>\n",
       "            <p><b>SparkContext</b></p>\n",
       "\n",
       "            <p><a href=\"http://vm-17027121:40031\">Spark UI</a></p>\n",
       "\n",
       "            <dl>\n",
       "              <dt>Version</dt>\n",
       "                <dd><code>v3.2.2.5.1-100879434</code></dd>\n",
       "              <dt>Master</dt>\n",
       "                <dd><code>yarn</code></dd>\n",
       "              <dt>AppName</dt>\n",
       "                <dd><code>Azure ML Experiment</code></dd>\n",
       "            </dl>\n",
       "        </div>\n",
       "        \n",
       "            </div>\n",
       "        "
      ],
      "text/plain": [
       "<pyspark.sql.session.SparkSession at 0x7fd47204e7f0>"
      ]
     },
     "execution_count": 41,
     "metadata": {},
     "output_type": "execute_result"
    }
   ],
   "source": [
    "spark"
   ]
  },
  {
   "cell_type": "code",
   "execution_count": 2,
   "metadata": {
    "jupyter": {
     "outputs_hidden": false,
     "source_hidden": false
    },
    "nteract": {
     "transient": {
      "deleting": false
     }
    }
   },
   "outputs": [
    {
     "data": {
      "application/vnd.livy.statement-meta+json": {
       "execution_finish_time": "2023-11-20T19:36:26.1836772Z",
       "execution_start_time": "2023-11-20T19:36:26.1515545Z",
       "livy_statement_state": "available",
       "parent_msg_id": "61ab9f3a-d952-422a-80e8-4d4ccdfe1a3e",
       "queued_time": "2023-11-20T19:34:27.8392152Z",
       "session_id": "35",
       "session_start_time": "2023-11-20T19:34:28.0027731Z",
       "spark_jobs": {
        "jobs": [],
        "limit": 20,
        "numbers": {
         "FAILED": 0,
         "RUNNING": 0,
         "SUCCEEDED": 0,
         "UNKNOWN": 0
        },
        "rule": "ALL_DESC"
       },
       "spark_pool": "8aef2e4c-7819-4b3c-ad3b-441a2f26e87b",
       "state": "finished",
       "statement_id": -1
      },
      "text/plain": [
       "StatementMeta(8aef2e4c-7819-4b3c-ad3b-441a2f26e87b, 35, -1, Finished, Available)"
      ]
     },
     "metadata": {},
     "output_type": "display_data"
    },
    {
     "name": "stdout",
     "output_type": "stream",
     "text": [
      "Unrecognized options: "
     ]
    }
   ],
   "source": [
    "%%configure -f \\\n",
    "{\"conf\": {\"spark.jars.packages\": \"com.johnsnowlabs.nlp:spark-nlp_2.12:5.1.2\"}}"
   ]
  },
  {
   "cell_type": "code",
   "execution_count": 3,
   "metadata": {
    "jupyter": {
     "outputs_hidden": false,
     "source_hidden": false
    },
    "nteract": {
     "transient": {
      "deleting": false
     }
    }
   },
   "outputs": [
    {
     "data": {
      "application/vnd.livy.statement-meta+json": {
       "execution_finish_time": "2023-11-20T19:38:29.6147908Z",
       "execution_start_time": "2023-11-20T19:38:12.5588972Z",
       "livy_statement_state": "available",
       "parent_msg_id": "24b455a2-81f7-4ea8-9238-e8cfa6d4b47e",
       "queued_time": "2023-11-20T19:37:40.2260306Z",
       "session_id": "35",
       "session_start_time": null,
       "spark_jobs": {
        "jobs": [],
        "limit": 20,
        "numbers": {
         "FAILED": 0,
         "RUNNING": 0,
         "SUCCEEDED": 0,
         "UNKNOWN": 0
        },
        "rule": "ALL_DESC"
       },
       "spark_pool": "8aef2e4c-7819-4b3c-ad3b-441a2f26e87b",
       "state": "finished",
       "statement_id": 6
      },
      "text/plain": [
       "StatementMeta(8aef2e4c-7819-4b3c-ad3b-441a2f26e87b, 35, 6, Finished, Available)"
      ]
     },
     "metadata": {},
     "output_type": "display_data"
    },
    {
     "name": "stdout",
     "output_type": "stream",
     "text": [
      "Collecting spark-nlp\n",
      "  Downloading spark_nlp-5.1.4-py2.py3-none-any.whl (540 kB)\n",
      "\u001b[K     |████████████████████████████████| 540 kB 9.0 MB/s eta 0:00:01\n",
      "\u001b[?25hInstalling collected packages: spark-nlp\n",
      "Successfully installed spark-nlp-5.1.4\n"
     ]
    }
   ],
   "source": [
    "!pip install spark-nlp"
   ]
  },
  {
   "cell_type": "code",
   "execution_count": 4,
   "metadata": {
    "gather": {
     "logged": 1700509165522
    },
    "jupyter": {
     "outputs_hidden": false,
     "source_hidden": false
    },
    "nteract": {
     "transient": {
      "deleting": false
     }
    }
   },
   "outputs": [
    {
     "data": {
      "application/vnd.livy.statement-meta+json": {
       "execution_finish_time": "2023-11-20T19:39:25.4349642Z",
       "execution_start_time": "2023-11-20T19:39:12.4472017Z",
       "livy_statement_state": "available",
       "parent_msg_id": "cdf9b666-8505-4c3f-b2dd-8ad933ae67b0",
       "queued_time": "2023-11-20T19:39:12.3400264Z",
       "session_id": "35",
       "session_start_time": null,
       "spark_jobs": {
        "jobs": [
         {
          "completionTime": "2023-11-20T19:39:18.790GMT",
          "dataRead": 0,
          "dataWritten": 0,
          "description": "Job group for statement 7:\n# read the data\nworkspace_default_storage_account = \"group08astoragec0a5c9b39\"\nworkspace_default_container = \"azureml-blobstore-8f67895d-e507-48c5-8b8e-f003f0227b44\"\n\nworkspace_wasbs_base_url = (\n    f\"wasbs://{workspace_default_container}@{workspace_default_storage_account}.blob.core.windows.net/\"\n)\ndf = spark.read.parquet((f\"{workspace_wasbs_base_url}<PATH-TO-READ/WRITE>\"))",
          "displayName": "parquet at NativeMethodAccessorImpl.java:0",
          "jobGroup": "7",
          "jobId": 0,
          "killedTasksSummary": {},
          "name": "parquet at NativeMethodAccessorImpl.java:0",
          "numActiveStages": 0,
          "numActiveTasks": 0,
          "numCompletedIndices": 1,
          "numCompletedStages": 1,
          "numCompletedTasks": 1,
          "numFailedStages": 0,
          "numFailedTasks": 0,
          "numKilledTasks": 0,
          "numSkippedStages": 0,
          "numSkippedTasks": 0,
          "numTasks": 1,
          "rowCount": 0,
          "stageIds": [
           0
          ],
          "status": "SUCCEEDED",
          "submissionTime": "2023-11-20T19:39:13.851GMT",
          "usageDescription": ""
         }
        ],
        "limit": 20,
        "numbers": {
         "FAILED": 0,
         "RUNNING": 0,
         "SUCCEEDED": 1,
         "UNKNOWN": 0
        },
        "rule": "ALL_DESC"
       },
       "spark_pool": "8aef2e4c-7819-4b3c-ad3b-441a2f26e87b",
       "state": "finished",
       "statement_id": 7
      },
      "text/plain": [
       "StatementMeta(8aef2e4c-7819-4b3c-ad3b-441a2f26e87b, 35, 7, Finished, Available)"
      ]
     },
     "metadata": {},
     "output_type": "display_data"
    }
   ],
   "source": [
    "# read the data\n",
    "workspace_default_storage_account = \"group08astoragec0a5c9b39\"\n",
    "workspace_default_container = \"azureml-blobstore-8f67895d-e507-48c5-8b8e-f003f0227b44\"\n",
    "\n",
    "workspace_wasbs_base_url = (\n",
    "    f\"wasbs://{workspace_default_container}@{workspace_default_storage_account}.blob.core.windows.net/\"\n",
    ")\n",
    "df = spark.read.parquet((f\"{workspace_wasbs_base_url}<PATH-TO-READ/WRITE>\"))"
   ]
  },
  {
   "cell_type": "code",
   "execution_count": 5,
   "metadata": {
    "gather": {
     "logged": 1700509188580
    },
    "jupyter": {
     "outputs_hidden": false,
     "source_hidden": false
    },
    "nteract": {
     "transient": {
      "deleting": false
     }
    }
   },
   "outputs": [
    {
     "data": {
      "application/vnd.livy.statement-meta+json": {
       "execution_finish_time": "2023-11-20T19:39:48.3317882Z",
       "execution_start_time": "2023-11-20T19:39:43.5482319Z",
       "livy_statement_state": "available",
       "parent_msg_id": "f7601d89-3b7b-49a6-ad28-5301223881e9",
       "queued_time": "2023-11-20T19:39:43.4452077Z",
       "session_id": "35",
       "session_start_time": null,
       "spark_jobs": {
        "jobs": [],
        "limit": 20,
        "numbers": {
         "FAILED": 0,
         "RUNNING": 0,
         "SUCCEEDED": 0,
         "UNKNOWN": 0
        },
        "rule": "ALL_DESC"
       },
       "spark_pool": "8aef2e4c-7819-4b3c-ad3b-441a2f26e87b",
       "state": "finished",
       "statement_id": 8
      },
      "text/plain": [
       "StatementMeta(8aef2e4c-7819-4b3c-ad3b-441a2f26e87b, 35, 8, Finished, Available)"
      ]
     },
     "metadata": {},
     "output_type": "display_data"
    }
   ],
   "source": [
    "from pyspark.sql.functions import when, col, regexp_extract\n",
    "import pandas as pd\n",
    "import numpy as np\n",
    "import json\n",
    "from pyspark.ml import Pipeline\n",
    "from pyspark.sql import SparkSession\n",
    "import pyspark.sql.functions as F\n",
    "from sparknlp.annotator import *\n",
    "from sparknlp.base import *\n",
    "import sparknlp\n",
    "from sparknlp.pretrained import PretrainedPipeline"
   ]
  },
  {
   "cell_type": "markdown",
   "metadata": {
    "nteract": {
     "transient": {
      "deleting": false
     }
    }
   },
   "source": [
    "In this section, I will select all the Reddit comments related to World Cup 2022 and conduct sentiment analysis over time. First of all, I will use several key words to define the regex pattern and select all the relevant posts regarding World Cup 2022. Then, three dummy variables will be created, which indicate whether a Reddit post is related to the champion, the players or the referees. After that, I will leverage a pre-trained sentiment analysis model to predict the sentiment category for each post. Eventually, several data visualizations will be created for displaying the sentiment by category and how it evolved over time."
   ]
  },
  {
   "cell_type": "markdown",
   "metadata": {
    "nteract": {
     "transient": {
      "deleting": false
     }
    }
   },
   "source": [
    "## Filter the posts related to World Cup 2022"
   ]
  },
  {
   "cell_type": "code",
   "execution_count": 22,
   "metadata": {
    "gather": {
     "logged": 1700512786522
    },
    "jupyter": {
     "outputs_hidden": false,
     "source_hidden": false
    },
    "nteract": {
     "transient": {
      "deleting": false
     }
    }
   },
   "outputs": [
    {
     "data": {
      "application/vnd.livy.statement-meta+json": {
       "execution_finish_time": "2023-11-20T20:39:46.4096277Z",
       "execution_start_time": "2023-11-20T20:39:46.0914975Z",
       "livy_statement_state": "available",
       "parent_msg_id": "22c463c1-735e-4e91-8070-953c3032ec6e",
       "queued_time": "2023-11-20T20:39:45.9712997Z",
       "session_id": "35",
       "session_start_time": null,
       "spark_jobs": {
        "jobs": [],
        "limit": 20,
        "numbers": {
         "FAILED": 0,
         "RUNNING": 0,
         "SUCCEEDED": 0,
         "UNKNOWN": 0
        },
        "rule": "ALL_DESC"
       },
       "spark_pool": "8aef2e4c-7819-4b3c-ad3b-441a2f26e87b",
       "state": "finished",
       "statement_id": 25
      },
      "text/plain": [
       "StatementMeta(8aef2e4c-7819-4b3c-ad3b-441a2f26e87b, 35, 25, Finished, Available)"
      ]
     },
     "metadata": {},
     "output_type": "display_data"
    }
   ],
   "source": [
    "df_worldcup = df.filter(col('body').rlike('(?i)world cup|Qatar|fifa 2022|national|final'))"
   ]
  },
  {
   "cell_type": "code",
   "execution_count": 13,
   "metadata": {
    "gather": {
     "logged": 1700510126833
    },
    "jupyter": {
     "outputs_hidden": false,
     "source_hidden": false
    },
    "nteract": {
     "transient": {
      "deleting": false
     }
    }
   },
   "outputs": [
    {
     "data": {
      "application/vnd.livy.statement-meta+json": {
       "execution_finish_time": "2023-11-20T19:55:26.6981997Z",
       "execution_start_time": "2023-11-20T19:55:26.4107392Z",
       "livy_statement_state": "available",
       "parent_msg_id": "4a8792f2-eac7-4402-9533-27ebff9e00b8",
       "queued_time": "2023-11-20T19:55:26.3149027Z",
       "session_id": "35",
       "session_start_time": null,
       "spark_jobs": {
        "jobs": [],
        "limit": 20,
        "numbers": {
         "FAILED": 0,
         "RUNNING": 0,
         "SUCCEEDED": 0,
         "UNKNOWN": 0
        },
        "rule": "ALL_DESC"
       },
       "spark_pool": "8aef2e4c-7819-4b3c-ad3b-441a2f26e87b",
       "state": "finished",
       "statement_id": 16
      },
      "text/plain": [
       "StatementMeta(8aef2e4c-7819-4b3c-ad3b-441a2f26e87b, 35, 16, Finished, Available)"
      ]
     },
     "metadata": {},
     "output_type": "display_data"
    },
    {
     "data": {
      "text/plain": [
       "<bound method DataFrame.cache of DataFrame[author: string, author_flair_text: string, body: string, controversiality: bigint, created_utc: timestamp, gilded: bigint, score: bigint, stickied: boolean, subreddit: string]>"
      ]
     },
     "execution_count": 31,
     "metadata": {},
     "output_type": "execute_result"
    }
   ],
   "source": [
    "df_worldcup.cache"
   ]
  },
  {
   "cell_type": "code",
   "execution_count": 23,
   "metadata": {
    "gather": {
     "logged": 1700512809464
    },
    "jupyter": {
     "outputs_hidden": false,
     "source_hidden": false
    },
    "nteract": {
     "transient": {
      "deleting": false
     }
    }
   },
   "outputs": [
    {
     "data": {
      "application/vnd.livy.statement-meta+json": {
       "execution_finish_time": "2023-11-20T20:40:09.2060918Z",
       "execution_start_time": "2023-11-20T20:39:50.5183647Z",
       "livy_statement_state": "available",
       "parent_msg_id": "4bcdfda9-2a7d-4841-a1b7-ac5be0f5ea7c",
       "queued_time": "2023-11-20T20:39:50.4170163Z",
       "session_id": "35",
       "session_start_time": null,
       "spark_jobs": {
        "jobs": [
         {
          "completionTime": "2023-11-20T20:40:06.869GMT",
          "dataRead": 1947,
          "dataWritten": 0,
          "description": "Job group for statement 26:\ndf_worldcup.count()",
          "displayName": "count at NativeMethodAccessorImpl.java:0",
          "jobGroup": "26",
          "jobId": 19,
          "killedTasksSummary": {},
          "name": "count at NativeMethodAccessorImpl.java:0",
          "numActiveStages": 0,
          "numActiveTasks": 0,
          "numCompletedIndices": 1,
          "numCompletedStages": 1,
          "numCompletedTasks": 1,
          "numFailedStages": 0,
          "numFailedTasks": 0,
          "numKilledTasks": 0,
          "numSkippedStages": 1,
          "numSkippedTasks": 33,
          "numTasks": 34,
          "rowCount": 33,
          "stageIds": [
           24,
           23
          ],
          "status": "SUCCEEDED",
          "submissionTime": "2023-11-20T20:40:06.822GMT",
          "usageDescription": ""
         },
         {
          "completionTime": "2023-11-20T20:40:06.796GMT",
          "dataRead": 485250485,
          "dataWritten": 1947,
          "description": "Job group for statement 26:\ndf_worldcup.count()",
          "displayName": "count at NativeMethodAccessorImpl.java:0",
          "jobGroup": "26",
          "jobId": 18,
          "killedTasksSummary": {},
          "name": "count at NativeMethodAccessorImpl.java:0",
          "numActiveStages": 0,
          "numActiveTasks": 0,
          "numCompletedIndices": 33,
          "numCompletedStages": 1,
          "numCompletedTasks": 33,
          "numFailedStages": 0,
          "numFailedTasks": 0,
          "numKilledTasks": 0,
          "numSkippedStages": 0,
          "numSkippedTasks": 0,
          "numTasks": 33,
          "rowCount": 5617885,
          "stageIds": [
           22
          ],
          "status": "SUCCEEDED",
          "submissionTime": "2023-11-20T20:39:50.622GMT",
          "usageDescription": ""
         }
        ],
        "limit": 20,
        "numbers": {
         "FAILED": 0,
         "RUNNING": 0,
         "SUCCEEDED": 2,
         "UNKNOWN": 0
        },
        "rule": "ALL_DESC"
       },
       "spark_pool": "8aef2e4c-7819-4b3c-ad3b-441a2f26e87b",
       "state": "finished",
       "statement_id": 26
      },
      "text/plain": [
       "StatementMeta(8aef2e4c-7819-4b3c-ad3b-441a2f26e87b, 35, 26, Finished, Available)"
      ]
     },
     "metadata": {},
     "output_type": "display_data"
    },
    {
     "data": {
      "text/plain": [
       "157607"
      ]
     },
     "execution_count": 51,
     "metadata": {},
     "output_type": "execute_result"
    }
   ],
   "source": [
    "df_worldcup.count()"
   ]
  },
  {
   "cell_type": "markdown",
   "metadata": {
    "nteract": {
     "transient": {
      "deleting": false
     }
    }
   },
   "source": [
    "## Create three dummy variables about different sub-topics within World Cup"
   ]
  },
  {
   "cell_type": "code",
   "execution_count": 24,
   "metadata": {
    "gather": {
     "logged": 1700513130718
    },
    "jupyter": {
     "outputs_hidden": false,
     "source_hidden": false
    },
    "nteract": {
     "transient": {
      "deleting": false
     }
    }
   },
   "outputs": [
    {
     "data": {
      "application/vnd.livy.statement-meta+json": {
       "execution_finish_time": "2023-11-20T20:45:30.3030068Z",
       "execution_start_time": "2023-11-20T20:45:29.9758852Z",
       "livy_statement_state": "available",
       "parent_msg_id": "ef99f15b-2590-4950-a702-09690591e4a8",
       "queued_time": "2023-11-20T20:45:29.7738948Z",
       "session_id": "35",
       "session_start_time": null,
       "spark_jobs": {
        "jobs": [],
        "limit": 20,
        "numbers": {
         "FAILED": 0,
         "RUNNING": 0,
         "SUCCEEDED": 0,
         "UNKNOWN": 0
        },
        "rule": "ALL_DESC"
       },
       "spark_pool": "8aef2e4c-7819-4b3c-ad3b-441a2f26e87b",
       "state": "finished",
       "statement_id": 27
      },
      "text/plain": [
       "StatementMeta(8aef2e4c-7819-4b3c-ad3b-441a2f26e87b, 35, 27, Finished, Available)"
      ]
     },
     "metadata": {},
     "output_type": "display_data"
    }
   ],
   "source": [
    "df_worldcup = df_worldcup.withColumn(\"champion\", (col(\"body\").rlike(\"(?i)champion|Argentina|3 star|three star|del mundo\")).cast(\"int\"))\n",
    "df_worldcup = df_worldcup.withColumn(\"players\", (col(\"body\").rlike(\"(?i)player|Messi|Leo|Enzo|Alvarez|Di Maria|Lautaro|De Paul|Mac Allister|Romero|Mbappe|Ronaldo|Martinez|Neymar|Kylian|Lewandowski|vvd|Modric|Kane|van Dijk|Hazard|Suarez|Kevin|De Bruyne|Muller\")).cast(\"int\"))\n",
    "df_worldcup = df_worldcup.withColumn(\"referee\", (col(\"body\").rlike(\"(?i)referee|penalty|red card|yellow card|Misjudgment|VAR|offside\")).cast(\"int\"))"
   ]
  },
  {
   "cell_type": "code",
   "execution_count": 26,
   "metadata": {
    "gather": {
     "logged": 1700513265282
    },
    "jupyter": {
     "outputs_hidden": false,
     "source_hidden": false
    },
    "nteract": {
     "transient": {
      "deleting": false
     }
    }
   },
   "outputs": [
    {
     "data": {
      "application/vnd.livy.statement-meta+json": {
       "execution_finish_time": "2023-11-20T20:47:45.1137578Z",
       "execution_start_time": "2023-11-20T20:47:24.8081397Z",
       "livy_statement_state": "available",
       "parent_msg_id": "4d255c00-bb4a-4c2b-975e-d2621ea17adf",
       "queued_time": "2023-11-20T20:47:24.1129903Z",
       "session_id": "35",
       "session_start_time": null,
       "spark_jobs": {
        "jobs": [
         {
          "completionTime": "2023-11-20T20:47:44.476GMT",
          "dataRead": 4026,
          "dataWritten": 0,
          "description": "Job group for statement 29:\ndf_worldcup.groupBy('champion').agg(F.count('*').alias('count')).show()",
          "displayName": "showString at NativeMethodAccessorImpl.java:0",
          "jobGroup": "29",
          "jobId": 21,
          "killedTasksSummary": {},
          "name": "showString at NativeMethodAccessorImpl.java:0",
          "numActiveStages": 0,
          "numActiveTasks": 0,
          "numCompletedIndices": 1,
          "numCompletedStages": 1,
          "numCompletedTasks": 1,
          "numFailedStages": 0,
          "numFailedTasks": 0,
          "numKilledTasks": 0,
          "numSkippedStages": 1,
          "numSkippedTasks": 33,
          "numTasks": 34,
          "rowCount": 66,
          "stageIds": [
           27,
           26
          ],
          "status": "SUCCEEDED",
          "submissionTime": "2023-11-20T20:47:44.320GMT",
          "usageDescription": ""
         },
         {
          "completionTime": "2023-11-20T20:47:44.211GMT",
          "dataRead": 485249794,
          "dataWritten": 4026,
          "description": "Job group for statement 29:\ndf_worldcup.groupBy('champion').agg(F.count('*').alias('count')).show()",
          "displayName": "showString at NativeMethodAccessorImpl.java:0",
          "jobGroup": "29",
          "jobId": 20,
          "killedTasksSummary": {},
          "name": "showString at NativeMethodAccessorImpl.java:0",
          "numActiveStages": 0,
          "numActiveTasks": 0,
          "numCompletedIndices": 33,
          "numCompletedStages": 1,
          "numCompletedTasks": 33,
          "numFailedStages": 0,
          "numFailedTasks": 0,
          "numKilledTasks": 0,
          "numSkippedStages": 0,
          "numSkippedTasks": 0,
          "numTasks": 33,
          "rowCount": 5617918,
          "stageIds": [
           25
          ],
          "status": "SUCCEEDED",
          "submissionTime": "2023-11-20T20:47:25.097GMT",
          "usageDescription": ""
         }
        ],
        "limit": 20,
        "numbers": {
         "FAILED": 0,
         "RUNNING": 0,
         "SUCCEEDED": 2,
         "UNKNOWN": 0
        },
        "rule": "ALL_DESC"
       },
       "spark_pool": "8aef2e4c-7819-4b3c-ad3b-441a2f26e87b",
       "state": "finished",
       "statement_id": 29
      },
      "text/plain": [
       "StatementMeta(8aef2e4c-7819-4b3c-ad3b-441a2f26e87b, 35, 29, Finished, Available)"
      ]
     },
     "metadata": {},
     "output_type": "display_data"
    },
    {
     "name": "stdout",
     "output_type": "stream",
     "text": [
      "+--------+------+\n",
      "|champion| count|\n",
      "+--------+------+\n",
      "|       1| 11027|\n",
      "|       0|146580|\n",
      "+--------+------+\n",
      "\n"
     ]
    }
   ],
   "source": [
    "df_worldcup.groupBy('champion').agg(F.count('*').alias('count')).show()"
   ]
  },
  {
   "cell_type": "code",
   "execution_count": 27,
   "metadata": {
    "gather": {
     "logged": 1700513306670
    },
    "jupyter": {
     "outputs_hidden": false,
     "source_hidden": false
    },
    "nteract": {
     "transient": {
      "deleting": false
     }
    }
   },
   "outputs": [
    {
     "data": {
      "application/vnd.livy.statement-meta+json": {
       "execution_finish_time": "2023-11-20T20:48:26.5223143Z",
       "execution_start_time": "2023-11-20T20:48:05.3268348Z",
       "livy_statement_state": "available",
       "parent_msg_id": "1f33262e-3412-4c95-89fd-15217e850308",
       "queued_time": "2023-11-20T20:48:05.2100598Z",
       "session_id": "35",
       "session_start_time": null,
       "spark_jobs": {
        "jobs": [
         {
          "completionTime": "2023-11-20T20:48:25.491GMT",
          "dataRead": 4026,
          "dataWritten": 0,
          "description": "Job group for statement 30:\ndf_worldcup.groupBy('players').agg(F.count('*').alias('count')).show()",
          "displayName": "showString at NativeMethodAccessorImpl.java:0",
          "jobGroup": "30",
          "jobId": 23,
          "killedTasksSummary": {},
          "name": "showString at NativeMethodAccessorImpl.java:0",
          "numActiveStages": 0,
          "numActiveTasks": 0,
          "numCompletedIndices": 1,
          "numCompletedStages": 1,
          "numCompletedTasks": 1,
          "numFailedStages": 0,
          "numFailedTasks": 0,
          "numKilledTasks": 0,
          "numSkippedStages": 1,
          "numSkippedTasks": 33,
          "numTasks": 34,
          "rowCount": 66,
          "stageIds": [
           30,
           29
          ],
          "status": "SUCCEEDED",
          "submissionTime": "2023-11-20T20:48:25.385GMT",
          "usageDescription": ""
         },
         {
          "completionTime": "2023-11-20T20:48:25.357GMT",
          "dataRead": 485182090,
          "dataWritten": 4026,
          "description": "Job group for statement 30:\ndf_worldcup.groupBy('players').agg(F.count('*').alias('count')).show()",
          "displayName": "showString at NativeMethodAccessorImpl.java:0",
          "jobGroup": "30",
          "jobId": 22,
          "killedTasksSummary": {},
          "name": "showString at NativeMethodAccessorImpl.java:0",
          "numActiveStages": 0,
          "numActiveTasks": 0,
          "numCompletedIndices": 33,
          "numCompletedStages": 1,
          "numCompletedTasks": 33,
          "numFailedStages": 0,
          "numFailedTasks": 0,
          "numKilledTasks": 0,
          "numSkippedStages": 0,
          "numSkippedTasks": 0,
          "numTasks": 33,
          "rowCount": 5617918,
          "stageIds": [
           28
          ],
          "status": "SUCCEEDED",
          "submissionTime": "2023-11-20T20:48:05.474GMT",
          "usageDescription": ""
         }
        ],
        "limit": 20,
        "numbers": {
         "FAILED": 0,
         "RUNNING": 0,
         "SUCCEEDED": 2,
         "UNKNOWN": 0
        },
        "rule": "ALL_DESC"
       },
       "spark_pool": "8aef2e4c-7819-4b3c-ad3b-441a2f26e87b",
       "state": "finished",
       "statement_id": 30
      },
      "text/plain": [
       "StatementMeta(8aef2e4c-7819-4b3c-ad3b-441a2f26e87b, 35, 30, Finished, Available)"
      ]
     },
     "metadata": {},
     "output_type": "display_data"
    },
    {
     "name": "stdout",
     "output_type": "stream",
     "text": [
      "+-------+------+\n",
      "|players| count|\n",
      "+-------+------+\n",
      "|      1| 36087|\n",
      "|      0|121520|\n",
      "+-------+------+\n",
      "\n"
     ]
    }
   ],
   "source": [
    "df_worldcup.groupBy('players').agg(F.count('*').alias('count')).show()"
   ]
  },
  {
   "cell_type": "code",
   "execution_count": 28,
   "metadata": {
    "gather": {
     "logged": 1700513325966
    },
    "jupyter": {
     "outputs_hidden": false,
     "source_hidden": false
    },
    "nteract": {
     "transient": {
      "deleting": false
     }
    }
   },
   "outputs": [
    {
     "data": {
      "application/vnd.livy.statement-meta+json": {
       "execution_finish_time": "2023-11-20T20:48:45.4107158Z",
       "execution_start_time": "2023-11-20T20:48:26.6905007Z",
       "livy_statement_state": "available",
       "parent_msg_id": "f8d312a5-8dea-4e6f-92b9-41bc6cd46e06",
       "queued_time": "2023-11-20T20:48:17.9793603Z",
       "session_id": "35",
       "session_start_time": null,
       "spark_jobs": {
        "jobs": [
         {
          "completionTime": "2023-11-20T20:48:44.950GMT",
          "dataRead": 4025,
          "dataWritten": 0,
          "description": "Job group for statement 31:\ndf_worldcup.groupBy('referee').agg(F.count('*').alias('count')).show()",
          "displayName": "showString at NativeMethodAccessorImpl.java:0",
          "jobGroup": "31",
          "jobId": 25,
          "killedTasksSummary": {},
          "name": "showString at NativeMethodAccessorImpl.java:0",
          "numActiveStages": 0,
          "numActiveTasks": 0,
          "numCompletedIndices": 1,
          "numCompletedStages": 1,
          "numCompletedTasks": 1,
          "numFailedStages": 0,
          "numFailedTasks": 0,
          "numKilledTasks": 0,
          "numSkippedStages": 1,
          "numSkippedTasks": 33,
          "numTasks": 34,
          "rowCount": 66,
          "stageIds": [
           33,
           32
          ],
          "status": "SUCCEEDED",
          "submissionTime": "2023-11-20T20:48:44.910GMT",
          "usageDescription": ""
         },
         {
          "completionTime": "2023-11-20T20:48:44.882GMT",
          "dataRead": 485182090,
          "dataWritten": 4025,
          "description": "Job group for statement 31:\ndf_worldcup.groupBy('referee').agg(F.count('*').alias('count')).show()",
          "displayName": "showString at NativeMethodAccessorImpl.java:0",
          "jobGroup": "31",
          "jobId": 24,
          "killedTasksSummary": {},
          "name": "showString at NativeMethodAccessorImpl.java:0",
          "numActiveStages": 0,
          "numActiveTasks": 0,
          "numCompletedIndices": 33,
          "numCompletedStages": 1,
          "numCompletedTasks": 33,
          "numFailedStages": 0,
          "numFailedTasks": 0,
          "numKilledTasks": 0,
          "numSkippedStages": 0,
          "numSkippedTasks": 0,
          "numTasks": 33,
          "rowCount": 5617918,
          "stageIds": [
           31
          ],
          "status": "SUCCEEDED",
          "submissionTime": "2023-11-20T20:48:26.812GMT",
          "usageDescription": ""
         }
        ],
        "limit": 20,
        "numbers": {
         "FAILED": 0,
         "RUNNING": 0,
         "SUCCEEDED": 2,
         "UNKNOWN": 0
        },
        "rule": "ALL_DESC"
       },
       "spark_pool": "8aef2e4c-7819-4b3c-ad3b-441a2f26e87b",
       "state": "finished",
       "statement_id": 31
      },
      "text/plain": [
       "StatementMeta(8aef2e4c-7819-4b3c-ad3b-441a2f26e87b, 35, 31, Finished, Available)"
      ]
     },
     "metadata": {},
     "output_type": "display_data"
    },
    {
     "name": "stdout",
     "output_type": "stream",
     "text": [
      "+-------+------+\n",
      "|referee| count|\n",
      "+-------+------+\n",
      "|      1|  6147|\n",
      "|      0|151460|\n",
      "+-------+------+\n",
      "\n"
     ]
    }
   ],
   "source": [
    "df_worldcup.groupBy('referee').agg(F.count('*').alias('count')).show()"
   ]
  },
  {
   "cell_type": "markdown",
   "metadata": {
    "nteract": {
     "transient": {
      "deleting": false
     }
    }
   },
   "source": [
    "## Create a small data sample for code debugging"
   ]
  },
  {
   "cell_type": "code",
   "execution_count": 30,
   "metadata": {
    "gather": {
     "logged": 1700513383226
    },
    "jupyter": {
     "outputs_hidden": false,
     "source_hidden": false
    },
    "nteract": {
     "transient": {
      "deleting": false
     }
    }
   },
   "outputs": [
    {
     "data": {
      "application/vnd.livy.statement-meta+json": {
       "execution_finish_time": "2023-11-20T20:49:43.0664325Z",
       "execution_start_time": "2023-11-20T20:49:24.9757077Z",
       "livy_statement_state": "available",
       "parent_msg_id": "e0192cd0-f2e7-4c96-8ad5-e3492be8ba1a",
       "queued_time": "2023-11-20T20:49:24.7885233Z",
       "session_id": "35",
       "session_start_time": null,
       "spark_jobs": {
        "jobs": [
         {
          "completionTime": "2023-11-20T20:49:40.794GMT",
          "dataRead": 1947,
          "dataWritten": 0,
          "description": "Job group for statement 33:\ndf_small = df_worldcup.sample(False, 0.01)\ndf_small.count()",
          "displayName": "count at NativeMethodAccessorImpl.java:0",
          "jobGroup": "33",
          "jobId": 29,
          "killedTasksSummary": {},
          "name": "count at NativeMethodAccessorImpl.java:0",
          "numActiveStages": 0,
          "numActiveTasks": 0,
          "numCompletedIndices": 1,
          "numCompletedStages": 1,
          "numCompletedTasks": 1,
          "numFailedStages": 0,
          "numFailedTasks": 0,
          "numKilledTasks": 0,
          "numSkippedStages": 1,
          "numSkippedTasks": 33,
          "numTasks": 34,
          "rowCount": 33,
          "stageIds": [
           38,
           39
          ],
          "status": "SUCCEEDED",
          "submissionTime": "2023-11-20T20:49:40.760GMT",
          "usageDescription": ""
         },
         {
          "completionTime": "2023-11-20T20:49:40.738GMT",
          "dataRead": 485182090,
          "dataWritten": 1947,
          "description": "Job group for statement 33:\ndf_small = df_worldcup.sample(False, 0.01)\ndf_small.count()",
          "displayName": "count at NativeMethodAccessorImpl.java:0",
          "jobGroup": "33",
          "jobId": 28,
          "killedTasksSummary": {},
          "name": "count at NativeMethodAccessorImpl.java:0",
          "numActiveStages": 0,
          "numActiveTasks": 0,
          "numCompletedIndices": 33,
          "numCompletedStages": 1,
          "numCompletedTasks": 33,
          "numFailedStages": 0,
          "numFailedTasks": 0,
          "numKilledTasks": 0,
          "numSkippedStages": 0,
          "numSkippedTasks": 0,
          "numTasks": 33,
          "rowCount": 5617885,
          "stageIds": [
           37
          ],
          "status": "SUCCEEDED",
          "submissionTime": "2023-11-20T20:49:25.053GMT",
          "usageDescription": ""
         }
        ],
        "limit": 20,
        "numbers": {
         "FAILED": 0,
         "RUNNING": 0,
         "SUCCEEDED": 2,
         "UNKNOWN": 0
        },
        "rule": "ALL_DESC"
       },
       "spark_pool": "8aef2e4c-7819-4b3c-ad3b-441a2f26e87b",
       "state": "finished",
       "statement_id": 33
      },
      "text/plain": [
       "StatementMeta(8aef2e4c-7819-4b3c-ad3b-441a2f26e87b, 35, 33, Finished, Available)"
      ]
     },
     "metadata": {},
     "output_type": "display_data"
    },
    {
     "data": {
      "text/plain": [
       "1609"
      ]
     },
     "execution_count": 65,
     "metadata": {},
     "output_type": "execute_result"
    }
   ],
   "source": [
    "df_small = df_worldcup.sample(False, 0.01)\n",
    "df_small.count()"
   ]
  },
  {
   "cell_type": "code",
   "execution_count": 31,
   "metadata": {
    "gather": {
     "logged": 1700513385510
    },
    "jupyter": {
     "outputs_hidden": false,
     "source_hidden": false
    },
    "nteract": {
     "transient": {
      "deleting": false
     }
    }
   },
   "outputs": [
    {
     "data": {
      "application/vnd.livy.statement-meta+json": {
       "execution_finish_time": "2023-11-20T20:49:45.3796486Z",
       "execution_start_time": "2023-11-20T20:49:44.5751245Z",
       "livy_statement_state": "available",
       "parent_msg_id": "54d6bbeb-168d-4e5c-b7c4-23a00b813a84",
       "queued_time": "2023-11-20T20:49:44.4374022Z",
       "session_id": "35",
       "session_start_time": null,
       "spark_jobs": {
        "jobs": [
         {
          "completionTime": "2023-11-20T20:49:45.148GMT",
          "dataRead": 2915097,
          "dataWritten": 0,
          "description": "Job group for statement 34:\ndf_small.show(5)",
          "displayName": "showString at NativeMethodAccessorImpl.java:0",
          "jobGroup": "34",
          "jobId": 30,
          "killedTasksSummary": {},
          "name": "showString at NativeMethodAccessorImpl.java:0",
          "numActiveStages": 0,
          "numActiveTasks": 0,
          "numCompletedIndices": 1,
          "numCompletedStages": 1,
          "numCompletedTasks": 1,
          "numFailedStages": 0,
          "numFailedTasks": 0,
          "numKilledTasks": 0,
          "numSkippedStages": 0,
          "numSkippedTasks": 0,
          "numTasks": 1,
          "rowCount": 33784,
          "stageIds": [
           40
          ],
          "status": "SUCCEEDED",
          "submissionTime": "2023-11-20T20:49:44.693GMT",
          "usageDescription": ""
         }
        ],
        "limit": 20,
        "numbers": {
         "FAILED": 0,
         "RUNNING": 0,
         "SUCCEEDED": 1,
         "UNKNOWN": 0
        },
        "rule": "ALL_DESC"
       },
       "spark_pool": "8aef2e4c-7819-4b3c-ad3b-441a2f26e87b",
       "state": "finished",
       "statement_id": 34
      },
      "text/plain": [
       "StatementMeta(8aef2e4c-7819-4b3c-ad3b-441a2f26e87b, 35, 34, Finished, Available)"
      ]
     },
     "metadata": {},
     "output_type": "display_data"
    },
    {
     "name": "stdout",
     "output_type": "stream",
     "text": [
      "+--------------------+--------------------+--------------------+----------------+-------------------+------+-----+--------+---------+--------+-------+-------+\n",
      "|              author|   author_flair_text|                body|controversiality|        created_utc|gilded|score|stickied|subreddit|champion|players|referee|\n",
      "+--------------------+--------------------+--------------------+----------------+-------------------+------+-----+--------+---------+--------+-------+-------+\n",
      "|   Melloa_Trunk_Tree|                null|Finally,  Liverpo...|               0|2023-01-02 18:13:39|     0|    2|   false|   soccer|       0|      0|      0|\n",
      "|              captdf|:Angel_City_FC: A...|WWC 2019 will hav...|               0|2023-01-26 23:42:55|     0|    2|   false|     NWSL|       0|      0|      1|\n",
      "|       Cardealer1000|        :transpride:|No I'm genuinely ...|               0|2023-01-14 17:01:57|     0|    1|   false|   soccer|       0|      0|      1|\n",
      "|            DickyD43|I don't give a fu...|Their UCL Finals ...|               0|2023-03-19 19:25:44|     0|   28|   false|chelseafc|       0|      0|      0|\n",
      "|Professional_Ad_9101|                null|Picky has always ...|               0|2023-01-14 16:46:07|     0|    3|   false|   soccer|       0|      0|      0|\n",
      "+--------------------+--------------------+--------------------+----------------+-------------------+------+-----+--------+---------+--------+-------+-------+\n",
      "only showing top 5 rows\n",
      "\n"
     ]
    }
   ],
   "source": [
    "df_small.show(5)"
   ]
  },
  {
   "cell_type": "markdown",
   "metadata": {
    "nteract": {
     "transient": {
      "deleting": false
     }
    }
   },
   "source": [
    "## Utilize a pre-trained model and predict the sentiment category using piplines"
   ]
  },
  {
   "cell_type": "code",
   "execution_count": 9,
   "metadata": {
    "gather": {
     "logged": 1700509711837
    },
    "jupyter": {
     "outputs_hidden": false,
     "source_hidden": false
    },
    "nteract": {
     "transient": {
      "deleting": false
     }
    }
   },
   "outputs": [
    {
     "data": {
      "application/vnd.livy.statement-meta+json": {
       "execution_finish_time": "2023-11-20T19:48:31.7041062Z",
       "execution_start_time": "2023-11-20T19:46:13.8660661Z",
       "livy_statement_state": "available",
       "parent_msg_id": "e69a2922-9e34-4a47-aa24-2d99829ef101",
       "queued_time": "2023-11-20T19:46:13.7214441Z",
       "session_id": "35",
       "session_start_time": null,
       "spark_jobs": {
        "jobs": [
         {
          "completionTime": "2023-11-20T19:48:26.096GMT",
          "dataRead": 650,
          "dataWritten": 0,
          "description": "Job group for statement 12:\ndocumentAssembler = DocumentAssembler()    .setInputCol(\"body\")    .setOutputCol(\"document\")\n    \nuse = UniversalSentenceEncoder.pretrained(name=\"tfhub_use\", lang=\"en\") .setInputCols([\"document\"]) .setOutputCol(\"sentence_embeddings\")\n\n\nsentimentdl = SentimentDLModel.pretrained(name=\"sentimentdl_use_twitter\", lang=\"en\")    .setInputCols([\"sentence_embeddings\"])    .setOutputCol(\"sentiment\")\n\nnlpPipeline = Pipeline(\n      stages = [\n          documentAssembler,\n          use,\n          sentimentdl\n      ])",
          "displayName": "first at Feature.scala:182",
          "jobGroup": "12",
          "jobId": 8,
          "killedTasksSummary": {},
          "name": "first at Feature.scala:182",
          "numActiveStages": 0,
          "numActiveTasks": 0,
          "numCompletedIndices": 4,
          "numCompletedStages": 1,
          "numCompletedTasks": 4,
          "numFailedStages": 0,
          "numFailedTasks": 0,
          "numKilledTasks": 0,
          "numSkippedStages": 0,
          "numSkippedTasks": 0,
          "numTasks": 4,
          "rowCount": 1,
          "stageIds": [
           9
          ],
          "status": "SUCCEEDED",
          "submissionTime": "2023-11-20T19:48:25.861GMT",
          "usageDescription": ""
         },
         {
          "completionTime": "2023-11-20T19:48:25.851GMT",
          "dataRead": 95,
          "dataWritten": 0,
          "description": "Job group for statement 12:\ndocumentAssembler = DocumentAssembler()    .setInputCol(\"body\")    .setOutputCol(\"document\")\n    \nuse = UniversalSentenceEncoder.pretrained(name=\"tfhub_use\", lang=\"en\") .setInputCols([\"document\"]) .setOutputCol(\"sentence_embeddings\")\n\n\nsentimentdl = SentimentDLModel.pretrained(name=\"sentimentdl_use_twitter\", lang=\"en\")    .setInputCols([\"sentence_embeddings\"])    .setOutputCol(\"sentiment\")\n\nnlpPipeline = Pipeline(\n      stages = [\n          documentAssembler,\n          use,\n          sentimentdl\n      ])",
          "displayName": "first at Feature.scala:182",
          "jobGroup": "12",
          "jobId": 7,
          "killedTasksSummary": {},
          "name": "first at Feature.scala:182",
          "numActiveStages": 0,
          "numActiveTasks": 0,
          "numCompletedIndices": 1,
          "numCompletedStages": 1,
          "numCompletedTasks": 1,
          "numFailedStages": 0,
          "numFailedTasks": 0,
          "numKilledTasks": 0,
          "numSkippedStages": 0,
          "numSkippedTasks": 0,
          "numTasks": 1,
          "rowCount": 0,
          "stageIds": [
           8
          ],
          "status": "SUCCEEDED",
          "submissionTime": "2023-11-20T19:48:25.617GMT",
          "usageDescription": ""
         },
         {
          "completionTime": "2023-11-20T19:48:25.458GMT",
          "dataRead": 463,
          "dataWritten": 0,
          "description": "Job group for statement 12:\ndocumentAssembler = DocumentAssembler()    .setInputCol(\"body\")    .setOutputCol(\"document\")\n    \nuse = UniversalSentenceEncoder.pretrained(name=\"tfhub_use\", lang=\"en\") .setInputCols([\"document\"]) .setOutputCol(\"sentence_embeddings\")\n\n\nsentimentdl = SentimentDLModel.pretrained(name=\"sentimentdl_use_twitter\", lang=\"en\")    .setInputCols([\"sentence_embeddings\"])    .setOutputCol(\"sentiment\")\n\nnlpPipeline = Pipeline(\n      stages = [\n          documentAssembler,\n          use,\n          sentimentdl\n      ])",
          "displayName": "first at ReadWrite.scala:587",
          "jobGroup": "12",
          "jobId": 6,
          "killedTasksSummary": {},
          "name": "first at ReadWrite.scala:587",
          "numActiveStages": 0,
          "numActiveTasks": 0,
          "numCompletedIndices": 1,
          "numCompletedStages": 1,
          "numCompletedTasks": 1,
          "numFailedStages": 0,
          "numFailedTasks": 0,
          "numKilledTasks": 0,
          "numSkippedStages": 0,
          "numSkippedTasks": 0,
          "numTasks": 1,
          "rowCount": 1,
          "stageIds": [
           7
          ],
          "status": "SUCCEEDED",
          "submissionTime": "2023-11-20T19:48:25.247GMT",
          "usageDescription": ""
         },
         {
          "completionTime": "2023-11-20T19:47:16.718GMT",
          "dataRead": 346,
          "dataWritten": 0,
          "description": "Job group for statement 12:\ndocumentAssembler = DocumentAssembler()    .setInputCol(\"body\")    .setOutputCol(\"document\")\n    \nuse = UniversalSentenceEncoder.pretrained(name=\"tfhub_use\", lang=\"en\") .setInputCols([\"document\"]) .setOutputCol(\"sentence_embeddings\")\n\n\nsentimentdl = SentimentDLModel.pretrained(name=\"sentimentdl_use_twitter\", lang=\"en\")    .setInputCols([\"sentence_embeddings\"])    .setOutputCol(\"sentiment\")\n\nnlpPipeline = Pipeline(\n      stages = [\n          documentAssembler,\n          use,\n          sentimentdl\n      ])",
          "displayName": "first at ReadWrite.scala:587",
          "jobGroup": "12",
          "jobId": 5,
          "killedTasksSummary": {},
          "name": "first at ReadWrite.scala:587",
          "numActiveStages": 0,
          "numActiveTasks": 0,
          "numCompletedIndices": 1,
          "numCompletedStages": 1,
          "numCompletedTasks": 1,
          "numFailedStages": 0,
          "numFailedTasks": 0,
          "numKilledTasks": 0,
          "numSkippedStages": 0,
          "numSkippedTasks": 0,
          "numTasks": 1,
          "rowCount": 1,
          "stageIds": [
           6
          ],
          "status": "SUCCEEDED",
          "submissionTime": "2023-11-20T19:47:16.430GMT",
          "usageDescription": ""
         }
        ],
        "limit": 20,
        "numbers": {
         "FAILED": 0,
         "RUNNING": 0,
         "SUCCEEDED": 4,
         "UNKNOWN": 0
        },
        "rule": "ALL_DESC"
       },
       "spark_pool": "8aef2e4c-7819-4b3c-ad3b-441a2f26e87b",
       "state": "finished",
       "statement_id": 12
      },
      "text/plain": [
       "StatementMeta(8aef2e4c-7819-4b3c-ad3b-441a2f26e87b, 35, 12, Finished, Available)"
      ]
     },
     "metadata": {},
     "output_type": "display_data"
    },
    {
     "name": "stdout",
     "output_type": "stream",
     "text": [
      "tfhub_use download started this may take some time.\n",
      "Approximate size to download 923.7 MB\n",
      "[OK!]\n",
      "sentimentdl_use_twitter download started this may take some time.\n",
      "Approximate size to download 11.4 MB\n",
      "[OK!]\n"
     ]
    }
   ],
   "source": [
    "documentAssembler = DocumentAssembler()\\\n",
    "    .setInputCol(\"body\")\\\n",
    "    .setOutputCol(\"document\")\n",
    "    \n",
    "use = UniversalSentenceEncoder.pretrained(name=\"tfhub_use\", lang=\"en\")\\\n",
    " .setInputCols([\"document\"])\\\n",
    " .setOutputCol(\"sentence_embeddings\")\n",
    "\n",
    "\n",
    "sentimentdl = SentimentDLModel.pretrained(name=\"sentimentdl_use_twitter\", lang=\"en\")\\\n",
    "    .setInputCols([\"sentence_embeddings\"])\\\n",
    "    .setOutputCol(\"sentiment\")\n",
    "\n",
    "nlpPipeline = Pipeline(\n",
    "      stages = [\n",
    "          documentAssembler,\n",
    "          use,\n",
    "          sentimentdl\n",
    "      ])"
   ]
  },
  {
   "cell_type": "code",
   "execution_count": 32,
   "metadata": {
    "gather": {
     "logged": 1700513505835
    },
    "jupyter": {
     "outputs_hidden": false,
     "source_hidden": false
    },
    "nteract": {
     "transient": {
      "deleting": false
     }
    }
   },
   "outputs": [
    {
     "data": {
      "application/vnd.livy.statement-meta+json": {
       "execution_finish_time": "2023-11-20T20:51:45.7220528Z",
       "execution_start_time": "2023-11-20T20:51:44.6923067Z",
       "livy_statement_state": "available",
       "parent_msg_id": "07bed005-faeb-4160-ad35-5c9108241f6e",
       "queued_time": "2023-11-20T20:51:44.572677Z",
       "session_id": "35",
       "session_start_time": null,
       "spark_jobs": {
        "jobs": [],
        "limit": 20,
        "numbers": {
         "FAILED": 0,
         "RUNNING": 0,
         "SUCCEEDED": 0,
         "UNKNOWN": 0
        },
        "rule": "ALL_DESC"
       },
       "spark_pool": "8aef2e4c-7819-4b3c-ad3b-441a2f26e87b",
       "state": "finished",
       "statement_id": 35
      },
      "text/plain": [
       "StatementMeta(8aef2e4c-7819-4b3c-ad3b-441a2f26e87b, 35, 35, Finished, Available)"
      ]
     },
     "metadata": {},
     "output_type": "display_data"
    }
   ],
   "source": [
    "# Use the small dataset for sentiment analysis\n",
    "\n",
    "content = df_small.select('body')\n",
    "pipelineModel = nlpPipeline.fit(content)\n",
    "result = pipelineModel.transform(content)"
   ]
  },
  {
   "cell_type": "code",
   "execution_count": 33,
   "metadata": {
    "gather": {
     "logged": 1700513541145
    },
    "jupyter": {
     "outputs_hidden": false,
     "source_hidden": false
    },
    "nteract": {
     "transient": {
      "deleting": false
     }
    }
   },
   "outputs": [
    {
     "data": {
      "application/vnd.livy.statement-meta+json": {
       "execution_finish_time": "2023-11-20T20:52:20.9282695Z",
       "execution_start_time": "2023-11-20T20:51:59.5233475Z",
       "livy_statement_state": "available",
       "parent_msg_id": "9e3c5ec1-b9e8-44da-8590-07d6bf9ec9eb",
       "queued_time": "2023-11-20T20:51:59.4300489Z",
       "session_id": "35",
       "session_start_time": null,
       "spark_jobs": {
        "jobs": [
         {
          "completionTime": "2023-11-20T20:52:18.374GMT",
          "dataRead": 2331230,
          "dataWritten": 0,
          "description": "Job group for statement 36:\nresult.show(5)",
          "displayName": "showString at NativeMethodAccessorImpl.java:0",
          "jobGroup": "36",
          "jobId": 31,
          "killedTasksSummary": {},
          "name": "showString at NativeMethodAccessorImpl.java:0",
          "numActiveStages": 0,
          "numActiveTasks": 0,
          "numCompletedIndices": 1,
          "numCompletedStages": 1,
          "numCompletedTasks": 1,
          "numFailedStages": 0,
          "numFailedTasks": 0,
          "numKilledTasks": 0,
          "numSkippedStages": 0,
          "numSkippedTasks": 0,
          "numTasks": 1,
          "rowCount": 33784,
          "stageIds": [
           41
          ],
          "status": "SUCCEEDED",
          "submissionTime": "2023-11-20T20:52:00.016GMT",
          "usageDescription": ""
         }
        ],
        "limit": 20,
        "numbers": {
         "FAILED": 0,
         "RUNNING": 0,
         "SUCCEEDED": 1,
         "UNKNOWN": 0
        },
        "rule": "ALL_DESC"
       },
       "spark_pool": "8aef2e4c-7819-4b3c-ad3b-441a2f26e87b",
       "state": "finished",
       "statement_id": 36
      },
      "text/plain": [
       "StatementMeta(8aef2e4c-7819-4b3c-ad3b-441a2f26e87b, 35, 36, Finished, Available)"
      ]
     },
     "metadata": {},
     "output_type": "display_data"
    },
    {
     "name": "stdout",
     "output_type": "stream",
     "text": [
      "+--------------------+--------------------+--------------------+--------------------+\n",
      "|                body|            document| sentence_embeddings|           sentiment|\n",
      "+--------------------+--------------------+--------------------+--------------------+\n",
      "|Finally,  Liverpo...|[{document, 0, 44...|[{sentence_embedd...|[{category, 0, 44...|\n",
      "|WWC 2019 will hav...|[{document, 0, 45...|[{sentence_embedd...|[{category, 0, 45...|\n",
      "|No I'm genuinely ...|[{document, 0, 43...|[{sentence_embedd...|[{category, 0, 43...|\n",
      "|Their UCL Finals ...|[{document, 0, 80...|[{sentence_embedd...|[{category, 0, 80...|\n",
      "|Picky has always ...|[{document, 0, 53...|[{sentence_embedd...|[{category, 0, 53...|\n",
      "+--------------------+--------------------+--------------------+--------------------+\n",
      "only showing top 5 rows\n",
      "\n"
     ]
    }
   ],
   "source": [
    "result.show(5)"
   ]
  },
  {
   "cell_type": "code",
   "execution_count": 38,
   "metadata": {
    "gather": {
     "logged": 1700513855092
    },
    "jupyter": {
     "outputs_hidden": false,
     "source_hidden": false
    },
    "nteract": {
     "transient": {
      "deleting": false
     }
    }
   },
   "outputs": [
    {
     "data": {
      "application/vnd.livy.statement-meta+json": {
       "execution_finish_time": "2023-11-20T20:57:34.9860661Z",
       "execution_start_time": "2023-11-20T20:57:34.6484615Z",
       "livy_statement_state": "available",
       "parent_msg_id": "25cc65e1-3cc7-49f3-8356-df34af1edcb9",
       "queued_time": "2023-11-20T20:57:34.477446Z",
       "session_id": "35",
       "session_start_time": null,
       "spark_jobs": {
        "jobs": [],
        "limit": 20,
        "numbers": {
         "FAILED": 0,
         "RUNNING": 0,
         "SUCCEEDED": 0,
         "UNKNOWN": 0
        },
        "rule": "ALL_DESC"
       },
       "spark_pool": "8aef2e4c-7819-4b3c-ad3b-441a2f26e87b",
       "state": "finished",
       "statement_id": 41
      },
      "text/plain": [
       "StatementMeta(8aef2e4c-7819-4b3c-ad3b-441a2f26e87b, 35, 41, Finished, Available)"
      ]
     },
     "metadata": {},
     "output_type": "display_data"
    }
   ],
   "source": [
    "senti = result.select('body', F.explode('sentiment.result'))"
   ]
  },
  {
   "cell_type": "code",
   "execution_count": 39,
   "metadata": {
    "gather": {
     "logged": 1700513914029
    },
    "jupyter": {
     "outputs_hidden": false,
     "source_hidden": false
    },
    "nteract": {
     "transient": {
      "deleting": false
     }
    }
   },
   "outputs": [
    {
     "data": {
      "application/vnd.livy.statement-meta+json": {
       "execution_finish_time": "2023-11-20T20:58:33.8396621Z",
       "execution_start_time": "2023-11-20T20:58:27.1511506Z",
       "livy_statement_state": "available",
       "parent_msg_id": "53576095-eb61-4886-9f7f-78f694a8d110",
       "queued_time": "2023-11-20T20:58:27.0428488Z",
       "session_id": "35",
       "session_start_time": null,
       "spark_jobs": {
        "jobs": [
         {
          "completionTime": "2023-11-20T20:58:28.346GMT",
          "dataRead": 2331230,
          "dataWritten": 0,
          "description": "Job group for statement 42:\nsenti.show(5)",
          "displayName": "showString at NativeMethodAccessorImpl.java:0",
          "jobGroup": "42",
          "jobId": 34,
          "killedTasksSummary": {},
          "name": "showString at NativeMethodAccessorImpl.java:0",
          "numActiveStages": 0,
          "numActiveTasks": 0,
          "numCompletedIndices": 1,
          "numCompletedStages": 1,
          "numCompletedTasks": 1,
          "numFailedStages": 0,
          "numFailedTasks": 0,
          "numKilledTasks": 0,
          "numSkippedStages": 0,
          "numSkippedTasks": 0,
          "numTasks": 1,
          "rowCount": 33784,
          "stageIds": [
           44
          ],
          "status": "SUCCEEDED",
          "submissionTime": "2023-11-20T20:58:27.471GMT",
          "usageDescription": ""
         }
        ],
        "limit": 20,
        "numbers": {
         "FAILED": 0,
         "RUNNING": 0,
         "SUCCEEDED": 1,
         "UNKNOWN": 0
        },
        "rule": "ALL_DESC"
       },
       "spark_pool": "8aef2e4c-7819-4b3c-ad3b-441a2f26e87b",
       "state": "finished",
       "statement_id": 42
      },
      "text/plain": [
       "StatementMeta(8aef2e4c-7819-4b3c-ad3b-441a2f26e87b, 35, 42, Finished, Available)"
      ]
     },
     "metadata": {},
     "output_type": "display_data"
    },
    {
     "name": "stdout",
     "output_type": "stream",
     "text": [
      "+--------------------+--------+\n",
      "|                body|     col|\n",
      "+--------------------+--------+\n",
      "|Finally,  Liverpo...|negative|\n",
      "|WWC 2019 will hav...|positive|\n",
      "|No I'm genuinely ...|positive|\n",
      "|Their UCL Finals ...|positive|\n",
      "|Picky has always ...|negative|\n",
      "+--------------------+--------+\n",
      "only showing top 5 rows\n",
      "\n"
     ]
    }
   ],
   "source": [
    "senti.show(5)"
   ]
  },
  {
   "cell_type": "code",
   "execution_count": 40,
   "metadata": {
    "gather": {
     "logged": 1700514009320
    },
    "jupyter": {
     "outputs_hidden": false,
     "source_hidden": false
    },
    "nteract": {
     "transient": {
      "deleting": false
     }
    }
   },
   "outputs": [
    {
     "data": {
      "application/vnd.livy.statement-meta+json": {
       "execution_finish_time": "2023-11-20T21:00:09.1801363Z",
       "execution_start_time": "2023-11-20T21:00:08.3879913Z",
       "livy_statement_state": "available",
       "parent_msg_id": "1db0f8f4-8ab2-4fb5-98cb-ffc6c47f9a23",
       "queued_time": "2023-11-20T21:00:08.2604514Z",
       "session_id": "35",
       "session_start_time": null,
       "spark_jobs": {
        "jobs": [],
        "limit": 20,
        "numbers": {
         "FAILED": 0,
         "RUNNING": 0,
         "SUCCEEDED": 0,
         "UNKNOWN": 0
        },
        "rule": "ALL_DESC"
       },
       "spark_pool": "8aef2e4c-7819-4b3c-ad3b-441a2f26e87b",
       "state": "finished",
       "statement_id": 43
      },
      "text/plain": [
       "StatementMeta(8aef2e4c-7819-4b3c-ad3b-441a2f26e87b, 35, 43, Finished, Available)"
      ]
     },
     "metadata": {},
     "output_type": "display_data"
    }
   ],
   "source": [
    "small_join = senti.join(df_small, on='body', how='inner')\n",
    "small_join = small_join.select('col', 'created_utc', 'champion', 'players', 'referee')\\\n",
    "                .withColumnRenamed('col', 'sentiment')"
   ]
  },
  {
   "cell_type": "code",
   "execution_count": 41,
   "metadata": {
    "gather": {
     "logged": 1700514058666
    },
    "jupyter": {
     "outputs_hidden": false,
     "source_hidden": false
    },
    "nteract": {
     "transient": {
      "deleting": false
     }
    }
   },
   "outputs": [
    {
     "data": {
      "application/vnd.livy.statement-meta+json": {
       "execution_finish_time": "2023-11-20T21:00:58.458143Z",
       "execution_start_time": "2023-11-20T21:00:22.3759115Z",
       "livy_statement_state": "available",
       "parent_msg_id": "cf2386e1-9936-4f0d-bcd6-c0292eb9b9ff",
       "queued_time": "2023-11-20T21:00:22.2842521Z",
       "session_id": "35",
       "session_start_time": null,
       "spark_jobs": {
        "jobs": [
         {
          "completionTime": "2023-11-20T21:00:56.554GMT",
          "dataRead": 2462636,
          "dataWritten": 0,
          "description": "Job group for statement 44:\nsmall_join.show(5)",
          "displayName": "showString at NativeMethodAccessorImpl.java:0",
          "jobGroup": "44",
          "jobId": 37,
          "killedTasksSummary": {},
          "name": "showString at NativeMethodAccessorImpl.java:0",
          "numActiveStages": 0,
          "numActiveTasks": 0,
          "numCompletedIndices": 1,
          "numCompletedStages": 1,
          "numCompletedTasks": 1,
          "numFailedStages": 0,
          "numFailedTasks": 0,
          "numKilledTasks": 0,
          "numSkippedStages": 0,
          "numSkippedTasks": 0,
          "numTasks": 1,
          "rowCount": 33784,
          "stageIds": [
           47
          ],
          "status": "SUCCEEDED",
          "submissionTime": "2023-11-20T21:00:55.991GMT",
          "usageDescription": ""
         }
        ],
        "limit": 20,
        "numbers": {
         "FAILED": 0,
         "RUNNING": 0,
         "SUCCEEDED": 1,
         "UNKNOWN": 0
        },
        "rule": "ALL_DESC"
       },
       "spark_pool": "8aef2e4c-7819-4b3c-ad3b-441a2f26e87b",
       "state": "finished",
       "statement_id": 44
      },
      "text/plain": [
       "StatementMeta(8aef2e4c-7819-4b3c-ad3b-441a2f26e87b, 35, 44, Finished, Available)"
      ]
     },
     "metadata": {},
     "output_type": "display_data"
    },
    {
     "name": "stdout",
     "output_type": "stream",
     "text": [
      "+---------+-------------------+--------+-------+-------+\n",
      "|sentiment|        created_utc|champion|players|referee|\n",
      "+---------+-------------------+--------+-------+-------+\n",
      "| negative|2023-01-02 18:13:39|       0|      0|      0|\n",
      "| positive|2023-01-26 23:42:55|       0|      0|      1|\n",
      "| positive|2023-01-14 17:01:57|       0|      0|      1|\n",
      "| positive|2023-03-19 19:25:44|       0|      0|      0|\n",
      "| negative|2023-01-14 16:46:07|       0|      0|      0|\n",
      "+---------+-------------------+--------+-------+-------+\n",
      "only showing top 5 rows\n",
      "\n"
     ]
    }
   ],
   "source": [
    "small_join.show(5)"
   ]
  },
  {
   "cell_type": "markdown",
   "metadata": {
    "nteract": {
     "transient": {
      "deleting": false
     }
    }
   },
   "source": [
    "## Repeat the process on the real data"
   ]
  },
  {
   "cell_type": "code",
   "execution_count": 42,
   "metadata": {
    "gather": {
     "logged": 1700514765910
    },
    "jupyter": {
     "outputs_hidden": false,
     "source_hidden": false
    },
    "nteract": {
     "transient": {
      "deleting": false
     }
    }
   },
   "outputs": [
    {
     "data": {
      "application/vnd.livy.statement-meta+json": {
       "execution_finish_time": "2023-11-20T21:12:45.7791736Z",
       "execution_start_time": "2023-11-20T21:12:44.9374105Z",
       "livy_statement_state": "available",
       "parent_msg_id": "5d638550-7428-401e-950f-70e6f4df3022",
       "queued_time": "2023-11-20T21:12:44.8082714Z",
       "session_id": "35",
       "session_start_time": null,
       "spark_jobs": {
        "jobs": [],
        "limit": 20,
        "numbers": {
         "FAILED": 0,
         "RUNNING": 0,
         "SUCCEEDED": 0,
         "UNKNOWN": 0
        },
        "rule": "ALL_DESC"
       },
       "spark_pool": "8aef2e4c-7819-4b3c-ad3b-441a2f26e87b",
       "state": "finished",
       "statement_id": 45
      },
      "text/plain": [
       "StatementMeta(8aef2e4c-7819-4b3c-ad3b-441a2f26e87b, 35, 45, Finished, Available)"
      ]
     },
     "metadata": {},
     "output_type": "display_data"
    }
   ],
   "source": [
    "# Now repeat the process on the larger data\n",
    "\n",
    "content = df_worldcup.select('body')\n",
    "pipelineModel = nlpPipeline.fit(content)\n",
    "result = pipelineModel.transform(content)"
   ]
  },
  {
   "cell_type": "code",
   "execution_count": 43,
   "metadata": {
    "gather": {
     "logged": 1700514783039
    },
    "jupyter": {
     "outputs_hidden": false,
     "source_hidden": false
    },
    "nteract": {
     "transient": {
      "deleting": false
     }
    }
   },
   "outputs": [
    {
     "data": {
      "application/vnd.livy.statement-meta+json": {
       "execution_finish_time": "2023-11-20T21:13:02.778878Z",
       "execution_start_time": "2023-11-20T21:13:02.4753179Z",
       "livy_statement_state": "available",
       "parent_msg_id": "6f25c817-a411-4d7c-99b7-0e251a80b78a",
       "queued_time": "2023-11-20T21:13:02.3015118Z",
       "session_id": "35",
       "session_start_time": null,
       "spark_jobs": {
        "jobs": [],
        "limit": 20,
        "numbers": {
         "FAILED": 0,
         "RUNNING": 0,
         "SUCCEEDED": 0,
         "UNKNOWN": 0
        },
        "rule": "ALL_DESC"
       },
       "spark_pool": "8aef2e4c-7819-4b3c-ad3b-441a2f26e87b",
       "state": "finished",
       "statement_id": 46
      },
      "text/plain": [
       "StatementMeta(8aef2e4c-7819-4b3c-ad3b-441a2f26e87b, 35, 46, Finished, Available)"
      ]
     },
     "metadata": {},
     "output_type": "display_data"
    }
   ],
   "source": [
    "senti = result.select('body', F.explode('sentiment.result'))"
   ]
  },
  {
   "cell_type": "code",
   "execution_count": 51,
   "metadata": {
    "gather": {
     "logged": 1700515419217
    },
    "jupyter": {
     "outputs_hidden": false,
     "source_hidden": false
    },
    "nteract": {
     "transient": {
      "deleting": false
     }
    }
   },
   "outputs": [
    {
     "data": {
      "application/vnd.livy.statement-meta+json": {
       "execution_finish_time": "2023-11-20T21:23:39.0164357Z",
       "execution_start_time": "2023-11-20T21:22:10.4469716Z",
       "livy_statement_state": "available",
       "parent_msg_id": "d17bf1ad-d279-4b67-aa04-2d6ad5fbd5ca",
       "queued_time": "2023-11-20T21:22:10.3177947Z",
       "session_id": "35",
       "session_start_time": null,
       "spark_jobs": {
        "jobs": [
         {
          "completionTime": "2023-11-20T21:23:36.659GMT",
          "dataRead": 1947,
          "dataWritten": 0,
          "description": "Job group for statement 54:\nsenti.count()",
          "displayName": "count at NativeMethodAccessorImpl.java:0",
          "jobGroup": "54",
          "jobId": 47,
          "killedTasksSummary": {},
          "name": "count at NativeMethodAccessorImpl.java:0",
          "numActiveStages": 0,
          "numActiveTasks": 0,
          "numCompletedIndices": 1,
          "numCompletedStages": 1,
          "numCompletedTasks": 1,
          "numFailedStages": 0,
          "numFailedTasks": 0,
          "numKilledTasks": 0,
          "numSkippedStages": 1,
          "numSkippedTasks": 33,
          "numTasks": 34,
          "rowCount": 33,
          "stageIds": [
           64,
           65
          ],
          "status": "SUCCEEDED",
          "submissionTime": "2023-11-20T21:23:36.615GMT",
          "usageDescription": ""
         },
         {
          "completionTime": "2023-11-20T21:23:36.583GMT",
          "dataRead": 485182090,
          "dataWritten": 1947,
          "description": "Job group for statement 54:\nsenti.count()",
          "displayName": "count at NativeMethodAccessorImpl.java:0",
          "jobGroup": "54",
          "jobId": 46,
          "killedTasksSummary": {},
          "name": "count at NativeMethodAccessorImpl.java:0",
          "numActiveStages": 0,
          "numActiveTasks": 0,
          "numCompletedIndices": 33,
          "numCompletedStages": 1,
          "numCompletedTasks": 33,
          "numFailedStages": 0,
          "numFailedTasks": 0,
          "numKilledTasks": 0,
          "numSkippedStages": 0,
          "numSkippedTasks": 0,
          "numTasks": 33,
          "rowCount": 5617885,
          "stageIds": [
           63
          ],
          "status": "SUCCEEDED",
          "submissionTime": "2023-11-20T21:22:10.649GMT",
          "usageDescription": ""
         }
        ],
        "limit": 20,
        "numbers": {
         "FAILED": 0,
         "RUNNING": 0,
         "SUCCEEDED": 2,
         "UNKNOWN": 0
        },
        "rule": "ALL_DESC"
       },
       "spark_pool": "8aef2e4c-7819-4b3c-ad3b-441a2f26e87b",
       "state": "finished",
       "statement_id": 54
      },
      "text/plain": [
       "StatementMeta(8aef2e4c-7819-4b3c-ad3b-441a2f26e87b, 35, 54, Finished, Available)"
      ]
     },
     "metadata": {},
     "output_type": "display_data"
    },
    {
     "data": {
      "text/plain": [
       "157607"
      ]
     },
     "execution_count": 107,
     "metadata": {},
     "output_type": "execute_result"
    }
   ],
   "source": [
    "senti.count()"
   ]
  },
  {
   "cell_type": "code",
   "execution_count": 45,
   "metadata": {
    "gather": {
     "logged": 1700514854225
    },
    "jupyter": {
     "outputs_hidden": false,
     "source_hidden": false
    },
    "nteract": {
     "transient": {
      "deleting": false
     }
    }
   },
   "outputs": [
    {
     "data": {
      "application/vnd.livy.statement-meta+json": {
       "execution_finish_time": "2023-11-20T21:14:14.1007356Z",
       "execution_start_time": "2023-11-20T21:14:13.3009778Z",
       "livy_statement_state": "available",
       "parent_msg_id": "361152d9-95d6-45c0-a029-e5786d1d06da",
       "queued_time": "2023-11-20T21:14:13.1307982Z",
       "session_id": "35",
       "session_start_time": null,
       "spark_jobs": {
        "jobs": [
         {
          "completionTime": "2023-11-20T21:14:13.783GMT",
          "dataRead": 1206778,
          "dataWritten": 0,
          "description": "Job group for statement 48:\nsenti.show(5)",
          "displayName": "showString at NativeMethodAccessorImpl.java:0",
          "jobGroup": "48",
          "jobId": 38,
          "killedTasksSummary": {},
          "name": "showString at NativeMethodAccessorImpl.java:0",
          "numActiveStages": 0,
          "numActiveTasks": 0,
          "numCompletedIndices": 1,
          "numCompletedStages": 1,
          "numCompletedTasks": 1,
          "numFailedStages": 0,
          "numFailedTasks": 0,
          "numKilledTasks": 0,
          "numSkippedStages": 0,
          "numSkippedTasks": 0,
          "numTasks": 1,
          "rowCount": 4096,
          "stageIds": [
           48
          ],
          "status": "SUCCEEDED",
          "submissionTime": "2023-11-20T21:14:13.454GMT",
          "usageDescription": ""
         }
        ],
        "limit": 20,
        "numbers": {
         "FAILED": 0,
         "RUNNING": 0,
         "SUCCEEDED": 1,
         "UNKNOWN": 0
        },
        "rule": "ALL_DESC"
       },
       "spark_pool": "8aef2e4c-7819-4b3c-ad3b-441a2f26e87b",
       "state": "finished",
       "statement_id": 48
      },
      "text/plain": [
       "StatementMeta(8aef2e4c-7819-4b3c-ad3b-441a2f26e87b, 35, 48, Finished, Available)"
      ]
     },
     "metadata": {},
     "output_type": "display_data"
    },
    {
     "name": "stdout",
     "output_type": "stream",
     "text": [
      "+--------------------+--------+\n",
      "|                body|     col|\n",
      "+--------------------+--------+\n",
      "|I mean, not reall...|negative|\n",
      "|scored the cl fin...| neutral|\n",
      "|The youth of toda...|positive|\n",
      "|Ah fair, I'm supp...|negative|\n",
      "|Beckenbauer playe...|positive|\n",
      "+--------------------+--------+\n",
      "only showing top 5 rows\n",
      "\n"
     ]
    }
   ],
   "source": [
    "senti.show(5)"
   ]
  },
  {
   "cell_type": "code",
   "execution_count": 53,
   "metadata": {
    "gather": {
     "logged": 1700515790362
    },
    "jupyter": {
     "outputs_hidden": false,
     "source_hidden": false
    },
    "nteract": {
     "transient": {
      "deleting": false
     }
    }
   },
   "outputs": [
    {
     "data": {
      "application/vnd.livy.statement-meta+json": {
       "execution_finish_time": "2023-11-20T21:29:50.1594348Z",
       "execution_start_time": "2023-11-20T21:28:21.1196548Z",
       "livy_statement_state": "available",
       "parent_msg_id": "94290b7d-f324-4a3b-bea1-034943aafabd",
       "queued_time": "2023-11-20T21:28:20.9767571Z",
       "session_id": "35",
       "session_start_time": null,
       "spark_jobs": {
        "jobs": [
         {
          "completionTime": "2023-11-20T21:29:48.650GMT",
          "dataRead": 40790646,
          "dataWritten": 0,
          "description": "Job group for statement 56:\nsenti.groupBy('body').count().orderBy(col('count').desc()).show(10)",
          "displayName": "showString at NativeMethodAccessorImpl.java:0",
          "jobGroup": "56",
          "jobId": 49,
          "killedTasksSummary": {},
          "name": "showString at NativeMethodAccessorImpl.java:0",
          "numActiveStages": 0,
          "numActiveTasks": 0,
          "numCompletedIndices": 9,
          "numCompletedStages": 1,
          "numCompletedTasks": 9,
          "numFailedStages": 0,
          "numFailedTasks": 0,
          "numKilledTasks": 0,
          "numSkippedStages": 1,
          "numSkippedTasks": 33,
          "numTasks": 42,
          "rowCount": 155362,
          "stageIds": [
           67,
           68
          ],
          "status": "SUCCEEDED",
          "submissionTime": "2023-11-20T21:29:48.183GMT",
          "usageDescription": ""
         },
         {
          "completionTime": "2023-11-20T21:29:48.097GMT",
          "dataRead": 485182090,
          "dataWritten": 40790646,
          "description": "Job group for statement 56:\nsenti.groupBy('body').count().orderBy(col('count').desc()).show(10)",
          "displayName": "showString at NativeMethodAccessorImpl.java:0",
          "jobGroup": "56",
          "jobId": 48,
          "killedTasksSummary": {},
          "name": "showString at NativeMethodAccessorImpl.java:0",
          "numActiveStages": 0,
          "numActiveTasks": 0,
          "numCompletedIndices": 33,
          "numCompletedStages": 1,
          "numCompletedTasks": 33,
          "numFailedStages": 0,
          "numFailedTasks": 0,
          "numKilledTasks": 0,
          "numSkippedStages": 0,
          "numSkippedTasks": 0,
          "numTasks": 33,
          "rowCount": 5773214,
          "stageIds": [
           66
          ],
          "status": "SUCCEEDED",
          "submissionTime": "2023-11-20T21:28:21.476GMT",
          "usageDescription": ""
         }
        ],
        "limit": 20,
        "numbers": {
         "FAILED": 0,
         "RUNNING": 0,
         "SUCCEEDED": 2,
         "UNKNOWN": 0
        },
        "rule": "ALL_DESC"
       },
       "spark_pool": "8aef2e4c-7819-4b3c-ad3b-441a2f26e87b",
       "state": "finished",
       "statement_id": 56
      },
      "text/plain": [
       "StatementMeta(8aef2e4c-7819-4b3c-ad3b-441a2f26e87b, 35, 56, Finished, Available)"
      ]
     },
     "metadata": {},
     "output_type": "display_data"
    },
    {
     "name": "stdout",
     "output_type": "stream",
     "text": [
      "+--------------------+-----+\n",
      "|                body|count|\n",
      "+--------------------+-----+\n",
      "|Today I feel Qata...|  936|\n",
      "|Hello! Thanks for...|  444|\n",
      "|             Finally|  171|\n",
      "|Hello! Thanks for...|  165|\n",
      "|Jinx? We are feck...|  128|\n",
      "|             FINALLY|   66|\n",
      "|     Fucking finally|   57|\n",
      "|Please have a loo...|   53|\n",
      "|Your post has bee...|   49|\n",
      "|            Finally!|   41|\n",
      "+--------------------+-----+\n",
      "only showing top 10 rows\n",
      "\n"
     ]
    }
   ],
   "source": [
    "senti.groupBy('body').count().orderBy(col('count').desc()).show(10)"
   ]
  },
  {
   "cell_type": "code",
   "execution_count": 55,
   "metadata": {
    "gather": {
     "logged": 1700516198729
    },
    "jupyter": {
     "outputs_hidden": false,
     "source_hidden": false
    },
    "nteract": {
     "transient": {
      "deleting": false
     }
    }
   },
   "outputs": [
    {
     "data": {
      "application/vnd.livy.statement-meta+json": {
       "execution_finish_time": "2023-11-20T21:36:38.6336281Z",
       "execution_start_time": "2023-11-20T21:36:38.330875Z",
       "livy_statement_state": "available",
       "parent_msg_id": "68ab173a-eb9a-4ed4-86cd-6b4c90e8fd2f",
       "queued_time": "2023-11-20T21:36:38.1293506Z",
       "session_id": "35",
       "session_start_time": null,
       "spark_jobs": {
        "jobs": [],
        "limit": 20,
        "numbers": {
         "FAILED": 0,
         "RUNNING": 0,
         "SUCCEEDED": 0,
         "UNKNOWN": 0
        },
        "rule": "ALL_DESC"
       },
       "spark_pool": "8aef2e4c-7819-4b3c-ad3b-441a2f26e87b",
       "state": "finished",
       "statement_id": 58
      },
      "text/plain": [
       "StatementMeta(8aef2e4c-7819-4b3c-ad3b-441a2f26e87b, 35, 58, Finished, Available)"
      ]
     },
     "metadata": {},
     "output_type": "display_data"
    }
   ],
   "source": [
    "# Join the dataframes\n",
    "df1_with_index = senti.select('col').withColumn(\"row_index\", F.monotonically_increasing_id())\n",
    "df2_with_index = df_worldcup.withColumn(\"row_index\", F.monotonically_increasing_id())\n",
    "df_join = df2_with_index.join(df1_with_index, \"row_index\")\n",
    "df_join = df_join.drop(\"row_index\")"
   ]
  },
  {
   "cell_type": "code",
   "execution_count": 59,
   "metadata": {
    "gather": {
     "logged": 1700516513856
    },
    "jupyter": {
     "outputs_hidden": false,
     "source_hidden": false
    },
    "nteract": {
     "transient": {
      "deleting": false
     }
    }
   },
   "outputs": [
    {
     "data": {
      "application/vnd.livy.statement-meta+json": {
       "execution_finish_time": "2023-11-20T21:41:53.778146Z",
       "execution_start_time": "2023-11-20T21:41:53.4873774Z",
       "livy_statement_state": "available",
       "parent_msg_id": "61f486af-e78a-4081-b550-7af6377745a3",
       "queued_time": "2023-11-20T21:41:52.960961Z",
       "session_id": "35",
       "session_start_time": null,
       "spark_jobs": {
        "jobs": [],
        "limit": 20,
        "numbers": {
         "FAILED": 0,
         "RUNNING": 0,
         "SUCCEEDED": 0,
         "UNKNOWN": 0
        },
        "rule": "ALL_DESC"
       },
       "spark_pool": "8aef2e4c-7819-4b3c-ad3b-441a2f26e87b",
       "state": "finished",
       "statement_id": 62
      },
      "text/plain": [
       "StatementMeta(8aef2e4c-7819-4b3c-ad3b-441a2f26e87b, 35, 62, Finished, Available)"
      ]
     },
     "metadata": {},
     "output_type": "display_data"
    }
   ],
   "source": [
    "df_join = df_join.select('col', 'created_utc', 'champion', 'players', 'referee')\\\n",
    "                .withColumnRenamed('col', 'sentiment')"
   ]
  },
  {
   "cell_type": "code",
   "execution_count": 56,
   "metadata": {
    "gather": {
     "logged": 1700516320138
    },
    "jupyter": {
     "outputs_hidden": false,
     "source_hidden": false
    },
    "nteract": {
     "transient": {
      "deleting": false
     }
    }
   },
   "outputs": [
    {
     "data": {
      "application/vnd.livy.statement-meta+json": {
       "execution_finish_time": "2023-11-20T21:38:39.986157Z",
       "execution_start_time": "2023-11-20T21:36:54.5305737Z",
       "livy_statement_state": "available",
       "parent_msg_id": "1393a652-b451-448d-973a-4d79ab964c77",
       "queued_time": "2023-11-20T21:36:53.6623197Z",
       "session_id": "35",
       "session_start_time": null,
       "spark_jobs": {
        "jobs": [
         {
          "completionTime": "2023-11-20T21:38:38.510GMT",
          "dataRead": 59,
          "dataWritten": 0,
          "description": "Job group for statement 59:\ndf_join.count()",
          "displayName": "count at NativeMethodAccessorImpl.java:0",
          "jobGroup": "59",
          "jobId": 55,
          "killedTasksSummary": {},
          "name": "count at NativeMethodAccessorImpl.java:0",
          "numActiveStages": 0,
          "numActiveTasks": 0,
          "numCompletedIndices": 1,
          "numCompletedStages": 1,
          "numCompletedTasks": 1,
          "numFailedStages": 0,
          "numFailedTasks": 0,
          "numKilledTasks": 0,
          "numSkippedStages": 2,
          "numSkippedTasks": 34,
          "numTasks": 35,
          "rowCount": 1,
          "stageIds": [
           78,
           76,
           77
          ],
          "status": "SUCCEEDED",
          "submissionTime": "2023-11-20T21:38:38.438GMT",
          "usageDescription": ""
         },
         {
          "completionTime": "2023-11-20T21:38:38.410GMT",
          "dataRead": 1208937,
          "dataWritten": 59,
          "description": "Job group for statement 59:\ndf_join.count()",
          "displayName": "count at NativeMethodAccessorImpl.java:0",
          "jobGroup": "59",
          "jobId": 54,
          "killedTasksSummary": {},
          "name": "count at NativeMethodAccessorImpl.java:0",
          "numActiveStages": 0,
          "numActiveTasks": 0,
          "numCompletedIndices": 1,
          "numCompletedStages": 1,
          "numCompletedTasks": 1,
          "numFailedStages": 0,
          "numFailedTasks": 0,
          "numKilledTasks": 0,
          "numSkippedStages": 1,
          "numSkippedTasks": 33,
          "numTasks": 34,
          "rowCount": 157608,
          "stageIds": [
           74,
           75
          ],
          "status": "SUCCEEDED",
          "submissionTime": "2023-11-20T21:38:38.203GMT",
          "usageDescription": ""
         },
         {
          "completionTime": "2023-11-20T21:38:38.163GMT",
          "dataRead": 485182090,
          "dataWritten": 1208937,
          "description": "Job group for statement 59:\ndf_join.count()",
          "displayName": "count at NativeMethodAccessorImpl.java:0",
          "jobGroup": "59",
          "jobId": 52,
          "killedTasksSummary": {},
          "name": "count at NativeMethodAccessorImpl.java:0",
          "numActiveStages": 0,
          "numActiveTasks": 0,
          "numCompletedIndices": 33,
          "numCompletedStages": 1,
          "numCompletedTasks": 33,
          "numFailedStages": 0,
          "numFailedTasks": 0,
          "numKilledTasks": 0,
          "numSkippedStages": 0,
          "numSkippedTasks": 0,
          "numTasks": 33,
          "rowCount": 5775459,
          "stageIds": [
           71
          ],
          "status": "SUCCEEDED",
          "submissionTime": "2023-11-20T21:36:54.849GMT",
          "usageDescription": ""
         },
         {
          "completionTime": "2023-11-20T21:37:12.097GMT",
          "dataRead": 485182090,
          "dataWritten": 1208937,
          "description": "Job group for statement 59:\ndf_join.count()",
          "displayName": "count at NativeMethodAccessorImpl.java:0",
          "jobGroup": "59",
          "jobId": 51,
          "killedTasksSummary": {},
          "name": "count at NativeMethodAccessorImpl.java:0",
          "numActiveStages": 0,
          "numActiveTasks": 0,
          "numCompletedIndices": 33,
          "numCompletedStages": 1,
          "numCompletedTasks": 33,
          "numFailedStages": 0,
          "numFailedTasks": 0,
          "numKilledTasks": 0,
          "numSkippedStages": 0,
          "numSkippedTasks": 0,
          "numTasks": 33,
          "rowCount": 5775459,
          "stageIds": [
           70
          ],
          "status": "SUCCEEDED",
          "submissionTime": "2023-11-20T21:36:54.659GMT",
          "usageDescription": ""
         }
        ],
        "limit": 20,
        "numbers": {
         "FAILED": 0,
         "RUNNING": 0,
         "SUCCEEDED": 4,
         "UNKNOWN": 0
        },
        "rule": "ALL_DESC"
       },
       "spark_pool": "8aef2e4c-7819-4b3c-ad3b-441a2f26e87b",
       "state": "finished",
       "statement_id": 59
      },
      "text/plain": [
       "StatementMeta(8aef2e4c-7819-4b3c-ad3b-441a2f26e87b, 35, 59, Finished, Available)"
      ]
     },
     "metadata": {},
     "output_type": "display_data"
    },
    {
     "data": {
      "text/plain": [
       "157607"
      ]
     },
     "execution_count": 117,
     "metadata": {},
     "output_type": "execute_result"
    }
   ],
   "source": [
    "df_join.count()"
   ]
  },
  {
   "cell_type": "markdown",
   "metadata": {
    "nteract": {
     "transient": {
      "deleting": false
     }
    }
   },
   "source": [
    "## Convert to a pandas dataframe"
   ]
  },
  {
   "cell_type": "code",
   "execution_count": 75,
   "metadata": {
    "gather": {
     "logged": 1700519612400
    },
    "jupyter": {
     "outputs_hidden": false,
     "source_hidden": false
    },
    "nteract": {
     "transient": {
      "deleting": false
     }
    }
   },
   "outputs": [
    {
     "data": {
      "application/vnd.livy.statement-meta+json": {
       "execution_finish_time": "2023-11-20T22:33:32.1964589Z",
       "execution_start_time": "2023-11-20T22:31:42.1776933Z",
       "livy_statement_state": "available",
       "parent_msg_id": "79b5618f-beba-4bcf-ae2e-997cdeb9c650",
       "queued_time": "2023-11-20T22:31:42.0209029Z",
       "session_id": "35",
       "session_start_time": null,
       "spark_jobs": {
        "jobs": [
         {
          "completionTime": "2023-11-20T22:33:30.781GMT",
          "dataRead": 1734724,
          "dataWritten": 0,
          "description": "Job group for statement 78:\ndf_pd = df_join.toPandas()",
          "displayName": "toPandas at /tmp/ipykernel_9194/1956040545.py:1",
          "jobGroup": "78",
          "jobId": 67,
          "killedTasksSummary": {},
          "name": "toPandas at /tmp/ipykernel_9194/1956040545.py:1",
          "numActiveStages": 0,
          "numActiveTasks": 0,
          "numCompletedIndices": 1,
          "numCompletedStages": 1,
          "numCompletedTasks": 1,
          "numFailedStages": 0,
          "numFailedTasks": 0,
          "numKilledTasks": 0,
          "numSkippedStages": 1,
          "numSkippedTasks": 33,
          "numTasks": 34,
          "rowCount": 157607,
          "stageIds": [
           96,
           95
          ],
          "status": "SUCCEEDED",
          "submissionTime": "2023-11-20T22:33:30.551GMT",
          "usageDescription": ""
         },
         {
          "completionTime": "2023-11-20T22:33:30.527GMT",
          "dataRead": 485182090,
          "dataWritten": 1734724,
          "description": "Job group for statement 78:\ndf_pd = df_join.toPandas()",
          "displayName": "toPandas at /tmp/ipykernel_9194/1956040545.py:1",
          "jobGroup": "78",
          "jobId": 65,
          "killedTasksSummary": {},
          "name": "toPandas at /tmp/ipykernel_9194/1956040545.py:1",
          "numActiveStages": 0,
          "numActiveTasks": 0,
          "numCompletedIndices": 33,
          "numCompletedStages": 1,
          "numCompletedTasks": 33,
          "numFailedStages": 0,
          "numFailedTasks": 0,
          "numKilledTasks": 0,
          "numSkippedStages": 0,
          "numSkippedTasks": 0,
          "numTasks": 33,
          "rowCount": 5775459,
          "stageIds": [
           92
          ],
          "status": "SUCCEEDED",
          "submissionTime": "2023-11-20T22:31:42.486GMT",
          "usageDescription": ""
         },
         {
          "completionTime": "2023-11-20T22:32:03.147GMT",
          "dataRead": 528276219,
          "dataWritten": 2835232,
          "description": "Job group for statement 78:\ndf_pd = df_join.toPandas()",
          "displayName": "toPandas at /tmp/ipykernel_9194/1956040545.py:1",
          "jobGroup": "78",
          "jobId": 64,
          "killedTasksSummary": {},
          "name": "toPandas at /tmp/ipykernel_9194/1956040545.py:1",
          "numActiveStages": 0,
          "numActiveTasks": 0,
          "numCompletedIndices": 33,
          "numCompletedStages": 1,
          "numCompletedTasks": 33,
          "numFailedStages": 0,
          "numFailedTasks": 0,
          "numKilledTasks": 0,
          "numSkippedStages": 0,
          "numSkippedTasks": 0,
          "numTasks": 33,
          "rowCount": 5775459,
          "stageIds": [
           91
          ],
          "status": "SUCCEEDED",
          "submissionTime": "2023-11-20T22:31:42.340GMT",
          "usageDescription": ""
         }
        ],
        "limit": 20,
        "numbers": {
         "FAILED": 0,
         "RUNNING": 0,
         "SUCCEEDED": 3,
         "UNKNOWN": 0
        },
        "rule": "ALL_DESC"
       },
       "spark_pool": "8aef2e4c-7819-4b3c-ad3b-441a2f26e87b",
       "state": "finished",
       "statement_id": 78
      },
      "text/plain": [
       "StatementMeta(8aef2e4c-7819-4b3c-ad3b-441a2f26e87b, 35, 78, Finished, Available)"
      ]
     },
     "metadata": {},
     "output_type": "display_data"
    }
   ],
   "source": [
    "df_pd = df_join.toPandas()"
   ]
  },
  {
   "cell_type": "code",
   "execution_count": 67,
   "metadata": {
    "gather": {
     "logged": 1700518672036
    },
    "jupyter": {
     "outputs_hidden": false,
     "source_hidden": false
    },
    "nteract": {
     "transient": {
      "deleting": false
     }
    }
   },
   "outputs": [
    {
     "data": {
      "application/vnd.livy.statement-meta+json": {
       "execution_finish_time": "2023-11-20T22:17:51.9004504Z",
       "execution_start_time": "2023-11-20T22:17:51.6053402Z",
       "livy_statement_state": "available",
       "parent_msg_id": "37b97f9e-a8a6-4b52-b9de-7e6fe4a0ad47",
       "queued_time": "2023-11-20T22:17:51.4741821Z",
       "session_id": "35",
       "session_start_time": null,
       "spark_jobs": {
        "jobs": [],
        "limit": 20,
        "numbers": {
         "FAILED": 0,
         "RUNNING": 0,
         "SUCCEEDED": 0,
         "UNKNOWN": 0
        },
        "rule": "ALL_DESC"
       },
       "spark_pool": "8aef2e4c-7819-4b3c-ad3b-441a2f26e87b",
       "state": "finished",
       "statement_id": 70
      },
      "text/plain": [
       "StatementMeta(8aef2e4c-7819-4b3c-ad3b-441a2f26e87b, 35, 70, Finished, Available)"
      ]
     },
     "metadata": {},
     "output_type": "display_data"
    }
   ],
   "source": [
    "datapath = 'Users/wc777/fall-2023-reddit-project-team-08/data'"
   ]
  },
  {
   "cell_type": "code",
   "execution_count": 61,
   "metadata": {
    "gather": {
     "logged": 1700516644291
    },
    "jupyter": {
     "outputs_hidden": false,
     "source_hidden": false
    },
    "nteract": {
     "transient": {
      "deleting": false
     }
    }
   },
   "outputs": [
    {
     "data": {
      "application/vnd.livy.statement-meta+json": {
       "execution_finish_time": "2023-11-20T21:44:04.1550088Z",
       "execution_start_time": "2023-11-20T21:44:03.8658548Z",
       "livy_statement_state": "available",
       "parent_msg_id": "95054c60-05ff-4add-8ccf-ed4293b53566",
       "queued_time": "2023-11-20T21:44:03.658979Z",
       "session_id": "35",
       "session_start_time": null,
       "spark_jobs": {
        "jobs": [],
        "limit": 20,
        "numbers": {
         "FAILED": 0,
         "RUNNING": 0,
         "SUCCEEDED": 0,
         "UNKNOWN": 0
        },
        "rule": "ALL_DESC"
       },
       "spark_pool": "8aef2e4c-7819-4b3c-ad3b-441a2f26e87b",
       "state": "finished",
       "statement_id": 64
      },
      "text/plain": [
       "StatementMeta(8aef2e4c-7819-4b3c-ad3b-441a2f26e87b, 35, 64, Finished, Available)"
      ]
     },
     "metadata": {},
     "output_type": "display_data"
    },
    {
     "data": {
      "text/html": [
       "<div>\n",
       "<style scoped>\n",
       "    .dataframe tbody tr th:only-of-type {\n",
       "        vertical-align: middle;\n",
       "    }\n",
       "\n",
       "    .dataframe tbody tr th {\n",
       "        vertical-align: top;\n",
       "    }\n",
       "\n",
       "    .dataframe thead th {\n",
       "        text-align: right;\n",
       "    }\n",
       "</style>\n",
       "<table border=\"1\" class=\"dataframe\">\n",
       "  <thead>\n",
       "    <tr style=\"text-align: right;\">\n",
       "      <th></th>\n",
       "      <th>sentiment</th>\n",
       "      <th>created_utc</th>\n",
       "      <th>champion</th>\n",
       "      <th>players</th>\n",
       "      <th>referee</th>\n",
       "    </tr>\n",
       "  </thead>\n",
       "  <tbody>\n",
       "    <tr>\n",
       "      <th>0</th>\n",
       "      <td>positive</td>\n",
       "      <td>2023-01-27 21:08:10</td>\n",
       "      <td>1</td>\n",
       "      <td>0</td>\n",
       "      <td>0</td>\n",
       "    </tr>\n",
       "    <tr>\n",
       "      <th>1</th>\n",
       "      <td>negative</td>\n",
       "      <td>2023-01-27 21:12:32</td>\n",
       "      <td>0</td>\n",
       "      <td>0</td>\n",
       "      <td>0</td>\n",
       "    </tr>\n",
       "    <tr>\n",
       "      <th>2</th>\n",
       "      <td>positive</td>\n",
       "      <td>2023-01-15 13:16:40</td>\n",
       "      <td>0</td>\n",
       "      <td>0</td>\n",
       "      <td>0</td>\n",
       "    </tr>\n",
       "    <tr>\n",
       "      <th>3</th>\n",
       "      <td>positive</td>\n",
       "      <td>2023-03-12 15:42:34</td>\n",
       "      <td>1</td>\n",
       "      <td>0</td>\n",
       "      <td>0</td>\n",
       "    </tr>\n",
       "    <tr>\n",
       "      <th>4</th>\n",
       "      <td>negative</td>\n",
       "      <td>2023-01-15 17:32:26</td>\n",
       "      <td>0</td>\n",
       "      <td>0</td>\n",
       "      <td>0</td>\n",
       "    </tr>\n",
       "    <tr>\n",
       "      <th>5</th>\n",
       "      <td>positive</td>\n",
       "      <td>2023-01-25 11:13:24</td>\n",
       "      <td>0</td>\n",
       "      <td>0</td>\n",
       "      <td>1</td>\n",
       "    </tr>\n",
       "    <tr>\n",
       "      <th>6</th>\n",
       "      <td>negative</td>\n",
       "      <td>2023-02-04 17:45:51</td>\n",
       "      <td>0</td>\n",
       "      <td>0</td>\n",
       "      <td>0</td>\n",
       "    </tr>\n",
       "    <tr>\n",
       "      <th>7</th>\n",
       "      <td>negative</td>\n",
       "      <td>2023-03-05 18:52:51</td>\n",
       "      <td>0</td>\n",
       "      <td>0</td>\n",
       "      <td>0</td>\n",
       "    </tr>\n",
       "    <tr>\n",
       "      <th>8</th>\n",
       "      <td>negative</td>\n",
       "      <td>2023-02-14 22:25:51</td>\n",
       "      <td>0</td>\n",
       "      <td>1</td>\n",
       "      <td>0</td>\n",
       "    </tr>\n",
       "    <tr>\n",
       "      <th>9</th>\n",
       "      <td>positive</td>\n",
       "      <td>2023-02-26 16:54:25</td>\n",
       "      <td>0</td>\n",
       "      <td>1</td>\n",
       "      <td>0</td>\n",
       "    </tr>\n",
       "  </tbody>\n",
       "</table>\n",
       "</div>"
      ],
      "text/plain": [
       "  sentiment         created_utc  champion  players  referee\n",
       "0  positive 2023-01-27 21:08:10         1        0        0\n",
       "1  negative 2023-01-27 21:12:32         0        0        0\n",
       "2  positive 2023-01-15 13:16:40         0        0        0\n",
       "3  positive 2023-03-12 15:42:34         1        0        0\n",
       "4  negative 2023-01-15 17:32:26         0        0        0\n",
       "5  positive 2023-01-25 11:13:24         0        0        1\n",
       "6  negative 2023-02-04 17:45:51         0        0        0\n",
       "7  negative 2023-03-05 18:52:51         0        0        0\n",
       "8  negative 2023-02-14 22:25:51         0        1        0\n",
       "9  positive 2023-02-26 16:54:25         0        1        0"
      ]
     },
     "execution_count": 127,
     "metadata": {},
     "output_type": "execute_result"
    }
   ],
   "source": [
    "df_pd.head(10)"
   ]
  },
  {
   "cell_type": "code",
   "execution_count": 65,
   "metadata": {
    "gather": {
     "logged": 1700517252598
    },
    "jupyter": {
     "outputs_hidden": false,
     "source_hidden": false
    },
    "nteract": {
     "transient": {
      "deleting": false
     }
    }
   },
   "outputs": [
    {
     "data": {
      "application/vnd.livy.statement-meta+json": {
       "execution_finish_time": "2023-11-20T21:54:12.3702392Z",
       "execution_start_time": "2023-11-20T21:54:11.3505712Z",
       "livy_statement_state": "available",
       "parent_msg_id": "31c49e78-1280-4a82-b53f-461f9cef07b6",
       "queued_time": "2023-11-20T21:54:11.1891618Z",
       "session_id": "35",
       "session_start_time": null,
       "spark_jobs": {
        "jobs": [],
        "limit": 20,
        "numbers": {
         "FAILED": 0,
         "RUNNING": 0,
         "SUCCEEDED": 0,
         "UNKNOWN": 0
        },
        "rule": "ALL_DESC"
       },
       "spark_pool": "8aef2e4c-7819-4b3c-ad3b-441a2f26e87b",
       "state": "finished",
       "statement_id": 68
      },
      "text/plain": [
       "StatementMeta(8aef2e4c-7819-4b3c-ad3b-441a2f26e87b, 35, 68, Finished, Available)"
      ]
     },
     "metadata": {},
     "output_type": "display_data"
    },
    {
     "data": {
      "text/plain": [
       "sentiment                  object\n",
       "created_utc        datetime64[ns]\n",
       "champion                    int32\n",
       "players                     int32\n",
       "referee                     int32\n",
       "sentiment_score             int64\n",
       "dtype: object"
      ]
     },
     "execution_count": 135,
     "metadata": {},
     "output_type": "execute_result"
    }
   ],
   "source": [
    "df_pd.dtypes"
   ]
  },
  {
   "cell_type": "markdown",
   "metadata": {
    "nteract": {
     "transient": {
      "deleting": false
     }
    }
   },
   "source": [
    "## Create a grouped barplot to display the sentiment result for each sub-topic"
   ]
  },
  {
   "cell_type": "code",
   "execution_count": 125,
   "metadata": {
    "gather": {
     "logged": 1700529880633
    },
    "jupyter": {
     "outputs_hidden": false,
     "source_hidden": false
    },
    "nteract": {
     "transient": {
      "deleting": false
     }
    }
   },
   "outputs": [
    {
     "data": {
      "application/vnd.livy.statement-meta+json": {
       "execution_finish_time": "2023-11-21T01:24:40.380448Z",
       "execution_start_time": "2023-11-21T01:24:38.8776387Z",
       "livy_statement_state": "available",
       "parent_msg_id": "532523a8-fec0-4d23-8e6b-779312d70695",
       "queued_time": "2023-11-21T01:24:38.0555391Z",
       "session_id": "35",
       "session_start_time": null,
       "spark_jobs": {
        "jobs": [],
        "limit": 20,
        "numbers": {
         "FAILED": 0,
         "RUNNING": 0,
         "SUCCEEDED": 0,
         "UNKNOWN": 0
        },
        "rule": "ALL_DESC"
       },
       "spark_pool": "8aef2e4c-7819-4b3c-ad3b-441a2f26e87b",
       "state": "finished",
       "statement_id": 128
      },
      "text/plain": [
       "StatementMeta(8aef2e4c-7819-4b3c-ad3b-441a2f26e87b, 35, 128, Finished, Available)"
      ]
     },
     "metadata": {},
     "output_type": "display_data"
    },
    {
     "data": {
      "image/png": "[encoded data removed]",
      "text/plain": [
       "<Figure size 2000x1200 with 1 Axes>"
      ]
     },
     "metadata": {},
     "output_type": "display_data"
    }
   ],
   "source": [
    "import pandas as pd\n",
    "import matplotlib.pyplot as plt\n",
    "import seaborn as sns\n",
    "from datetime import datetime\n",
    "from pandas.tseries.offsets import Week\n",
    "sns.reset_defaults()\n",
    "plt.rcdefaults()\n",
    "\n",
    "# Melt the dataset to make categories as a single column\n",
    "melted_df = df_pd.melt(id_vars=['sentiment'], value_vars=['champion', 'players', 'referee'], var_name='category', value_name='mentioned')\n",
    "melted_df = melted_df[melted_df['mentioned'] == 1]\n",
    "\n",
    "# Plot category-wise sentiment analysis\n",
    "plt.figure(figsize=(20, 12))\n",
    "sns.countplot(data=melted_df, x='category', hue='sentiment', palette='Set2')\n",
    "plt.title('Category-wise Sentiment Analysis', fontsize=40)\n",
    "plt.ylabel('Number of Posts', fontsize=28)\n",
    "plt.xlabel('Category', fontsize=28)\n",
    "plt.tick_params(axis='both', labelsize=24)\n",
    "plt.legend(fontsize=24, loc='upper right')\n",
    "\n",
    "plt.savefig(f'{datapath}/plots/worldcup_sentiment_count_by_category.png')\n",
    "plt.show()\n"
   ]
  },
  {
   "cell_type": "code",
   "execution_count": 119,
   "metadata": {
    "gather": {
     "logged": 1700528240426
    },
    "jupyter": {
     "outputs_hidden": false,
     "source_hidden": false
    },
    "nteract": {
     "transient": {
      "deleting": false
     }
    }
   },
   "outputs": [
    {
     "data": {
      "application/vnd.livy.statement-meta+json": {
       "execution_finish_time": "2023-11-21T00:57:20.1715091Z",
       "execution_start_time": "2023-11-21T00:57:19.8803659Z",
       "livy_statement_state": "available",
       "parent_msg_id": "f2984b5d-4c8c-4baf-bfb2-d26c301f0502",
       "queued_time": "2023-11-21T00:57:19.6602771Z",
       "session_id": "35",
       "session_start_time": null,
       "spark_jobs": {
        "jobs": [],
        "limit": 20,
        "numbers": {
         "FAILED": 0,
         "RUNNING": 0,
         "SUCCEEDED": 0,
         "UNKNOWN": 0
        },
        "rule": "ALL_DESC"
       },
       "spark_pool": "8aef2e4c-7819-4b3c-ad3b-441a2f26e87b",
       "state": "finished",
       "statement_id": 122
      },
      "text/plain": [
       "StatementMeta(8aef2e4c-7819-4b3c-ad3b-441a2f26e87b, 35, 122, Finished, Available)"
      ]
     },
     "metadata": {},
     "output_type": "display_data"
    },
    {
     "data": {
      "text/html": [
       "<div>\n",
       "<style scoped>\n",
       "    .dataframe tbody tr th:only-of-type {\n",
       "        vertical-align: middle;\n",
       "    }\n",
       "\n",
       "    .dataframe tbody tr th {\n",
       "        vertical-align: top;\n",
       "    }\n",
       "\n",
       "    .dataframe thead th {\n",
       "        text-align: right;\n",
       "    }\n",
       "</style>\n",
       "<table border=\"1\" class=\"dataframe\">\n",
       "  <thead>\n",
       "    <tr style=\"text-align: right;\">\n",
       "      <th>sentiment</th>\n",
       "      <th>negative</th>\n",
       "      <th>neutral</th>\n",
       "      <th>positive</th>\n",
       "    </tr>\n",
       "    <tr>\n",
       "      <th>category</th>\n",
       "      <th></th>\n",
       "      <th></th>\n",
       "      <th></th>\n",
       "    </tr>\n",
       "  </thead>\n",
       "  <tbody>\n",
       "    <tr>\n",
       "      <th>champion</th>\n",
       "      <td>4976</td>\n",
       "      <td>637</td>\n",
       "      <td>5414</td>\n",
       "    </tr>\n",
       "    <tr>\n",
       "      <th>players</th>\n",
       "      <td>19230</td>\n",
       "      <td>2104</td>\n",
       "      <td>14753</td>\n",
       "    </tr>\n",
       "    <tr>\n",
       "      <th>referee</th>\n",
       "      <td>3963</td>\n",
       "      <td>307</td>\n",
       "      <td>1877</td>\n",
       "    </tr>\n",
       "    <tr>\n",
       "      <th>total</th>\n",
       "      <td>85860</td>\n",
       "      <td>8408</td>\n",
       "      <td>63339</td>\n",
       "    </tr>\n",
       "  </tbody>\n",
       "</table>\n",
       "</div>"
      ],
      "text/plain": [
       "sentiment  negative  neutral  positive\n",
       "category                              \n",
       "champion       4976      637      5414\n",
       "players       19230     2104     14753\n",
       "referee        3963      307      1877\n",
       "total         85860     8408     63339"
      ]
     },
     "execution_count": 243,
     "metadata": {},
     "output_type": "execute_result"
    }
   ],
   "source": [
    "df_melted_total = df_pd.assign(category='total')[['sentiment', 'category']]\n",
    "melted_df = melted_df.drop(columns=['mentioned'])\n",
    "melted_df = melted_df.append(df_melted_total, ignore_index=True)\n",
    "\n",
    "value_count_table = pd.crosstab(index=melted_df['category'], columns=melted_df['sentiment'])\n",
    "value_count_table\n"
   ]
  },
  {
   "cell_type": "code",
   "execution_count": 117,
   "metadata": {
    "gather": {
     "logged": 1700528182382
    },
    "jupyter": {
     "outputs_hidden": false,
     "source_hidden": false
    },
    "nteract": {
     "transient": {
      "deleting": false
     }
    }
   },
   "outputs": [
    {
     "data": {
      "application/vnd.livy.statement-meta+json": {
       "execution_finish_time": "2023-11-21T00:56:22.2716289Z",
       "execution_start_time": "2023-11-21T00:56:20.763968Z",
       "livy_statement_state": "available",
       "parent_msg_id": "a9469737-7429-43d7-878d-80dc1a1bcc1d",
       "queued_time": "2023-11-21T00:56:20.6240178Z",
       "session_id": "35",
       "session_start_time": null,
       "spark_jobs": {
        "jobs": [],
        "limit": 20,
        "numbers": {
         "FAILED": 0,
         "RUNNING": 0,
         "SUCCEEDED": 0,
         "UNKNOWN": 0
        },
        "rule": "ALL_DESC"
       },
       "spark_pool": "8aef2e4c-7819-4b3c-ad3b-441a2f26e87b",
       "state": "finished",
       "statement_id": 120
      },
      "text/plain": [
       "StatementMeta(8aef2e4c-7819-4b3c-ad3b-441a2f26e87b, 35, 120, Finished, Available)"
      ]
     },
     "metadata": {},
     "output_type": "display_data"
    }
   ],
   "source": [
    "value_count_table.to_csv(f'{datapath}/csv/worldcup_count_table.csv')"
   ]
  },
  {
   "cell_type": "markdown",
   "metadata": {
    "nteract": {
     "transient": {
      "deleting": false
     }
    }
   },
   "source": [
    "## Create a time series plot to show how the numbers of total posts, positive posts, negative posts, neutral posts, and the percentage of positive posts vary over time"
   ]
  },
  {
   "cell_type": "code",
   "execution_count": 126,
   "metadata": {
    "gather": {
     "logged": 1700530124516
    },
    "jupyter": {
     "outputs_hidden": false,
     "source_hidden": false
    },
    "nteract": {
     "transient": {
      "deleting": false
     }
    }
   },
   "outputs": [
    {
     "data": {
      "application/vnd.livy.statement-meta+json": {
       "execution_finish_time": "2023-11-21T01:28:44.3730462Z",
       "execution_start_time": "2023-11-21T01:28:43.5490654Z",
       "livy_statement_state": "available",
       "parent_msg_id": "36cab615-6b51-42b0-be97-ac5e8249db7c",
       "queued_time": "2023-11-21T01:28:43.436364Z",
       "session_id": "35",
       "session_start_time": null,
       "spark_jobs": {
        "jobs": [],
        "limit": 20,
        "numbers": {
         "FAILED": 0,
         "RUNNING": 0,
         "SUCCEEDED": 0,
         "UNKNOWN": 0
        },
        "rule": "ALL_DESC"
       },
       "spark_pool": "8aef2e4c-7819-4b3c-ad3b-441a2f26e87b",
       "state": "finished",
       "statement_id": 129
      },
      "text/plain": [
       "StatementMeta(8aef2e4c-7819-4b3c-ad3b-441a2f26e87b, 35, 129, Finished, Available)"
      ]
     },
     "metadata": {},
     "output_type": "display_data"
    },
    {
     "data": {
      "text/html": [
       "<div>\n",
       "<style scoped>\n",
       "    .dataframe tbody tr th:only-of-type {\n",
       "        vertical-align: middle;\n",
       "    }\n",
       "\n",
       "    .dataframe tbody tr th {\n",
       "        vertical-align: top;\n",
       "    }\n",
       "\n",
       "    .dataframe thead th {\n",
       "        text-align: right;\n",
       "    }\n",
       "</style>\n",
       "<table border=\"1\" class=\"dataframe\">\n",
       "  <thead>\n",
       "    <tr style=\"text-align: right;\">\n",
       "      <th></th>\n",
       "      <th>week</th>\n",
       "      <th>total_posts</th>\n",
       "      <th>negative</th>\n",
       "      <th>neutral</th>\n",
       "      <th>positive</th>\n",
       "      <th>positive_percentage(%)</th>\n",
       "    </tr>\n",
       "  </thead>\n",
       "  <tbody>\n",
       "    <tr>\n",
       "      <th>0</th>\n",
       "      <td>2023-01-01</td>\n",
       "      <td>1611</td>\n",
       "      <td>868</td>\n",
       "      <td>83</td>\n",
       "      <td>660</td>\n",
       "      <td>40.968343</td>\n",
       "    </tr>\n",
       "    <tr>\n",
       "      <th>1</th>\n",
       "      <td>2023-01-08</td>\n",
       "      <td>12624</td>\n",
       "      <td>7095</td>\n",
       "      <td>648</td>\n",
       "      <td>4881</td>\n",
       "      <td>38.664449</td>\n",
       "    </tr>\n",
       "    <tr>\n",
       "      <th>2</th>\n",
       "      <td>2023-01-15</td>\n",
       "      <td>12644</td>\n",
       "      <td>7010</td>\n",
       "      <td>658</td>\n",
       "      <td>4976</td>\n",
       "      <td>39.354635</td>\n",
       "    </tr>\n",
       "    <tr>\n",
       "      <th>3</th>\n",
       "      <td>2023-01-22</td>\n",
       "      <td>12486</td>\n",
       "      <td>6883</td>\n",
       "      <td>676</td>\n",
       "      <td>4927</td>\n",
       "      <td>39.460195</td>\n",
       "    </tr>\n",
       "    <tr>\n",
       "      <th>4</th>\n",
       "      <td>2023-01-29</td>\n",
       "      <td>10791</td>\n",
       "      <td>5666</td>\n",
       "      <td>611</td>\n",
       "      <td>4514</td>\n",
       "      <td>41.831156</td>\n",
       "    </tr>\n",
       "    <tr>\n",
       "      <th>5</th>\n",
       "      <td>2023-02-05</td>\n",
       "      <td>8043</td>\n",
       "      <td>4374</td>\n",
       "      <td>423</td>\n",
       "      <td>3246</td>\n",
       "      <td>40.358075</td>\n",
       "    </tr>\n",
       "    <tr>\n",
       "      <th>6</th>\n",
       "      <td>2023-02-12</td>\n",
       "      <td>12529</td>\n",
       "      <td>6796</td>\n",
       "      <td>642</td>\n",
       "      <td>5091</td>\n",
       "      <td>40.633730</td>\n",
       "    </tr>\n",
       "    <tr>\n",
       "      <th>7</th>\n",
       "      <td>2023-02-19</td>\n",
       "      <td>15376</td>\n",
       "      <td>8656</td>\n",
       "      <td>821</td>\n",
       "      <td>5899</td>\n",
       "      <td>38.364984</td>\n",
       "    </tr>\n",
       "    <tr>\n",
       "      <th>8</th>\n",
       "      <td>2023-02-26</td>\n",
       "      <td>12475</td>\n",
       "      <td>6697</td>\n",
       "      <td>739</td>\n",
       "      <td>5039</td>\n",
       "      <td>40.392786</td>\n",
       "    </tr>\n",
       "    <tr>\n",
       "      <th>9</th>\n",
       "      <td>2023-03-05</td>\n",
       "      <td>11827</td>\n",
       "      <td>6126</td>\n",
       "      <td>620</td>\n",
       "      <td>5081</td>\n",
       "      <td>42.961021</td>\n",
       "    </tr>\n",
       "    <tr>\n",
       "      <th>10</th>\n",
       "      <td>2023-03-12</td>\n",
       "      <td>12381</td>\n",
       "      <td>6655</td>\n",
       "      <td>656</td>\n",
       "      <td>5070</td>\n",
       "      <td>40.949843</td>\n",
       "    </tr>\n",
       "    <tr>\n",
       "      <th>11</th>\n",
       "      <td>2023-03-19</td>\n",
       "      <td>14720</td>\n",
       "      <td>7740</td>\n",
       "      <td>801</td>\n",
       "      <td>6179</td>\n",
       "      <td>41.976902</td>\n",
       "    </tr>\n",
       "    <tr>\n",
       "      <th>12</th>\n",
       "      <td>2023-03-26</td>\n",
       "      <td>12656</td>\n",
       "      <td>7183</td>\n",
       "      <td>693</td>\n",
       "      <td>4780</td>\n",
       "      <td>37.768647</td>\n",
       "    </tr>\n",
       "    <tr>\n",
       "      <th>13</th>\n",
       "      <td>2023-04-02</td>\n",
       "      <td>7444</td>\n",
       "      <td>4111</td>\n",
       "      <td>337</td>\n",
       "      <td>2996</td>\n",
       "      <td>40.247179</td>\n",
       "    </tr>\n",
       "  </tbody>\n",
       "</table>\n",
       "</div>"
      ],
      "text/plain": [
       "         week  total_posts  negative  neutral  positive  \\\n",
       "0  2023-01-01         1611       868       83       660   \n",
       "1  2023-01-08        12624      7095      648      4881   \n",
       "2  2023-01-15        12644      7010      658      4976   \n",
       "3  2023-01-22        12486      6883      676      4927   \n",
       "4  2023-01-29        10791      5666      611      4514   \n",
       "5  2023-02-05         8043      4374      423      3246   \n",
       "6  2023-02-12        12529      6796      642      5091   \n",
       "7  2023-02-19        15376      8656      821      5899   \n",
       "8  2023-02-26        12475      6697      739      5039   \n",
       "9  2023-03-05        11827      6126      620      5081   \n",
       "10 2023-03-12        12381      6655      656      5070   \n",
       "11 2023-03-19        14720      7740      801      6179   \n",
       "12 2023-03-26        12656      7183      693      4780   \n",
       "13 2023-04-02         7444      4111      337      2996   \n",
       "\n",
       "    positive_percentage(%)  \n",
       "0                40.968343  \n",
       "1                38.664449  \n",
       "2                39.354635  \n",
       "3                39.460195  \n",
       "4                41.831156  \n",
       "5                40.358075  \n",
       "6                40.633730  \n",
       "7                38.364984  \n",
       "8                40.392786  \n",
       "9                42.961021  \n",
       "10               40.949843  \n",
       "11               41.976902  \n",
       "12               37.768647  \n",
       "13               40.247179  "
      ]
     },
     "execution_count": 257,
     "metadata": {},
     "output_type": "execute_result"
    }
   ],
   "source": [
    "df_week = df_pd.set_index('created_utc')\n",
    "\n",
    "# Resample the data by week and count the total number of posts\n",
    "weekly_counts = df_week.resample('W').size().rename('total_posts')\n",
    "\n",
    "# Resample the data by week and count the number of positive, negative, and neutral posts\n",
    "weekly_sentiment_counts = df_week.resample('W')['sentiment'].value_counts().unstack().fillna(0)\n",
    "\n",
    "# Combine two tables above\n",
    "weekly_data = pd.concat([weekly_counts, weekly_sentiment_counts], axis=1)\n",
    "\n",
    "# Create a new column about the percentage of positive posts\n",
    "weekly_data['positive_percentage'] = (weekly_data['positive'] / weekly_data['total_posts']) * 100\n",
    "\n",
    "weekly_data = weekly_data.reset_index()\n",
    "weekly_data.columns = ['week', 'total_posts', 'negative', 'neutral', 'positive', 'positive_percentage(%)']\n",
    "weekly_data.to_csv(f'{datapath}/csv/worldcup_weekly_count.csv', index=False)\n",
    "weekly_data"
   ]
  },
  {
   "cell_type": "code",
   "execution_count": 127,
   "metadata": {
    "gather": {
     "logged": 1700530133757
    },
    "jupyter": {
     "outputs_hidden": false,
     "source_hidden": false
    },
    "nteract": {
     "transient": {
      "deleting": false
     }
    }
   },
   "outputs": [
    {
     "data": {
      "application/vnd.livy.statement-meta+json": {
       "execution_finish_time": "2023-11-21T01:28:53.5490272Z",
       "execution_start_time": "2023-11-21T01:28:52.0636912Z",
       "livy_statement_state": "available",
       "parent_msg_id": "0e367a50-e340-4ea2-b77d-eb2a8c9b10e4",
       "queued_time": "2023-11-21T01:28:51.9145788Z",
       "session_id": "35",
       "session_start_time": null,
       "spark_jobs": {
        "jobs": [],
        "limit": 20,
        "numbers": {
         "FAILED": 0,
         "RUNNING": 0,
         "SUCCEEDED": 0,
         "UNKNOWN": 0
        },
        "rule": "ALL_DESC"
       },
       "spark_pool": "8aef2e4c-7819-4b3c-ad3b-441a2f26e87b",
       "state": "finished",
       "statement_id": 130
      },
      "text/plain": [
       "StatementMeta(8aef2e4c-7819-4b3c-ad3b-441a2f26e87b, 35, 130, Finished, Available)"
      ]
     },
     "metadata": {},
     "output_type": "display_data"
    },
    {
     "data": {
      "image/png": "[encoded data removed]",
      "text/plain": [
       "<Figure size 2000x1200 with 2 Axes>"
      ]
     },
     "metadata": {},
     "output_type": "display_data"
    }
   ],
   "source": [
    "fig, ax1 = plt.subplots(figsize=(20, 12))\n",
    "\n",
    "ax1.plot(weekly_data['week'], weekly_data['total_posts'], label='Total Posts', color='blue', linewidth=2.4)\n",
    "ax1.plot(weekly_data['week'], weekly_data['positive'], label='Positive Posts', color='green', linewidth=2.4)\n",
    "ax1.plot(weekly_data['week'], weekly_data['negative'], label='Negative Posts', color='red', linewidth=2.4)\n",
    "ax1.plot(weekly_data['week'], weekly_data['neutral'], label='Neutral Posts', color='orange', linewidth=2.4)\n",
    "\n",
    "ax1.set_xlabel('Week of the Year', fontsize=28)\n",
    "ax1.set_ylabel('Number of Posts', fontsize=28)\n",
    "ax1.set_title('Weekly Sentiment Post Counts and Positive Percentage', fontsize=40)\n",
    "ax1.set_ylim(0, 20000)\n",
    "\n",
    "# Create a second y-axis about the positive percentage\n",
    "ax2 = ax1.twinx()\n",
    "ax2.plot(weekly_data['week'], weekly_data['positive_percentage(%)'], label='Positive Percentage', color='purple', linestyle='--')\n",
    "ax2.set_ylabel('Positive Percentage (%)', fontsize=28)\n",
    "ax2.set_ylim(25, 55)\n",
    "\n",
    "ax1.legend(fontsize=20, loc='upper left')\n",
    "ax2.legend(fontsize=20, loc='upper right')\n",
    "ax1.tick_params(axis='both', labelsize=16)\n",
    "ax2.tick_params(axis='both', labelsize=16)\n",
    "\n",
    "\n",
    "plt.savefig(f'{datapath}/plots/worldcup_weekly_sentiment_post_counts.png')\n",
    "plt.show()\n"
   ]
  },
  {
   "cell_type": "markdown",
   "metadata": {
    "nteract": {
     "transient": {
      "deleting": false
     }
    }
   },
   "source": [
    "Summary: \n",
    "\n",
    "This NLP analysis suggests that of all the sub-topics about the World Cup 2022, people discussed the players most frequently. Additionally, a large amount of people might not be satisfied with certain judgments from the referees during the World Cup. It is also noticeable that people's general attitude towards the World Cup 2022 did not change much over time."
   ]
  }
 ],
 "metadata": {
  "application/vnd.databricks.v1+notebook": {
   "dashboards": [],
   "language": "python",
   "notebookMetadata": {
    "pythonIndentUnit": 4
   },
   "notebookName": "Comments JSON to Parquet",
   "widgets": {}
  },
  "kernel_info": {
   "name": "synapse_pyspark"
  },
  "kernelspec": {
   "display_name": "Python 3 (ipykernel)",
   "language": "python",
   "name": "python3"
  },
  "language_info": {
   "codemirror_mode": {
    "name": "ipython",
    "version": 3
   },
   "file_extension": ".py",
   "mimetype": "text/x-python",
   "name": "python",
   "nbconvert_exporter": "python",
   "pygments_lexer": "ipython3",
   "version": "3.11.5"
  },
  "microsoft": {
   "host": {
    "AzureML": {
     "notebookHasBeenCompleted": true
    }
   },
   "ms_spell_check": {
    "ms_spell_check_language": "en"
   }
  },
  "nteract": {
   "version": "nteract-front-end@1.0.0"
  }
 },
 "nbformat": 4,
 "nbformat_minor": 1
}
